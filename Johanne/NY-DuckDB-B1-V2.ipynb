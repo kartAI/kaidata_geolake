{
 "cells": [
  {
   "metadata": {
    "ExecuteTime": {
     "end_time": "2025-04-23T13:21:32.098742Z",
     "start_time": "2025-04-23T13:21:31.307118Z"
    }
   },
   "cell_type": "code",
   "source": "pip install -r requirements.txt",
   "id": "813bbb80b8ebe955",
   "outputs": [
    {
     "name": "stdout",
     "output_type": "stream",
     "text": [
      "Requirement already satisfied: fiona>=1.8.20 in /Users/johannehaakenstad/Bachelor-Filer/Github-KartAI/.venv/lib/python3.13/site-packages (from -r requirements.txt (line 2)) (1.10.1)\r\n",
      "Requirement already satisfied: geopandas>=0.13.0 in /Users/johannehaakenstad/Bachelor-Filer/Github-KartAI/.venv/lib/python3.13/site-packages (from -r requirements.txt (line 3)) (1.0.1)\r\n",
      "Requirement already satisfied: pyogrio>=0.5.0 in /Users/johannehaakenstad/Bachelor-Filer/Github-KartAI/.venv/lib/python3.13/site-packages (from -r requirements.txt (line 4)) (0.10.0)\r\n",
      "Requirement already satisfied: Shapely>=2.0.0 in /Users/johannehaakenstad/Bachelor-Filer/Github-KartAI/.venv/lib/python3.13/site-packages (from -r requirements.txt (line 5)) (2.0.7)\r\n",
      "Requirement already satisfied: folium>=0.14.0 in /Users/johannehaakenstad/Bachelor-Filer/Github-KartAI/.venv/lib/python3.13/site-packages (from -r requirements.txt (line 6)) (0.19.5)\r\n",
      "Requirement already satisfied: pandas>=1.5.0 in /Users/johannehaakenstad/Bachelor-Filer/Github-KartAI/.venv/lib/python3.13/site-packages (from -r requirements.txt (line 7)) (2.2.3)\r\n",
      "Requirement already satisfied: ipython>=8.0.0 in /Users/johannehaakenstad/Bachelor-Filer/Github-KartAI/.venv/lib/python3.13/site-packages (from -r requirements.txt (line 8)) (9.0.2)\r\n",
      "Requirement already satisfied: ipywidgets>=8.0.0 in /Users/johannehaakenstad/Bachelor-Filer/Github-KartAI/.venv/lib/python3.13/site-packages (from -r requirements.txt (line 9)) (8.1.6)\r\n",
      "Requirement already satisfied: attrs>=19.2.0 in /Users/johannehaakenstad/Bachelor-Filer/Github-KartAI/.venv/lib/python3.13/site-packages (from fiona>=1.8.20->-r requirements.txt (line 2)) (25.2.0)\r\n",
      "Requirement already satisfied: certifi in /Users/johannehaakenstad/Bachelor-Filer/Github-KartAI/.venv/lib/python3.13/site-packages (from fiona>=1.8.20->-r requirements.txt (line 2)) (2025.1.31)\r\n",
      "Requirement already satisfied: click~=8.0 in /Users/johannehaakenstad/Bachelor-Filer/Github-KartAI/.venv/lib/python3.13/site-packages (from fiona>=1.8.20->-r requirements.txt (line 2)) (8.1.8)\r\n",
      "Requirement already satisfied: click-plugins>=1.0 in /Users/johannehaakenstad/Bachelor-Filer/Github-KartAI/.venv/lib/python3.13/site-packages (from fiona>=1.8.20->-r requirements.txt (line 2)) (1.1.1)\r\n",
      "Requirement already satisfied: cligj>=0.5 in /Users/johannehaakenstad/Bachelor-Filer/Github-KartAI/.venv/lib/python3.13/site-packages (from fiona>=1.8.20->-r requirements.txt (line 2)) (0.7.2)\r\n",
      "Requirement already satisfied: numpy>=1.22 in /Users/johannehaakenstad/Bachelor-Filer/Github-KartAI/.venv/lib/python3.13/site-packages (from geopandas>=0.13.0->-r requirements.txt (line 3)) (2.2.3)\r\n",
      "Requirement already satisfied: packaging in /Users/johannehaakenstad/Bachelor-Filer/Github-KartAI/.venv/lib/python3.13/site-packages (from geopandas>=0.13.0->-r requirements.txt (line 3)) (24.2)\r\n",
      "Requirement already satisfied: pyproj>=3.3.0 in /Users/johannehaakenstad/Bachelor-Filer/Github-KartAI/.venv/lib/python3.13/site-packages (from geopandas>=0.13.0->-r requirements.txt (line 3)) (3.7.1)\r\n",
      "Requirement already satisfied: branca>=0.6.0 in /Users/johannehaakenstad/Bachelor-Filer/Github-KartAI/.venv/lib/python3.13/site-packages (from folium>=0.14.0->-r requirements.txt (line 6)) (0.8.1)\r\n",
      "Requirement already satisfied: jinja2>=2.9 in /Users/johannehaakenstad/Bachelor-Filer/Github-KartAI/.venv/lib/python3.13/site-packages (from folium>=0.14.0->-r requirements.txt (line 6)) (3.1.6)\r\n",
      "Requirement already satisfied: requests in /Users/johannehaakenstad/Bachelor-Filer/Github-KartAI/.venv/lib/python3.13/site-packages (from folium>=0.14.0->-r requirements.txt (line 6)) (2.32.3)\r\n",
      "Requirement already satisfied: xyzservices in /Users/johannehaakenstad/Bachelor-Filer/Github-KartAI/.venv/lib/python3.13/site-packages (from folium>=0.14.0->-r requirements.txt (line 6)) (2025.1.0)\r\n",
      "Requirement already satisfied: python-dateutil>=2.8.2 in /Users/johannehaakenstad/Bachelor-Filer/Github-KartAI/.venv/lib/python3.13/site-packages (from pandas>=1.5.0->-r requirements.txt (line 7)) (2.9.0.post0)\r\n",
      "Requirement already satisfied: pytz>=2020.1 in /Users/johannehaakenstad/Bachelor-Filer/Github-KartAI/.venv/lib/python3.13/site-packages (from pandas>=1.5.0->-r requirements.txt (line 7)) (2025.1)\r\n",
      "Requirement already satisfied: tzdata>=2022.7 in /Users/johannehaakenstad/Bachelor-Filer/Github-KartAI/.venv/lib/python3.13/site-packages (from pandas>=1.5.0->-r requirements.txt (line 7)) (2025.1)\r\n",
      "Requirement already satisfied: decorator in /Users/johannehaakenstad/Bachelor-Filer/Github-KartAI/.venv/lib/python3.13/site-packages (from ipython>=8.0.0->-r requirements.txt (line 8)) (5.2.1)\r\n",
      "Requirement already satisfied: ipython-pygments-lexers in /Users/johannehaakenstad/Bachelor-Filer/Github-KartAI/.venv/lib/python3.13/site-packages (from ipython>=8.0.0->-r requirements.txt (line 8)) (1.1.1)\r\n",
      "Requirement already satisfied: jedi>=0.16 in /Users/johannehaakenstad/Bachelor-Filer/Github-KartAI/.venv/lib/python3.13/site-packages (from ipython>=8.0.0->-r requirements.txt (line 8)) (0.19.2)\r\n",
      "Requirement already satisfied: matplotlib-inline in /Users/johannehaakenstad/Bachelor-Filer/Github-KartAI/.venv/lib/python3.13/site-packages (from ipython>=8.0.0->-r requirements.txt (line 8)) (0.1.7)\r\n",
      "Requirement already satisfied: pexpect>4.3 in /Users/johannehaakenstad/Bachelor-Filer/Github-KartAI/.venv/lib/python3.13/site-packages (from ipython>=8.0.0->-r requirements.txt (line 8)) (4.9.0)\r\n",
      "Requirement already satisfied: prompt_toolkit<3.1.0,>=3.0.41 in /Users/johannehaakenstad/Bachelor-Filer/Github-KartAI/.venv/lib/python3.13/site-packages (from ipython>=8.0.0->-r requirements.txt (line 8)) (3.0.50)\r\n",
      "Requirement already satisfied: pygments>=2.4.0 in /Users/johannehaakenstad/Bachelor-Filer/Github-KartAI/.venv/lib/python3.13/site-packages (from ipython>=8.0.0->-r requirements.txt (line 8)) (2.19.1)\r\n",
      "Requirement already satisfied: stack_data in /Users/johannehaakenstad/Bachelor-Filer/Github-KartAI/.venv/lib/python3.13/site-packages (from ipython>=8.0.0->-r requirements.txt (line 8)) (0.6.3)\r\n",
      "Requirement already satisfied: traitlets>=5.13.0 in /Users/johannehaakenstad/Bachelor-Filer/Github-KartAI/.venv/lib/python3.13/site-packages (from ipython>=8.0.0->-r requirements.txt (line 8)) (5.14.3)\r\n",
      "Requirement already satisfied: comm>=0.1.3 in /Users/johannehaakenstad/Bachelor-Filer/Github-KartAI/.venv/lib/python3.13/site-packages (from ipywidgets>=8.0.0->-r requirements.txt (line 9)) (0.2.2)\r\n",
      "Requirement already satisfied: widgetsnbextension~=4.0.14 in /Users/johannehaakenstad/Bachelor-Filer/Github-KartAI/.venv/lib/python3.13/site-packages (from ipywidgets>=8.0.0->-r requirements.txt (line 9)) (4.0.14)\r\n",
      "Requirement already satisfied: jupyterlab_widgets~=3.0.14 in /Users/johannehaakenstad/Bachelor-Filer/Github-KartAI/.venv/lib/python3.13/site-packages (from ipywidgets>=8.0.0->-r requirements.txt (line 9)) (3.0.14)\r\n",
      "Requirement already satisfied: parso<0.9.0,>=0.8.4 in /Users/johannehaakenstad/Bachelor-Filer/Github-KartAI/.venv/lib/python3.13/site-packages (from jedi>=0.16->ipython>=8.0.0->-r requirements.txt (line 8)) (0.8.4)\r\n",
      "Requirement already satisfied: MarkupSafe>=2.0 in /Users/johannehaakenstad/Bachelor-Filer/Github-KartAI/.venv/lib/python3.13/site-packages (from jinja2>=2.9->folium>=0.14.0->-r requirements.txt (line 6)) (3.0.2)\r\n",
      "Requirement already satisfied: ptyprocess>=0.5 in /Users/johannehaakenstad/Bachelor-Filer/Github-KartAI/.venv/lib/python3.13/site-packages (from pexpect>4.3->ipython>=8.0.0->-r requirements.txt (line 8)) (0.7.0)\r\n",
      "Requirement already satisfied: wcwidth in /Users/johannehaakenstad/Bachelor-Filer/Github-KartAI/.venv/lib/python3.13/site-packages (from prompt_toolkit<3.1.0,>=3.0.41->ipython>=8.0.0->-r requirements.txt (line 8)) (0.2.13)\r\n",
      "Requirement already satisfied: six>=1.5 in /Users/johannehaakenstad/Bachelor-Filer/Github-KartAI/.venv/lib/python3.13/site-packages (from python-dateutil>=2.8.2->pandas>=1.5.0->-r requirements.txt (line 7)) (1.17.0)\r\n",
      "Requirement already satisfied: charset-normalizer<4,>=2 in /Users/johannehaakenstad/Bachelor-Filer/Github-KartAI/.venv/lib/python3.13/site-packages (from requests->folium>=0.14.0->-r requirements.txt (line 6)) (3.4.1)\r\n",
      "Requirement already satisfied: idna<4,>=2.5 in /Users/johannehaakenstad/Bachelor-Filer/Github-KartAI/.venv/lib/python3.13/site-packages (from requests->folium>=0.14.0->-r requirements.txt (line 6)) (3.10)\r\n",
      "Requirement already satisfied: urllib3<3,>=1.21.1 in /Users/johannehaakenstad/Bachelor-Filer/Github-KartAI/.venv/lib/python3.13/site-packages (from requests->folium>=0.14.0->-r requirements.txt (line 6)) (2.3.0)\r\n",
      "Requirement already satisfied: executing>=1.2.0 in /Users/johannehaakenstad/Bachelor-Filer/Github-KartAI/.venv/lib/python3.13/site-packages (from stack_data->ipython>=8.0.0->-r requirements.txt (line 8)) (2.2.0)\r\n",
      "Requirement already satisfied: asttokens>=2.1.0 in /Users/johannehaakenstad/Bachelor-Filer/Github-KartAI/.venv/lib/python3.13/site-packages (from stack_data->ipython>=8.0.0->-r requirements.txt (line 8)) (3.0.0)\r\n",
      "Requirement already satisfied: pure-eval in /Users/johannehaakenstad/Bachelor-Filer/Github-KartAI/.venv/lib/python3.13/site-packages (from stack_data->ipython>=8.0.0->-r requirements.txt (line 8)) (0.2.3)\r\n",
      "Note: you may need to restart the kernel to use updated packages.\n"
     ]
    }
   ],
   "execution_count": 1
  },
  {
   "cell_type": "code",
   "id": "af45b7d1bbd47e59",
   "metadata": {
    "ExecuteTime": {
     "end_time": "2025-04-24T08:45:11.217607Z",
     "start_time": "2025-04-24T08:45:11.210177Z"
    }
   },
   "source": [
    "import os, glob\n",
    "import duckdb\n",
    "import pandas as pd\n",
    "import folium\n",
    "from folium.plugins import MarkerCluster\n",
    "from IPython.display import display\n",
    "import ipywidgets as widgets\n",
    "from ipywidgets import interact, fixed"
   ],
   "outputs": [],
   "execution_count": 38
  },
  {
   "metadata": {},
   "cell_type": "markdown",
   "source": "# Brukerhistorie 1, Kjør funksjonene nedenfor",
   "id": "f867309bdcdd4d"
  },
  {
   "metadata": {},
   "cell_type": "markdown",
   "source": "## Sett inn verdier og kjør funskjonen",
   "id": "6640c67fd4b0e27f"
  },
  {
   "metadata": {
    "ExecuteTime": {
     "end_time": "2025-04-24T08:49:20.869484Z",
     "start_time": "2025-04-24T08:49:20.660261Z"
    }
   },
   "cell_type": "code",
   "source": [
    "\n",
    "\n",
    "def get_filtered_ais_data_spatial(\n",
    "    base_path: str,\n",
    "    ship_type: int,\n",
    "    center_lat: float,\n",
    "    center_lon: float,\n",
    "    buffer_radius_m: float,\n",
    "    start_time: str,\n",
    "    end_time: str,\n",
    "    max_rows: int\n",
    ") -> pd.DataFrame:\n",
    "    conditions_dict = {\"ship_type\": ship_type}\n",
    "\n",
    "    parquet_pattern = os.path.join(base_path, \"**\", \"*.parquet*\")\n",
    "    files = glob.glob(parquet_pattern, recursive=True)\n",
    "    if not files:\n",
    "        raise IOError(f\"Ingen filer funnet for mønster {parquet_pattern!r}\")\n",
    "\n",
    "    con = duckdb.connect()\n",
    "    con.execute(\"INSTALL spatial;\")\n",
    "    con.execute(\"LOAD spatial;\")\n",
    "\n",
    "    query = f\"SELECT * FROM read_parquet('{parquet_pattern}')\"\n",
    "    where = []\n",
    "\n",
    "    for col, val in conditions_dict.items():\n",
    "        if val:\n",
    "            where.append(f\"{col} = {val}\")\n",
    "\n",
    "    if start_time:\n",
    "        where.append(f\"date_time_utc >= TIMESTAMP '{start_time}'\")\n",
    "    if end_time:\n",
    "        where.append(f\"date_time_utc <= TIMESTAMP '{end_time}'\")\n",
    "\n",
    "    radius_deg = buffer_radius_m / 111000.0\n",
    "    where.append(\n",
    "        f\"ST_Distance(geometry, ST_GeomFromText('POINT({center_lon} {center_lat})')) <= {radius_deg}\"\n",
    "    )\n",
    "\n",
    "    if where:\n",
    "        query += \" WHERE \" + \" AND \".join(where)\n",
    "    query += \" ORDER BY date_time_utc\"\n",
    "    if max_rows:\n",
    "        query += f\" LIMIT {max_rows}\"\n",
    "\n",
    "    df = con.execute(query).fetchdf()\n",
    "    con.close()\n",
    "    return df\n",
    "\n",
    "def render_ais_map(\n",
    "    df: pd.DataFrame,\n",
    "    center_lat: float,\n",
    "    center_lon: float,\n",
    "    buffer_radius_m: float\n",
    ") -> folium.Map:\n",
    "    m = folium.Map(location=[center_lat, center_lon],\n",
    "                   zoom_start=12,\n",
    "                   tiles=\"cartodb positron\")\n",
    "    folium.Circle(\n",
    "        location=[center_lat, center_lon],\n",
    "        radius=buffer_radius_m,\n",
    "        color='blue',\n",
    "        fill=True,\n",
    "        fill_opacity=0.1,\n",
    "        popup=\"Bufferområde\"\n",
    "    ).add_to(m)\n",
    "\n",
    "    cluster = MarkerCluster().add_to(m)\n",
    "    for _, row in df.iterrows():\n",
    "        if pd.notnull(row.longitude) and pd.notnull(row.latitude):\n",
    "            folium.Marker(\n",
    "                location=[row.latitude, row.longitude],\n",
    "                popup=(\n",
    "                    f\"MMSI: {row.mmsi}<br>\"\n",
    "                    f\"Time: {row.date_time_utc}<br>\"\n",
    "                    f\"Lon/Lat: {row.longitude:.4f}, {row.latitude:.4f}\"\n",
    "                ),\n",
    "                icon=folium.Icon(color='red', icon='info-sign')\n",
    "            ).add_to(cluster)\n",
    "    return m\n",
    "\n",
    "# GUI-komponenter med ipywidgets\n",
    "def interactive_ais_query():\n",
    "    interact(run_query,\n",
    "        base_path=widgets.Text(value='./data/processed', description='Base Path:'),\n",
    "        ship_type=widgets.IntText(value=51, description='Ship Type:'),\n",
    "        center_lat=widgets.FloatText(value=58.142359, description='Center Lat:'),\n",
    "        center_lon=widgets.FloatText(value=8.025218, description='Center Lon:'),\n",
    "        buffer_radius_m=widgets.IntText(value=6000, description='Radius (m):'),\n",
    "        start_time=widgets.Text(value='2025-01-21 13:00:00', description='Start Time:'),\n",
    "        end_time=widgets.Text(value='2025-01-21 14:00:00', description='End Time:'),\n",
    "        max_rows=widgets.IntText(value=10, description='Max Rows:')\n",
    "    )\n",
    "\n",
    "  # Ferdig-knapp\n",
    "done_button = widgets.Button(\n",
    "    description=\"Done\",\n",
    "    button_style='info',\n",
    "    layout=widgets.Layout(width='150px')\n",
    ")\n",
    "\n",
    "\n",
    "def run_query(base_path, ship_type, center_lat, center_lon, buffer_radius_m, start_time, end_time, max_rows):\n",
    "    df = get_filtered_ais_data_spatial(\n",
    "        base_path,\n",
    "        ship_type,\n",
    "        center_lat, center_lon,\n",
    "        buffer_radius_m,\n",
    "        start_time,\n",
    "        end_time,\n",
    "        max_rows\n",
    "    )\n",
    "\n",
    "    print(\"Rader hentet:\", len(df))\n",
    "    display(df.head()) #Ta bort head for å vise hele tabellen\n",
    "\n",
    "    m = render_ais_map(df, center_lat, center_lon, buffer_radius_m)\n",
    "    display(m)\n",
    "\n",
    "# Kjør GUI\n",
    "interactive_ais_query()"
   ],
   "id": "4ee33293739c7cc1",
   "outputs": [
    {
     "data": {
      "text/plain": [
       "interactive(children=(Text(value='./data/processed', description='Base Path:'), IntText(value=51, description=…"
      ],
      "application/vnd.jupyter.widget-view+json": {
       "version_major": 2,
       "version_minor": 0,
       "model_id": "b9ebb5d945c24e909526c8d93dc0ef8f"
      }
     },
     "metadata": {},
     "output_type": "display_data"
    }
   ],
   "execution_count": 41
  },
  {
   "metadata": {},
   "cell_type": "code",
   "outputs": [],
   "execution_count": null,
   "source": "",
   "id": "ba29ba0250b5a8b3"
  }
 ],
 "metadata": {
  "kernelspec": {
   "display_name": "Python 3",
   "language": "python",
   "name": "python3"
  },
  "language_info": {
   "codemirror_mode": {
    "name": "ipython",
    "version": 2
   },
   "file_extension": ".py",
   "mimetype": "text/x-python",
   "name": "python",
   "nbconvert_exporter": "python",
   "pygments_lexer": "ipython2",
   "version": "2.7.6"
  }
 },
 "nbformat": 4,
 "nbformat_minor": 5
}
