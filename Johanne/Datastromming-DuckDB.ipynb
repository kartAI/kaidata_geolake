{
 "cells": [
  {
   "cell_type": "code",
   "execution_count": null,
   "metadata": {},
   "outputs": [],
   "source": [
    "import duckdb\n",
    "import time\n",
    "\n",
    "# Oppretter DuckDB-tilkobling\n",
    "con = duckdb.connect()\n",
    "\n",
    "# Leser fra parquet-filen\n",
    "query = \"\"\"\n",
    "    SELECT *\n",
    "    FROM read_parquet('hais_2024-12-01.snappy.parquet.geo.parquet')\n",
    "\"\"\"\n",
    "\n",
    "# Definer batch-størrelse\n",
    "batch_size = 10000\n",
    "offset = 0\n",
    "\n",
    "while True:\n",
    "    # Bygg spørring for neste del av data\n",
    "    batch_query = f\"{query} LIMIT {batch_size} OFFSET {offset}\"\n",
    "    batch = con.execute(batch_query).fetchdf()\n",
    "    \n",
    "    # Sjekker om den har nådd slutten\n",
    "    if len(batch) == 0:\n",
    "        print(\"Ingen flere data. Strømming avsluttes.\")\n",
    "        break\n",
    "    \n",
    "    # Viser info om batchen for å vise at data “kommer inn”\n",
    "    print(f\"\\nStreamer batch fra offset {offset}:\")\n",
    "    # viserkun de første 5 kolonnene\n",
    "    print(batch.iloc[:, :5].head())\n",
    "    \n",
    "    # For å simulere datastrømming venter den i 2 sek\n",
    "    time.sleep(2)\n",
    "    \n",
    "    # Neste offset\n",
    "    offset += batch_size\n",
    "\n",
    "# Lukk tilkoblingen\n",
    "con.close()"
   ]
  }
 ],
 "metadata": {
  "kernelspec": {
   "display_name": "Python 3.13.1 64-bit",
   "language": "python",
   "name": "python3"
  },
  "language_info": {
   "name": "python",
   "version": "3.13.1"
  },
  "orig_nbformat": 4,
  "vscode": {
   "interpreter": {
    "hash": "aee8b7b246df8f9039afb4144a1f6fd8d2ca17a180786b69acc140d282b71a49"
   }
  }
 },
 "nbformat": 4,
 "nbformat_minor": 2
}
