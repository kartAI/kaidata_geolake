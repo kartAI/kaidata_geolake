{
 "cells": [
  {
   "metadata": {},
   "cell_type": "markdown",
   "source": [
    "# Brukerhistorie 1\n",
    "Som bruker ønsker jeg å strømme AIS-data slik at jeg kan få tilgang til sanntids- og historiske skipsposisjoner filtrert etter mine behov. \n",
    "\n",
    "**Funksjonalitet**: Det skal være mulig å hente AIS-data direkte fra fil. Prosessen omhandler strømming som benytter “partial read\" som bruker kan filtrere ut data. \n",
    "\n",
    "**Akseptkriterier**: \n",
    "\n",
    "- Jeg skal kunne hente AIS-data direkte fra filer med geografisk filtrering og kolonnefiltrering.  \n",
    "\n",
    "- Jeg skal kunne filtrere data etter mine egne behov. \n",
    "\n",
    "**Mål**: Strømmingen av AIS-data skal være en effektiv og brukervennlig prosess. Brukeren skal kunne filtrere data etter egne behov. Prosessen skal også benytte “partial read”, slik at data oppdateres automatisk og ytelsen optimaliseres. \n",
    "\n"
   ],
   "id": "61f47eb9247af68c"
  },
  {
   "metadata": {},
   "cell_type": "markdown",
   "source": "## Importere pakker",
   "id": "9953fa53c2f91110"
  },
  {
   "metadata": {
    "ExecuteTime": {
     "end_time": "2025-03-06T08:00:30.290592Z",
     "start_time": "2025-03-06T08:00:30.283246Z"
    }
   },
   "cell_type": "code",
   "source": [
    "import geopandas as gpd\n",
    "from time import sleep\n",
    "from keplergl import KeplerGl"
   ],
   "id": "a9428dcd6ec77918",
   "outputs": [],
   "execution_count": 7
  },
  {
   "metadata": {},
   "cell_type": "markdown",
   "source": "## Konvertere parquet til geoparquet",
   "id": "94d685663af27d21"
  },
  {
   "metadata": {
    "ExecuteTime": {
     "end_time": "2025-03-06T08:00:30.309444Z",
     "start_time": "2025-03-06T08:00:30.301627Z"
    }
   },
   "cell_type": "code",
   "source": [
    "def convert_geoparquet(filepath):\n",
    "    # Read the Parquet file\n",
    "    df = gpd.read_parquet(filepath)\n",
    "    \n",
    "    # Ensure it's a GeoDataFrame\n",
    "    if not isinstance(df, gpd.GeoDataFrame):\n",
    "        df = gpd.GeoDataFrame(df, geometry=\"geometry\")\n",
    "    \n",
    "    # Save as a GeoParquet file\n",
    "    df.to_parquet(\"output.geoparquet\", engine=\"pyarrow\")\n",
    "    return df\n"
   ],
   "id": "81418e398fddbc37",
   "outputs": [],
   "execution_count": 8
  },
  {
   "metadata": {},
   "cell_type": "markdown",
   "source": "## Lese geoparquet",
   "id": "38c5718c013ff243"
  },
  {
   "metadata": {
    "ExecuteTime": {
     "end_time": "2025-03-06T08:00:30.341892Z",
     "start_time": "2025-03-06T08:00:30.333891Z"
    }
   },
   "cell_type": "code",
   "source": [
    "def display_df(df, num_rows):\n",
    "    for i in range(num_rows):\n",
    "        print(df.iloc[[i]] )\n",
    "        sleep(4)"
   ],
   "id": "44967e33991b2f8e",
   "outputs": [],
   "execution_count": 9
  },
  {
   "metadata": {},
   "cell_type": "markdown",
   "source": "## plot data i kart",
   "id": "185efdef97af0ef8"
  },
  {
   "metadata": {
    "ExecuteTime": {
     "end_time": "2025-03-06T08:07:45.924955Z",
     "start_time": "2025-03-06T08:07:42.145968Z"
    }
   },
   "cell_type": "code",
   "source": "df_gpd = convert_geoparquet(\"parquet_files/hais_2024-01-02.snappy.parquet\")",
   "id": "b53b1f7f2cc1a91a",
   "outputs": [],
   "execution_count": 17
  },
  {
   "metadata": {
    "ExecuteTime": {
     "end_time": "2025-03-06T08:10:47.888352Z",
     "start_time": "2025-03-06T08:10:08.989753Z"
    }
   },
   "cell_type": "code",
   "source": [
    "map = KeplerGl()\n",
    "map.add_data(df_gpd, name=\"AIS data\")\n",
    "map"
   ],
   "id": "bc7f3d45c6a90738",
   "outputs": [
    {
     "name": "stdout",
     "output_type": "stream",
     "text": [
      "User Guide: https://docs.kepler.gl/docs/keplergl-jupyter\n"
     ]
    },
    {
     "data": {
      "text/plain": [
       "KeplerGl(data={'AIS data': {'index': [0, 1, 2, 3, 4, 5, 6, 7, 8, 9, 10, 11, 12, 13, 14, 15, 16, 17, 18, 19, 20…"
      ],
      "application/vnd.jupyter.widget-view+json": {
       "version_major": 2,
       "version_minor": 0,
       "model_id": "121274f171284becac8b59bb74d023b8"
      }
     },
     "execution_count": 22,
     "metadata": {},
     "output_type": "execute_result"
    }
   ],
   "execution_count": 22
  },
  {
   "metadata": {},
   "cell_type": "markdown",
   "source": "## Simulering av strømming av data",
   "id": "aa123c05bbf4d0a1"
  },
  {
   "metadata": {
    "ExecuteTime": {
     "end_time": "2025-03-06T08:09:08.965587Z",
     "start_time": "2025-03-06T08:08:24.371339Z"
    }
   },
   "cell_type": "code",
   "source": [
    "df_gpd = convert_geoparquet(\"parquet_files/hais_2024-01-01.snappy.parquet\")\n",
    "display_df(df_gpd, 10)"
   ],
   "id": "ee4eeb24e6ade79d",
   "outputs": [
    {
     "name": "stdout",
     "output_type": "stream",
     "text": [
      "        date_time_utc       mmsi  longitude  latitude  status  \\\n",
      "0 2024-01-01 23:03:31  257038950   8.382945   58.2472       0   \n",
      "\n",
      "   course_over_ground  speed_over_ground  rate_of_turn  maneuvre  imo  \\\n",
      "0               360.0                0.0          -128         0    0   \n",
      "\n",
      "  callsign ship_name  ship_type  length draught data_source ais_class  \\\n",
      "0   LF6173  OPTIMERA         70      15    0.00           G         A   \n",
      "\n",
      "                hex_7              hex_14                 geometry  \n",
      "0  608155174778699775  639680372160382879  POINT (8.38294 58.2472)  \n",
      "        date_time_utc       mmsi  longitude  latitude  status  \\\n",
      "1 2024-01-01 23:03:39  257038950   8.382945   58.2472       0   \n",
      "\n",
      "   course_over_ground  speed_over_ground  rate_of_turn  maneuvre  imo  \\\n",
      "1               360.0                0.0          -128         0    0   \n",
      "\n",
      "  callsign ship_name  ship_type  length draught data_source ais_class  \\\n",
      "1   LF6173  OPTIMERA         70      15    0.00           G         A   \n",
      "\n",
      "                hex_7              hex_14                 geometry  \n",
      "1  608155174778699775  639680372160382879  POINT (8.38294 58.2472)  \n",
      "        date_time_utc       mmsi  longitude  latitude  status  \\\n",
      "2 2024-01-01 23:03:51  257038950   8.382945   58.2472       0   \n",
      "\n",
      "   course_over_ground  speed_over_ground  rate_of_turn  maneuvre  imo  \\\n",
      "2               360.0                0.1          -128         0    0   \n",
      "\n",
      "  callsign ship_name  ship_type  length draught data_source ais_class  \\\n",
      "2   LF6173  OPTIMERA         70      15    0.00           G         A   \n",
      "\n",
      "                hex_7              hex_14                 geometry  \n",
      "2  608155174778699775  639680372160382879  POINT (8.38294 58.2472)  \n",
      "        date_time_utc       mmsi  longitude  latitude  status  \\\n",
      "3 2024-01-01 23:04:01  257038950   8.382943   58.2472       0   \n",
      "\n",
      "   course_over_ground  speed_over_ground  rate_of_turn  maneuvre  imo  \\\n",
      "3               360.0                0.0          -128         0    0   \n",
      "\n",
      "  callsign ship_name  ship_type  length draught data_source ais_class  \\\n",
      "3   LF6173  OPTIMERA         70      15    0.00           G         A   \n",
      "\n",
      "                hex_7              hex_14                 geometry  \n",
      "3  608155174778699775  639680372160382879  POINT (8.38294 58.2472)  \n",
      "        date_time_utc       mmsi  longitude   latitude  status  \\\n",
      "4 2024-01-01 23:04:10  257038950    8.38294  58.247204       0   \n",
      "\n",
      "   course_over_ground  speed_over_ground  rate_of_turn  maneuvre  imo  \\\n",
      "4               360.0                0.0          -128         0    0   \n",
      "\n",
      "  callsign ship_name  ship_type  length draught data_source ais_class  \\\n",
      "4   LF6173  OPTIMERA         70      15    0.00           G         A   \n",
      "\n",
      "                hex_7              hex_14                 geometry  \n",
      "4  608155174778699775  639680372160382879  POINT (8.38294 58.2472)  \n",
      "        date_time_utc       mmsi  longitude  latitude  status  \\\n",
      "5 2024-01-01 23:04:21  257038950   8.382943   58.2472       0   \n",
      "\n",
      "   course_over_ground  speed_over_ground  rate_of_turn  maneuvre  imo  \\\n",
      "5               360.0                0.0          -128         0    0   \n",
      "\n",
      "  callsign ship_name  ship_type  length draught data_source ais_class  \\\n",
      "5   LF6173  OPTIMERA         70      15    0.00           G         A   \n",
      "\n",
      "                hex_7              hex_14                 geometry  \n",
      "5  608155174778699775  639680372160382879  POINT (8.38294 58.2472)  \n",
      "        date_time_utc       mmsi  longitude   latitude  status  \\\n",
      "6 2024-01-01 23:04:31  257038950   8.382945  58.247204       0   \n",
      "\n",
      "   course_over_ground  speed_over_ground  rate_of_turn  maneuvre  imo  \\\n",
      "6               360.0                0.0          -128         0    0   \n",
      "\n",
      "  callsign ship_name  ship_type  length draught data_source ais_class  \\\n",
      "6   LF6173  OPTIMERA         70      15    0.00           G         A   \n",
      "\n",
      "                hex_7              hex_14                 geometry  \n",
      "6  608155174778699775  639680372160382879  POINT (8.38294 58.2472)  \n",
      "        date_time_utc       mmsi  longitude   latitude  status  \\\n",
      "7 2024-01-01 23:04:39  257038950   8.382947  58.247204       0   \n",
      "\n",
      "   course_over_ground  speed_over_ground  rate_of_turn  maneuvre  imo  \\\n",
      "7               360.0                0.0          -128         0    0   \n",
      "\n",
      "  callsign ship_name  ship_type  length draught data_source ais_class  \\\n",
      "7   LF6173  OPTIMERA         70      15    0.00           G         A   \n",
      "\n",
      "                hex_7              hex_14                 geometry  \n",
      "7  608155174778699775  639680372160382879  POINT (8.38295 58.2472)  \n",
      "        date_time_utc       mmsi  longitude   latitude  status  \\\n",
      "8 2024-01-01 23:04:50  257038950   8.382947  58.247208       0   \n",
      "\n",
      "   course_over_ground  speed_over_ground  rate_of_turn  maneuvre  imo  \\\n",
      "8               360.0                0.0          -128         0    0   \n",
      "\n",
      "  callsign ship_name  ship_type  length draught data_source ais_class  \\\n",
      "8   LF6173  OPTIMERA         70      15    0.00           G         A   \n",
      "\n",
      "                hex_7              hex_14                  geometry  \n",
      "8  608155174778699775  639680372160382879  POINT (8.38295 58.24721)  \n",
      "        date_time_utc       mmsi  longitude   latitude  status  \\\n",
      "9 2024-01-01 23:05:01  257038950   8.382947  58.247204       0   \n",
      "\n",
      "   course_over_ground  speed_over_ground  rate_of_turn  maneuvre  imo  \\\n",
      "9               360.0                0.1          -128         0    0   \n",
      "\n",
      "  callsign ship_name  ship_type  length draught data_source ais_class  \\\n",
      "9   LF6173  OPTIMERA         70      15    0.00           G         A   \n",
      "\n",
      "                hex_7              hex_14                 geometry  \n",
      "9  608155174778699775  639680372160382879  POINT (8.38295 58.2472)  \n"
     ]
    }
   ],
   "execution_count": 19
  },
  {
   "metadata": {
    "ExecuteTime": {
     "end_time": "2025-03-06T08:03:09.658554Z",
     "start_time": "2025-03-06T08:03:09.647024Z"
    }
   },
   "cell_type": "code",
   "source": [
    "#Flitere etter colounm\n",
    "def filtering_col(df, search_word):\n",
    "    if search_word in df:\n",
    "        return df[search_word]\n",
    "    else:\n",
    "        print(f\"{search_word} is not in the dataframe\")\n",
    "        return None"
   ],
   "id": "36f2aa879ac38a7",
   "outputs": [
    {
     "name": "stdout",
     "output_type": "stream",
     "text": [
      "0   -128\n",
      "1   -128\n",
      "2   -128\n",
      "3   -128\n",
      "4   -128\n",
      "5   -128\n",
      "6   -128\n",
      "7   -128\n",
      "8   -128\n",
      "9   -128\n",
      "Name: rate_of_turn, dtype: int16\n"
     ]
    }
   ],
   "execution_count": 16
  },
  {
   "metadata": {},
   "cell_type": "code",
   "outputs": [],
   "execution_count": null,
   "source": [
    "#Filtter etter u en rad\n",
    "def filtering_rad(df, search_word):\n",
    "    \n",
    "        "
   ],
   "id": "23c0d488e8851445"
  },
  {
   "metadata": {},
   "cell_type": "markdown",
   "source": "# Main",
   "id": "3c5a5c6c4fa1ecdc"
  },
  {
   "metadata": {
    "ExecuteTime": {
     "end_time": "2025-03-06T12:37:10.652525Z",
     "start_time": "2025-03-06T12:37:02.974197Z"
    }
   },
   "cell_type": "code",
   "source": [
    "df_gpd = convert_geoparquet(\"parquet_files/hais_2024-10-09.snappy.parquet\")\n",
    "df_gpd['ship_name']"
   ],
   "id": "f399ab9a77f90219",
   "outputs": [
    {
     "data": {
      "text/plain": [
       "0             SILVERFJORD\n",
       "1             SILVERFJORD\n",
       "2             SILVERFJORD\n",
       "3             SILVERFJORD\n",
       "4             SILVERFJORD\n",
       "               ...       \n",
       "618110    RESCUE 157 BILL\n",
       "618111    RESCUE 157 BILL\n",
       "618112    RESCUE 157 BILL\n",
       "618113    RESCUE 157 BILL\n",
       "618114    RESCUE 157 BILL\n",
       "Name: ship_name, Length: 618115, dtype: object"
      ]
     },
     "execution_count": 29,
     "metadata": {},
     "output_type": "execute_result"
    }
   ],
   "execution_count": 29
  },
  {
   "metadata": {},
   "cell_type": "code",
   "outputs": [],
   "execution_count": null,
   "source": "",
   "id": "f8ce9ab081ad9a43"
  }
 ],
 "metadata": {
  "kernelspec": {
   "display_name": "Python 3",
   "language": "python",
   "name": "python3"
  },
  "language_info": {
   "codemirror_mode": {
    "name": "ipython",
    "version": 2
   },
   "file_extension": ".py",
   "mimetype": "text/x-python",
   "name": "python",
   "nbconvert_exporter": "python",
   "pygments_lexer": "ipython2",
   "version": "2.7.6"
  }
 },
 "nbformat": 4,
 "nbformat_minor": 5
}
