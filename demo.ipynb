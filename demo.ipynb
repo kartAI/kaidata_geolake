{
 "cells": [
  {
   "metadata": {},
   "cell_type": "markdown",
   "source": [
    "# Demo KartAI\n",
    "\n",
    "## Import pakker"
   ],
   "id": "611e68df1bc05d20"
  },
  {
   "cell_type": "code",
   "id": "initial_id",
   "metadata": {
    "collapsed": true,
    "ExecuteTime": {
     "end_time": "2025-03-13T21:45:32.173664Z",
     "start_time": "2025-03-13T21:45:32.170729Z"
    }
   },
   "source": [
    "import os\n",
    "import fiona\n",
    "import pyarrow.parquet as pq\n",
    "import geopandas as gpd\n",
    "import pandas as pd\n",
    "import time as time_module\n",
    "import glob\n",
    "import datetime\n",
    "import json\n",
    "import re\n",
    "import builtins\n",
    "from geopandas import GeoDataFrame\n",
    "from shapely import wkt\n",
    "from shapely.geometry import box\n",
    "from IPython.display import display\n",
    "from typing import Union"
   ],
   "outputs": [],
   "execution_count": 2
  },
  {
   "metadata": {},
   "cell_type": "markdown",
   "source": "## Konstante variabler",
   "id": "e4dbac65a8c79e7d"
  },
  {
   "metadata": {
    "ExecuteTime": {
     "end_time": "2025-03-13T21:45:32.218673Z",
     "start_time": "2025-03-13T21:45:32.215798Z"
    }
   },
   "cell_type": "code",
   "source": [
    "ABSOLUTE_PATH = os.getcwd()\n",
    "ROT_FOLDER = \"Data\"\n",
    "ROT_PATH = os.path.join(ABSOLUTE_PATH, ROT_FOLDER)\n",
    "SUPPORTED_FORMATS = ['.parquet', '.geojson', '.json', '.shp', '.gpkg', '.csv', '.gml']\n",
    "FOLDER = {\n",
    "    'raw': os.path.join(ROT_PATH, 'raw'), \n",
    "    'processed': os.path.join(ROT_PATH, 'processed'), \n",
    "    'archive': os.path.join(ROT_PATH, 'archive'),\n",
    "    'logs': os.path.join(ROT_PATH, 'logs')\n",
    "}\n",
    "\n",
    "LOG_FILE = os.path.join(FOLDER['logs'], 'conversion_log.json')"
   ],
   "id": "c2c45b41c6ef7c1",
   "outputs": [],
   "execution_count": 3
  },
  {
   "metadata": {},
   "cell_type": "markdown",
   "source": "## Diverse Sjekker",
   "id": "a24303bce050d61f"
  },
  {
   "metadata": {
    "ExecuteTime": {
     "end_time": "2025-03-13T21:45:32.233677Z",
     "start_time": "2025-03-13T21:45:32.230677Z"
    }
   },
   "cell_type": "code",
   "source": [
    "def valid_conversion(filepath, filename, filetype):\n",
    "    \"\"\"Sjekker om en fil er gyldig for konvertering.\"\"\"\n",
    "    \n",
    "    # Ikke konverter loggfiler\n",
    "    if filename == \"conversion_log\" or filepath.endswith(\"conversion_log.json\"):\n",
    "        return False\n",
    "\n",
    "    # Returner False hvis formatet ikke er støttet\n",
    "    if filetype not in SUPPORTED_FORMATS:\n",
    "        return False\n",
    "\n",
    "    # Håndtering av Parquet-filer\n",
    "    if (filetype == \".parquet\" and filename.endswith(\"_geo\")) and (not os.path.isfile(filepath)):\n",
    "        return False\n",
    "\n",
    "    return True"
   ],
   "id": "d4062d5a73572bff",
   "outputs": [],
   "execution_count": 4
  },
  {
   "metadata": {
    "ExecuteTime": {
     "end_time": "2025-03-13T21:45:32.241593Z",
     "start_time": "2025-03-13T21:45:32.238468Z"
    }
   },
   "cell_type": "code",
   "source": [
    "def check_file_convert(filepath, filename, convert_files, convert_logs):\n",
    "    \"\"\"Sjekker om en fil trenger konvertering basert på konverteringshistorikk\"\"\"\n",
    "    # Sjekk loggfilen\n",
    "    if filename in convert_logs:\n",
    "        # Sjekk om den konverterte filen faktisk eksisterer\n",
    "        target_path = convert_logs[filename].get('målsti', None)\n",
    "        if target_path and os.path.exists(target_path):\n",
    "            # Filen finnes - sjekk om den har blitt endret siden sist konvertering\n",
    "            sist_endret_tid = os.path.getmtime(filepath)\n",
    "            sist_konvertert_tid = convert_logs[filename].get('tidspunkt', 0)\n",
    "            if sist_endret_tid <= sist_konvertert_tid:\n",
    "                return False\n",
    "        else:\n",
    "            # Filen i loggfilen eksisterer ikke - den bør konverteres på nytt\n",
    "            print(f\"Konvertert fil {target_path} finnes ikke, konverterer på nytt...\")\n",
    "            return True\n",
    "\n",
    "    # Sjekk om filen allerede finnes i processed-mappen\n",
    "    return filename not in convert_files"
   ],
   "id": "2f2448d60ecf9242",
   "outputs": [],
   "execution_count": 5
  },
  {
   "metadata": {
    "ExecuteTime": {
     "end_time": "2025-03-13T21:45:32.248621Z",
     "start_time": "2025-03-13T21:45:32.245598Z"
    }
   },
   "cell_type": "code",
   "source": [
    "def check_col_exists(df, col):\n",
    "    return col in df.columns\n"
   ],
   "id": "22cf28b995ee6d34",
   "outputs": [],
   "execution_count": 6
  },
  {
   "metadata": {},
   "cell_type": "markdown",
   "source": "## Get-funskjoner",
   "id": "d6be6864ec0fba8f"
  },
  {
   "metadata": {
    "ExecuteTime": {
     "end_time": "2025-03-13T21:45:32.261074Z",
     "start_time": "2025-03-13T21:45:32.257135Z"
    }
   },
   "cell_type": "code",
   "source": [
    "def get_convert_files():\n",
    "    \"\"\"Henter ut alle allerede konverterte filer\"\"\"\n",
    "\n",
    "    # Return an empty set if the folder does not exist\n",
    "    if not os.path.exists(FOLDER['processed']):\n",
    "        return None\n",
    "\n",
    "    convert_files = set()\n",
    "    # Iterate through files in the directory\n",
    "    for root, _, filer in os.walk(FOLDER['processed']):\n",
    "        for fil in filer:\n",
    "            if fil.endswith('.parquet'):\n",
    "                base_navn = os.path.splitext(fil)[0]\n",
    "                convert_files.add(base_navn)\n",
    "\n",
    "    return convert_files"
   ],
   "id": "f17ec236bea9d31f",
   "outputs": [],
   "execution_count": 7
  },
  {
   "metadata": {
    "ExecuteTime": {
     "end_time": "2025-03-13T21:45:32.278805Z",
     "start_time": "2025-03-13T21:45:32.275590Z"
    }
   },
   "cell_type": "code",
   "source": [
    "def get_exists_geoparquet():\n",
    "    \"\"\"Finner eksisterende GeoParquet-filer\"\"\"\n",
    "    geoparquet_files = []\n",
    "\n",
    "    for root, _, files in os.walk(FOLDER['processed']):\n",
    "        for file in files:\n",
    "            if file.endswith('.parquet'):\n",
    "                filepath = os.path.join(root, file)\n",
    "                if filepath not in files:\n",
    "                    geoparquet_files.append(filepath)\n",
    "    print(f\"Antall geoparquet filer: {geoparquet_files}\")\n",
    "    return geoparquet_files"
   ],
   "id": "6af345333fb92ebe",
   "outputs": [],
   "execution_count": 8
  },
  {
   "metadata": {
    "ExecuteTime": {
     "end_time": "2025-03-13T21:45:32.285993Z",
     "start_time": "2025-03-13T21:45:32.282639Z"
    }
   },
   "cell_type": "code",
   "source": [
    "def get_new_files():\n",
    "    \"\"\"Finner filer som ikke har blitt konvertert ennå\"\"\"\n",
    "    convert_files = get_convert_files()\n",
    "    #convert_logs = read_log()\n",
    "\n",
    "    nye_filer = []\n",
    "\n",
    "    for root, _, files in os.walk(FOLDER['raw']):\n",
    "        for file in files:\n",
    "            filepath = os.path.join(root, file)\n",
    "            filetype = os.path.splitext(file)[1].lower()\n",
    "            filename = os.path.splitext(file)[0]\n",
    "\n",
    "            # Sjekk om filen er gyldig for konvertering\n",
    "            if not valid_conversion(filepath, filename, filetype):\n",
    "                print(f\"fil {filename} er ikke gyldig for konverting\")\n",
    "                continue\n",
    "\n",
    "            # Sjekk om filen trenger konvertering\n",
    "            #if check_file_convert(filepath, filename, convert_files):\n",
    "            nye_filer.append(filepath)\n",
    "    print(f\"Hente {len(nye_filer)} ny filer\")\n",
    "    return nye_filer"
   ],
   "id": "45ddad71e12007b1",
   "outputs": [],
   "execution_count": 9
  },
  {
   "metadata": {
    "ExecuteTime": {
     "end_time": "2025-03-13T21:45:32.292209Z",
     "start_time": "2025-03-13T21:45:32.289382Z"
    }
   },
   "cell_type": "code",
   "source": [
    "def get_geoparquet_file(filepath) -> GeoDataFrame:\n",
    "    # Read the Parquet file\n",
    "    geo_df = gpd.read_parquet(filepath)\n",
    "        # Ensure it's a GeoDataFrame\n",
    "    if not isinstance(geo_df, gpd.GeoDataFrame):\n",
    "        geo_df = gpd.GeoDataFrame(geo_df, geometry=\"geometry\")\n",
    "    \n",
    "    return geo_df"
   ],
   "id": "957e4850030c1123",
   "outputs": [],
   "execution_count": 10
  },
  {
   "metadata": {},
   "cell_type": "markdown",
   "source": [
    "### Konverting til parquet\n",
    "\n",
    "#### sjekk om det er Parquet"
   ],
   "id": "ae522128d05d8443"
  },
  {
   "metadata": {
    "ExecuteTime": {
     "end_time": "2025-03-13T21:45:32.298848Z",
     "start_time": "2025-03-13T21:45:32.296648Z"
    }
   },
   "cell_type": "code",
   "source": [
    "def converter_parquet(filepath):\n",
    "    \"\"\"Konverterer parquet-fil til GeoDataFrame\"\"\"\n",
    "    if os.path.exists(filepath):\n",
    "        df = pd.read_parquet(filepath)\n",
    "    \n",
    "        # Try latitude/longitude conversion first\n",
    "        gdf = convert_latlon_to_gdf(df)\n",
    "        if gdf is not None:\n",
    "            return gdf\n",
    "    \n",
    "        # Try detecting and converting WKT geometry\n",
    "        gdf = detect_wkt_geometry(df)\n",
    "        if gdf is not None:\n",
    "            return gdf\n",
    "\n",
    "    print(\"No valid geometry columns found.\")\n",
    "    return None\n",
    "    "
   ],
   "id": "a865c8920c0ff04d",
   "outputs": [],
   "execution_count": 11
  },
  {
   "metadata": {
    "ExecuteTime": {
     "end_time": "2025-03-13T21:45:32.305751Z",
     "start_time": "2025-03-13T21:45:32.303354Z"
    }
   },
   "cell_type": "code",
   "source": [
    "def convert_latlon_to_gdf(df):\n",
    "    \"\"\"Convert a DataFrame with latitude/longitude columns to a GeoDataFrame.\"\"\"\n",
    "    if {'longitude', 'latitude'}.issubset(df.columns):\n",
    "            df['geometry'] = gpd.points_from_xy(df['longitude'], df['latitude'])\n",
    "            return gpd.GeoDataFrame(df, geometry=gpd.points_from_xy(df.longitude, df.latitude), crs=\"EPSG:4326\")\n",
    "    return None"
   ],
   "id": "5c9d81a5786fefa3",
   "outputs": [],
   "execution_count": 12
  },
  {
   "metadata": {
    "ExecuteTime": {
     "end_time": "2025-03-13T21:45:32.316058Z",
     "start_time": "2025-03-13T21:45:32.313059Z"
    }
   },
   "cell_type": "code",
   "source": [
    "def detect_wkt_geometry(df):\n",
    "    \"\"\"Detect a potential geometry column in WKT format and convert it to a GeoDataFrame.\"\"\"\n",
    "    pattern = re.compile(r'geom|coord|point|polygon|linestring|wkt', re.IGNORECASE)\n",
    "    geo_col = [col for col in df.columns if pattern.search(col)]\n",
    "\n",
    "    for col in geo_col:\n",
    "        if df[col].dtype == 'object':\n",
    "            # Prøv å konvertere fra WKT-format\n",
    "            geom = df[col].apply(wkt.loads)\n",
    "            return gpd.GeoDataFrame(df, geometry=geom, crs=\"EPSG:4326\")\n",
    "    return None"
   ],
   "id": "de8b1f52c45d7095",
   "outputs": [],
   "execution_count": 13
  },
  {
   "metadata": {},
   "cell_type": "markdown",
   "source": "#### Sjekk om det er CSV",
   "id": "737b8d5693a3e928"
  },
  {
   "metadata": {
    "ExecuteTime": {
     "end_time": "2025-03-13T21:45:32.325160Z",
     "start_time": "2025-03-13T21:45:32.321694Z"
    }
   },
   "cell_type": "code",
   "source": [
    "def converter_csv(filsti):\n",
    "    \"\"\"Konverterer CSV-fil til GeoDataFrame\"\"\"\n",
    "    df = pd.read_csv(filsti)\n",
    "\n",
    "    # Sjekk for vanlige lat/long kolonnenavn\n",
    "    lat_kolonner = ['latitude', 'lat', 'y', 'breddegrad']\n",
    "    lon_kolonner = ['longitude', 'long', 'lon', 'x', 'lengdegrad']\n",
    "\n",
    "    lat_col = next((col for col in lat_kolonner if col in df.columns), None)\n",
    "    lon_col = next((col for col in lon_kolonner if col in df.columns), None)\n",
    "\n",
    "    if lat_col and lon_col:\n",
    "        return gpd.GeoDataFrame(\n",
    "            df,\n",
    "            geometry=gpd.points_from_xy(df[lon_col], df[lat_col]),\n",
    "            crs=\"EPSG:4326\"\n",
    "        )\n",
    "\n",
    "    return None"
   ],
   "id": "e4a03deea3827d8d",
   "outputs": [],
   "execution_count": 14
  },
  {
   "metadata": {},
   "cell_type": "markdown",
   "source": "#### Sjekk om det er gml",
   "id": "79f3bb0bb1a051e7"
  },
  {
   "metadata": {
    "ExecuteTime": {
     "end_time": "2025-03-13T21:45:32.332507Z",
     "start_time": "2025-03-13T21:45:32.329668Z"
    }
   },
   "cell_type": "code",
   "source": [
    "def convert_gml(path):\n",
    "    layers = fiona.listlayers(path)\n",
    "    if layers:\n",
    "        print(f\"GML-fil har {len(layers)} lag: {', '.join(layers)}\")\n",
    "        # Les det første laget, som er standard\n",
    "        return gpd.read_file(path, layer=layers[0])\n",
    "    else:\n",
    "        return gpd.read_file(path)"
   ],
   "id": "b077ea6b61b894ab",
   "outputs": [],
   "execution_count": 15
  },
  {
   "metadata": {},
   "cell_type": "markdown",
   "source": "#### Konvertere filer til geoparquet",
   "id": "db52e2648e3826b3"
  },
  {
   "metadata": {
    "ExecuteTime": {
     "end_time": "2025-03-13T21:45:32.339310Z",
     "start_time": "2025-03-13T21:45:32.335976Z"
    }
   },
   "cell_type": "code",
   "source": [
    "def convert_filetype(source_filepath: str) -> Union[gpd.GeoDataFrame, None]:\n",
    "    \"\"\"Konverterer fil til GeoDataFrame basert på filendelse\"\"\"\n",
    "    \n",
    "    filetype = os.path.splitext(source_filepath)[1].lower()\n",
    "    if filetype == '.parquet':\n",
    "        return converter_parquet(source_filepath)\n",
    "\n",
    "    elif filetype in ['.geojson', '.json', '.shp', '.gpkg']:\n",
    "        return gpd.read_file(source_filepath)\n",
    "\n",
    "    elif filetype == '.gml':\n",
    "        return convert_gml(source_filepath)\n",
    "    \n",
    "    elif filetype == '.csv':\n",
    "        return converter_csv(source_filepath)\n",
    "\n",
    "    print(f\"Klarte ikke å finne match konverting til filendelse {filetype}\")\n",
    "    return None"
   ],
   "id": "93187f73daa1918a",
   "outputs": [],
   "execution_count": 16
  },
  {
   "metadata": {
    "ExecuteTime": {
     "end_time": "2025-03-13T21:45:32.346553Z",
     "start_time": "2025-03-13T21:45:32.343315Z"
    }
   },
   "cell_type": "code",
   "source": [
    "def converter_to_geoparquet(source_filepath: str):\n",
    "    \"\"\"\n",
    "    Konverterer en enkelt fil til GeoParquet-format.\n",
    "    Hvis ingen målmappe er spesifisert, brukes FOLDER['processed'].\n",
    "    Returnerer den nye filbanen dersom konvertering lykkes, ellers False.\n",
    "    \"\"\"\n",
    "    # Bygg målfilstien basert på kildefilens navn med '_geo.parquet' suffix\n",
    "    filename = os.path.basename(source_filepath)\n",
    "    filename_without_ext = os.path.splitext(filename)[0]\n",
    "    target_file_path = os.path.join(FOLDER['processed'], f\"{filename_without_ext}_geo.parquet\")\n",
    "    \n",
    "    # Konverter filen ved hjelp av en antatt funksjon convert_filetype som returnerer en GeoDataFrame\n",
    "    gdf = convert_filetype(source_filepath)\n",
    "\n",
    "    if gdf is not None:\n",
    "        gdf.to_parquet(target_file_path)\n",
    "        return target_file_path\n",
    "    return None\n"
   ],
   "id": "30f58dc5a1f4c748",
   "outputs": [],
   "execution_count": 17
  },
  {
   "metadata": {},
   "cell_type": "markdown",
   "source": "### Logging",
   "id": "35b5627148fb94aa"
  },
  {
   "metadata": {
    "ExecuteTime": {
     "end_time": "2025-03-13T21:45:32.352940Z",
     "start_time": "2025-03-13T21:45:32.349854Z"
    }
   },
   "cell_type": "code",
   "source": [
    "def read_log() -> dict:\n",
    "    \"\"\"\n",
    "    Leser inn eksisterende konverteringslogg.\n",
    "    Hvis loggfilen ikke finnes, returneres en tom dictionary.\n",
    "    \"\"\"\n",
    "    \"\"\"Leser inn eksisterende konverteringslogg\"\"\"\n",
    "    if not os.path.exists(LOG_FILE):\n",
    "        return {}\n",
    "    with builtins.open(LOG_FILE, 'r', encoding='utf-8') as f:\n",
    "        return json.load(f)\n"
   ],
   "id": "3c1d24a9b8638a5b",
   "outputs": [],
   "execution_count": 18
  },
  {
   "metadata": {
    "ExecuteTime": {
     "end_time": "2025-03-13T21:45:32.359941Z",
     "start_time": "2025-03-13T21:45:32.356929Z"
    }
   },
   "cell_type": "code",
   "source": [
    "def generate_logs(file: str, target_file_path: str) -> dict:\n",
    "    \"\"\"\n",
    "    Lager et nytt logginnslag for en konvertert fil.\n",
    "    \"\"\"\n",
    "    base_name = os.path.splitext(os.path.basename(file))[0]\n",
    "    today = datetime.datetime.now()\n",
    "    return {\n",
    "        base_name: {\n",
    "            'kildesti': file,\n",
    "            'målsti': target_file_path,\n",
    "            'tidspunkt': today.timestamp(),\n",
    "            'dato': today.strftime('%Y-%m-%d %H:%M:%S')\n",
    "        }\n",
    "    }"
   ],
   "id": "2465904fa5f70a5f",
   "outputs": [],
   "execution_count": 19
  },
  {
   "metadata": {
    "ExecuteTime": {
     "end_time": "2025-03-13T21:45:32.366091Z",
     "start_time": "2025-03-13T21:45:32.363416Z"
    }
   },
   "cell_type": "code",
   "source": [
    "def save_log(logdata: dict) -> None:\n",
    "    \"\"\"\n",
    "    Lagrer konverteringslogg til fil.\n",
    "    \"\"\"\n",
    "    with open(LOG_FILE, 'w', encoding='utf-8') as f:\n",
    "        json.dump(logdata, f, indent=2)"
   ],
   "id": "b3509d226724a3c2",
   "outputs": [],
   "execution_count": 20
  },
  {
   "metadata": {
    "ExecuteTime": {
     "end_time": "2025-03-13T21:45:32.372435Z",
     "start_time": "2025-03-13T21:45:32.369518Z"
    }
   },
   "cell_type": "code",
   "source": [
    "def update_logs(file: str, target_file_path: str) -> None:\n",
    "    \"\"\"\n",
    "    Oppdaterer konverteringsloggen med ny filinfo.\n",
    "    \"\"\"\n",
    "    convert_logger = read_log()\n",
    "    new_log = generate_logs(file, target_file_path)\n",
    "    convert_logger.update(new_log)\n",
    "    save_log(convert_logger)"
   ],
   "id": "fe5102b58c6498bf",
   "outputs": [],
   "execution_count": 21
  },
  {
   "metadata": {},
   "cell_type": "markdown",
   "source": "## Setup",
   "id": "5301d4a09d677744"
  },
  {
   "metadata": {
    "ExecuteTime": {
     "end_time": "2025-03-13T21:45:32.378899Z",
     "start_time": "2025-03-13T21:45:32.375796Z"
    }
   },
   "cell_type": "code",
   "source": [
    "def setup():\n",
    "    # Sjekk om mappen finnes, hvis ikke - lag den\n",
    "    if not os.path.exists(ROT_FOLDER):\n",
    "        os.makedirs(ROT_FOLDER, exist_ok=True)\n",
    "        print(f\"Opprettet rotmappe: {ROT_FOLDER}\")\n",
    "    else:\n",
    "        print(f\"Mappen {ROT_FOLDER} finnes allerede\")\n",
    "        \n",
    "    # Opprett undermappe-struktur\n",
    "    for folderName in FOLDER:\n",
    "        if not os.path.exists(FOLDER[folderName]):\n",
    "            print(f\"Creating folder in {ROT_FOLDER}\")\n",
    "            os.makedirs(FOLDER[folderName], exist_ok=True)\n",
    "            print(f\"Opprettet mappe: {FOLDER[folderName]}\")\n",
    "            \n",
    "    "
   ],
   "id": "3eabcf597ae29e6c",
   "outputs": [],
   "execution_count": 22
  },
  {
   "metadata": {
    "ExecuteTime": {
     "end_time": "2025-03-13T21:45:32.386553Z",
     "start_time": "2025-03-13T21:45:32.383406Z"
    }
   },
   "cell_type": "code",
   "source": [
    "def skriv_oppsummering(resultater):\n",
    "    \"\"\"Skriver oppsummering av konverteringsprosessen\"\"\"\n",
    "    print(\"\\n\")\n",
    "    print(\"OPPSUMMERING\")\n",
    "    print(f\"Katalog: {ROT_PATH}\")\n",
    "    print(f\"Mappestruktur: Raw={FOLDER['raw']}, Processed={FOLDER['processed']}\")\n",
    "    \n",
    "    print(f\"Totalt antall geografiske filer funnet: {len(resultater[\"alle_filer\"])}\")\n",
    "    print(f\"Antall parquet-filer som allerede var GeoParquet: {len(resultater[\"allerede_geoparquet\"])}\")\n",
    "    print(f\"Antall filer konvertert til GeoParquet: {len(resultater[\"konvertert\"])}\")\n",
    "    print(f\"Antall filer som ikke kunne konverteres: {len(resultater[\"feilet\"])}\")\n",
    "\n",
    "    if resultater[\"konvertert\"]:\n",
    "        print(\"\\nKonverterte filer:\")\n",
    "        for fil in resultater[\"konvertert\"]:\n",
    "            print(f\"- {fil}\")\n",
    "\n",
    "    if resultater[\"feilet\"]:\n",
    "        print(\"\\nFiler som ikke kunne konverteres:\")\n",
    "        for fil in resultater[\"feilet\"]:\n",
    "            print(f\"- {fil}\")"
   ],
   "id": "ac0850e580dbc2ae",
   "outputs": [],
   "execution_count": 23
  },
  {
   "metadata": {
    "ExecuteTime": {
     "end_time": "2025-03-13T21:45:32.393999Z",
     "start_time": "2025-03-13T21:45:32.391058Z"
    }
   },
   "cell_type": "code",
   "source": [
    "def behandle_alle_filer_i_mappe():\n",
    "    \"\"\"Behandler alle geografiske filer i angitt mappe og konverterer til GeoParquet.\"\"\"\n",
    "    # Validering og mappestruktur (gjør dette først!)\n",
    "    if not os.path.exists(ROT_PATH):\n",
    "        print(f\"Vennligst oppgi en gyldig mappe som du har tilgang til.\")\n",
    "        print(f\"For eksempel: './data' (relativ sti) eller '~/data' (i hjemmekatalogen)\")\n",
    "        return None\n",
    "\n",
    "    # Bruk processed-sti som målmappe i stedet for prosessert_mappesti fra oppsett_mappestier\n",
    "    if not os.path.exists(FOLDER['processed']):\n",
    "        print(f\"FEIL: Kunne ikke opprette målmappen '{FOLDER['processed']}': {e}\")\n",
    "        return None\n",
    "\n",
    "    # Finn nye filer som trenger konvertering\n",
    "    new_files = get_new_files()\n",
    "    \n",
    "    # Konverter filene og samle resultatene\n",
    "    konvertert = []\n",
    "    feilet = []\n",
    "    for filepath in new_files:\n",
    "        target_filepath = converter_to_geoparquet(filepath)\n",
    "        if target_filepath is not None:\n",
    "            konvertert.append(filepath)\n",
    "            update_logs(FOLDER['logs'], filepath)\n",
    "        else:\n",
    "            feilet.append(filepath)\n",
    "\n",
    "    # Sammenstill resultater\n",
    "    resultater = {\n",
    "        \"alle_filer\": new_files,\n",
    "        \"konvertert\": konvertert,\n",
    "        \"feilet\": feilet,\n",
    "        \"allerede_geoparquet\": get_exists_geoparquet()\n",
    "    }\n",
    "    skriv_oppsummering(resultater)\n",
    "\n",
    "    return resultater"
   ],
   "id": "2cc926862d6b585f",
   "outputs": [],
   "execution_count": 24
  },
  {
   "metadata": {
    "ExecuteTime": {
     "end_time": "2025-03-13T21:45:32.403521Z",
     "start_time": "2025-03-13T21:45:32.400438Z"
    }
   },
   "cell_type": "code",
   "source": [
    "# Sjekk at mappen eksisterer før vi fortsetter\n",
    "setup()"
   ],
   "id": "86a12aa37f1416e1",
   "outputs": [
    {
     "name": "stdout",
     "output_type": "stream",
     "text": [
      "Mappen Data finnes allerede\n"
     ]
    }
   ],
   "execution_count": 25
  },
  {
   "metadata": {
    "ExecuteTime": {
     "end_time": "2025-03-13T21:54:05.907127Z",
     "start_time": "2025-03-13T21:45:32.469083Z"
    }
   },
   "cell_type": "code",
   "source": [
    "# Kjører konverteringsprosessen\n",
    "resultater = behandle_alle_filer_i_mappe()"
   ],
   "id": "512faea0fda5fc98",
   "outputs": [
    {
     "name": "stdout",
     "output_type": "stream",
     "text": [
      "Hente 366 ny filer\n",
      "Antall geoparquet filer: ['C:\\\\Users\\\\ANDRI\\\\Documents\\\\PythonProjects\\\\kaidata_geolake\\\\Data\\\\processed\\\\hais_2024-01-01.snappy_geo.parquet', 'C:\\\\Users\\\\ANDRI\\\\Documents\\\\PythonProjects\\\\kaidata_geolake\\\\Data\\\\processed\\\\hais_2024-01-02.snappy_geo.parquet', 'C:\\\\Users\\\\ANDRI\\\\Documents\\\\PythonProjects\\\\kaidata_geolake\\\\Data\\\\processed\\\\hais_2024-01-03.snappy_geo.parquet', 'C:\\\\Users\\\\ANDRI\\\\Documents\\\\PythonProjects\\\\kaidata_geolake\\\\Data\\\\processed\\\\hais_2024-01-04.snappy_geo.parquet', 'C:\\\\Users\\\\ANDRI\\\\Documents\\\\PythonProjects\\\\kaidata_geolake\\\\Data\\\\processed\\\\hais_2024-01-05.snappy_geo.parquet', 'C:\\\\Users\\\\ANDRI\\\\Documents\\\\PythonProjects\\\\kaidata_geolake\\\\Data\\\\processed\\\\hais_2024-01-06.snappy_geo.parquet', 'C:\\\\Users\\\\ANDRI\\\\Documents\\\\PythonProjects\\\\kaidata_geolake\\\\Data\\\\processed\\\\hais_2024-01-07.snappy_geo.parquet', 'C:\\\\Users\\\\ANDRI\\\\Documents\\\\PythonProjects\\\\kaidata_geolake\\\\Data\\\\processed\\\\hais_2024-01-08.snappy_geo.parquet', 'C:\\\\Users\\\\ANDRI\\\\Documents\\\\PythonProjects\\\\kaidata_geolake\\\\Data\\\\processed\\\\hais_2024-01-09.snappy_geo.parquet', 'C:\\\\Users\\\\ANDRI\\\\Documents\\\\PythonProjects\\\\kaidata_geolake\\\\Data\\\\processed\\\\hais_2024-01-10.snappy_geo.parquet', 'C:\\\\Users\\\\ANDRI\\\\Documents\\\\PythonProjects\\\\kaidata_geolake\\\\Data\\\\processed\\\\hais_2024-01-11.snappy_geo.parquet', 'C:\\\\Users\\\\ANDRI\\\\Documents\\\\PythonProjects\\\\kaidata_geolake\\\\Data\\\\processed\\\\hais_2024-01-12.snappy_geo.parquet', 'C:\\\\Users\\\\ANDRI\\\\Documents\\\\PythonProjects\\\\kaidata_geolake\\\\Data\\\\processed\\\\hais_2024-01-13.snappy_geo.parquet', 'C:\\\\Users\\\\ANDRI\\\\Documents\\\\PythonProjects\\\\kaidata_geolake\\\\Data\\\\processed\\\\hais_2024-01-14.snappy_geo.parquet', 'C:\\\\Users\\\\ANDRI\\\\Documents\\\\PythonProjects\\\\kaidata_geolake\\\\Data\\\\processed\\\\hais_2024-01-15.snappy_geo.parquet', 'C:\\\\Users\\\\ANDRI\\\\Documents\\\\PythonProjects\\\\kaidata_geolake\\\\Data\\\\processed\\\\hais_2024-01-16.snappy_geo.parquet', 'C:\\\\Users\\\\ANDRI\\\\Documents\\\\PythonProjects\\\\kaidata_geolake\\\\Data\\\\processed\\\\hais_2024-01-17.snappy_geo.parquet', 'C:\\\\Users\\\\ANDRI\\\\Documents\\\\PythonProjects\\\\kaidata_geolake\\\\Data\\\\processed\\\\hais_2024-01-18.snappy_geo.parquet', 'C:\\\\Users\\\\ANDRI\\\\Documents\\\\PythonProjects\\\\kaidata_geolake\\\\Data\\\\processed\\\\hais_2024-01-19.snappy_geo.parquet', 'C:\\\\Users\\\\ANDRI\\\\Documents\\\\PythonProjects\\\\kaidata_geolake\\\\Data\\\\processed\\\\hais_2024-01-20.snappy_geo.parquet', 'C:\\\\Users\\\\ANDRI\\\\Documents\\\\PythonProjects\\\\kaidata_geolake\\\\Data\\\\processed\\\\hais_2024-01-21.snappy_geo.parquet', 'C:\\\\Users\\\\ANDRI\\\\Documents\\\\PythonProjects\\\\kaidata_geolake\\\\Data\\\\processed\\\\hais_2024-01-22.snappy_geo.parquet', 'C:\\\\Users\\\\ANDRI\\\\Documents\\\\PythonProjects\\\\kaidata_geolake\\\\Data\\\\processed\\\\hais_2024-01-23.snappy_geo.parquet', 'C:\\\\Users\\\\ANDRI\\\\Documents\\\\PythonProjects\\\\kaidata_geolake\\\\Data\\\\processed\\\\hais_2024-01-24.snappy_geo.parquet', 'C:\\\\Users\\\\ANDRI\\\\Documents\\\\PythonProjects\\\\kaidata_geolake\\\\Data\\\\processed\\\\hais_2024-01-25.snappy_geo.parquet', 'C:\\\\Users\\\\ANDRI\\\\Documents\\\\PythonProjects\\\\kaidata_geolake\\\\Data\\\\processed\\\\hais_2024-01-26.snappy_geo.parquet', 'C:\\\\Users\\\\ANDRI\\\\Documents\\\\PythonProjects\\\\kaidata_geolake\\\\Data\\\\processed\\\\hais_2024-01-27.snappy_geo.parquet', 'C:\\\\Users\\\\ANDRI\\\\Documents\\\\PythonProjects\\\\kaidata_geolake\\\\Data\\\\processed\\\\hais_2024-01-28.snappy_geo.parquet', 'C:\\\\Users\\\\ANDRI\\\\Documents\\\\PythonProjects\\\\kaidata_geolake\\\\Data\\\\processed\\\\hais_2024-01-29.snappy_geo.parquet', 'C:\\\\Users\\\\ANDRI\\\\Documents\\\\PythonProjects\\\\kaidata_geolake\\\\Data\\\\processed\\\\hais_2024-01-30.snappy_geo.parquet', 'C:\\\\Users\\\\ANDRI\\\\Documents\\\\PythonProjects\\\\kaidata_geolake\\\\Data\\\\processed\\\\hais_2024-01-31.snappy_geo.parquet', 'C:\\\\Users\\\\ANDRI\\\\Documents\\\\PythonProjects\\\\kaidata_geolake\\\\Data\\\\processed\\\\hais_2024-02-01.snappy_geo.parquet', 'C:\\\\Users\\\\ANDRI\\\\Documents\\\\PythonProjects\\\\kaidata_geolake\\\\Data\\\\processed\\\\hais_2024-02-02.snappy_geo.parquet', 'C:\\\\Users\\\\ANDRI\\\\Documents\\\\PythonProjects\\\\kaidata_geolake\\\\Data\\\\processed\\\\hais_2024-02-03.snappy_geo.parquet', 'C:\\\\Users\\\\ANDRI\\\\Documents\\\\PythonProjects\\\\kaidata_geolake\\\\Data\\\\processed\\\\hais_2024-02-04.snappy_geo.parquet', 'C:\\\\Users\\\\ANDRI\\\\Documents\\\\PythonProjects\\\\kaidata_geolake\\\\Data\\\\processed\\\\hais_2024-02-05.snappy_geo.parquet', 'C:\\\\Users\\\\ANDRI\\\\Documents\\\\PythonProjects\\\\kaidata_geolake\\\\Data\\\\processed\\\\hais_2024-02-06.snappy_geo.parquet', 'C:\\\\Users\\\\ANDRI\\\\Documents\\\\PythonProjects\\\\kaidata_geolake\\\\Data\\\\processed\\\\hais_2024-02-07.snappy_geo.parquet', 'C:\\\\Users\\\\ANDRI\\\\Documents\\\\PythonProjects\\\\kaidata_geolake\\\\Data\\\\processed\\\\hais_2024-02-08.snappy_geo.parquet', 'C:\\\\Users\\\\ANDRI\\\\Documents\\\\PythonProjects\\\\kaidata_geolake\\\\Data\\\\processed\\\\hais_2024-02-09.snappy_geo.parquet', 'C:\\\\Users\\\\ANDRI\\\\Documents\\\\PythonProjects\\\\kaidata_geolake\\\\Data\\\\processed\\\\hais_2024-02-10.snappy_geo.parquet', 'C:\\\\Users\\\\ANDRI\\\\Documents\\\\PythonProjects\\\\kaidata_geolake\\\\Data\\\\processed\\\\hais_2024-02-11.snappy_geo.parquet', 'C:\\\\Users\\\\ANDRI\\\\Documents\\\\PythonProjects\\\\kaidata_geolake\\\\Data\\\\processed\\\\hais_2024-02-12.snappy_geo.parquet', 'C:\\\\Users\\\\ANDRI\\\\Documents\\\\PythonProjects\\\\kaidata_geolake\\\\Data\\\\processed\\\\hais_2024-02-13.snappy_geo.parquet', 'C:\\\\Users\\\\ANDRI\\\\Documents\\\\PythonProjects\\\\kaidata_geolake\\\\Data\\\\processed\\\\hais_2024-02-14.snappy_geo.parquet', 'C:\\\\Users\\\\ANDRI\\\\Documents\\\\PythonProjects\\\\kaidata_geolake\\\\Data\\\\processed\\\\hais_2024-02-15.snappy_geo.parquet', 'C:\\\\Users\\\\ANDRI\\\\Documents\\\\PythonProjects\\\\kaidata_geolake\\\\Data\\\\processed\\\\hais_2024-02-16.snappy_geo.parquet', 'C:\\\\Users\\\\ANDRI\\\\Documents\\\\PythonProjects\\\\kaidata_geolake\\\\Data\\\\processed\\\\hais_2024-02-17.snappy_geo.parquet', 'C:\\\\Users\\\\ANDRI\\\\Documents\\\\PythonProjects\\\\kaidata_geolake\\\\Data\\\\processed\\\\hais_2024-02-18.snappy_geo.parquet', 'C:\\\\Users\\\\ANDRI\\\\Documents\\\\PythonProjects\\\\kaidata_geolake\\\\Data\\\\processed\\\\hais_2024-02-19.snappy_geo.parquet', 'C:\\\\Users\\\\ANDRI\\\\Documents\\\\PythonProjects\\\\kaidata_geolake\\\\Data\\\\processed\\\\hais_2024-02-20.snappy_geo.parquet', 'C:\\\\Users\\\\ANDRI\\\\Documents\\\\PythonProjects\\\\kaidata_geolake\\\\Data\\\\processed\\\\hais_2024-02-21.snappy_geo.parquet', 'C:\\\\Users\\\\ANDRI\\\\Documents\\\\PythonProjects\\\\kaidata_geolake\\\\Data\\\\processed\\\\hais_2024-02-22.snappy_geo.parquet', 'C:\\\\Users\\\\ANDRI\\\\Documents\\\\PythonProjects\\\\kaidata_geolake\\\\Data\\\\processed\\\\hais_2024-02-23.snappy_geo.parquet', 'C:\\\\Users\\\\ANDRI\\\\Documents\\\\PythonProjects\\\\kaidata_geolake\\\\Data\\\\processed\\\\hais_2024-02-24.snappy_geo.parquet', 'C:\\\\Users\\\\ANDRI\\\\Documents\\\\PythonProjects\\\\kaidata_geolake\\\\Data\\\\processed\\\\hais_2024-02-25.snappy_geo.parquet', 'C:\\\\Users\\\\ANDRI\\\\Documents\\\\PythonProjects\\\\kaidata_geolake\\\\Data\\\\processed\\\\hais_2024-02-26.snappy_geo.parquet', 'C:\\\\Users\\\\ANDRI\\\\Documents\\\\PythonProjects\\\\kaidata_geolake\\\\Data\\\\processed\\\\hais_2024-02-27.snappy_geo.parquet', 'C:\\\\Users\\\\ANDRI\\\\Documents\\\\PythonProjects\\\\kaidata_geolake\\\\Data\\\\processed\\\\hais_2024-02-28.snappy_geo.parquet', 'C:\\\\Users\\\\ANDRI\\\\Documents\\\\PythonProjects\\\\kaidata_geolake\\\\Data\\\\processed\\\\hais_2024-02-29.snappy_geo.parquet', 'C:\\\\Users\\\\ANDRI\\\\Documents\\\\PythonProjects\\\\kaidata_geolake\\\\Data\\\\processed\\\\hais_2024-03-01.snappy_geo.parquet', 'C:\\\\Users\\\\ANDRI\\\\Documents\\\\PythonProjects\\\\kaidata_geolake\\\\Data\\\\processed\\\\hais_2024-03-02.snappy_geo.parquet', 'C:\\\\Users\\\\ANDRI\\\\Documents\\\\PythonProjects\\\\kaidata_geolake\\\\Data\\\\processed\\\\hais_2024-03-03.snappy_geo.parquet', 'C:\\\\Users\\\\ANDRI\\\\Documents\\\\PythonProjects\\\\kaidata_geolake\\\\Data\\\\processed\\\\hais_2024-03-04.snappy_geo.parquet', 'C:\\\\Users\\\\ANDRI\\\\Documents\\\\PythonProjects\\\\kaidata_geolake\\\\Data\\\\processed\\\\hais_2024-03-05.snappy_geo.parquet', 'C:\\\\Users\\\\ANDRI\\\\Documents\\\\PythonProjects\\\\kaidata_geolake\\\\Data\\\\processed\\\\hais_2024-03-06.snappy_geo.parquet', 'C:\\\\Users\\\\ANDRI\\\\Documents\\\\PythonProjects\\\\kaidata_geolake\\\\Data\\\\processed\\\\hais_2024-03-07.snappy_geo.parquet', 'C:\\\\Users\\\\ANDRI\\\\Documents\\\\PythonProjects\\\\kaidata_geolake\\\\Data\\\\processed\\\\hais_2024-03-08.snappy_geo.parquet', 'C:\\\\Users\\\\ANDRI\\\\Documents\\\\PythonProjects\\\\kaidata_geolake\\\\Data\\\\processed\\\\hais_2024-03-09.snappy_geo.parquet', 'C:\\\\Users\\\\ANDRI\\\\Documents\\\\PythonProjects\\\\kaidata_geolake\\\\Data\\\\processed\\\\hais_2024-03-10.snappy_geo.parquet', 'C:\\\\Users\\\\ANDRI\\\\Documents\\\\PythonProjects\\\\kaidata_geolake\\\\Data\\\\processed\\\\hais_2024-03-11.snappy_geo.parquet', 'C:\\\\Users\\\\ANDRI\\\\Documents\\\\PythonProjects\\\\kaidata_geolake\\\\Data\\\\processed\\\\hais_2024-03-12.snappy_geo.parquet', 'C:\\\\Users\\\\ANDRI\\\\Documents\\\\PythonProjects\\\\kaidata_geolake\\\\Data\\\\processed\\\\hais_2024-03-13.snappy_geo.parquet', 'C:\\\\Users\\\\ANDRI\\\\Documents\\\\PythonProjects\\\\kaidata_geolake\\\\Data\\\\processed\\\\hais_2024-03-14.snappy_geo.parquet', 'C:\\\\Users\\\\ANDRI\\\\Documents\\\\PythonProjects\\\\kaidata_geolake\\\\Data\\\\processed\\\\hais_2024-03-15.snappy_geo.parquet', 'C:\\\\Users\\\\ANDRI\\\\Documents\\\\PythonProjects\\\\kaidata_geolake\\\\Data\\\\processed\\\\hais_2024-03-16.snappy_geo.parquet', 'C:\\\\Users\\\\ANDRI\\\\Documents\\\\PythonProjects\\\\kaidata_geolake\\\\Data\\\\processed\\\\hais_2024-03-17.snappy_geo.parquet', 'C:\\\\Users\\\\ANDRI\\\\Documents\\\\PythonProjects\\\\kaidata_geolake\\\\Data\\\\processed\\\\hais_2024-03-18.snappy_geo.parquet', 'C:\\\\Users\\\\ANDRI\\\\Documents\\\\PythonProjects\\\\kaidata_geolake\\\\Data\\\\processed\\\\hais_2024-03-19.snappy_geo.parquet', 'C:\\\\Users\\\\ANDRI\\\\Documents\\\\PythonProjects\\\\kaidata_geolake\\\\Data\\\\processed\\\\hais_2024-03-20.snappy_geo.parquet', 'C:\\\\Users\\\\ANDRI\\\\Documents\\\\PythonProjects\\\\kaidata_geolake\\\\Data\\\\processed\\\\hais_2024-03-21.snappy_geo.parquet', 'C:\\\\Users\\\\ANDRI\\\\Documents\\\\PythonProjects\\\\kaidata_geolake\\\\Data\\\\processed\\\\hais_2024-03-22.snappy_geo.parquet', 'C:\\\\Users\\\\ANDRI\\\\Documents\\\\PythonProjects\\\\kaidata_geolake\\\\Data\\\\processed\\\\hais_2024-03-23.snappy_geo.parquet', 'C:\\\\Users\\\\ANDRI\\\\Documents\\\\PythonProjects\\\\kaidata_geolake\\\\Data\\\\processed\\\\hais_2024-03-24.snappy_geo.parquet', 'C:\\\\Users\\\\ANDRI\\\\Documents\\\\PythonProjects\\\\kaidata_geolake\\\\Data\\\\processed\\\\hais_2024-03-25.snappy_geo.parquet', 'C:\\\\Users\\\\ANDRI\\\\Documents\\\\PythonProjects\\\\kaidata_geolake\\\\Data\\\\processed\\\\hais_2024-03-26.snappy_geo.parquet', 'C:\\\\Users\\\\ANDRI\\\\Documents\\\\PythonProjects\\\\kaidata_geolake\\\\Data\\\\processed\\\\hais_2024-03-27.snappy_geo.parquet', 'C:\\\\Users\\\\ANDRI\\\\Documents\\\\PythonProjects\\\\kaidata_geolake\\\\Data\\\\processed\\\\hais_2024-03-28.snappy_geo.parquet', 'C:\\\\Users\\\\ANDRI\\\\Documents\\\\PythonProjects\\\\kaidata_geolake\\\\Data\\\\processed\\\\hais_2024-03-29.snappy_geo.parquet', 'C:\\\\Users\\\\ANDRI\\\\Documents\\\\PythonProjects\\\\kaidata_geolake\\\\Data\\\\processed\\\\hais_2024-03-30.snappy_geo.parquet', 'C:\\\\Users\\\\ANDRI\\\\Documents\\\\PythonProjects\\\\kaidata_geolake\\\\Data\\\\processed\\\\hais_2024-03-31.snappy_geo.parquet', 'C:\\\\Users\\\\ANDRI\\\\Documents\\\\PythonProjects\\\\kaidata_geolake\\\\Data\\\\processed\\\\hais_2024-04-01.snappy_geo.parquet', 'C:\\\\Users\\\\ANDRI\\\\Documents\\\\PythonProjects\\\\kaidata_geolake\\\\Data\\\\processed\\\\hais_2024-04-02.snappy_geo.parquet', 'C:\\\\Users\\\\ANDRI\\\\Documents\\\\PythonProjects\\\\kaidata_geolake\\\\Data\\\\processed\\\\hais_2024-04-03.snappy_geo.parquet', 'C:\\\\Users\\\\ANDRI\\\\Documents\\\\PythonProjects\\\\kaidata_geolake\\\\Data\\\\processed\\\\hais_2024-04-04.snappy_geo.parquet', 'C:\\\\Users\\\\ANDRI\\\\Documents\\\\PythonProjects\\\\kaidata_geolake\\\\Data\\\\processed\\\\hais_2024-04-05.snappy_geo.parquet', 'C:\\\\Users\\\\ANDRI\\\\Documents\\\\PythonProjects\\\\kaidata_geolake\\\\Data\\\\processed\\\\hais_2024-04-06.snappy_geo.parquet', 'C:\\\\Users\\\\ANDRI\\\\Documents\\\\PythonProjects\\\\kaidata_geolake\\\\Data\\\\processed\\\\hais_2024-04-07.snappy_geo.parquet', 'C:\\\\Users\\\\ANDRI\\\\Documents\\\\PythonProjects\\\\kaidata_geolake\\\\Data\\\\processed\\\\hais_2024-04-08.snappy_geo.parquet', 'C:\\\\Users\\\\ANDRI\\\\Documents\\\\PythonProjects\\\\kaidata_geolake\\\\Data\\\\processed\\\\hais_2024-04-09.snappy_geo.parquet', 'C:\\\\Users\\\\ANDRI\\\\Documents\\\\PythonProjects\\\\kaidata_geolake\\\\Data\\\\processed\\\\hais_2024-04-10.snappy_geo.parquet', 'C:\\\\Users\\\\ANDRI\\\\Documents\\\\PythonProjects\\\\kaidata_geolake\\\\Data\\\\processed\\\\hais_2024-04-11.snappy_geo.parquet', 'C:\\\\Users\\\\ANDRI\\\\Documents\\\\PythonProjects\\\\kaidata_geolake\\\\Data\\\\processed\\\\hais_2024-04-12.snappy_geo.parquet', 'C:\\\\Users\\\\ANDRI\\\\Documents\\\\PythonProjects\\\\kaidata_geolake\\\\Data\\\\processed\\\\hais_2024-04-13.snappy_geo.parquet', 'C:\\\\Users\\\\ANDRI\\\\Documents\\\\PythonProjects\\\\kaidata_geolake\\\\Data\\\\processed\\\\hais_2024-04-14.snappy_geo.parquet', 'C:\\\\Users\\\\ANDRI\\\\Documents\\\\PythonProjects\\\\kaidata_geolake\\\\Data\\\\processed\\\\hais_2024-04-15.snappy_geo.parquet', 'C:\\\\Users\\\\ANDRI\\\\Documents\\\\PythonProjects\\\\kaidata_geolake\\\\Data\\\\processed\\\\hais_2024-04-16.snappy_geo.parquet', 'C:\\\\Users\\\\ANDRI\\\\Documents\\\\PythonProjects\\\\kaidata_geolake\\\\Data\\\\processed\\\\hais_2024-04-17.snappy_geo.parquet', 'C:\\\\Users\\\\ANDRI\\\\Documents\\\\PythonProjects\\\\kaidata_geolake\\\\Data\\\\processed\\\\hais_2024-04-18.snappy_geo.parquet', 'C:\\\\Users\\\\ANDRI\\\\Documents\\\\PythonProjects\\\\kaidata_geolake\\\\Data\\\\processed\\\\hais_2024-04-19.snappy_geo.parquet', 'C:\\\\Users\\\\ANDRI\\\\Documents\\\\PythonProjects\\\\kaidata_geolake\\\\Data\\\\processed\\\\hais_2024-04-20.snappy_geo.parquet', 'C:\\\\Users\\\\ANDRI\\\\Documents\\\\PythonProjects\\\\kaidata_geolake\\\\Data\\\\processed\\\\hais_2024-04-21.snappy_geo.parquet', 'C:\\\\Users\\\\ANDRI\\\\Documents\\\\PythonProjects\\\\kaidata_geolake\\\\Data\\\\processed\\\\hais_2024-04-22.snappy_geo.parquet', 'C:\\\\Users\\\\ANDRI\\\\Documents\\\\PythonProjects\\\\kaidata_geolake\\\\Data\\\\processed\\\\hais_2024-04-23.snappy_geo.parquet', 'C:\\\\Users\\\\ANDRI\\\\Documents\\\\PythonProjects\\\\kaidata_geolake\\\\Data\\\\processed\\\\hais_2024-04-24.snappy_geo.parquet', 'C:\\\\Users\\\\ANDRI\\\\Documents\\\\PythonProjects\\\\kaidata_geolake\\\\Data\\\\processed\\\\hais_2024-04-25.snappy_geo.parquet', 'C:\\\\Users\\\\ANDRI\\\\Documents\\\\PythonProjects\\\\kaidata_geolake\\\\Data\\\\processed\\\\hais_2024-04-26.snappy_geo.parquet', 'C:\\\\Users\\\\ANDRI\\\\Documents\\\\PythonProjects\\\\kaidata_geolake\\\\Data\\\\processed\\\\hais_2024-04-27.snappy_geo.parquet', 'C:\\\\Users\\\\ANDRI\\\\Documents\\\\PythonProjects\\\\kaidata_geolake\\\\Data\\\\processed\\\\hais_2024-04-28.snappy_geo.parquet', 'C:\\\\Users\\\\ANDRI\\\\Documents\\\\PythonProjects\\\\kaidata_geolake\\\\Data\\\\processed\\\\hais_2024-04-29.snappy_geo.parquet', 'C:\\\\Users\\\\ANDRI\\\\Documents\\\\PythonProjects\\\\kaidata_geolake\\\\Data\\\\processed\\\\hais_2024-04-30.snappy_geo.parquet', 'C:\\\\Users\\\\ANDRI\\\\Documents\\\\PythonProjects\\\\kaidata_geolake\\\\Data\\\\processed\\\\hais_2024-05-01.snappy_geo.parquet', 'C:\\\\Users\\\\ANDRI\\\\Documents\\\\PythonProjects\\\\kaidata_geolake\\\\Data\\\\processed\\\\hais_2024-05-02.snappy_geo.parquet', 'C:\\\\Users\\\\ANDRI\\\\Documents\\\\PythonProjects\\\\kaidata_geolake\\\\Data\\\\processed\\\\hais_2024-05-03.snappy_geo.parquet', 'C:\\\\Users\\\\ANDRI\\\\Documents\\\\PythonProjects\\\\kaidata_geolake\\\\Data\\\\processed\\\\hais_2024-05-04.snappy_geo.parquet', 'C:\\\\Users\\\\ANDRI\\\\Documents\\\\PythonProjects\\\\kaidata_geolake\\\\Data\\\\processed\\\\hais_2024-05-05.snappy_geo.parquet', 'C:\\\\Users\\\\ANDRI\\\\Documents\\\\PythonProjects\\\\kaidata_geolake\\\\Data\\\\processed\\\\hais_2024-05-06.snappy_geo.parquet', 'C:\\\\Users\\\\ANDRI\\\\Documents\\\\PythonProjects\\\\kaidata_geolake\\\\Data\\\\processed\\\\hais_2024-05-07.snappy_geo.parquet', 'C:\\\\Users\\\\ANDRI\\\\Documents\\\\PythonProjects\\\\kaidata_geolake\\\\Data\\\\processed\\\\hais_2024-05-08.snappy_geo.parquet', 'C:\\\\Users\\\\ANDRI\\\\Documents\\\\PythonProjects\\\\kaidata_geolake\\\\Data\\\\processed\\\\hais_2024-05-09.snappy_geo.parquet', 'C:\\\\Users\\\\ANDRI\\\\Documents\\\\PythonProjects\\\\kaidata_geolake\\\\Data\\\\processed\\\\hais_2024-05-10.snappy_geo.parquet', 'C:\\\\Users\\\\ANDRI\\\\Documents\\\\PythonProjects\\\\kaidata_geolake\\\\Data\\\\processed\\\\hais_2024-05-11.snappy_geo.parquet', 'C:\\\\Users\\\\ANDRI\\\\Documents\\\\PythonProjects\\\\kaidata_geolake\\\\Data\\\\processed\\\\hais_2024-05-12.snappy_geo.parquet', 'C:\\\\Users\\\\ANDRI\\\\Documents\\\\PythonProjects\\\\kaidata_geolake\\\\Data\\\\processed\\\\hais_2024-05-13.snappy_geo.parquet', 'C:\\\\Users\\\\ANDRI\\\\Documents\\\\PythonProjects\\\\kaidata_geolake\\\\Data\\\\processed\\\\hais_2024-05-14.snappy_geo.parquet', 'C:\\\\Users\\\\ANDRI\\\\Documents\\\\PythonProjects\\\\kaidata_geolake\\\\Data\\\\processed\\\\hais_2024-05-15.snappy_geo.parquet', 'C:\\\\Users\\\\ANDRI\\\\Documents\\\\PythonProjects\\\\kaidata_geolake\\\\Data\\\\processed\\\\hais_2024-05-16.snappy_geo.parquet', 'C:\\\\Users\\\\ANDRI\\\\Documents\\\\PythonProjects\\\\kaidata_geolake\\\\Data\\\\processed\\\\hais_2024-05-17.snappy_geo.parquet', 'C:\\\\Users\\\\ANDRI\\\\Documents\\\\PythonProjects\\\\kaidata_geolake\\\\Data\\\\processed\\\\hais_2024-05-18.snappy_geo.parquet', 'C:\\\\Users\\\\ANDRI\\\\Documents\\\\PythonProjects\\\\kaidata_geolake\\\\Data\\\\processed\\\\hais_2024-05-19.snappy_geo.parquet', 'C:\\\\Users\\\\ANDRI\\\\Documents\\\\PythonProjects\\\\kaidata_geolake\\\\Data\\\\processed\\\\hais_2024-05-20.snappy_geo.parquet', 'C:\\\\Users\\\\ANDRI\\\\Documents\\\\PythonProjects\\\\kaidata_geolake\\\\Data\\\\processed\\\\hais_2024-05-21.snappy_geo.parquet', 'C:\\\\Users\\\\ANDRI\\\\Documents\\\\PythonProjects\\\\kaidata_geolake\\\\Data\\\\processed\\\\hais_2024-05-22.snappy_geo.parquet', 'C:\\\\Users\\\\ANDRI\\\\Documents\\\\PythonProjects\\\\kaidata_geolake\\\\Data\\\\processed\\\\hais_2024-05-23.snappy_geo.parquet', 'C:\\\\Users\\\\ANDRI\\\\Documents\\\\PythonProjects\\\\kaidata_geolake\\\\Data\\\\processed\\\\hais_2024-05-24.snappy_geo.parquet', 'C:\\\\Users\\\\ANDRI\\\\Documents\\\\PythonProjects\\\\kaidata_geolake\\\\Data\\\\processed\\\\hais_2024-05-25.snappy_geo.parquet', 'C:\\\\Users\\\\ANDRI\\\\Documents\\\\PythonProjects\\\\kaidata_geolake\\\\Data\\\\processed\\\\hais_2024-05-26.snappy_geo.parquet', 'C:\\\\Users\\\\ANDRI\\\\Documents\\\\PythonProjects\\\\kaidata_geolake\\\\Data\\\\processed\\\\hais_2024-05-27.snappy_geo.parquet', 'C:\\\\Users\\\\ANDRI\\\\Documents\\\\PythonProjects\\\\kaidata_geolake\\\\Data\\\\processed\\\\hais_2024-05-28.snappy_geo.parquet', 'C:\\\\Users\\\\ANDRI\\\\Documents\\\\PythonProjects\\\\kaidata_geolake\\\\Data\\\\processed\\\\hais_2024-05-29.snappy_geo.parquet', 'C:\\\\Users\\\\ANDRI\\\\Documents\\\\PythonProjects\\\\kaidata_geolake\\\\Data\\\\processed\\\\hais_2024-05-30.snappy_geo.parquet', 'C:\\\\Users\\\\ANDRI\\\\Documents\\\\PythonProjects\\\\kaidata_geolake\\\\Data\\\\processed\\\\hais_2024-05-31.snappy_geo.parquet', 'C:\\\\Users\\\\ANDRI\\\\Documents\\\\PythonProjects\\\\kaidata_geolake\\\\Data\\\\processed\\\\hais_2024-06-01.snappy_geo.parquet', 'C:\\\\Users\\\\ANDRI\\\\Documents\\\\PythonProjects\\\\kaidata_geolake\\\\Data\\\\processed\\\\hais_2024-06-02.snappy_geo.parquet', 'C:\\\\Users\\\\ANDRI\\\\Documents\\\\PythonProjects\\\\kaidata_geolake\\\\Data\\\\processed\\\\hais_2024-06-03.snappy_geo.parquet', 'C:\\\\Users\\\\ANDRI\\\\Documents\\\\PythonProjects\\\\kaidata_geolake\\\\Data\\\\processed\\\\hais_2024-06-04.snappy_geo.parquet', 'C:\\\\Users\\\\ANDRI\\\\Documents\\\\PythonProjects\\\\kaidata_geolake\\\\Data\\\\processed\\\\hais_2024-06-05.snappy_geo.parquet', 'C:\\\\Users\\\\ANDRI\\\\Documents\\\\PythonProjects\\\\kaidata_geolake\\\\Data\\\\processed\\\\hais_2024-06-06.snappy_geo.parquet', 'C:\\\\Users\\\\ANDRI\\\\Documents\\\\PythonProjects\\\\kaidata_geolake\\\\Data\\\\processed\\\\hais_2024-06-07.snappy_geo.parquet', 'C:\\\\Users\\\\ANDRI\\\\Documents\\\\PythonProjects\\\\kaidata_geolake\\\\Data\\\\processed\\\\hais_2024-06-08.snappy_geo.parquet', 'C:\\\\Users\\\\ANDRI\\\\Documents\\\\PythonProjects\\\\kaidata_geolake\\\\Data\\\\processed\\\\hais_2024-06-09.snappy_geo.parquet', 'C:\\\\Users\\\\ANDRI\\\\Documents\\\\PythonProjects\\\\kaidata_geolake\\\\Data\\\\processed\\\\hais_2024-06-10.snappy_geo.parquet', 'C:\\\\Users\\\\ANDRI\\\\Documents\\\\PythonProjects\\\\kaidata_geolake\\\\Data\\\\processed\\\\hais_2024-06-11.snappy_geo.parquet', 'C:\\\\Users\\\\ANDRI\\\\Documents\\\\PythonProjects\\\\kaidata_geolake\\\\Data\\\\processed\\\\hais_2024-06-12.snappy_geo.parquet', 'C:\\\\Users\\\\ANDRI\\\\Documents\\\\PythonProjects\\\\kaidata_geolake\\\\Data\\\\processed\\\\hais_2024-06-13.snappy_geo.parquet', 'C:\\\\Users\\\\ANDRI\\\\Documents\\\\PythonProjects\\\\kaidata_geolake\\\\Data\\\\processed\\\\hais_2024-06-14.snappy_geo.parquet', 'C:\\\\Users\\\\ANDRI\\\\Documents\\\\PythonProjects\\\\kaidata_geolake\\\\Data\\\\processed\\\\hais_2024-06-15.snappy_geo.parquet', 'C:\\\\Users\\\\ANDRI\\\\Documents\\\\PythonProjects\\\\kaidata_geolake\\\\Data\\\\processed\\\\hais_2024-06-16.snappy_geo.parquet', 'C:\\\\Users\\\\ANDRI\\\\Documents\\\\PythonProjects\\\\kaidata_geolake\\\\Data\\\\processed\\\\hais_2024-06-17.snappy_geo.parquet', 'C:\\\\Users\\\\ANDRI\\\\Documents\\\\PythonProjects\\\\kaidata_geolake\\\\Data\\\\processed\\\\hais_2024-06-18.snappy_geo.parquet', 'C:\\\\Users\\\\ANDRI\\\\Documents\\\\PythonProjects\\\\kaidata_geolake\\\\Data\\\\processed\\\\hais_2024-06-19.snappy_geo.parquet', 'C:\\\\Users\\\\ANDRI\\\\Documents\\\\PythonProjects\\\\kaidata_geolake\\\\Data\\\\processed\\\\hais_2024-06-20.snappy_geo.parquet', 'C:\\\\Users\\\\ANDRI\\\\Documents\\\\PythonProjects\\\\kaidata_geolake\\\\Data\\\\processed\\\\hais_2024-06-21.snappy_geo.parquet', 'C:\\\\Users\\\\ANDRI\\\\Documents\\\\PythonProjects\\\\kaidata_geolake\\\\Data\\\\processed\\\\hais_2024-06-22.snappy_geo.parquet', 'C:\\\\Users\\\\ANDRI\\\\Documents\\\\PythonProjects\\\\kaidata_geolake\\\\Data\\\\processed\\\\hais_2024-06-23.snappy_geo.parquet', 'C:\\\\Users\\\\ANDRI\\\\Documents\\\\PythonProjects\\\\kaidata_geolake\\\\Data\\\\processed\\\\hais_2024-06-24.snappy_geo.parquet', 'C:\\\\Users\\\\ANDRI\\\\Documents\\\\PythonProjects\\\\kaidata_geolake\\\\Data\\\\processed\\\\hais_2024-06-25.snappy_geo.parquet', 'C:\\\\Users\\\\ANDRI\\\\Documents\\\\PythonProjects\\\\kaidata_geolake\\\\Data\\\\processed\\\\hais_2024-06-26.snappy_geo.parquet', 'C:\\\\Users\\\\ANDRI\\\\Documents\\\\PythonProjects\\\\kaidata_geolake\\\\Data\\\\processed\\\\hais_2024-06-27.snappy_geo.parquet', 'C:\\\\Users\\\\ANDRI\\\\Documents\\\\PythonProjects\\\\kaidata_geolake\\\\Data\\\\processed\\\\hais_2024-06-28.snappy_geo.parquet', 'C:\\\\Users\\\\ANDRI\\\\Documents\\\\PythonProjects\\\\kaidata_geolake\\\\Data\\\\processed\\\\hais_2024-06-29.snappy_geo.parquet', 'C:\\\\Users\\\\ANDRI\\\\Documents\\\\PythonProjects\\\\kaidata_geolake\\\\Data\\\\processed\\\\hais_2024-06-30.snappy_geo.parquet', 'C:\\\\Users\\\\ANDRI\\\\Documents\\\\PythonProjects\\\\kaidata_geolake\\\\Data\\\\processed\\\\hais_2024-07-01.snappy_geo.parquet', 'C:\\\\Users\\\\ANDRI\\\\Documents\\\\PythonProjects\\\\kaidata_geolake\\\\Data\\\\processed\\\\hais_2024-07-02.snappy_geo.parquet', 'C:\\\\Users\\\\ANDRI\\\\Documents\\\\PythonProjects\\\\kaidata_geolake\\\\Data\\\\processed\\\\hais_2024-07-03.snappy_geo.parquet', 'C:\\\\Users\\\\ANDRI\\\\Documents\\\\PythonProjects\\\\kaidata_geolake\\\\Data\\\\processed\\\\hais_2024-07-04.snappy_geo.parquet', 'C:\\\\Users\\\\ANDRI\\\\Documents\\\\PythonProjects\\\\kaidata_geolake\\\\Data\\\\processed\\\\hais_2024-07-05.snappy_geo.parquet', 'C:\\\\Users\\\\ANDRI\\\\Documents\\\\PythonProjects\\\\kaidata_geolake\\\\Data\\\\processed\\\\hais_2024-07-06.snappy_geo.parquet', 'C:\\\\Users\\\\ANDRI\\\\Documents\\\\PythonProjects\\\\kaidata_geolake\\\\Data\\\\processed\\\\hais_2024-07-07.snappy_geo.parquet', 'C:\\\\Users\\\\ANDRI\\\\Documents\\\\PythonProjects\\\\kaidata_geolake\\\\Data\\\\processed\\\\hais_2024-07-08.snappy_geo.parquet', 'C:\\\\Users\\\\ANDRI\\\\Documents\\\\PythonProjects\\\\kaidata_geolake\\\\Data\\\\processed\\\\hais_2024-07-09.snappy_geo.parquet', 'C:\\\\Users\\\\ANDRI\\\\Documents\\\\PythonProjects\\\\kaidata_geolake\\\\Data\\\\processed\\\\hais_2024-07-10.snappy_geo.parquet', 'C:\\\\Users\\\\ANDRI\\\\Documents\\\\PythonProjects\\\\kaidata_geolake\\\\Data\\\\processed\\\\hais_2024-07-11.snappy_geo.parquet', 'C:\\\\Users\\\\ANDRI\\\\Documents\\\\PythonProjects\\\\kaidata_geolake\\\\Data\\\\processed\\\\hais_2024-07-12.snappy_geo.parquet', 'C:\\\\Users\\\\ANDRI\\\\Documents\\\\PythonProjects\\\\kaidata_geolake\\\\Data\\\\processed\\\\hais_2024-07-13.snappy_geo.parquet', 'C:\\\\Users\\\\ANDRI\\\\Documents\\\\PythonProjects\\\\kaidata_geolake\\\\Data\\\\processed\\\\hais_2024-07-14.snappy_geo.parquet', 'C:\\\\Users\\\\ANDRI\\\\Documents\\\\PythonProjects\\\\kaidata_geolake\\\\Data\\\\processed\\\\hais_2024-07-15.snappy_geo.parquet', 'C:\\\\Users\\\\ANDRI\\\\Documents\\\\PythonProjects\\\\kaidata_geolake\\\\Data\\\\processed\\\\hais_2024-07-16.snappy_geo.parquet', 'C:\\\\Users\\\\ANDRI\\\\Documents\\\\PythonProjects\\\\kaidata_geolake\\\\Data\\\\processed\\\\hais_2024-07-17.snappy_geo.parquet', 'C:\\\\Users\\\\ANDRI\\\\Documents\\\\PythonProjects\\\\kaidata_geolake\\\\Data\\\\processed\\\\hais_2024-07-18.snappy_geo.parquet', 'C:\\\\Users\\\\ANDRI\\\\Documents\\\\PythonProjects\\\\kaidata_geolake\\\\Data\\\\processed\\\\hais_2024-07-19.snappy_geo.parquet', 'C:\\\\Users\\\\ANDRI\\\\Documents\\\\PythonProjects\\\\kaidata_geolake\\\\Data\\\\processed\\\\hais_2024-07-20.snappy_geo.parquet', 'C:\\\\Users\\\\ANDRI\\\\Documents\\\\PythonProjects\\\\kaidata_geolake\\\\Data\\\\processed\\\\hais_2024-07-21.snappy_geo.parquet', 'C:\\\\Users\\\\ANDRI\\\\Documents\\\\PythonProjects\\\\kaidata_geolake\\\\Data\\\\processed\\\\hais_2024-07-22.snappy_geo.parquet', 'C:\\\\Users\\\\ANDRI\\\\Documents\\\\PythonProjects\\\\kaidata_geolake\\\\Data\\\\processed\\\\hais_2024-07-23.snappy_geo.parquet', 'C:\\\\Users\\\\ANDRI\\\\Documents\\\\PythonProjects\\\\kaidata_geolake\\\\Data\\\\processed\\\\hais_2024-07-24.snappy_geo.parquet', 'C:\\\\Users\\\\ANDRI\\\\Documents\\\\PythonProjects\\\\kaidata_geolake\\\\Data\\\\processed\\\\hais_2024-07-25.snappy_geo.parquet', 'C:\\\\Users\\\\ANDRI\\\\Documents\\\\PythonProjects\\\\kaidata_geolake\\\\Data\\\\processed\\\\hais_2024-07-26.snappy_geo.parquet', 'C:\\\\Users\\\\ANDRI\\\\Documents\\\\PythonProjects\\\\kaidata_geolake\\\\Data\\\\processed\\\\hais_2024-07-27.snappy_geo.parquet', 'C:\\\\Users\\\\ANDRI\\\\Documents\\\\PythonProjects\\\\kaidata_geolake\\\\Data\\\\processed\\\\hais_2024-07-28.snappy_geo.parquet', 'C:\\\\Users\\\\ANDRI\\\\Documents\\\\PythonProjects\\\\kaidata_geolake\\\\Data\\\\processed\\\\hais_2024-07-29.snappy_geo.parquet', 'C:\\\\Users\\\\ANDRI\\\\Documents\\\\PythonProjects\\\\kaidata_geolake\\\\Data\\\\processed\\\\hais_2024-07-30.snappy_geo.parquet', 'C:\\\\Users\\\\ANDRI\\\\Documents\\\\PythonProjects\\\\kaidata_geolake\\\\Data\\\\processed\\\\hais_2024-07-31.snappy_geo.parquet', 'C:\\\\Users\\\\ANDRI\\\\Documents\\\\PythonProjects\\\\kaidata_geolake\\\\Data\\\\processed\\\\hais_2024-08-01.snappy_geo.parquet', 'C:\\\\Users\\\\ANDRI\\\\Documents\\\\PythonProjects\\\\kaidata_geolake\\\\Data\\\\processed\\\\hais_2024-08-02.snappy_geo.parquet', 'C:\\\\Users\\\\ANDRI\\\\Documents\\\\PythonProjects\\\\kaidata_geolake\\\\Data\\\\processed\\\\hais_2024-08-03.snappy_geo.parquet', 'C:\\\\Users\\\\ANDRI\\\\Documents\\\\PythonProjects\\\\kaidata_geolake\\\\Data\\\\processed\\\\hais_2024-08-04.snappy_geo.parquet', 'C:\\\\Users\\\\ANDRI\\\\Documents\\\\PythonProjects\\\\kaidata_geolake\\\\Data\\\\processed\\\\hais_2024-08-05.snappy_geo.parquet', 'C:\\\\Users\\\\ANDRI\\\\Documents\\\\PythonProjects\\\\kaidata_geolake\\\\Data\\\\processed\\\\hais_2024-08-06.snappy_geo.parquet', 'C:\\\\Users\\\\ANDRI\\\\Documents\\\\PythonProjects\\\\kaidata_geolake\\\\Data\\\\processed\\\\hais_2024-08-07.snappy_geo.parquet', 'C:\\\\Users\\\\ANDRI\\\\Documents\\\\PythonProjects\\\\kaidata_geolake\\\\Data\\\\processed\\\\hais_2024-08-08.snappy_geo.parquet', 'C:\\\\Users\\\\ANDRI\\\\Documents\\\\PythonProjects\\\\kaidata_geolake\\\\Data\\\\processed\\\\hais_2024-08-09.snappy_geo.parquet', 'C:\\\\Users\\\\ANDRI\\\\Documents\\\\PythonProjects\\\\kaidata_geolake\\\\Data\\\\processed\\\\hais_2024-08-10.snappy_geo.parquet', 'C:\\\\Users\\\\ANDRI\\\\Documents\\\\PythonProjects\\\\kaidata_geolake\\\\Data\\\\processed\\\\hais_2024-08-11.snappy_geo.parquet', 'C:\\\\Users\\\\ANDRI\\\\Documents\\\\PythonProjects\\\\kaidata_geolake\\\\Data\\\\processed\\\\hais_2024-08-12.snappy_geo.parquet', 'C:\\\\Users\\\\ANDRI\\\\Documents\\\\PythonProjects\\\\kaidata_geolake\\\\Data\\\\processed\\\\hais_2024-08-13.snappy_geo.parquet', 'C:\\\\Users\\\\ANDRI\\\\Documents\\\\PythonProjects\\\\kaidata_geolake\\\\Data\\\\processed\\\\hais_2024-08-14.snappy_geo.parquet', 'C:\\\\Users\\\\ANDRI\\\\Documents\\\\PythonProjects\\\\kaidata_geolake\\\\Data\\\\processed\\\\hais_2024-08-15.snappy_geo.parquet', 'C:\\\\Users\\\\ANDRI\\\\Documents\\\\PythonProjects\\\\kaidata_geolake\\\\Data\\\\processed\\\\hais_2024-08-16.snappy_geo.parquet', 'C:\\\\Users\\\\ANDRI\\\\Documents\\\\PythonProjects\\\\kaidata_geolake\\\\Data\\\\processed\\\\hais_2024-08-17.snappy_geo.parquet', 'C:\\\\Users\\\\ANDRI\\\\Documents\\\\PythonProjects\\\\kaidata_geolake\\\\Data\\\\processed\\\\hais_2024-08-18.snappy_geo.parquet', 'C:\\\\Users\\\\ANDRI\\\\Documents\\\\PythonProjects\\\\kaidata_geolake\\\\Data\\\\processed\\\\hais_2024-08-19.snappy_geo.parquet', 'C:\\\\Users\\\\ANDRI\\\\Documents\\\\PythonProjects\\\\kaidata_geolake\\\\Data\\\\processed\\\\hais_2024-08-20.snappy_geo.parquet', 'C:\\\\Users\\\\ANDRI\\\\Documents\\\\PythonProjects\\\\kaidata_geolake\\\\Data\\\\processed\\\\hais_2024-08-21.snappy_geo.parquet', 'C:\\\\Users\\\\ANDRI\\\\Documents\\\\PythonProjects\\\\kaidata_geolake\\\\Data\\\\processed\\\\hais_2024-08-22.snappy_geo.parquet', 'C:\\\\Users\\\\ANDRI\\\\Documents\\\\PythonProjects\\\\kaidata_geolake\\\\Data\\\\processed\\\\hais_2024-08-23.snappy_geo.parquet', 'C:\\\\Users\\\\ANDRI\\\\Documents\\\\PythonProjects\\\\kaidata_geolake\\\\Data\\\\processed\\\\hais_2024-08-24.snappy_geo.parquet', 'C:\\\\Users\\\\ANDRI\\\\Documents\\\\PythonProjects\\\\kaidata_geolake\\\\Data\\\\processed\\\\hais_2024-08-25.snappy_geo.parquet', 'C:\\\\Users\\\\ANDRI\\\\Documents\\\\PythonProjects\\\\kaidata_geolake\\\\Data\\\\processed\\\\hais_2024-08-26.snappy_geo.parquet', 'C:\\\\Users\\\\ANDRI\\\\Documents\\\\PythonProjects\\\\kaidata_geolake\\\\Data\\\\processed\\\\hais_2024-08-27.snappy_geo.parquet', 'C:\\\\Users\\\\ANDRI\\\\Documents\\\\PythonProjects\\\\kaidata_geolake\\\\Data\\\\processed\\\\hais_2024-08-28.snappy_geo.parquet', 'C:\\\\Users\\\\ANDRI\\\\Documents\\\\PythonProjects\\\\kaidata_geolake\\\\Data\\\\processed\\\\hais_2024-08-29.snappy_geo.parquet', 'C:\\\\Users\\\\ANDRI\\\\Documents\\\\PythonProjects\\\\kaidata_geolake\\\\Data\\\\processed\\\\hais_2024-08-30.snappy_geo.parquet', 'C:\\\\Users\\\\ANDRI\\\\Documents\\\\PythonProjects\\\\kaidata_geolake\\\\Data\\\\processed\\\\hais_2024-08-31.snappy_geo.parquet', 'C:\\\\Users\\\\ANDRI\\\\Documents\\\\PythonProjects\\\\kaidata_geolake\\\\Data\\\\processed\\\\hais_2024-09-01.snappy_geo.parquet', 'C:\\\\Users\\\\ANDRI\\\\Documents\\\\PythonProjects\\\\kaidata_geolake\\\\Data\\\\processed\\\\hais_2024-09-02.snappy_geo.parquet', 'C:\\\\Users\\\\ANDRI\\\\Documents\\\\PythonProjects\\\\kaidata_geolake\\\\Data\\\\processed\\\\hais_2024-09-03.snappy_geo.parquet', 'C:\\\\Users\\\\ANDRI\\\\Documents\\\\PythonProjects\\\\kaidata_geolake\\\\Data\\\\processed\\\\hais_2024-09-04.snappy_geo.parquet', 'C:\\\\Users\\\\ANDRI\\\\Documents\\\\PythonProjects\\\\kaidata_geolake\\\\Data\\\\processed\\\\hais_2024-09-05.snappy_geo.parquet', 'C:\\\\Users\\\\ANDRI\\\\Documents\\\\PythonProjects\\\\kaidata_geolake\\\\Data\\\\processed\\\\hais_2024-09-06.snappy_geo.parquet', 'C:\\\\Users\\\\ANDRI\\\\Documents\\\\PythonProjects\\\\kaidata_geolake\\\\Data\\\\processed\\\\hais_2024-09-07.snappy_geo.parquet', 'C:\\\\Users\\\\ANDRI\\\\Documents\\\\PythonProjects\\\\kaidata_geolake\\\\Data\\\\processed\\\\hais_2024-09-08.snappy_geo.parquet', 'C:\\\\Users\\\\ANDRI\\\\Documents\\\\PythonProjects\\\\kaidata_geolake\\\\Data\\\\processed\\\\hais_2024-09-09.snappy_geo.parquet', 'C:\\\\Users\\\\ANDRI\\\\Documents\\\\PythonProjects\\\\kaidata_geolake\\\\Data\\\\processed\\\\hais_2024-09-10.snappy_geo.parquet', 'C:\\\\Users\\\\ANDRI\\\\Documents\\\\PythonProjects\\\\kaidata_geolake\\\\Data\\\\processed\\\\hais_2024-09-11.snappy_geo.parquet', 'C:\\\\Users\\\\ANDRI\\\\Documents\\\\PythonProjects\\\\kaidata_geolake\\\\Data\\\\processed\\\\hais_2024-09-12.snappy_geo.parquet', 'C:\\\\Users\\\\ANDRI\\\\Documents\\\\PythonProjects\\\\kaidata_geolake\\\\Data\\\\processed\\\\hais_2024-09-13.snappy_geo.parquet', 'C:\\\\Users\\\\ANDRI\\\\Documents\\\\PythonProjects\\\\kaidata_geolake\\\\Data\\\\processed\\\\hais_2024-09-14.snappy_geo.parquet', 'C:\\\\Users\\\\ANDRI\\\\Documents\\\\PythonProjects\\\\kaidata_geolake\\\\Data\\\\processed\\\\hais_2024-09-15.snappy_geo.parquet', 'C:\\\\Users\\\\ANDRI\\\\Documents\\\\PythonProjects\\\\kaidata_geolake\\\\Data\\\\processed\\\\hais_2024-09-16.snappy_geo.parquet', 'C:\\\\Users\\\\ANDRI\\\\Documents\\\\PythonProjects\\\\kaidata_geolake\\\\Data\\\\processed\\\\hais_2024-09-17.snappy_geo.parquet', 'C:\\\\Users\\\\ANDRI\\\\Documents\\\\PythonProjects\\\\kaidata_geolake\\\\Data\\\\processed\\\\hais_2024-09-18.snappy_geo.parquet', 'C:\\\\Users\\\\ANDRI\\\\Documents\\\\PythonProjects\\\\kaidata_geolake\\\\Data\\\\processed\\\\hais_2024-09-19.snappy_geo.parquet', 'C:\\\\Users\\\\ANDRI\\\\Documents\\\\PythonProjects\\\\kaidata_geolake\\\\Data\\\\processed\\\\hais_2024-09-20.snappy_geo.parquet', 'C:\\\\Users\\\\ANDRI\\\\Documents\\\\PythonProjects\\\\kaidata_geolake\\\\Data\\\\processed\\\\hais_2024-09-21.snappy_geo.parquet', 'C:\\\\Users\\\\ANDRI\\\\Documents\\\\PythonProjects\\\\kaidata_geolake\\\\Data\\\\processed\\\\hais_2024-09-22.snappy_geo.parquet', 'C:\\\\Users\\\\ANDRI\\\\Documents\\\\PythonProjects\\\\kaidata_geolake\\\\Data\\\\processed\\\\hais_2024-09-23.snappy_geo.parquet', 'C:\\\\Users\\\\ANDRI\\\\Documents\\\\PythonProjects\\\\kaidata_geolake\\\\Data\\\\processed\\\\hais_2024-09-24.snappy_geo.parquet', 'C:\\\\Users\\\\ANDRI\\\\Documents\\\\PythonProjects\\\\kaidata_geolake\\\\Data\\\\processed\\\\hais_2024-09-25.snappy_geo.parquet', 'C:\\\\Users\\\\ANDRI\\\\Documents\\\\PythonProjects\\\\kaidata_geolake\\\\Data\\\\processed\\\\hais_2024-09-26.snappy_geo.parquet', 'C:\\\\Users\\\\ANDRI\\\\Documents\\\\PythonProjects\\\\kaidata_geolake\\\\Data\\\\processed\\\\hais_2024-09-27.snappy_geo.parquet', 'C:\\\\Users\\\\ANDRI\\\\Documents\\\\PythonProjects\\\\kaidata_geolake\\\\Data\\\\processed\\\\hais_2024-09-28.snappy_geo.parquet', 'C:\\\\Users\\\\ANDRI\\\\Documents\\\\PythonProjects\\\\kaidata_geolake\\\\Data\\\\processed\\\\hais_2024-09-29.snappy_geo.parquet', 'C:\\\\Users\\\\ANDRI\\\\Documents\\\\PythonProjects\\\\kaidata_geolake\\\\Data\\\\processed\\\\hais_2024-09-30.snappy_geo.parquet', 'C:\\\\Users\\\\ANDRI\\\\Documents\\\\PythonProjects\\\\kaidata_geolake\\\\Data\\\\processed\\\\hais_2024-10-01.snappy_geo.parquet', 'C:\\\\Users\\\\ANDRI\\\\Documents\\\\PythonProjects\\\\kaidata_geolake\\\\Data\\\\processed\\\\hais_2024-10-02.snappy_geo.parquet', 'C:\\\\Users\\\\ANDRI\\\\Documents\\\\PythonProjects\\\\kaidata_geolake\\\\Data\\\\processed\\\\hais_2024-10-03.snappy_geo.parquet', 'C:\\\\Users\\\\ANDRI\\\\Documents\\\\PythonProjects\\\\kaidata_geolake\\\\Data\\\\processed\\\\hais_2024-10-04.snappy_geo.parquet', 'C:\\\\Users\\\\ANDRI\\\\Documents\\\\PythonProjects\\\\kaidata_geolake\\\\Data\\\\processed\\\\hais_2024-10-05.snappy_geo.parquet', 'C:\\\\Users\\\\ANDRI\\\\Documents\\\\PythonProjects\\\\kaidata_geolake\\\\Data\\\\processed\\\\hais_2024-10-06.snappy_geo.parquet', 'C:\\\\Users\\\\ANDRI\\\\Documents\\\\PythonProjects\\\\kaidata_geolake\\\\Data\\\\processed\\\\hais_2024-10-07.snappy_geo.parquet', 'C:\\\\Users\\\\ANDRI\\\\Documents\\\\PythonProjects\\\\kaidata_geolake\\\\Data\\\\processed\\\\hais_2024-10-08.snappy_geo.parquet', 'C:\\\\Users\\\\ANDRI\\\\Documents\\\\PythonProjects\\\\kaidata_geolake\\\\Data\\\\processed\\\\hais_2024-10-09.snappy_geo.parquet', 'C:\\\\Users\\\\ANDRI\\\\Documents\\\\PythonProjects\\\\kaidata_geolake\\\\Data\\\\processed\\\\hais_2024-10-10.snappy_geo.parquet', 'C:\\\\Users\\\\ANDRI\\\\Documents\\\\PythonProjects\\\\kaidata_geolake\\\\Data\\\\processed\\\\hais_2024-10-11.snappy_geo.parquet', 'C:\\\\Users\\\\ANDRI\\\\Documents\\\\PythonProjects\\\\kaidata_geolake\\\\Data\\\\processed\\\\hais_2024-10-12.snappy_geo.parquet', 'C:\\\\Users\\\\ANDRI\\\\Documents\\\\PythonProjects\\\\kaidata_geolake\\\\Data\\\\processed\\\\hais_2024-10-13.snappy_geo.parquet', 'C:\\\\Users\\\\ANDRI\\\\Documents\\\\PythonProjects\\\\kaidata_geolake\\\\Data\\\\processed\\\\hais_2024-10-14.snappy_geo.parquet', 'C:\\\\Users\\\\ANDRI\\\\Documents\\\\PythonProjects\\\\kaidata_geolake\\\\Data\\\\processed\\\\hais_2024-10-15.snappy_geo.parquet', 'C:\\\\Users\\\\ANDRI\\\\Documents\\\\PythonProjects\\\\kaidata_geolake\\\\Data\\\\processed\\\\hais_2024-10-16.snappy_geo.parquet', 'C:\\\\Users\\\\ANDRI\\\\Documents\\\\PythonProjects\\\\kaidata_geolake\\\\Data\\\\processed\\\\hais_2024-10-17.snappy_geo.parquet', 'C:\\\\Users\\\\ANDRI\\\\Documents\\\\PythonProjects\\\\kaidata_geolake\\\\Data\\\\processed\\\\hais_2024-10-18.snappy_geo.parquet', 'C:\\\\Users\\\\ANDRI\\\\Documents\\\\PythonProjects\\\\kaidata_geolake\\\\Data\\\\processed\\\\hais_2024-10-19.snappy_geo.parquet', 'C:\\\\Users\\\\ANDRI\\\\Documents\\\\PythonProjects\\\\kaidata_geolake\\\\Data\\\\processed\\\\hais_2024-10-20.snappy_geo.parquet', 'C:\\\\Users\\\\ANDRI\\\\Documents\\\\PythonProjects\\\\kaidata_geolake\\\\Data\\\\processed\\\\hais_2024-10-21.snappy_geo.parquet', 'C:\\\\Users\\\\ANDRI\\\\Documents\\\\PythonProjects\\\\kaidata_geolake\\\\Data\\\\processed\\\\hais_2024-10-22.snappy_geo.parquet', 'C:\\\\Users\\\\ANDRI\\\\Documents\\\\PythonProjects\\\\kaidata_geolake\\\\Data\\\\processed\\\\hais_2024-10-23.snappy_geo.parquet', 'C:\\\\Users\\\\ANDRI\\\\Documents\\\\PythonProjects\\\\kaidata_geolake\\\\Data\\\\processed\\\\hais_2024-10-24.snappy_geo.parquet', 'C:\\\\Users\\\\ANDRI\\\\Documents\\\\PythonProjects\\\\kaidata_geolake\\\\Data\\\\processed\\\\hais_2024-10-25.snappy_geo.parquet', 'C:\\\\Users\\\\ANDRI\\\\Documents\\\\PythonProjects\\\\kaidata_geolake\\\\Data\\\\processed\\\\hais_2024-10-26.snappy_geo.parquet', 'C:\\\\Users\\\\ANDRI\\\\Documents\\\\PythonProjects\\\\kaidata_geolake\\\\Data\\\\processed\\\\hais_2024-10-27.snappy_geo.parquet', 'C:\\\\Users\\\\ANDRI\\\\Documents\\\\PythonProjects\\\\kaidata_geolake\\\\Data\\\\processed\\\\hais_2024-10-28.snappy_geo.parquet', 'C:\\\\Users\\\\ANDRI\\\\Documents\\\\PythonProjects\\\\kaidata_geolake\\\\Data\\\\processed\\\\hais_2024-10-29.snappy_geo.parquet', 'C:\\\\Users\\\\ANDRI\\\\Documents\\\\PythonProjects\\\\kaidata_geolake\\\\Data\\\\processed\\\\hais_2024-10-30.snappy_geo.parquet', 'C:\\\\Users\\\\ANDRI\\\\Documents\\\\PythonProjects\\\\kaidata_geolake\\\\Data\\\\processed\\\\hais_2024-10-31.snappy_geo.parquet', 'C:\\\\Users\\\\ANDRI\\\\Documents\\\\PythonProjects\\\\kaidata_geolake\\\\Data\\\\processed\\\\hais_2024-11-01.snappy_geo.parquet', 'C:\\\\Users\\\\ANDRI\\\\Documents\\\\PythonProjects\\\\kaidata_geolake\\\\Data\\\\processed\\\\hais_2024-11-02.snappy_geo.parquet', 'C:\\\\Users\\\\ANDRI\\\\Documents\\\\PythonProjects\\\\kaidata_geolake\\\\Data\\\\processed\\\\hais_2024-11-03.snappy_geo.parquet', 'C:\\\\Users\\\\ANDRI\\\\Documents\\\\PythonProjects\\\\kaidata_geolake\\\\Data\\\\processed\\\\hais_2024-11-04.snappy_geo.parquet', 'C:\\\\Users\\\\ANDRI\\\\Documents\\\\PythonProjects\\\\kaidata_geolake\\\\Data\\\\processed\\\\hais_2024-11-05.snappy_geo.parquet', 'C:\\\\Users\\\\ANDRI\\\\Documents\\\\PythonProjects\\\\kaidata_geolake\\\\Data\\\\processed\\\\hais_2024-11-06.snappy_geo.parquet', 'C:\\\\Users\\\\ANDRI\\\\Documents\\\\PythonProjects\\\\kaidata_geolake\\\\Data\\\\processed\\\\hais_2024-11-07.snappy_geo.parquet', 'C:\\\\Users\\\\ANDRI\\\\Documents\\\\PythonProjects\\\\kaidata_geolake\\\\Data\\\\processed\\\\hais_2024-11-08.snappy_geo.parquet', 'C:\\\\Users\\\\ANDRI\\\\Documents\\\\PythonProjects\\\\kaidata_geolake\\\\Data\\\\processed\\\\hais_2024-11-09.snappy_geo.parquet', 'C:\\\\Users\\\\ANDRI\\\\Documents\\\\PythonProjects\\\\kaidata_geolake\\\\Data\\\\processed\\\\hais_2024-11-10.snappy_geo.parquet', 'C:\\\\Users\\\\ANDRI\\\\Documents\\\\PythonProjects\\\\kaidata_geolake\\\\Data\\\\processed\\\\hais_2024-11-11.snappy_geo.parquet', 'C:\\\\Users\\\\ANDRI\\\\Documents\\\\PythonProjects\\\\kaidata_geolake\\\\Data\\\\processed\\\\hais_2024-11-12.snappy_geo.parquet', 'C:\\\\Users\\\\ANDRI\\\\Documents\\\\PythonProjects\\\\kaidata_geolake\\\\Data\\\\processed\\\\hais_2024-11-13.snappy_geo.parquet', 'C:\\\\Users\\\\ANDRI\\\\Documents\\\\PythonProjects\\\\kaidata_geolake\\\\Data\\\\processed\\\\hais_2024-11-14.snappy_geo.parquet', 'C:\\\\Users\\\\ANDRI\\\\Documents\\\\PythonProjects\\\\kaidata_geolake\\\\Data\\\\processed\\\\hais_2024-11-15.snappy_geo.parquet', 'C:\\\\Users\\\\ANDRI\\\\Documents\\\\PythonProjects\\\\kaidata_geolake\\\\Data\\\\processed\\\\hais_2024-11-16.snappy_geo.parquet', 'C:\\\\Users\\\\ANDRI\\\\Documents\\\\PythonProjects\\\\kaidata_geolake\\\\Data\\\\processed\\\\hais_2024-11-17.snappy_geo.parquet', 'C:\\\\Users\\\\ANDRI\\\\Documents\\\\PythonProjects\\\\kaidata_geolake\\\\Data\\\\processed\\\\hais_2024-11-18.snappy_geo.parquet', 'C:\\\\Users\\\\ANDRI\\\\Documents\\\\PythonProjects\\\\kaidata_geolake\\\\Data\\\\processed\\\\hais_2024-11-19.snappy_geo.parquet', 'C:\\\\Users\\\\ANDRI\\\\Documents\\\\PythonProjects\\\\kaidata_geolake\\\\Data\\\\processed\\\\hais_2024-11-20.snappy_geo.parquet', 'C:\\\\Users\\\\ANDRI\\\\Documents\\\\PythonProjects\\\\kaidata_geolake\\\\Data\\\\processed\\\\hais_2024-11-21.snappy_geo.parquet', 'C:\\\\Users\\\\ANDRI\\\\Documents\\\\PythonProjects\\\\kaidata_geolake\\\\Data\\\\processed\\\\hais_2024-11-22.snappy_geo.parquet', 'C:\\\\Users\\\\ANDRI\\\\Documents\\\\PythonProjects\\\\kaidata_geolake\\\\Data\\\\processed\\\\hais_2024-11-23.snappy_geo.parquet', 'C:\\\\Users\\\\ANDRI\\\\Documents\\\\PythonProjects\\\\kaidata_geolake\\\\Data\\\\processed\\\\hais_2024-11-24.snappy_geo.parquet', 'C:\\\\Users\\\\ANDRI\\\\Documents\\\\PythonProjects\\\\kaidata_geolake\\\\Data\\\\processed\\\\hais_2024-11-25.snappy_geo.parquet', 'C:\\\\Users\\\\ANDRI\\\\Documents\\\\PythonProjects\\\\kaidata_geolake\\\\Data\\\\processed\\\\hais_2024-11-26.snappy_geo.parquet', 'C:\\\\Users\\\\ANDRI\\\\Documents\\\\PythonProjects\\\\kaidata_geolake\\\\Data\\\\processed\\\\hais_2024-11-27.snappy_geo.parquet', 'C:\\\\Users\\\\ANDRI\\\\Documents\\\\PythonProjects\\\\kaidata_geolake\\\\Data\\\\processed\\\\hais_2024-11-28.snappy_geo.parquet', 'C:\\\\Users\\\\ANDRI\\\\Documents\\\\PythonProjects\\\\kaidata_geolake\\\\Data\\\\processed\\\\hais_2024-11-29.snappy_geo.parquet', 'C:\\\\Users\\\\ANDRI\\\\Documents\\\\PythonProjects\\\\kaidata_geolake\\\\Data\\\\processed\\\\hais_2024-11-30.snappy_geo.parquet', 'C:\\\\Users\\\\ANDRI\\\\Documents\\\\PythonProjects\\\\kaidata_geolake\\\\Data\\\\processed\\\\hais_2024-12-01.snappy_geo.parquet', 'C:\\\\Users\\\\ANDRI\\\\Documents\\\\PythonProjects\\\\kaidata_geolake\\\\Data\\\\processed\\\\hais_2024-12-02.snappy_geo.parquet', 'C:\\\\Users\\\\ANDRI\\\\Documents\\\\PythonProjects\\\\kaidata_geolake\\\\Data\\\\processed\\\\hais_2024-12-03.snappy_geo.parquet', 'C:\\\\Users\\\\ANDRI\\\\Documents\\\\PythonProjects\\\\kaidata_geolake\\\\Data\\\\processed\\\\hais_2024-12-04.snappy_geo.parquet', 'C:\\\\Users\\\\ANDRI\\\\Documents\\\\PythonProjects\\\\kaidata_geolake\\\\Data\\\\processed\\\\hais_2024-12-05.snappy_geo.parquet', 'C:\\\\Users\\\\ANDRI\\\\Documents\\\\PythonProjects\\\\kaidata_geolake\\\\Data\\\\processed\\\\hais_2024-12-06.snappy_geo.parquet', 'C:\\\\Users\\\\ANDRI\\\\Documents\\\\PythonProjects\\\\kaidata_geolake\\\\Data\\\\processed\\\\hais_2024-12-07.snappy_geo.parquet', 'C:\\\\Users\\\\ANDRI\\\\Documents\\\\PythonProjects\\\\kaidata_geolake\\\\Data\\\\processed\\\\hais_2024-12-08.snappy_geo.parquet', 'C:\\\\Users\\\\ANDRI\\\\Documents\\\\PythonProjects\\\\kaidata_geolake\\\\Data\\\\processed\\\\hais_2024-12-09.snappy_geo.parquet', 'C:\\\\Users\\\\ANDRI\\\\Documents\\\\PythonProjects\\\\kaidata_geolake\\\\Data\\\\processed\\\\hais_2024-12-10.snappy_geo.parquet', 'C:\\\\Users\\\\ANDRI\\\\Documents\\\\PythonProjects\\\\kaidata_geolake\\\\Data\\\\processed\\\\hais_2024-12-11.snappy_geo.parquet', 'C:\\\\Users\\\\ANDRI\\\\Documents\\\\PythonProjects\\\\kaidata_geolake\\\\Data\\\\processed\\\\hais_2024-12-12.snappy_geo.parquet', 'C:\\\\Users\\\\ANDRI\\\\Documents\\\\PythonProjects\\\\kaidata_geolake\\\\Data\\\\processed\\\\hais_2024-12-13.snappy_geo.parquet', 'C:\\\\Users\\\\ANDRI\\\\Documents\\\\PythonProjects\\\\kaidata_geolake\\\\Data\\\\processed\\\\hais_2024-12-14.snappy_geo.parquet', 'C:\\\\Users\\\\ANDRI\\\\Documents\\\\PythonProjects\\\\kaidata_geolake\\\\Data\\\\processed\\\\hais_2024-12-15.snappy_geo.parquet', 'C:\\\\Users\\\\ANDRI\\\\Documents\\\\PythonProjects\\\\kaidata_geolake\\\\Data\\\\processed\\\\hais_2024-12-16.snappy_geo.parquet', 'C:\\\\Users\\\\ANDRI\\\\Documents\\\\PythonProjects\\\\kaidata_geolake\\\\Data\\\\processed\\\\hais_2024-12-17.snappy_geo.parquet', 'C:\\\\Users\\\\ANDRI\\\\Documents\\\\PythonProjects\\\\kaidata_geolake\\\\Data\\\\processed\\\\hais_2024-12-18.snappy_geo.parquet', 'C:\\\\Users\\\\ANDRI\\\\Documents\\\\PythonProjects\\\\kaidata_geolake\\\\Data\\\\processed\\\\hais_2024-12-19.snappy_geo.parquet', 'C:\\\\Users\\\\ANDRI\\\\Documents\\\\PythonProjects\\\\kaidata_geolake\\\\Data\\\\processed\\\\hais_2024-12-20.snappy_geo.parquet', 'C:\\\\Users\\\\ANDRI\\\\Documents\\\\PythonProjects\\\\kaidata_geolake\\\\Data\\\\processed\\\\hais_2024-12-21.snappy_geo.parquet', 'C:\\\\Users\\\\ANDRI\\\\Documents\\\\PythonProjects\\\\kaidata_geolake\\\\Data\\\\processed\\\\hais_2024-12-22.snappy_geo.parquet', 'C:\\\\Users\\\\ANDRI\\\\Documents\\\\PythonProjects\\\\kaidata_geolake\\\\Data\\\\processed\\\\hais_2024-12-23.snappy_geo.parquet', 'C:\\\\Users\\\\ANDRI\\\\Documents\\\\PythonProjects\\\\kaidata_geolake\\\\Data\\\\processed\\\\hais_2024-12-24.snappy_geo.parquet', 'C:\\\\Users\\\\ANDRI\\\\Documents\\\\PythonProjects\\\\kaidata_geolake\\\\Data\\\\processed\\\\hais_2024-12-25.snappy_geo.parquet', 'C:\\\\Users\\\\ANDRI\\\\Documents\\\\PythonProjects\\\\kaidata_geolake\\\\Data\\\\processed\\\\hais_2024-12-26.snappy_geo.parquet', 'C:\\\\Users\\\\ANDRI\\\\Documents\\\\PythonProjects\\\\kaidata_geolake\\\\Data\\\\processed\\\\hais_2024-12-27.snappy_geo.parquet', 'C:\\\\Users\\\\ANDRI\\\\Documents\\\\PythonProjects\\\\kaidata_geolake\\\\Data\\\\processed\\\\hais_2024-12-28.snappy_geo.parquet', 'C:\\\\Users\\\\ANDRI\\\\Documents\\\\PythonProjects\\\\kaidata_geolake\\\\Data\\\\processed\\\\hais_2024-12-29.snappy_geo.parquet', 'C:\\\\Users\\\\ANDRI\\\\Documents\\\\PythonProjects\\\\kaidata_geolake\\\\Data\\\\processed\\\\hais_2024-12-30.snappy_geo.parquet', 'C:\\\\Users\\\\ANDRI\\\\Documents\\\\PythonProjects\\\\kaidata_geolake\\\\Data\\\\processed\\\\hais_2024-12-31.snappy_geo.parquet']\n",
      "\n",
      "\n",
      "OPPSUMMERING\n",
      "Katalog: C:\\Users\\ANDRI\\Documents\\PythonProjects\\kaidata_geolake\\Data\n",
      "Mappestruktur: Raw=C:\\Users\\ANDRI\\Documents\\PythonProjects\\kaidata_geolake\\Data\\raw, Processed=C:\\Users\\ANDRI\\Documents\\PythonProjects\\kaidata_geolake\\Data\\processed\n",
      "Totalt antall geografiske filer funnet: 366\n",
      "Antall parquet-filer som allerede var GeoParquet: 366\n",
      "Antall filer konvertert til GeoParquet: 366\n",
      "Antall filer som ikke kunne konverteres: 0\n",
      "\n",
      "Konverterte filer:\n",
      "- C:\\Users\\ANDRI\\Documents\\PythonProjects\\kaidata_geolake\\Data\\raw\\hais_2024-01-01.snappy.parquet\n",
      "- C:\\Users\\ANDRI\\Documents\\PythonProjects\\kaidata_geolake\\Data\\raw\\hais_2024-01-02.snappy.parquet\n",
      "- C:\\Users\\ANDRI\\Documents\\PythonProjects\\kaidata_geolake\\Data\\raw\\hais_2024-01-03.snappy.parquet\n",
      "- C:\\Users\\ANDRI\\Documents\\PythonProjects\\kaidata_geolake\\Data\\raw\\hais_2024-01-04.snappy.parquet\n",
      "- C:\\Users\\ANDRI\\Documents\\PythonProjects\\kaidata_geolake\\Data\\raw\\hais_2024-01-05.snappy.parquet\n",
      "- C:\\Users\\ANDRI\\Documents\\PythonProjects\\kaidata_geolake\\Data\\raw\\hais_2024-01-06.snappy.parquet\n",
      "- C:\\Users\\ANDRI\\Documents\\PythonProjects\\kaidata_geolake\\Data\\raw\\hais_2024-01-07.snappy.parquet\n",
      "- C:\\Users\\ANDRI\\Documents\\PythonProjects\\kaidata_geolake\\Data\\raw\\hais_2024-01-08.snappy.parquet\n",
      "- C:\\Users\\ANDRI\\Documents\\PythonProjects\\kaidata_geolake\\Data\\raw\\hais_2024-01-09.snappy.parquet\n",
      "- C:\\Users\\ANDRI\\Documents\\PythonProjects\\kaidata_geolake\\Data\\raw\\hais_2024-01-10.snappy.parquet\n",
      "- C:\\Users\\ANDRI\\Documents\\PythonProjects\\kaidata_geolake\\Data\\raw\\hais_2024-01-11.snappy.parquet\n",
      "- C:\\Users\\ANDRI\\Documents\\PythonProjects\\kaidata_geolake\\Data\\raw\\hais_2024-01-12.snappy.parquet\n",
      "- C:\\Users\\ANDRI\\Documents\\PythonProjects\\kaidata_geolake\\Data\\raw\\hais_2024-01-13.snappy.parquet\n",
      "- C:\\Users\\ANDRI\\Documents\\PythonProjects\\kaidata_geolake\\Data\\raw\\hais_2024-01-14.snappy.parquet\n",
      "- C:\\Users\\ANDRI\\Documents\\PythonProjects\\kaidata_geolake\\Data\\raw\\hais_2024-01-15.snappy.parquet\n",
      "- C:\\Users\\ANDRI\\Documents\\PythonProjects\\kaidata_geolake\\Data\\raw\\hais_2024-01-16.snappy.parquet\n",
      "- C:\\Users\\ANDRI\\Documents\\PythonProjects\\kaidata_geolake\\Data\\raw\\hais_2024-01-17.snappy.parquet\n",
      "- C:\\Users\\ANDRI\\Documents\\PythonProjects\\kaidata_geolake\\Data\\raw\\hais_2024-01-18.snappy.parquet\n",
      "- C:\\Users\\ANDRI\\Documents\\PythonProjects\\kaidata_geolake\\Data\\raw\\hais_2024-01-19.snappy.parquet\n",
      "- C:\\Users\\ANDRI\\Documents\\PythonProjects\\kaidata_geolake\\Data\\raw\\hais_2024-01-20.snappy.parquet\n",
      "- C:\\Users\\ANDRI\\Documents\\PythonProjects\\kaidata_geolake\\Data\\raw\\hais_2024-01-21.snappy.parquet\n",
      "- C:\\Users\\ANDRI\\Documents\\PythonProjects\\kaidata_geolake\\Data\\raw\\hais_2024-01-22.snappy.parquet\n",
      "- C:\\Users\\ANDRI\\Documents\\PythonProjects\\kaidata_geolake\\Data\\raw\\hais_2024-01-23.snappy.parquet\n",
      "- C:\\Users\\ANDRI\\Documents\\PythonProjects\\kaidata_geolake\\Data\\raw\\hais_2024-01-24.snappy.parquet\n",
      "- C:\\Users\\ANDRI\\Documents\\PythonProjects\\kaidata_geolake\\Data\\raw\\hais_2024-01-25.snappy.parquet\n",
      "- C:\\Users\\ANDRI\\Documents\\PythonProjects\\kaidata_geolake\\Data\\raw\\hais_2024-01-26.snappy.parquet\n",
      "- C:\\Users\\ANDRI\\Documents\\PythonProjects\\kaidata_geolake\\Data\\raw\\hais_2024-01-27.snappy.parquet\n",
      "- C:\\Users\\ANDRI\\Documents\\PythonProjects\\kaidata_geolake\\Data\\raw\\hais_2024-01-28.snappy.parquet\n",
      "- C:\\Users\\ANDRI\\Documents\\PythonProjects\\kaidata_geolake\\Data\\raw\\hais_2024-01-29.snappy.parquet\n",
      "- C:\\Users\\ANDRI\\Documents\\PythonProjects\\kaidata_geolake\\Data\\raw\\hais_2024-01-30.snappy.parquet\n",
      "- C:\\Users\\ANDRI\\Documents\\PythonProjects\\kaidata_geolake\\Data\\raw\\hais_2024-01-31.snappy.parquet\n",
      "- C:\\Users\\ANDRI\\Documents\\PythonProjects\\kaidata_geolake\\Data\\raw\\hais_2024-02-01.snappy.parquet\n",
      "- C:\\Users\\ANDRI\\Documents\\PythonProjects\\kaidata_geolake\\Data\\raw\\hais_2024-02-02.snappy.parquet\n",
      "- C:\\Users\\ANDRI\\Documents\\PythonProjects\\kaidata_geolake\\Data\\raw\\hais_2024-02-03.snappy.parquet\n",
      "- C:\\Users\\ANDRI\\Documents\\PythonProjects\\kaidata_geolake\\Data\\raw\\hais_2024-02-04.snappy.parquet\n",
      "- C:\\Users\\ANDRI\\Documents\\PythonProjects\\kaidata_geolake\\Data\\raw\\hais_2024-02-05.snappy.parquet\n",
      "- C:\\Users\\ANDRI\\Documents\\PythonProjects\\kaidata_geolake\\Data\\raw\\hais_2024-02-06.snappy.parquet\n",
      "- C:\\Users\\ANDRI\\Documents\\PythonProjects\\kaidata_geolake\\Data\\raw\\hais_2024-02-07.snappy.parquet\n",
      "- C:\\Users\\ANDRI\\Documents\\PythonProjects\\kaidata_geolake\\Data\\raw\\hais_2024-02-08.snappy.parquet\n",
      "- C:\\Users\\ANDRI\\Documents\\PythonProjects\\kaidata_geolake\\Data\\raw\\hais_2024-02-09.snappy.parquet\n",
      "- C:\\Users\\ANDRI\\Documents\\PythonProjects\\kaidata_geolake\\Data\\raw\\hais_2024-02-10.snappy.parquet\n",
      "- C:\\Users\\ANDRI\\Documents\\PythonProjects\\kaidata_geolake\\Data\\raw\\hais_2024-02-11.snappy.parquet\n",
      "- C:\\Users\\ANDRI\\Documents\\PythonProjects\\kaidata_geolake\\Data\\raw\\hais_2024-02-12.snappy.parquet\n",
      "- C:\\Users\\ANDRI\\Documents\\PythonProjects\\kaidata_geolake\\Data\\raw\\hais_2024-02-13.snappy.parquet\n",
      "- C:\\Users\\ANDRI\\Documents\\PythonProjects\\kaidata_geolake\\Data\\raw\\hais_2024-02-14.snappy.parquet\n",
      "- C:\\Users\\ANDRI\\Documents\\PythonProjects\\kaidata_geolake\\Data\\raw\\hais_2024-02-15.snappy.parquet\n",
      "- C:\\Users\\ANDRI\\Documents\\PythonProjects\\kaidata_geolake\\Data\\raw\\hais_2024-02-16.snappy.parquet\n",
      "- C:\\Users\\ANDRI\\Documents\\PythonProjects\\kaidata_geolake\\Data\\raw\\hais_2024-02-17.snappy.parquet\n",
      "- C:\\Users\\ANDRI\\Documents\\PythonProjects\\kaidata_geolake\\Data\\raw\\hais_2024-02-18.snappy.parquet\n",
      "- C:\\Users\\ANDRI\\Documents\\PythonProjects\\kaidata_geolake\\Data\\raw\\hais_2024-02-19.snappy.parquet\n",
      "- C:\\Users\\ANDRI\\Documents\\PythonProjects\\kaidata_geolake\\Data\\raw\\hais_2024-02-20.snappy.parquet\n",
      "- C:\\Users\\ANDRI\\Documents\\PythonProjects\\kaidata_geolake\\Data\\raw\\hais_2024-02-21.snappy.parquet\n",
      "- C:\\Users\\ANDRI\\Documents\\PythonProjects\\kaidata_geolake\\Data\\raw\\hais_2024-02-22.snappy.parquet\n",
      "- C:\\Users\\ANDRI\\Documents\\PythonProjects\\kaidata_geolake\\Data\\raw\\hais_2024-02-23.snappy.parquet\n",
      "- C:\\Users\\ANDRI\\Documents\\PythonProjects\\kaidata_geolake\\Data\\raw\\hais_2024-02-24.snappy.parquet\n",
      "- C:\\Users\\ANDRI\\Documents\\PythonProjects\\kaidata_geolake\\Data\\raw\\hais_2024-02-25.snappy.parquet\n",
      "- C:\\Users\\ANDRI\\Documents\\PythonProjects\\kaidata_geolake\\Data\\raw\\hais_2024-02-26.snappy.parquet\n",
      "- C:\\Users\\ANDRI\\Documents\\PythonProjects\\kaidata_geolake\\Data\\raw\\hais_2024-02-27.snappy.parquet\n",
      "- C:\\Users\\ANDRI\\Documents\\PythonProjects\\kaidata_geolake\\Data\\raw\\hais_2024-02-28.snappy.parquet\n",
      "- C:\\Users\\ANDRI\\Documents\\PythonProjects\\kaidata_geolake\\Data\\raw\\hais_2024-02-29.snappy.parquet\n",
      "- C:\\Users\\ANDRI\\Documents\\PythonProjects\\kaidata_geolake\\Data\\raw\\hais_2024-03-01.snappy.parquet\n",
      "- C:\\Users\\ANDRI\\Documents\\PythonProjects\\kaidata_geolake\\Data\\raw\\hais_2024-03-02.snappy.parquet\n",
      "- C:\\Users\\ANDRI\\Documents\\PythonProjects\\kaidata_geolake\\Data\\raw\\hais_2024-03-03.snappy.parquet\n",
      "- C:\\Users\\ANDRI\\Documents\\PythonProjects\\kaidata_geolake\\Data\\raw\\hais_2024-03-04.snappy.parquet\n",
      "- C:\\Users\\ANDRI\\Documents\\PythonProjects\\kaidata_geolake\\Data\\raw\\hais_2024-03-05.snappy.parquet\n",
      "- C:\\Users\\ANDRI\\Documents\\PythonProjects\\kaidata_geolake\\Data\\raw\\hais_2024-03-06.snappy.parquet\n",
      "- C:\\Users\\ANDRI\\Documents\\PythonProjects\\kaidata_geolake\\Data\\raw\\hais_2024-03-07.snappy.parquet\n",
      "- C:\\Users\\ANDRI\\Documents\\PythonProjects\\kaidata_geolake\\Data\\raw\\hais_2024-03-08.snappy.parquet\n",
      "- C:\\Users\\ANDRI\\Documents\\PythonProjects\\kaidata_geolake\\Data\\raw\\hais_2024-03-09.snappy.parquet\n",
      "- C:\\Users\\ANDRI\\Documents\\PythonProjects\\kaidata_geolake\\Data\\raw\\hais_2024-03-10.snappy.parquet\n",
      "- C:\\Users\\ANDRI\\Documents\\PythonProjects\\kaidata_geolake\\Data\\raw\\hais_2024-03-11.snappy.parquet\n",
      "- C:\\Users\\ANDRI\\Documents\\PythonProjects\\kaidata_geolake\\Data\\raw\\hais_2024-03-12.snappy.parquet\n",
      "- C:\\Users\\ANDRI\\Documents\\PythonProjects\\kaidata_geolake\\Data\\raw\\hais_2024-03-13.snappy.parquet\n",
      "- C:\\Users\\ANDRI\\Documents\\PythonProjects\\kaidata_geolake\\Data\\raw\\hais_2024-03-14.snappy.parquet\n",
      "- C:\\Users\\ANDRI\\Documents\\PythonProjects\\kaidata_geolake\\Data\\raw\\hais_2024-03-15.snappy.parquet\n",
      "- C:\\Users\\ANDRI\\Documents\\PythonProjects\\kaidata_geolake\\Data\\raw\\hais_2024-03-16.snappy.parquet\n",
      "- C:\\Users\\ANDRI\\Documents\\PythonProjects\\kaidata_geolake\\Data\\raw\\hais_2024-03-17.snappy.parquet\n",
      "- C:\\Users\\ANDRI\\Documents\\PythonProjects\\kaidata_geolake\\Data\\raw\\hais_2024-03-18.snappy.parquet\n",
      "- C:\\Users\\ANDRI\\Documents\\PythonProjects\\kaidata_geolake\\Data\\raw\\hais_2024-03-19.snappy.parquet\n",
      "- C:\\Users\\ANDRI\\Documents\\PythonProjects\\kaidata_geolake\\Data\\raw\\hais_2024-03-20.snappy.parquet\n",
      "- C:\\Users\\ANDRI\\Documents\\PythonProjects\\kaidata_geolake\\Data\\raw\\hais_2024-03-21.snappy.parquet\n",
      "- C:\\Users\\ANDRI\\Documents\\PythonProjects\\kaidata_geolake\\Data\\raw\\hais_2024-03-22.snappy.parquet\n",
      "- C:\\Users\\ANDRI\\Documents\\PythonProjects\\kaidata_geolake\\Data\\raw\\hais_2024-03-23.snappy.parquet\n",
      "- C:\\Users\\ANDRI\\Documents\\PythonProjects\\kaidata_geolake\\Data\\raw\\hais_2024-03-24.snappy.parquet\n",
      "- C:\\Users\\ANDRI\\Documents\\PythonProjects\\kaidata_geolake\\Data\\raw\\hais_2024-03-25.snappy.parquet\n",
      "- C:\\Users\\ANDRI\\Documents\\PythonProjects\\kaidata_geolake\\Data\\raw\\hais_2024-03-26.snappy.parquet\n",
      "- C:\\Users\\ANDRI\\Documents\\PythonProjects\\kaidata_geolake\\Data\\raw\\hais_2024-03-27.snappy.parquet\n",
      "- C:\\Users\\ANDRI\\Documents\\PythonProjects\\kaidata_geolake\\Data\\raw\\hais_2024-03-28.snappy.parquet\n",
      "- C:\\Users\\ANDRI\\Documents\\PythonProjects\\kaidata_geolake\\Data\\raw\\hais_2024-03-29.snappy.parquet\n",
      "- C:\\Users\\ANDRI\\Documents\\PythonProjects\\kaidata_geolake\\Data\\raw\\hais_2024-03-30.snappy.parquet\n",
      "- C:\\Users\\ANDRI\\Documents\\PythonProjects\\kaidata_geolake\\Data\\raw\\hais_2024-03-31.snappy.parquet\n",
      "- C:\\Users\\ANDRI\\Documents\\PythonProjects\\kaidata_geolake\\Data\\raw\\hais_2024-04-01.snappy.parquet\n",
      "- C:\\Users\\ANDRI\\Documents\\PythonProjects\\kaidata_geolake\\Data\\raw\\hais_2024-04-02.snappy.parquet\n",
      "- C:\\Users\\ANDRI\\Documents\\PythonProjects\\kaidata_geolake\\Data\\raw\\hais_2024-04-03.snappy.parquet\n",
      "- C:\\Users\\ANDRI\\Documents\\PythonProjects\\kaidata_geolake\\Data\\raw\\hais_2024-04-04.snappy.parquet\n",
      "- C:\\Users\\ANDRI\\Documents\\PythonProjects\\kaidata_geolake\\Data\\raw\\hais_2024-04-05.snappy.parquet\n",
      "- C:\\Users\\ANDRI\\Documents\\PythonProjects\\kaidata_geolake\\Data\\raw\\hais_2024-04-06.snappy.parquet\n",
      "- C:\\Users\\ANDRI\\Documents\\PythonProjects\\kaidata_geolake\\Data\\raw\\hais_2024-04-07.snappy.parquet\n",
      "- C:\\Users\\ANDRI\\Documents\\PythonProjects\\kaidata_geolake\\Data\\raw\\hais_2024-04-08.snappy.parquet\n",
      "- C:\\Users\\ANDRI\\Documents\\PythonProjects\\kaidata_geolake\\Data\\raw\\hais_2024-04-09.snappy.parquet\n",
      "- C:\\Users\\ANDRI\\Documents\\PythonProjects\\kaidata_geolake\\Data\\raw\\hais_2024-04-10.snappy.parquet\n",
      "- C:\\Users\\ANDRI\\Documents\\PythonProjects\\kaidata_geolake\\Data\\raw\\hais_2024-04-11.snappy.parquet\n",
      "- C:\\Users\\ANDRI\\Documents\\PythonProjects\\kaidata_geolake\\Data\\raw\\hais_2024-04-12.snappy.parquet\n",
      "- C:\\Users\\ANDRI\\Documents\\PythonProjects\\kaidata_geolake\\Data\\raw\\hais_2024-04-13.snappy.parquet\n",
      "- C:\\Users\\ANDRI\\Documents\\PythonProjects\\kaidata_geolake\\Data\\raw\\hais_2024-04-14.snappy.parquet\n",
      "- C:\\Users\\ANDRI\\Documents\\PythonProjects\\kaidata_geolake\\Data\\raw\\hais_2024-04-15.snappy.parquet\n",
      "- C:\\Users\\ANDRI\\Documents\\PythonProjects\\kaidata_geolake\\Data\\raw\\hais_2024-04-16.snappy.parquet\n",
      "- C:\\Users\\ANDRI\\Documents\\PythonProjects\\kaidata_geolake\\Data\\raw\\hais_2024-04-17.snappy.parquet\n",
      "- C:\\Users\\ANDRI\\Documents\\PythonProjects\\kaidata_geolake\\Data\\raw\\hais_2024-04-18.snappy.parquet\n",
      "- C:\\Users\\ANDRI\\Documents\\PythonProjects\\kaidata_geolake\\Data\\raw\\hais_2024-04-19.snappy.parquet\n",
      "- C:\\Users\\ANDRI\\Documents\\PythonProjects\\kaidata_geolake\\Data\\raw\\hais_2024-04-20.snappy.parquet\n",
      "- C:\\Users\\ANDRI\\Documents\\PythonProjects\\kaidata_geolake\\Data\\raw\\hais_2024-04-21.snappy.parquet\n",
      "- C:\\Users\\ANDRI\\Documents\\PythonProjects\\kaidata_geolake\\Data\\raw\\hais_2024-04-22.snappy.parquet\n",
      "- C:\\Users\\ANDRI\\Documents\\PythonProjects\\kaidata_geolake\\Data\\raw\\hais_2024-04-23.snappy.parquet\n",
      "- C:\\Users\\ANDRI\\Documents\\PythonProjects\\kaidata_geolake\\Data\\raw\\hais_2024-04-24.snappy.parquet\n",
      "- C:\\Users\\ANDRI\\Documents\\PythonProjects\\kaidata_geolake\\Data\\raw\\hais_2024-04-25.snappy.parquet\n",
      "- C:\\Users\\ANDRI\\Documents\\PythonProjects\\kaidata_geolake\\Data\\raw\\hais_2024-04-26.snappy.parquet\n",
      "- C:\\Users\\ANDRI\\Documents\\PythonProjects\\kaidata_geolake\\Data\\raw\\hais_2024-04-27.snappy.parquet\n",
      "- C:\\Users\\ANDRI\\Documents\\PythonProjects\\kaidata_geolake\\Data\\raw\\hais_2024-04-28.snappy.parquet\n",
      "- C:\\Users\\ANDRI\\Documents\\PythonProjects\\kaidata_geolake\\Data\\raw\\hais_2024-04-29.snappy.parquet\n",
      "- C:\\Users\\ANDRI\\Documents\\PythonProjects\\kaidata_geolake\\Data\\raw\\hais_2024-04-30.snappy.parquet\n",
      "- C:\\Users\\ANDRI\\Documents\\PythonProjects\\kaidata_geolake\\Data\\raw\\hais_2024-05-01.snappy.parquet\n",
      "- C:\\Users\\ANDRI\\Documents\\PythonProjects\\kaidata_geolake\\Data\\raw\\hais_2024-05-02.snappy.parquet\n",
      "- C:\\Users\\ANDRI\\Documents\\PythonProjects\\kaidata_geolake\\Data\\raw\\hais_2024-05-03.snappy.parquet\n",
      "- C:\\Users\\ANDRI\\Documents\\PythonProjects\\kaidata_geolake\\Data\\raw\\hais_2024-05-04.snappy.parquet\n",
      "- C:\\Users\\ANDRI\\Documents\\PythonProjects\\kaidata_geolake\\Data\\raw\\hais_2024-05-05.snappy.parquet\n",
      "- C:\\Users\\ANDRI\\Documents\\PythonProjects\\kaidata_geolake\\Data\\raw\\hais_2024-05-06.snappy.parquet\n",
      "- C:\\Users\\ANDRI\\Documents\\PythonProjects\\kaidata_geolake\\Data\\raw\\hais_2024-05-07.snappy.parquet\n",
      "- C:\\Users\\ANDRI\\Documents\\PythonProjects\\kaidata_geolake\\Data\\raw\\hais_2024-05-08.snappy.parquet\n",
      "- C:\\Users\\ANDRI\\Documents\\PythonProjects\\kaidata_geolake\\Data\\raw\\hais_2024-05-09.snappy.parquet\n",
      "- C:\\Users\\ANDRI\\Documents\\PythonProjects\\kaidata_geolake\\Data\\raw\\hais_2024-05-10.snappy.parquet\n",
      "- C:\\Users\\ANDRI\\Documents\\PythonProjects\\kaidata_geolake\\Data\\raw\\hais_2024-05-11.snappy.parquet\n",
      "- C:\\Users\\ANDRI\\Documents\\PythonProjects\\kaidata_geolake\\Data\\raw\\hais_2024-05-12.snappy.parquet\n",
      "- C:\\Users\\ANDRI\\Documents\\PythonProjects\\kaidata_geolake\\Data\\raw\\hais_2024-05-13.snappy.parquet\n",
      "- C:\\Users\\ANDRI\\Documents\\PythonProjects\\kaidata_geolake\\Data\\raw\\hais_2024-05-14.snappy.parquet\n",
      "- C:\\Users\\ANDRI\\Documents\\PythonProjects\\kaidata_geolake\\Data\\raw\\hais_2024-05-15.snappy.parquet\n",
      "- C:\\Users\\ANDRI\\Documents\\PythonProjects\\kaidata_geolake\\Data\\raw\\hais_2024-05-16.snappy.parquet\n",
      "- C:\\Users\\ANDRI\\Documents\\PythonProjects\\kaidata_geolake\\Data\\raw\\hais_2024-05-17.snappy.parquet\n",
      "- C:\\Users\\ANDRI\\Documents\\PythonProjects\\kaidata_geolake\\Data\\raw\\hais_2024-05-18.snappy.parquet\n",
      "- C:\\Users\\ANDRI\\Documents\\PythonProjects\\kaidata_geolake\\Data\\raw\\hais_2024-05-19.snappy.parquet\n",
      "- C:\\Users\\ANDRI\\Documents\\PythonProjects\\kaidata_geolake\\Data\\raw\\hais_2024-05-20.snappy.parquet\n",
      "- C:\\Users\\ANDRI\\Documents\\PythonProjects\\kaidata_geolake\\Data\\raw\\hais_2024-05-21.snappy.parquet\n",
      "- C:\\Users\\ANDRI\\Documents\\PythonProjects\\kaidata_geolake\\Data\\raw\\hais_2024-05-22.snappy.parquet\n",
      "- C:\\Users\\ANDRI\\Documents\\PythonProjects\\kaidata_geolake\\Data\\raw\\hais_2024-05-23.snappy.parquet\n",
      "- C:\\Users\\ANDRI\\Documents\\PythonProjects\\kaidata_geolake\\Data\\raw\\hais_2024-05-24.snappy.parquet\n",
      "- C:\\Users\\ANDRI\\Documents\\PythonProjects\\kaidata_geolake\\Data\\raw\\hais_2024-05-25.snappy.parquet\n",
      "- C:\\Users\\ANDRI\\Documents\\PythonProjects\\kaidata_geolake\\Data\\raw\\hais_2024-05-26.snappy.parquet\n",
      "- C:\\Users\\ANDRI\\Documents\\PythonProjects\\kaidata_geolake\\Data\\raw\\hais_2024-05-27.snappy.parquet\n",
      "- C:\\Users\\ANDRI\\Documents\\PythonProjects\\kaidata_geolake\\Data\\raw\\hais_2024-05-28.snappy.parquet\n",
      "- C:\\Users\\ANDRI\\Documents\\PythonProjects\\kaidata_geolake\\Data\\raw\\hais_2024-05-29.snappy.parquet\n",
      "- C:\\Users\\ANDRI\\Documents\\PythonProjects\\kaidata_geolake\\Data\\raw\\hais_2024-05-30.snappy.parquet\n",
      "- C:\\Users\\ANDRI\\Documents\\PythonProjects\\kaidata_geolake\\Data\\raw\\hais_2024-05-31.snappy.parquet\n",
      "- C:\\Users\\ANDRI\\Documents\\PythonProjects\\kaidata_geolake\\Data\\raw\\hais_2024-06-01.snappy.parquet\n",
      "- C:\\Users\\ANDRI\\Documents\\PythonProjects\\kaidata_geolake\\Data\\raw\\hais_2024-06-02.snappy.parquet\n",
      "- C:\\Users\\ANDRI\\Documents\\PythonProjects\\kaidata_geolake\\Data\\raw\\hais_2024-06-03.snappy.parquet\n",
      "- C:\\Users\\ANDRI\\Documents\\PythonProjects\\kaidata_geolake\\Data\\raw\\hais_2024-06-04.snappy.parquet\n",
      "- C:\\Users\\ANDRI\\Documents\\PythonProjects\\kaidata_geolake\\Data\\raw\\hais_2024-06-05.snappy.parquet\n",
      "- C:\\Users\\ANDRI\\Documents\\PythonProjects\\kaidata_geolake\\Data\\raw\\hais_2024-06-06.snappy.parquet\n",
      "- C:\\Users\\ANDRI\\Documents\\PythonProjects\\kaidata_geolake\\Data\\raw\\hais_2024-06-07.snappy.parquet\n",
      "- C:\\Users\\ANDRI\\Documents\\PythonProjects\\kaidata_geolake\\Data\\raw\\hais_2024-06-08.snappy.parquet\n",
      "- C:\\Users\\ANDRI\\Documents\\PythonProjects\\kaidata_geolake\\Data\\raw\\hais_2024-06-09.snappy.parquet\n",
      "- C:\\Users\\ANDRI\\Documents\\PythonProjects\\kaidata_geolake\\Data\\raw\\hais_2024-06-10.snappy.parquet\n",
      "- C:\\Users\\ANDRI\\Documents\\PythonProjects\\kaidata_geolake\\Data\\raw\\hais_2024-06-11.snappy.parquet\n",
      "- C:\\Users\\ANDRI\\Documents\\PythonProjects\\kaidata_geolake\\Data\\raw\\hais_2024-06-12.snappy.parquet\n",
      "- C:\\Users\\ANDRI\\Documents\\PythonProjects\\kaidata_geolake\\Data\\raw\\hais_2024-06-13.snappy.parquet\n",
      "- C:\\Users\\ANDRI\\Documents\\PythonProjects\\kaidata_geolake\\Data\\raw\\hais_2024-06-14.snappy.parquet\n",
      "- C:\\Users\\ANDRI\\Documents\\PythonProjects\\kaidata_geolake\\Data\\raw\\hais_2024-06-15.snappy.parquet\n",
      "- C:\\Users\\ANDRI\\Documents\\PythonProjects\\kaidata_geolake\\Data\\raw\\hais_2024-06-16.snappy.parquet\n",
      "- C:\\Users\\ANDRI\\Documents\\PythonProjects\\kaidata_geolake\\Data\\raw\\hais_2024-06-17.snappy.parquet\n",
      "- C:\\Users\\ANDRI\\Documents\\PythonProjects\\kaidata_geolake\\Data\\raw\\hais_2024-06-18.snappy.parquet\n",
      "- C:\\Users\\ANDRI\\Documents\\PythonProjects\\kaidata_geolake\\Data\\raw\\hais_2024-06-19.snappy.parquet\n",
      "- C:\\Users\\ANDRI\\Documents\\PythonProjects\\kaidata_geolake\\Data\\raw\\hais_2024-06-20.snappy.parquet\n",
      "- C:\\Users\\ANDRI\\Documents\\PythonProjects\\kaidata_geolake\\Data\\raw\\hais_2024-06-21.snappy.parquet\n",
      "- C:\\Users\\ANDRI\\Documents\\PythonProjects\\kaidata_geolake\\Data\\raw\\hais_2024-06-22.snappy.parquet\n",
      "- C:\\Users\\ANDRI\\Documents\\PythonProjects\\kaidata_geolake\\Data\\raw\\hais_2024-06-23.snappy.parquet\n",
      "- C:\\Users\\ANDRI\\Documents\\PythonProjects\\kaidata_geolake\\Data\\raw\\hais_2024-06-24.snappy.parquet\n",
      "- C:\\Users\\ANDRI\\Documents\\PythonProjects\\kaidata_geolake\\Data\\raw\\hais_2024-06-25.snappy.parquet\n",
      "- C:\\Users\\ANDRI\\Documents\\PythonProjects\\kaidata_geolake\\Data\\raw\\hais_2024-06-26.snappy.parquet\n",
      "- C:\\Users\\ANDRI\\Documents\\PythonProjects\\kaidata_geolake\\Data\\raw\\hais_2024-06-27.snappy.parquet\n",
      "- C:\\Users\\ANDRI\\Documents\\PythonProjects\\kaidata_geolake\\Data\\raw\\hais_2024-06-28.snappy.parquet\n",
      "- C:\\Users\\ANDRI\\Documents\\PythonProjects\\kaidata_geolake\\Data\\raw\\hais_2024-06-29.snappy.parquet\n",
      "- C:\\Users\\ANDRI\\Documents\\PythonProjects\\kaidata_geolake\\Data\\raw\\hais_2024-06-30.snappy.parquet\n",
      "- C:\\Users\\ANDRI\\Documents\\PythonProjects\\kaidata_geolake\\Data\\raw\\hais_2024-07-01.snappy.parquet\n",
      "- C:\\Users\\ANDRI\\Documents\\PythonProjects\\kaidata_geolake\\Data\\raw\\hais_2024-07-02.snappy.parquet\n",
      "- C:\\Users\\ANDRI\\Documents\\PythonProjects\\kaidata_geolake\\Data\\raw\\hais_2024-07-03.snappy.parquet\n",
      "- C:\\Users\\ANDRI\\Documents\\PythonProjects\\kaidata_geolake\\Data\\raw\\hais_2024-07-04.snappy.parquet\n",
      "- C:\\Users\\ANDRI\\Documents\\PythonProjects\\kaidata_geolake\\Data\\raw\\hais_2024-07-05.snappy.parquet\n",
      "- C:\\Users\\ANDRI\\Documents\\PythonProjects\\kaidata_geolake\\Data\\raw\\hais_2024-07-06.snappy.parquet\n",
      "- C:\\Users\\ANDRI\\Documents\\PythonProjects\\kaidata_geolake\\Data\\raw\\hais_2024-07-07.snappy.parquet\n",
      "- C:\\Users\\ANDRI\\Documents\\PythonProjects\\kaidata_geolake\\Data\\raw\\hais_2024-07-08.snappy.parquet\n",
      "- C:\\Users\\ANDRI\\Documents\\PythonProjects\\kaidata_geolake\\Data\\raw\\hais_2024-07-09.snappy.parquet\n",
      "- C:\\Users\\ANDRI\\Documents\\PythonProjects\\kaidata_geolake\\Data\\raw\\hais_2024-07-10.snappy.parquet\n",
      "- C:\\Users\\ANDRI\\Documents\\PythonProjects\\kaidata_geolake\\Data\\raw\\hais_2024-07-11.snappy.parquet\n",
      "- C:\\Users\\ANDRI\\Documents\\PythonProjects\\kaidata_geolake\\Data\\raw\\hais_2024-07-12.snappy.parquet\n",
      "- C:\\Users\\ANDRI\\Documents\\PythonProjects\\kaidata_geolake\\Data\\raw\\hais_2024-07-13.snappy.parquet\n",
      "- C:\\Users\\ANDRI\\Documents\\PythonProjects\\kaidata_geolake\\Data\\raw\\hais_2024-07-14.snappy.parquet\n",
      "- C:\\Users\\ANDRI\\Documents\\PythonProjects\\kaidata_geolake\\Data\\raw\\hais_2024-07-15.snappy.parquet\n",
      "- C:\\Users\\ANDRI\\Documents\\PythonProjects\\kaidata_geolake\\Data\\raw\\hais_2024-07-16.snappy.parquet\n",
      "- C:\\Users\\ANDRI\\Documents\\PythonProjects\\kaidata_geolake\\Data\\raw\\hais_2024-07-17.snappy.parquet\n",
      "- C:\\Users\\ANDRI\\Documents\\PythonProjects\\kaidata_geolake\\Data\\raw\\hais_2024-07-18.snappy.parquet\n",
      "- C:\\Users\\ANDRI\\Documents\\PythonProjects\\kaidata_geolake\\Data\\raw\\hais_2024-07-19.snappy.parquet\n",
      "- C:\\Users\\ANDRI\\Documents\\PythonProjects\\kaidata_geolake\\Data\\raw\\hais_2024-07-20.snappy.parquet\n",
      "- C:\\Users\\ANDRI\\Documents\\PythonProjects\\kaidata_geolake\\Data\\raw\\hais_2024-07-21.snappy.parquet\n",
      "- C:\\Users\\ANDRI\\Documents\\PythonProjects\\kaidata_geolake\\Data\\raw\\hais_2024-07-22.snappy.parquet\n",
      "- C:\\Users\\ANDRI\\Documents\\PythonProjects\\kaidata_geolake\\Data\\raw\\hais_2024-07-23.snappy.parquet\n",
      "- C:\\Users\\ANDRI\\Documents\\PythonProjects\\kaidata_geolake\\Data\\raw\\hais_2024-07-24.snappy.parquet\n",
      "- C:\\Users\\ANDRI\\Documents\\PythonProjects\\kaidata_geolake\\Data\\raw\\hais_2024-07-25.snappy.parquet\n",
      "- C:\\Users\\ANDRI\\Documents\\PythonProjects\\kaidata_geolake\\Data\\raw\\hais_2024-07-26.snappy.parquet\n",
      "- C:\\Users\\ANDRI\\Documents\\PythonProjects\\kaidata_geolake\\Data\\raw\\hais_2024-07-27.snappy.parquet\n",
      "- C:\\Users\\ANDRI\\Documents\\PythonProjects\\kaidata_geolake\\Data\\raw\\hais_2024-07-28.snappy.parquet\n",
      "- C:\\Users\\ANDRI\\Documents\\PythonProjects\\kaidata_geolake\\Data\\raw\\hais_2024-07-29.snappy.parquet\n",
      "- C:\\Users\\ANDRI\\Documents\\PythonProjects\\kaidata_geolake\\Data\\raw\\hais_2024-07-30.snappy.parquet\n",
      "- C:\\Users\\ANDRI\\Documents\\PythonProjects\\kaidata_geolake\\Data\\raw\\hais_2024-07-31.snappy.parquet\n",
      "- C:\\Users\\ANDRI\\Documents\\PythonProjects\\kaidata_geolake\\Data\\raw\\hais_2024-08-01.snappy.parquet\n",
      "- C:\\Users\\ANDRI\\Documents\\PythonProjects\\kaidata_geolake\\Data\\raw\\hais_2024-08-02.snappy.parquet\n",
      "- C:\\Users\\ANDRI\\Documents\\PythonProjects\\kaidata_geolake\\Data\\raw\\hais_2024-08-03.snappy.parquet\n",
      "- C:\\Users\\ANDRI\\Documents\\PythonProjects\\kaidata_geolake\\Data\\raw\\hais_2024-08-04.snappy.parquet\n",
      "- C:\\Users\\ANDRI\\Documents\\PythonProjects\\kaidata_geolake\\Data\\raw\\hais_2024-08-05.snappy.parquet\n",
      "- C:\\Users\\ANDRI\\Documents\\PythonProjects\\kaidata_geolake\\Data\\raw\\hais_2024-08-06.snappy.parquet\n",
      "- C:\\Users\\ANDRI\\Documents\\PythonProjects\\kaidata_geolake\\Data\\raw\\hais_2024-08-07.snappy.parquet\n",
      "- C:\\Users\\ANDRI\\Documents\\PythonProjects\\kaidata_geolake\\Data\\raw\\hais_2024-08-08.snappy.parquet\n",
      "- C:\\Users\\ANDRI\\Documents\\PythonProjects\\kaidata_geolake\\Data\\raw\\hais_2024-08-09.snappy.parquet\n",
      "- C:\\Users\\ANDRI\\Documents\\PythonProjects\\kaidata_geolake\\Data\\raw\\hais_2024-08-10.snappy.parquet\n",
      "- C:\\Users\\ANDRI\\Documents\\PythonProjects\\kaidata_geolake\\Data\\raw\\hais_2024-08-11.snappy.parquet\n",
      "- C:\\Users\\ANDRI\\Documents\\PythonProjects\\kaidata_geolake\\Data\\raw\\hais_2024-08-12.snappy.parquet\n",
      "- C:\\Users\\ANDRI\\Documents\\PythonProjects\\kaidata_geolake\\Data\\raw\\hais_2024-08-13.snappy.parquet\n",
      "- C:\\Users\\ANDRI\\Documents\\PythonProjects\\kaidata_geolake\\Data\\raw\\hais_2024-08-14.snappy.parquet\n",
      "- C:\\Users\\ANDRI\\Documents\\PythonProjects\\kaidata_geolake\\Data\\raw\\hais_2024-08-15.snappy.parquet\n",
      "- C:\\Users\\ANDRI\\Documents\\PythonProjects\\kaidata_geolake\\Data\\raw\\hais_2024-08-16.snappy.parquet\n",
      "- C:\\Users\\ANDRI\\Documents\\PythonProjects\\kaidata_geolake\\Data\\raw\\hais_2024-08-17.snappy.parquet\n",
      "- C:\\Users\\ANDRI\\Documents\\PythonProjects\\kaidata_geolake\\Data\\raw\\hais_2024-08-18.snappy.parquet\n",
      "- C:\\Users\\ANDRI\\Documents\\PythonProjects\\kaidata_geolake\\Data\\raw\\hais_2024-08-19.snappy.parquet\n",
      "- C:\\Users\\ANDRI\\Documents\\PythonProjects\\kaidata_geolake\\Data\\raw\\hais_2024-08-20.snappy.parquet\n",
      "- C:\\Users\\ANDRI\\Documents\\PythonProjects\\kaidata_geolake\\Data\\raw\\hais_2024-08-21.snappy.parquet\n",
      "- C:\\Users\\ANDRI\\Documents\\PythonProjects\\kaidata_geolake\\Data\\raw\\hais_2024-08-22.snappy.parquet\n",
      "- C:\\Users\\ANDRI\\Documents\\PythonProjects\\kaidata_geolake\\Data\\raw\\hais_2024-08-23.snappy.parquet\n",
      "- C:\\Users\\ANDRI\\Documents\\PythonProjects\\kaidata_geolake\\Data\\raw\\hais_2024-08-24.snappy.parquet\n",
      "- C:\\Users\\ANDRI\\Documents\\PythonProjects\\kaidata_geolake\\Data\\raw\\hais_2024-08-25.snappy.parquet\n",
      "- C:\\Users\\ANDRI\\Documents\\PythonProjects\\kaidata_geolake\\Data\\raw\\hais_2024-08-26.snappy.parquet\n",
      "- C:\\Users\\ANDRI\\Documents\\PythonProjects\\kaidata_geolake\\Data\\raw\\hais_2024-08-27.snappy.parquet\n",
      "- C:\\Users\\ANDRI\\Documents\\PythonProjects\\kaidata_geolake\\Data\\raw\\hais_2024-08-28.snappy.parquet\n",
      "- C:\\Users\\ANDRI\\Documents\\PythonProjects\\kaidata_geolake\\Data\\raw\\hais_2024-08-29.snappy.parquet\n",
      "- C:\\Users\\ANDRI\\Documents\\PythonProjects\\kaidata_geolake\\Data\\raw\\hais_2024-08-30.snappy.parquet\n",
      "- C:\\Users\\ANDRI\\Documents\\PythonProjects\\kaidata_geolake\\Data\\raw\\hais_2024-08-31.snappy.parquet\n",
      "- C:\\Users\\ANDRI\\Documents\\PythonProjects\\kaidata_geolake\\Data\\raw\\hais_2024-09-01.snappy.parquet\n",
      "- C:\\Users\\ANDRI\\Documents\\PythonProjects\\kaidata_geolake\\Data\\raw\\hais_2024-09-02.snappy.parquet\n",
      "- C:\\Users\\ANDRI\\Documents\\PythonProjects\\kaidata_geolake\\Data\\raw\\hais_2024-09-03.snappy.parquet\n",
      "- C:\\Users\\ANDRI\\Documents\\PythonProjects\\kaidata_geolake\\Data\\raw\\hais_2024-09-04.snappy.parquet\n",
      "- C:\\Users\\ANDRI\\Documents\\PythonProjects\\kaidata_geolake\\Data\\raw\\hais_2024-09-05.snappy.parquet\n",
      "- C:\\Users\\ANDRI\\Documents\\PythonProjects\\kaidata_geolake\\Data\\raw\\hais_2024-09-06.snappy.parquet\n",
      "- C:\\Users\\ANDRI\\Documents\\PythonProjects\\kaidata_geolake\\Data\\raw\\hais_2024-09-07.snappy.parquet\n",
      "- C:\\Users\\ANDRI\\Documents\\PythonProjects\\kaidata_geolake\\Data\\raw\\hais_2024-09-08.snappy.parquet\n",
      "- C:\\Users\\ANDRI\\Documents\\PythonProjects\\kaidata_geolake\\Data\\raw\\hais_2024-09-09.snappy.parquet\n",
      "- C:\\Users\\ANDRI\\Documents\\PythonProjects\\kaidata_geolake\\Data\\raw\\hais_2024-09-10.snappy.parquet\n",
      "- C:\\Users\\ANDRI\\Documents\\PythonProjects\\kaidata_geolake\\Data\\raw\\hais_2024-09-11.snappy.parquet\n",
      "- C:\\Users\\ANDRI\\Documents\\PythonProjects\\kaidata_geolake\\Data\\raw\\hais_2024-09-12.snappy.parquet\n",
      "- C:\\Users\\ANDRI\\Documents\\PythonProjects\\kaidata_geolake\\Data\\raw\\hais_2024-09-13.snappy.parquet\n",
      "- C:\\Users\\ANDRI\\Documents\\PythonProjects\\kaidata_geolake\\Data\\raw\\hais_2024-09-14.snappy.parquet\n",
      "- C:\\Users\\ANDRI\\Documents\\PythonProjects\\kaidata_geolake\\Data\\raw\\hais_2024-09-15.snappy.parquet\n",
      "- C:\\Users\\ANDRI\\Documents\\PythonProjects\\kaidata_geolake\\Data\\raw\\hais_2024-09-16.snappy.parquet\n",
      "- C:\\Users\\ANDRI\\Documents\\PythonProjects\\kaidata_geolake\\Data\\raw\\hais_2024-09-17.snappy.parquet\n",
      "- C:\\Users\\ANDRI\\Documents\\PythonProjects\\kaidata_geolake\\Data\\raw\\hais_2024-09-18.snappy.parquet\n",
      "- C:\\Users\\ANDRI\\Documents\\PythonProjects\\kaidata_geolake\\Data\\raw\\hais_2024-09-19.snappy.parquet\n",
      "- C:\\Users\\ANDRI\\Documents\\PythonProjects\\kaidata_geolake\\Data\\raw\\hais_2024-09-20.snappy.parquet\n",
      "- C:\\Users\\ANDRI\\Documents\\PythonProjects\\kaidata_geolake\\Data\\raw\\hais_2024-09-21.snappy.parquet\n",
      "- C:\\Users\\ANDRI\\Documents\\PythonProjects\\kaidata_geolake\\Data\\raw\\hais_2024-09-22.snappy.parquet\n",
      "- C:\\Users\\ANDRI\\Documents\\PythonProjects\\kaidata_geolake\\Data\\raw\\hais_2024-09-23.snappy.parquet\n",
      "- C:\\Users\\ANDRI\\Documents\\PythonProjects\\kaidata_geolake\\Data\\raw\\hais_2024-09-24.snappy.parquet\n",
      "- C:\\Users\\ANDRI\\Documents\\PythonProjects\\kaidata_geolake\\Data\\raw\\hais_2024-09-25.snappy.parquet\n",
      "- C:\\Users\\ANDRI\\Documents\\PythonProjects\\kaidata_geolake\\Data\\raw\\hais_2024-09-26.snappy.parquet\n",
      "- C:\\Users\\ANDRI\\Documents\\PythonProjects\\kaidata_geolake\\Data\\raw\\hais_2024-09-27.snappy.parquet\n",
      "- C:\\Users\\ANDRI\\Documents\\PythonProjects\\kaidata_geolake\\Data\\raw\\hais_2024-09-28.snappy.parquet\n",
      "- C:\\Users\\ANDRI\\Documents\\PythonProjects\\kaidata_geolake\\Data\\raw\\hais_2024-09-29.snappy.parquet\n",
      "- C:\\Users\\ANDRI\\Documents\\PythonProjects\\kaidata_geolake\\Data\\raw\\hais_2024-09-30.snappy.parquet\n",
      "- C:\\Users\\ANDRI\\Documents\\PythonProjects\\kaidata_geolake\\Data\\raw\\hais_2024-10-01.snappy.parquet\n",
      "- C:\\Users\\ANDRI\\Documents\\PythonProjects\\kaidata_geolake\\Data\\raw\\hais_2024-10-02.snappy.parquet\n",
      "- C:\\Users\\ANDRI\\Documents\\PythonProjects\\kaidata_geolake\\Data\\raw\\hais_2024-10-03.snappy.parquet\n",
      "- C:\\Users\\ANDRI\\Documents\\PythonProjects\\kaidata_geolake\\Data\\raw\\hais_2024-10-04.snappy.parquet\n",
      "- C:\\Users\\ANDRI\\Documents\\PythonProjects\\kaidata_geolake\\Data\\raw\\hais_2024-10-05.snappy.parquet\n",
      "- C:\\Users\\ANDRI\\Documents\\PythonProjects\\kaidata_geolake\\Data\\raw\\hais_2024-10-06.snappy.parquet\n",
      "- C:\\Users\\ANDRI\\Documents\\PythonProjects\\kaidata_geolake\\Data\\raw\\hais_2024-10-07.snappy.parquet\n",
      "- C:\\Users\\ANDRI\\Documents\\PythonProjects\\kaidata_geolake\\Data\\raw\\hais_2024-10-08.snappy.parquet\n",
      "- C:\\Users\\ANDRI\\Documents\\PythonProjects\\kaidata_geolake\\Data\\raw\\hais_2024-10-09.snappy.parquet\n",
      "- C:\\Users\\ANDRI\\Documents\\PythonProjects\\kaidata_geolake\\Data\\raw\\hais_2024-10-10.snappy.parquet\n",
      "- C:\\Users\\ANDRI\\Documents\\PythonProjects\\kaidata_geolake\\Data\\raw\\hais_2024-10-11.snappy.parquet\n",
      "- C:\\Users\\ANDRI\\Documents\\PythonProjects\\kaidata_geolake\\Data\\raw\\hais_2024-10-12.snappy.parquet\n",
      "- C:\\Users\\ANDRI\\Documents\\PythonProjects\\kaidata_geolake\\Data\\raw\\hais_2024-10-13.snappy.parquet\n",
      "- C:\\Users\\ANDRI\\Documents\\PythonProjects\\kaidata_geolake\\Data\\raw\\hais_2024-10-14.snappy.parquet\n",
      "- C:\\Users\\ANDRI\\Documents\\PythonProjects\\kaidata_geolake\\Data\\raw\\hais_2024-10-15.snappy.parquet\n",
      "- C:\\Users\\ANDRI\\Documents\\PythonProjects\\kaidata_geolake\\Data\\raw\\hais_2024-10-16.snappy.parquet\n",
      "- C:\\Users\\ANDRI\\Documents\\PythonProjects\\kaidata_geolake\\Data\\raw\\hais_2024-10-17.snappy.parquet\n",
      "- C:\\Users\\ANDRI\\Documents\\PythonProjects\\kaidata_geolake\\Data\\raw\\hais_2024-10-18.snappy.parquet\n",
      "- C:\\Users\\ANDRI\\Documents\\PythonProjects\\kaidata_geolake\\Data\\raw\\hais_2024-10-19.snappy.parquet\n",
      "- C:\\Users\\ANDRI\\Documents\\PythonProjects\\kaidata_geolake\\Data\\raw\\hais_2024-10-20.snappy.parquet\n",
      "- C:\\Users\\ANDRI\\Documents\\PythonProjects\\kaidata_geolake\\Data\\raw\\hais_2024-10-21.snappy.parquet\n",
      "- C:\\Users\\ANDRI\\Documents\\PythonProjects\\kaidata_geolake\\Data\\raw\\hais_2024-10-22.snappy.parquet\n",
      "- C:\\Users\\ANDRI\\Documents\\PythonProjects\\kaidata_geolake\\Data\\raw\\hais_2024-10-23.snappy.parquet\n",
      "- C:\\Users\\ANDRI\\Documents\\PythonProjects\\kaidata_geolake\\Data\\raw\\hais_2024-10-24.snappy.parquet\n",
      "- C:\\Users\\ANDRI\\Documents\\PythonProjects\\kaidata_geolake\\Data\\raw\\hais_2024-10-25.snappy.parquet\n",
      "- C:\\Users\\ANDRI\\Documents\\PythonProjects\\kaidata_geolake\\Data\\raw\\hais_2024-10-26.snappy.parquet\n",
      "- C:\\Users\\ANDRI\\Documents\\PythonProjects\\kaidata_geolake\\Data\\raw\\hais_2024-10-27.snappy.parquet\n",
      "- C:\\Users\\ANDRI\\Documents\\PythonProjects\\kaidata_geolake\\Data\\raw\\hais_2024-10-28.snappy.parquet\n",
      "- C:\\Users\\ANDRI\\Documents\\PythonProjects\\kaidata_geolake\\Data\\raw\\hais_2024-10-29.snappy.parquet\n",
      "- C:\\Users\\ANDRI\\Documents\\PythonProjects\\kaidata_geolake\\Data\\raw\\hais_2024-10-30.snappy.parquet\n",
      "- C:\\Users\\ANDRI\\Documents\\PythonProjects\\kaidata_geolake\\Data\\raw\\hais_2024-10-31.snappy.parquet\n",
      "- C:\\Users\\ANDRI\\Documents\\PythonProjects\\kaidata_geolake\\Data\\raw\\hais_2024-11-01.snappy.parquet\n",
      "- C:\\Users\\ANDRI\\Documents\\PythonProjects\\kaidata_geolake\\Data\\raw\\hais_2024-11-02.snappy.parquet\n",
      "- C:\\Users\\ANDRI\\Documents\\PythonProjects\\kaidata_geolake\\Data\\raw\\hais_2024-11-03.snappy.parquet\n",
      "- C:\\Users\\ANDRI\\Documents\\PythonProjects\\kaidata_geolake\\Data\\raw\\hais_2024-11-04.snappy.parquet\n",
      "- C:\\Users\\ANDRI\\Documents\\PythonProjects\\kaidata_geolake\\Data\\raw\\hais_2024-11-05.snappy.parquet\n",
      "- C:\\Users\\ANDRI\\Documents\\PythonProjects\\kaidata_geolake\\Data\\raw\\hais_2024-11-06.snappy.parquet\n",
      "- C:\\Users\\ANDRI\\Documents\\PythonProjects\\kaidata_geolake\\Data\\raw\\hais_2024-11-07.snappy.parquet\n",
      "- C:\\Users\\ANDRI\\Documents\\PythonProjects\\kaidata_geolake\\Data\\raw\\hais_2024-11-08.snappy.parquet\n",
      "- C:\\Users\\ANDRI\\Documents\\PythonProjects\\kaidata_geolake\\Data\\raw\\hais_2024-11-09.snappy.parquet\n",
      "- C:\\Users\\ANDRI\\Documents\\PythonProjects\\kaidata_geolake\\Data\\raw\\hais_2024-11-10.snappy.parquet\n",
      "- C:\\Users\\ANDRI\\Documents\\PythonProjects\\kaidata_geolake\\Data\\raw\\hais_2024-11-11.snappy.parquet\n",
      "- C:\\Users\\ANDRI\\Documents\\PythonProjects\\kaidata_geolake\\Data\\raw\\hais_2024-11-12.snappy.parquet\n",
      "- C:\\Users\\ANDRI\\Documents\\PythonProjects\\kaidata_geolake\\Data\\raw\\hais_2024-11-13.snappy.parquet\n",
      "- C:\\Users\\ANDRI\\Documents\\PythonProjects\\kaidata_geolake\\Data\\raw\\hais_2024-11-14.snappy.parquet\n",
      "- C:\\Users\\ANDRI\\Documents\\PythonProjects\\kaidata_geolake\\Data\\raw\\hais_2024-11-15.snappy.parquet\n",
      "- C:\\Users\\ANDRI\\Documents\\PythonProjects\\kaidata_geolake\\Data\\raw\\hais_2024-11-16.snappy.parquet\n",
      "- C:\\Users\\ANDRI\\Documents\\PythonProjects\\kaidata_geolake\\Data\\raw\\hais_2024-11-17.snappy.parquet\n",
      "- C:\\Users\\ANDRI\\Documents\\PythonProjects\\kaidata_geolake\\Data\\raw\\hais_2024-11-18.snappy.parquet\n",
      "- C:\\Users\\ANDRI\\Documents\\PythonProjects\\kaidata_geolake\\Data\\raw\\hais_2024-11-19.snappy.parquet\n",
      "- C:\\Users\\ANDRI\\Documents\\PythonProjects\\kaidata_geolake\\Data\\raw\\hais_2024-11-20.snappy.parquet\n",
      "- C:\\Users\\ANDRI\\Documents\\PythonProjects\\kaidata_geolake\\Data\\raw\\hais_2024-11-21.snappy.parquet\n",
      "- C:\\Users\\ANDRI\\Documents\\PythonProjects\\kaidata_geolake\\Data\\raw\\hais_2024-11-22.snappy.parquet\n",
      "- C:\\Users\\ANDRI\\Documents\\PythonProjects\\kaidata_geolake\\Data\\raw\\hais_2024-11-23.snappy.parquet\n",
      "- C:\\Users\\ANDRI\\Documents\\PythonProjects\\kaidata_geolake\\Data\\raw\\hais_2024-11-24.snappy.parquet\n",
      "- C:\\Users\\ANDRI\\Documents\\PythonProjects\\kaidata_geolake\\Data\\raw\\hais_2024-11-25.snappy.parquet\n",
      "- C:\\Users\\ANDRI\\Documents\\PythonProjects\\kaidata_geolake\\Data\\raw\\hais_2024-11-26.snappy.parquet\n",
      "- C:\\Users\\ANDRI\\Documents\\PythonProjects\\kaidata_geolake\\Data\\raw\\hais_2024-11-27.snappy.parquet\n",
      "- C:\\Users\\ANDRI\\Documents\\PythonProjects\\kaidata_geolake\\Data\\raw\\hais_2024-11-28.snappy.parquet\n",
      "- C:\\Users\\ANDRI\\Documents\\PythonProjects\\kaidata_geolake\\Data\\raw\\hais_2024-11-29.snappy.parquet\n",
      "- C:\\Users\\ANDRI\\Documents\\PythonProjects\\kaidata_geolake\\Data\\raw\\hais_2024-11-30.snappy.parquet\n",
      "- C:\\Users\\ANDRI\\Documents\\PythonProjects\\kaidata_geolake\\Data\\raw\\hais_2024-12-01.snappy.parquet\n",
      "- C:\\Users\\ANDRI\\Documents\\PythonProjects\\kaidata_geolake\\Data\\raw\\hais_2024-12-02.snappy.parquet\n",
      "- C:\\Users\\ANDRI\\Documents\\PythonProjects\\kaidata_geolake\\Data\\raw\\hais_2024-12-03.snappy.parquet\n",
      "- C:\\Users\\ANDRI\\Documents\\PythonProjects\\kaidata_geolake\\Data\\raw\\hais_2024-12-04.snappy.parquet\n",
      "- C:\\Users\\ANDRI\\Documents\\PythonProjects\\kaidata_geolake\\Data\\raw\\hais_2024-12-05.snappy.parquet\n",
      "- C:\\Users\\ANDRI\\Documents\\PythonProjects\\kaidata_geolake\\Data\\raw\\hais_2024-12-06.snappy.parquet\n",
      "- C:\\Users\\ANDRI\\Documents\\PythonProjects\\kaidata_geolake\\Data\\raw\\hais_2024-12-07.snappy.parquet\n",
      "- C:\\Users\\ANDRI\\Documents\\PythonProjects\\kaidata_geolake\\Data\\raw\\hais_2024-12-08.snappy.parquet\n",
      "- C:\\Users\\ANDRI\\Documents\\PythonProjects\\kaidata_geolake\\Data\\raw\\hais_2024-12-09.snappy.parquet\n",
      "- C:\\Users\\ANDRI\\Documents\\PythonProjects\\kaidata_geolake\\Data\\raw\\hais_2024-12-10.snappy.parquet\n",
      "- C:\\Users\\ANDRI\\Documents\\PythonProjects\\kaidata_geolake\\Data\\raw\\hais_2024-12-11.snappy.parquet\n",
      "- C:\\Users\\ANDRI\\Documents\\PythonProjects\\kaidata_geolake\\Data\\raw\\hais_2024-12-12.snappy.parquet\n",
      "- C:\\Users\\ANDRI\\Documents\\PythonProjects\\kaidata_geolake\\Data\\raw\\hais_2024-12-13.snappy.parquet\n",
      "- C:\\Users\\ANDRI\\Documents\\PythonProjects\\kaidata_geolake\\Data\\raw\\hais_2024-12-14.snappy.parquet\n",
      "- C:\\Users\\ANDRI\\Documents\\PythonProjects\\kaidata_geolake\\Data\\raw\\hais_2024-12-15.snappy.parquet\n",
      "- C:\\Users\\ANDRI\\Documents\\PythonProjects\\kaidata_geolake\\Data\\raw\\hais_2024-12-16.snappy.parquet\n",
      "- C:\\Users\\ANDRI\\Documents\\PythonProjects\\kaidata_geolake\\Data\\raw\\hais_2024-12-17.snappy.parquet\n",
      "- C:\\Users\\ANDRI\\Documents\\PythonProjects\\kaidata_geolake\\Data\\raw\\hais_2024-12-18.snappy.parquet\n",
      "- C:\\Users\\ANDRI\\Documents\\PythonProjects\\kaidata_geolake\\Data\\raw\\hais_2024-12-19.snappy.parquet\n",
      "- C:\\Users\\ANDRI\\Documents\\PythonProjects\\kaidata_geolake\\Data\\raw\\hais_2024-12-20.snappy.parquet\n",
      "- C:\\Users\\ANDRI\\Documents\\PythonProjects\\kaidata_geolake\\Data\\raw\\hais_2024-12-21.snappy.parquet\n",
      "- C:\\Users\\ANDRI\\Documents\\PythonProjects\\kaidata_geolake\\Data\\raw\\hais_2024-12-22.snappy.parquet\n",
      "- C:\\Users\\ANDRI\\Documents\\PythonProjects\\kaidata_geolake\\Data\\raw\\hais_2024-12-23.snappy.parquet\n",
      "- C:\\Users\\ANDRI\\Documents\\PythonProjects\\kaidata_geolake\\Data\\raw\\hais_2024-12-24.snappy.parquet\n",
      "- C:\\Users\\ANDRI\\Documents\\PythonProjects\\kaidata_geolake\\Data\\raw\\hais_2024-12-25.snappy.parquet\n",
      "- C:\\Users\\ANDRI\\Documents\\PythonProjects\\kaidata_geolake\\Data\\raw\\hais_2024-12-26.snappy.parquet\n",
      "- C:\\Users\\ANDRI\\Documents\\PythonProjects\\kaidata_geolake\\Data\\raw\\hais_2024-12-27.snappy.parquet\n",
      "- C:\\Users\\ANDRI\\Documents\\PythonProjects\\kaidata_geolake\\Data\\raw\\hais_2024-12-28.snappy.parquet\n",
      "- C:\\Users\\ANDRI\\Documents\\PythonProjects\\kaidata_geolake\\Data\\raw\\hais_2024-12-29.snappy.parquet\n",
      "- C:\\Users\\ANDRI\\Documents\\PythonProjects\\kaidata_geolake\\Data\\raw\\hais_2024-12-30.snappy.parquet\n",
      "- C:\\Users\\ANDRI\\Documents\\PythonProjects\\kaidata_geolake\\Data\\raw\\hais_2024-12-31.snappy.parquet\n"
     ]
    }
   ],
   "execution_count": 26
  },
  {
   "metadata": {},
   "cell_type": "markdown",
   "source": "## Hovedfunskjoner",
   "id": "ccddfbd1859b7cb4"
  },
  {
   "metadata": {},
   "cell_type": "markdown",
   "source": "### Filtrering",
   "id": "6939ebaa962772bc"
  },
  {
   "metadata": {
    "ExecuteTime": {
     "end_time": "2025-03-13T21:54:05.943130Z",
     "start_time": "2025-03-13T21:54:05.939130Z"
    }
   },
   "cell_type": "code",
   "source": [
    "def filtering_time(gdf: GeoDataFrame, time: str) -> None:\n",
    "    # Filtrering basert på attributt/kolonne\n",
    "    if 'date_time_utc' in gdf.columns:\n",
    "        filtered_by_date = gdf[gdf['date_time_utc'] >= time]\n",
    "        print(f\"Antall rader etter datofiltrering: {len(filtered_by_date)}\")\n",
    "        display(filtered_by_date.head())"
   ],
   "id": "cb4e32bd4b79ae46",
   "outputs": [],
   "execution_count": 27
  },
  {
   "metadata": {
    "ExecuteTime": {
     "end_time": "2025-03-13T21:54:05.954703Z",
     "start_time": "2025-03-13T21:54:05.951704Z"
    }
   },
   "cell_type": "code",
   "source": [
    "def filtering_geomtry(gdf: GeoDataFrame, area: box) -> None:\n",
    "    # Filtrering basert på geometri (f.eks. et område)\n",
    "    \n",
    "    within_area = gdf[gdf.geometry.intersects(area)]\n",
    "    print(f\"Antall rader innenfor det definerte området: {len(within_area)}\")\n",
    "    display(within_area.head())"
   ],
   "id": "23347c741a1bcbc2",
   "outputs": [],
   "execution_count": 28
  },
  {
   "metadata": {
    "ExecuteTime": {
     "end_time": "2025-03-13T21:54:05.982962Z",
     "start_time": "2025-03-13T21:54:05.978963Z"
    }
   },
   "cell_type": "code",
   "source": [
    "def filtering_multiply_criteria(gdf: GeoDataFrame, area: box) -> None:\n",
    "    # Kombinert filtrering med flere kriterier\n",
    "    if 'attributt' in gdf.columns:\n",
    "        kombinert_filter = gdf[(gdf.geometry.intersects(area)) & (gdf['attributt'] > 10)]\n",
    "        print(f\"Antall rader etter kombinert filtrering: {len(kombinert_filter)}\")\n",
    "        display(kombinert_filter.head())"
   ],
   "id": "22ea25f92ef253e8",
   "outputs": [],
   "execution_count": 29
  },
  {
   "metadata": {
    "ExecuteTime": {
     "end_time": "2025-03-13T21:54:05.994094Z",
     "start_time": "2025-03-13T21:54:05.990752Z"
    }
   },
   "cell_type": "code",
   "source": [
    "def filtering_col(df, cols):\n",
    "    valid_cols = []\n",
    "    for col in cols:\n",
    "        if check_col_exists(df, col):\n",
    "            valid_cols.append(col)\n",
    "        else:\n",
    "            print(f\"The column {col} don't exists in the dataframe\")\n",
    "    new_df = df[valid_cols].copy()\n",
    "    return new_df"
   ],
   "id": "aa37a481dfb1e5f5",
   "outputs": [],
   "execution_count": 30
  },
  {
   "metadata": {},
   "cell_type": "code",
   "outputs": [],
   "execution_count": null,
   "source": [
    "def filtering_rad(df, search_word):\n",
    "    # Convert search word to lowercase for case-insensitive search\n",
    "    search_word = str(search_word).lower()\n",
    "    \n",
    "    # Create a boolean mask where any column contains search_word\n",
    "    matches = df.apply(lambda row: row.astype(str).str.lower().str.contains(search_word, na=False), axis=1).any(axis=1)\n",
    "\n",
    "    # Check if there are any matches\n",
    "    if not matches.any():\n",
    "        print(f\"'{search_word}' is not in the dataframe\")\n",
    "        return df.iloc[0:0]  # Return an empty DataFrame instead of None\n",
    "    \n",
    "    return df[matches]  # Return only matching rows"
   ],
   "id": "b43d1c3e9d5ba854"
  },
  {
   "metadata": {
    "ExecuteTime": {
     "end_time": "2025-03-13T21:54:06.320027Z",
     "start_time": "2025-03-13T21:54:05.999099Z"
    }
   },
   "cell_type": "code",
   "source": [
    "# Les geoparquet-filen\n",
    "filepath = f\"{FOLDER['raw']}/hais_2024-01-01.snappy.parquet\"\n",
    "gdf = get_geoparquet_file(filepath)\n",
    "filtering_time(gdf, '2025-01-01 16:00:00')\n",
    "filtering_geomtry(gdf, box(5.0, 60.0, 11.0, 60.0))\n",
    "filtering_multiply_criteria(gdf, box(5.0, 60.0, 11.0, 60.0))"
   ],
   "id": "498bce6962cb735",
   "outputs": [
    {
     "name": "stdout",
     "output_type": "stream",
     "text": [
      "Antall rader etter datofiltrering: 0\n"
     ]
    },
    {
     "data": {
      "text/plain": [
       "Empty GeoDataFrame\n",
       "Columns: [date_time_utc, mmsi, longitude, latitude, status, course_over_ground, speed_over_ground, rate_of_turn, maneuvre, imo, callsign, ship_name, ship_type, length, draught, data_source, ais_class, hex_7, hex_14, geometry]\n",
       "Index: []"
      ],
      "text/html": [
       "<div>\n",
       "<style scoped>\n",
       "    .dataframe tbody tr th:only-of-type {\n",
       "        vertical-align: middle;\n",
       "    }\n",
       "\n",
       "    .dataframe tbody tr th {\n",
       "        vertical-align: top;\n",
       "    }\n",
       "\n",
       "    .dataframe thead th {\n",
       "        text-align: right;\n",
       "    }\n",
       "</style>\n",
       "<table border=\"1\" class=\"dataframe\">\n",
       "  <thead>\n",
       "    <tr style=\"text-align: right;\">\n",
       "      <th></th>\n",
       "      <th>date_time_utc</th>\n",
       "      <th>mmsi</th>\n",
       "      <th>longitude</th>\n",
       "      <th>latitude</th>\n",
       "      <th>status</th>\n",
       "      <th>course_over_ground</th>\n",
       "      <th>speed_over_ground</th>\n",
       "      <th>rate_of_turn</th>\n",
       "      <th>maneuvre</th>\n",
       "      <th>imo</th>\n",
       "      <th>callsign</th>\n",
       "      <th>ship_name</th>\n",
       "      <th>ship_type</th>\n",
       "      <th>length</th>\n",
       "      <th>draught</th>\n",
       "      <th>data_source</th>\n",
       "      <th>ais_class</th>\n",
       "      <th>hex_7</th>\n",
       "      <th>hex_14</th>\n",
       "      <th>geometry</th>\n",
       "    </tr>\n",
       "  </thead>\n",
       "  <tbody>\n",
       "  </tbody>\n",
       "</table>\n",
       "</div>"
      ]
     },
     "metadata": {},
     "output_type": "display_data"
    },
    {
     "name": "stdout",
     "output_type": "stream",
     "text": [
      "Antall rader innenfor det definerte området: 0\n"
     ]
    },
    {
     "data": {
      "text/plain": [
       "Empty GeoDataFrame\n",
       "Columns: [date_time_utc, mmsi, longitude, latitude, status, course_over_ground, speed_over_ground, rate_of_turn, maneuvre, imo, callsign, ship_name, ship_type, length, draught, data_source, ais_class, hex_7, hex_14, geometry]\n",
       "Index: []"
      ],
      "text/html": [
       "<div>\n",
       "<style scoped>\n",
       "    .dataframe tbody tr th:only-of-type {\n",
       "        vertical-align: middle;\n",
       "    }\n",
       "\n",
       "    .dataframe tbody tr th {\n",
       "        vertical-align: top;\n",
       "    }\n",
       "\n",
       "    .dataframe thead th {\n",
       "        text-align: right;\n",
       "    }\n",
       "</style>\n",
       "<table border=\"1\" class=\"dataframe\">\n",
       "  <thead>\n",
       "    <tr style=\"text-align: right;\">\n",
       "      <th></th>\n",
       "      <th>date_time_utc</th>\n",
       "      <th>mmsi</th>\n",
       "      <th>longitude</th>\n",
       "      <th>latitude</th>\n",
       "      <th>status</th>\n",
       "      <th>course_over_ground</th>\n",
       "      <th>speed_over_ground</th>\n",
       "      <th>rate_of_turn</th>\n",
       "      <th>maneuvre</th>\n",
       "      <th>imo</th>\n",
       "      <th>callsign</th>\n",
       "      <th>ship_name</th>\n",
       "      <th>ship_type</th>\n",
       "      <th>length</th>\n",
       "      <th>draught</th>\n",
       "      <th>data_source</th>\n",
       "      <th>ais_class</th>\n",
       "      <th>hex_7</th>\n",
       "      <th>hex_14</th>\n",
       "      <th>geometry</th>\n",
       "    </tr>\n",
       "  </thead>\n",
       "  <tbody>\n",
       "  </tbody>\n",
       "</table>\n",
       "</div>"
      ]
     },
     "metadata": {},
     "output_type": "display_data"
    }
   ],
   "execution_count": 31
  },
  {
   "metadata": {},
   "cell_type": "markdown",
   "source": "### Partisjonerte",
   "id": "35ebee5c9f161f2d"
  },
  {
   "metadata": {
    "ExecuteTime": {
     "end_time": "2025-03-13T21:54:47.077350Z",
     "start_time": "2025-03-13T21:54:47.052140Z"
    }
   },
   "cell_type": "code",
   "source": [
    "# 1. Opprett en mappe for partisjonerte data\n",
    "output_mappe = \"Data/partitioned_hour\"\n",
    "os.makedirs(output_mappe, exist_ok=True)\n",
    "\n",
    "# 2. Lag en kopi for å unngå SettingWithCopyWarning\n",
    "within_area = gdf[gdf.geometry.intersects(box(5.0, 60.0, 11.0, 60.0))]\n",
    "data_for_partisjonering = within_area.copy()\n",
    "\n",
    "# 3. Bruk .loc for å legge til time-kolonnen\n",
    "data_for_partisjonering.loc[:, 'time'] = data_for_partisjonering['date_time_utc'].dt.hour\n",
    "\n",
    "# 4. Partisjonering basert på time og ship_type\n",
    "for time, gruppe_time in data_for_partisjonering.groupby('time'):\n",
    "    time_mappe = os.path.join(output_mappe, f\"time={time:02d}\")\n",
    "    os.makedirs(time_mappe, exist_ok=True)\n",
    "    \n",
    "    for ship_type, gruppe_final in gruppe_time.groupby('ship_type'):\n",
    "        skip_mappe = os.path.join(time_mappe, f\"ship_type={ship_type}\")\n",
    "        os.makedirs(skip_mappe, exist_ok=True)\n",
    "        \n",
    "        # Bruk en kopi av dataene\n",
    "        data_å_lagre = gruppe_final.copy()\n",
    "        \n",
    "        # Fjern partisjoneringskolonnen før lagring\n",
    "        fil_sti = os.path.join(skip_mappe, f\"data.parquet\")\n",
    "        data_å_lagre.drop('time', axis=1).to_parquet(fil_sti)\n",
    "        \n",
    "        print(f\"Skrevet {len(gruppe_final)} rader til {fil_sti}\")"
   ],
   "id": "56f4f3ed40e778b5",
   "outputs": [],
   "execution_count": 33
  },
  {
   "metadata": {
    "ExecuteTime": {
     "end_time": "2025-03-13T21:54:52.105602Z",
     "start_time": "2025-03-13T21:54:52.101739Z"
    }
   },
   "cell_type": "code",
   "source": [
    "partisjon_mappe = \"Data/partitioned_hour\"\n",
    "\n",
    "# Hente data for en spesifikk måned\n",
    "ønsket_måned = \"2025-01\"\n",
    "måned_sti = os.path.join(partisjon_mappe, f\"år_måned={ønsket_måned}\")\n",
    "\n",
    "if os.path.exists(måned_sti):\n",
    "    print(f\"Leser data for {ønsket_måned}...\")\n",
    "    # Finn alle geoparquet-filer i denne månedens mappe (inkludert undermapper)\n",
    "    filer = glob.glob(os.path.join(måned_sti, \"**/*.parquet\"), recursive=True)\n",
    "    # Les og kombiner alle filene\n",
    "    dataframes = []\n",
    "    for fil in filer:\n",
    "        gdf = gpd.read_parquet(fil)\n",
    "        dataframes.append(gdf)\n",
    "    \n",
    "    if dataframes:\n",
    "        månedsdata = pd.concat(dataframes)\n",
    "        print(f\"Hentet {len(månedsdata)} rader for {ønsket_måned}\")\n",
    "        display(månedsdata.head())\n",
    "    else:\n",
    "        print(f\"Ingen data funnet for {ønsket_måned}\")\n",
    "else:\n",
    "    print(f\"Ingen mappe funnet for {ønsket_måned}\")\n",
    "\n",
    "# Hente data for en spesifikk skipstype\n",
    "ønsket_skipstype = 30\n",
    "skipstype_stier = glob.glob(os.path.join(partisjon_mappe, f\"**/ship_type={ønsket_skipstype}/*.parquet\"), recursive=True)\n",
    "\n",
    "if skipstype_stier:\n",
    "    print(f\"\\nLeser data for skipstype {ønsket_skipstype}...\")\n",
    "    skipstype_dataframes = []\n",
    "    for fil in skipstype_stier:\n",
    "        gdf = gpd.read_parquet(fil)\n",
    "        skipstype_dataframes.append(gdf)\n",
    "    \n",
    "    skipstype_data = pd.concat(skipstype_dataframes)\n",
    "    print(f\"Hentet {len(skipstype_data)} rader for skipstype {ønsket_skipstype}\")\n",
    "    display(skipstype_data.head())\n",
    "else:\n",
    "    print(f\"Ingen data funnet for skipstype {ønsket_skipstype}\")"
   ],
   "id": "f6a458ea92d74d54",
   "outputs": [
    {
     "name": "stdout",
     "output_type": "stream",
     "text": [
      "Ingen mappe funnet for 2025-01\n",
      "Ingen data funnet for skipstype 30\n"
     ]
    }
   ],
   "execution_count": 34
  },
  {
   "metadata": {
    "ExecuteTime": {
     "end_time": "2025-03-13T21:55:08.739203Z",
     "start_time": "2025-03-13T21:55:08.733456Z"
    }
   },
   "cell_type": "code",
   "source": [
    "# 1. Opprett en mappe for partisjonerte data\n",
    "output_mappe = \"Data/partitioned_minutes\"\n",
    "os.makedirs(output_mappe, exist_ok=True)\n",
    "\n",
    "# 2. Lag en kopi for å unngå SettingWithCopyWarning\n",
    "data_for_partisjonering = within_area.copy()\n",
    "\n",
    "# 3. Bruk .loc for å legge til 10-minutters intervall kolonne\n",
    "# Dette gir intervaller 0-143 for hele dagen (144 intervaller på 10 minutter)\n",
    "data_for_partisjonering.loc[:, 'minuttgruppe'] = (\n",
    "    data_for_partisjonering['date_time_utc'].dt.hour * 6 + \n",
    "    data_for_partisjonering['date_time_utc'].dt.minute // 10\n",
    ")\n",
    "\n",
    "# 4. Partisjonering basert på minuttgruppe og ship_type\n",
    "for minuttgruppe, gruppe_minutt in data_for_partisjonering.groupby('minuttgruppe'):\n",
    "    # Konverter minuttgruppe til time og minutt for mappe-strukturen\n",
    "    time = minuttgruppe // 6\n",
    "    minutt = (minuttgruppe % 6) * 10\n",
    "    \n",
    "    # Lag en lesbar mappestruktur (time_minutt=HH_MM)\n",
    "    minutt_mappe = os.path.join(output_mappe, f\"time_minutt={time:02d}_{minutt:02d}\")\n",
    "    os.makedirs(minutt_mappe, exist_ok=True)\n",
    "    \n",
    "    for ship_type, gruppe_final in gruppe_minutt.groupby('ship_type'):\n",
    "        skip_mappe = os.path.join(minutt_mappe, f\"ship_type={ship_type}\")\n",
    "        os.makedirs(skip_mappe, exist_ok=True)\n",
    "        \n",
    "        # Bruk en kopi av dataene\n",
    "        data_å_lagre = gruppe_final.copy()\n",
    "        \n",
    "        # Fjern partisjoneringskolonnen før lagring\n",
    "        fil_sti = os.path.join(skip_mappe, f\"data.parquet\")\n",
    "        data_å_lagre.drop('minuttgruppe', axis=1).to_parquet(fil_sti)\n",
    "        \n",
    "        print(f\"Skrevet {len(gruppe_final)} rader til {fil_sti}\")"
   ],
   "id": "32e3a7d0605f2bae",
   "outputs": [],
   "execution_count": 35
  },
  {
   "metadata": {},
   "cell_type": "markdown",
   "source": "### Strømming",
   "id": "5e26783c2e2b85d8"
  },
  {
   "metadata": {
    "ExecuteTime": {
     "end_time": "2025-03-13T21:54:06.639458700Z",
     "start_time": "2025-03-13T21:30:25.605666Z"
    }
   },
   "cell_type": "code",
   "source": "",
   "id": "10584cdbcd0515aa",
   "outputs": [
    {
     "name": "stdout",
     "output_type": "stream",
     "text": [
      "\n",
      "Simulerer datastrømming over timer...\n",
      "\n",
      "Datastrømming komplett!\n"
     ]
    }
   ],
   "execution_count": 31
  },
  {
   "metadata": {
    "ExecuteTime": {
     "end_time": "2025-03-13T21:54:06.639458700Z",
     "start_time": "2025-03-13T21:30:27.443557Z"
    }
   },
   "cell_type": "code",
   "source": [
    "# Simulert datastrømming over 10-minutters intervaller\n",
    "partisjon_mappe = \"Data/partitioned_minutes\"\n",
    "\n",
    "# Finn alle minutt-mapper sortert kronologisk\n",
    "alle_intervaller = sorted([d for d in os.listdir(partisjon_mappe) if d.startswith(\"time_minutt=\")])\n",
    "\n",
    "print(\"\\nSimulerer datastrømming over 10-minutters intervaller...\")\n",
    "for intervall_dir in alle_intervaller:\n",
    "    # Hent time og minutt fra mappenavnet\n",
    "    match = re.search(r\"time_minutt=(\\d{2})_(\\d{2})\", intervall_dir)\n",
    "    if match:\n",
    "        time, minutt = match.groups()\n",
    "        \n",
    "        intervall_sti = os.path.join(partisjon_mappe, intervall_dir)\n",
    "        print(f\"\\nProsesserer data for {time}:{minutt}...\")\n",
    "        \n",
    "        # Finn alle geoparquet-filer for dette intervallet\n",
    "        filer = glob.glob(os.path.join(intervall_sti, \"**/*.parquet\"), recursive=True)\n",
    "        \n",
    "        # Les og bearbeid hver fil\n",
    "        intervall_data = []\n",
    "        for fil in filer:\n",
    "            gdf = gpd.read_parquet(fil)\n",
    "            intervall_data.append(gdf)\n",
    "            \n",
    "        if intervall_data:\n",
    "            samlet_data = pd.concat(intervall_data)\n",
    "            print(f\"Kl. {time}:{minutt}: Lastet {len(samlet_data)} rader fra {len(filer)} filer\")\n",
    "            \n",
    "            # Her kan du gjøre din analyse for dette intervallet\n",
    "            print(f\"  Gjennomsnittlig hastighet (SOG): {samlet_data['speed_over_ground'].mean():.2f}\")\n",
    "            print(f\"  Antall unike skip: {samlet_data['mmsi'].nunique()}\")\n",
    "            \n",
    "            # Sorter data etter nøyaktig tidspunkt innen intervallet\n",
    "            samlet_data_sortert = samlet_data.sort_values('date_time_utc')\n",
    "            \n",
    "            # Her kunne du lagt til mer analyse eller visualisering\n",
    "            # For eksempel se på hvordan skip beveger seg innen dette 10-minutters intervallet\n",
    "            \n",
    "        else:\n",
    "            print(f\"Ingen data funnet for kl. {time}:{minutt}\")\n",
    "        \n",
    "        # Simuler tid mellom intervaller (kortere siden dette er en mer detaljert simulering)\n",
    "        time_module.sleep(0.5)  # Vent et halvt sekund mellom hvert intervall\n",
    "        \n",
    "print(\"\\nDatastrømming komplett!\")"
   ],
   "id": "2f3f847ef32ee13d",
   "outputs": [
    {
     "name": "stdout",
     "output_type": "stream",
     "text": [
      "\n",
      "Simulerer datastrømming over 10-minutters intervaller...\n",
      "\n",
      "Datastrømming komplett!\n"
     ]
    }
   ],
   "execution_count": 32
  },
  {
   "metadata": {},
   "cell_type": "markdown",
   "source": "## Main",
   "id": "2cd206b5f48b74b1"
  },
  {
   "metadata": {
    "ExecuteTime": {
     "end_time": "2025-03-13T21:54:06.651969300Z",
     "start_time": "2025-03-13T21:30:29.615166Z"
    }
   },
   "cell_type": "code",
   "source": [
    "# ## Konvertere én enkelt fil - eksempel\n",
    "\n",
    "# Definerer stier basert på den opprettede mappestrukturen\n",
    "if os.path.exists(ROT_FOLDER):\n",
    "    rå_mappe = os.path.join(ROT_FOLDER, \"raw\")\n",
    "    prosessert_mappe = os.path.join(ROT_FOLDER, \"processed\")\n",
    "\n",
    "    # Eksempelfil - dette er for demonstrasjon,\n",
    "    eksempelfil = os.path.join(rå_mappe, \"veier_kristiansand.geojson\")\n",
    "\n",
    "    # Utfør kun hvis filen eksisterer (endre denne kommentaren hvis du har en faktisk fil)\n",
    "    if os.path.exists(eksempelfil):\n",
    "        print(f\"Konverterer {eksempelfil}...\")\n",
    "        resultat = converter_parquet(eksempelfil)\n",
    "        if resultat:\n",
    "            print(f\"Filen ble konvertert og lagret til: {resultat}\")\n",
    "\n",
    "            # Lese og vise data\n",
    "            try:\n",
    "                gdf = gpd.read_parquet(resultat)\n",
    "                display(gdf.head())\n",
    "\n",
    "                # Enkel kartvisning\n",
    "                import matplotlib.pyplot as plt\n",
    "                fig, ax = plt.subplots(figsize=(10,8))\n",
    "                gdf.plot(ax=ax)\n",
    "                plt.title(\"Konvertert GeoParquet-fil\")\n",
    "                plt.show()\n",
    "            except Exception as e:\n",
    "                print(f\"Kunne ikke vise data: {e}\")\n",
    "    else:\n",
    "        print(f\"Ingen eksempelfil funnet på {eksempelfil}\")\n",
    "        print(\"For å teste konvertering:\")\n",
    "        print(f\"1. Legg en geografisk fil (f.eks. GeoJSON eller Shapefile) i {rå_mappe}\")\n",
    "        print(f\"2. Kjør denne cellen på nytt med korrekt filsti\")\n",
    "else:\n",
    "    print(f\"Rotmappe {ROT_FOLDER} finnes ikke. Kjør seksjon 8 først.\")"
   ],
   "id": "33efb0c476aacc4e",
   "outputs": [
    {
     "name": "stdout",
     "output_type": "stream",
     "text": [
      "Ingen eksempelfil funnet på Data\\raw\\veier_kristiansand.geojson\n",
      "For å teste konvertering:\n",
      "1. Legg en geografisk fil (f.eks. GeoJSON eller Shapefile) i Data\\raw\n",
      "2. Kjør denne cellen på nytt med korrekt filsti\n"
     ]
    }
   ],
   "execution_count": 33
  },
  {
   "metadata": {},
   "cell_type": "code",
   "outputs": [],
   "execution_count": null,
   "source": [
    "import pandas as pd\n",
    "\n",
    "\n",
    "geo_parquet_file = \"data/hais_2024-01-01.snappy.parquet\"\n",
    "\n",
    "# Les filen\n",
    "df = pd.read_parquet(geo_parquet_file)\n",
    "\n",
    "# Filtrer kun LOFOTEN og SUPERSPEED 1\n",
    "df = df[df[\"ship_name\"].isin([\"LOFOTEN\", \"SUPERSPEED 1\"])]\n",
    "print(\"Etter skipfilter:\", len(df))\n",
    "\n",
    "\n",
    "# Konvertere dato/tid\n",
    "df[\"date_time_utc\"] = pd.to_datetime(df[\"date_time_utc\"])\n",
    "df[\"hour\"] = df[\"date_time_utc\"].dt.hour\n",
    "\n",
    "# Sorter på tid \n",
    "df = df.sort_values(by=\"date_time_utc\").reset_index(drop=True)\n",
    "\n",
    "df[\"ship_name\"] = df[\"ship_name\"].astype(str)  # eller .astype(\"string\")\n",
    "\n",
    "df.to_parquet(\n",
    "    \"ais_data_partitioned\",\n",
    "    partition_cols=[\"ship_name\", \"hour\"],\n",
    "    index=False,\n",
    ")\n",
    "\n",
    "\n",
    "import pyarrow.parquet as pq\n",
    "\n",
    "filters = [\n",
    "    (\"ship_name\", \"=\", \"SUPERSPEED 1\"),  # valgfritt\n",
    "    (\"hour\", \">=\", 12),\n",
    "    (\"hour\", \"<=\", 14)\n",
    "]\n",
    "\n",
    "table = pq.read_table(\n",
    "    \"ais_data_partitioned\",\n",
    "    filters=filters,\n",
    "    columns=[\"date_time_utc\", \"ship_name\", \"longitude\", \"latitude\", \"geometry\"]\n",
    ")\n",
    "df_temp = table.to_pandas()\n",
    "\n",
    "print(\"Antall rader kl. 12–14:\", len(df_temp))\n",
    "\n",
    "\n",
    "import folium\n",
    "\n",
    "# Sorter dataene kronologisk\n",
    "df_sorted = df_temp.sort_values(by=\"date_time_utc\")\n",
    "\n",
    "# Hent første og siste rad\n",
    "df_first = df_sorted.head(1)\n",
    "df_last = df_sorted.tail(1)\n",
    "\n",
    "# Finn midtpunkt for kartet\n",
    "center_lat = df_sorted[\"latitude\"].mean()\n",
    "center_lon = df_sorted[\"longitude\"].mean()\n",
    "\n",
    "\n",
    "# Visualisering avstand\n",
    "# Lag Folium-kart\n",
    "m = folium.Map(location=[center_lat, center_lon], zoom_start=10)\n",
    "\n",
    "# Plot første punkt (grønn markør)\n",
    "for _, row in df_first.iterrows():\n",
    "    folium.Marker(\n",
    "        location=[row[\"latitude\"], row[\"longitude\"]],\n",
    "        popup=f\"Første posisjon: {row['ship_name']} - {row['date_time_utc']}\",\n",
    "        icon=folium.Icon(color=\"green\", icon=\"play\")\n",
    "    ).add_to(m)\n",
    "\n",
    "# Plot siste punkt (rød markør)\n",
    "for _, row in df_last.iterrows():\n",
    "    folium.Marker(\n",
    "        location=[row[\"latitude\"], row[\"longitude\"]],\n",
    "        popup=f\"Siste posisjon: {row['ship_name']} - {row['date_time_utc']}\",\n",
    "        icon=folium.Icon(color=\"red\", icon=\"stop\")\n",
    "    ).add_to(m)\n",
    "\n",
    "# Tegn linje mellom første og siste punkt\n",
    "# (Hent ut lat/lon fra df_first og df_last)\n",
    "start_coords = [df_first[\"latitude\"].iloc[0], df_first[\"longitude\"].iloc[0]]\n",
    "end_coords = [df_last[\"latitude\"].iloc[0], df_last[\"longitude\"].iloc[0]]\n",
    "folium.PolyLine(locations=[start_coords, end_coords],\n",
    "                color=\"blue\",\n",
    "                weight=2,\n",
    "                opacity=0.7).add_to(m)\n",
    "\n",
    "# Vis kartet\n",
    "m\n",
    "\n"
   ],
   "id": "af7c432fd4512b76"
  },
  {
   "metadata": {},
   "cell_type": "code",
   "outputs": [],
   "execution_count": null,
   "source": "",
   "id": "1f2c6db65556ac49"
  },
  {
   "metadata": {},
   "cell_type": "code",
   "outputs": [],
   "execution_count": null,
   "source": "    ",
   "id": "ad8e90e20b811c20"
  }
 ],
 "metadata": {
  "kernelspec": {
   "display_name": "Python 3",
   "language": "python",
   "name": "python3"
  },
  "language_info": {
   "codemirror_mode": {
    "name": "ipython",
    "version": 2
   },
   "file_extension": ".py",
   "mimetype": "text/x-python",
   "name": "python",
   "nbconvert_exporter": "python",
   "pygments_lexer": "ipython2",
   "version": "2.7.6"
  }
 },
 "nbformat": 4,
 "nbformat_minor": 5
}
