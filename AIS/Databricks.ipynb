{
 "cells": [
  {
   "cell_type": "markdown",
   "metadata": {
    "application/vnd.databricks.v1+cell": {
     "cellMetadata": {
      "byteLimit": 2048000,
      "rowLimit": 10000
     },
     "inputWidgets": {},
     "nuid": "1446137f-6fbc-4865-bcda-9f9629b92922",
     "showTitle": false,
     "tableResultSettingsMap": {},
     "title": ""
    }
   },
   "source": [
    "# Brukerhistorie 1\n",
    "Som bruker ønsker jeg å strømme AIS-data slik at jeg kan få tilgang til sanntids- og historiske skipsposisjoner filtrert etter mine behov.  \n",
    "\n",
    "Funksjonalitet: \n",
    "- Det skal være mulig å hente AIS-data direkte fra fil. Prosessen omhandler strømming som benytter “partial read\" som bruker kan filtrere ut data. \n",
    "\n",
    "Akseptkriterier: \n",
    "- Jeg skal kunne hente AIS-data direkte fra filer med geografisk filtrering og kolonnefiltrering.  \n",
    "- Jeg skal kunne filtrere data etter mine egne behov. \n",
    "\n",
    "Mål: \n",
    "- Strømmingen av AIS-data skal være en effektiv og brukervennlig prosess. Brukeren skal kunne filtrere data etter egne behov. Prosessen skal også benytte “partial read”, slik at data oppdateres automatisk og ytelsen optimaliseres. "
   ]
  },
  {
   "cell_type": "markdown",
   "metadata": {
    "application/vnd.databricks.v1+cell": {
     "cellMetadata": {
      "byteLimit": 2048000,
      "rowLimit": 10000
     },
     "inputWidgets": {},
     "nuid": "c85076ce-694c-47ad-a357-ff94b67a64e3",
     "showTitle": false,
     "tableResultSettingsMap": {},
     "title": ""
    }
   },
   "source": [
    "# Packages"
   ]
  },
  {
   "cell_type": "code",
   "execution_count": 0,
   "metadata": {
    "application/vnd.databricks.v1+cell": {
     "cellMetadata": {
      "byteLimit": 2048000,
      "rowLimit": 10000
     },
     "inputWidgets": {},
     "nuid": "28a5ba3b-8ee8-424b-9730-94f16fb3b6fb",
     "showTitle": false,
     "tableResultSettingsMap": {},
     "title": ""
    }
   },
   "outputs": [],
   "source": [
    "from sedona.spark import *\n",
    "import requests\n",
    "import os\n",
    "import json\n",
    "from pyspark.sql import Row\n",
    "import pyspark.sql.functions as F\n",
    "from pyspark.sql.functions import expr, col, to_timestamp, hour, date_format, lit, to_timestamp, to_date,count\n",
    "from pyspark.sql.types import IntegerType, DoubleType, FloatType, LongType, TimestampType, DateType, StringType\n",
    "from pyspark.sql import DataFrame\n",
    "from pyspark.sql.utils import AnalysisException\n",
    "import pandas as pd\n",
    "import geopandas as gpd\n",
    "from shapely import wkb\n",
    "from datetime import datetime, date   \n",
    "import time\n",
    "import ipywidgets as widgets\n",
    "from IPython.display import display, clear_output\n"
   ]
  },
  {
   "cell_type": "markdown",
   "metadata": {
    "application/vnd.databricks.v1+cell": {
     "cellMetadata": {
      "byteLimit": 2048000,
      "rowLimit": 10000
     },
     "inputWidgets": {},
     "nuid": "808675f5-910d-49ce-815c-d40939c49d2d",
     "showTitle": false,
     "tableResultSettingsMap": {},
     "title": ""
    }
   },
   "source": [
    "# Constant variable"
   ]
  },
  {
   "cell_type": "code",
   "execution_count": 0,
   "metadata": {
    "application/vnd.databricks.v1+cell": {
     "cellMetadata": {
      "byteLimit": 2048000,
      "rowLimit": 10000
     },
     "inputWidgets": {},
     "nuid": "2d0413f8-4340-4326-bd58-61982482352b",
     "showTitle": false,
     "tableResultSettingsMap": {},
     "title": ""
    }
   },
   "outputs": [],
   "source": [
    "AIS_TABLE =\"land_techtroll_dev.bronze.ais\"\n",
    "PLACE_NAMES_CRS = 4258\n",
    "EPSG = 4326"
   ]
  },
  {
   "cell_type": "markdown",
   "metadata": {
    "application/vnd.databricks.v1+cell": {
     "cellMetadata": {
      "byteLimit": 2048000,
      "rowLimit": 10000
     },
     "inputWidgets": {},
     "nuid": "89a03f79-12d5-45e7-b573-f674132e9073",
     "showTitle": false,
     "tableResultSettingsMap": {},
     "title": ""
    }
   },
   "source": [
    "# Config\n",
    "Define dev_config for the development environment and prod_config for the production environment.</br></br>\n",
    "Each configuration contains:\n",
    "- catalog_name: the name of the catalog.\n",
    "- landing_zone_prefix: file path to the \"landing zone\" where new data is typically placed initially.\n",
    "- location_prefix: file path to where static data is stored in the cloud.\n",
    "- static_data_prefix: general file path to static data."
   ]
  },
  {
   "cell_type": "code",
   "execution_count": 0,
   "metadata": {
    "application/vnd.databricks.v1+cell": {
     "cellMetadata": {
      "byteLimit": 2048000,
      "rowLimit": 10000
     },
     "inputWidgets": {},
     "nuid": "bd5deafc-c848-46ff-9581-2cf5b763eec7",
     "showTitle": false,
     "tableResultSettingsMap": {},
     "title": ""
    }
   },
   "outputs": [
    {
     "output_type": "execute_result",
     "data": {
      "text/plain": [
       "{'catalog_name': 'land_techtroll_dev',\n",
       " 'landing_zone_prefix': '/Volumes/land_techtroll_dev/external_dev/landing_zone',\n",
       " 'location_prefix': '/Volumes/land_techtroll_dev/external_dev/static_data/cloudFiles',\n",
       " 'static_data_prefix': '/Volumes/land_techtroll_dev/external_dev/static_data',\n",
       " 'env': 'dev'}"
      ]
     },
     "execution_count": 15,
     "metadata": {},
     "output_type": "execute_result"
    }
   ],
   "source": [
    "%run ./config"
   ]
  },
  {
   "cell_type": "markdown",
   "metadata": {
    "application/vnd.databricks.v1+cell": {
     "cellMetadata": {
      "byteLimit": 2048000,
      "rowLimit": 10000
     },
     "inputWidgets": {},
     "nuid": "8bfdceff-4d34-4c52-a9c2-842839fba4f9",
     "showTitle": false,
     "tableResultSettingsMap": {},
     "title": ""
    }
   },
   "source": [
    "# Set catelog\n",
    "In this notebook, the catalog is set to `land_techtroll_dev`, as this is where the relevant databases are located. Setting the catalog ensures that all subsequent queries reference the correct data environment, making it easier to access and manage the necessary tables for our testing and development.\n"
   ]
  },
  {
   "cell_type": "code",
   "execution_count": 0,
   "metadata": {
    "application/vnd.databricks.v1+cell": {
     "cellMetadata": {
      "byteLimit": 2048000,
      "rowLimit": 10000
     },
     "inputWidgets": {},
     "nuid": "eff93ca5-eda4-4547-8b86-7e56fdaafa04",
     "showTitle": false,
     "tableResultSettingsMap": {},
     "title": ""
    }
   },
   "outputs": [
    {
     "output_type": "execute_result",
     "data": {
      "text/plain": [
       "DataFrame[]"
      ]
     },
     "execution_count": 16,
     "metadata": {},
     "output_type": "execute_result"
    }
   ],
   "source": [
    "spark.sql(f'USE CATALOG {spark.conf.get(\"conf.catalog_name\")}')"
   ]
  },
  {
   "cell_type": "markdown",
   "metadata": {
    "application/vnd.databricks.v1+cell": {
     "cellMetadata": {
      "byteLimit": 2048000,
      "rowLimit": 10000
     },
     "inputWidgets": {},
     "nuid": "b5142044-d62d-4427-9cd5-3e8bd5de2432",
     "showTitle": false,
     "tableResultSettingsMap": {},
     "title": ""
    }
   },
   "source": [
    "# Get tabell from database\n",
    "The database follows the Medallion Architecture, which organizes data into layers:\n",
    "- Bronze: Raw or minimally processed data (used in this case).\n",
    "- Silver: Cleaned and structured data.\n",
    "- Gold: Aggregated, business-ready data\n",
    "\n",
    "This notebook using only bronze layer to work with raw data for early-stage testing and development.\n",
    "\n",
    "Important note! <i> Spark table has geometry data as binary, hence it need to be convert</i>"
   ]
  },
  {
   "cell_type": "code",
   "execution_count": 0,
   "metadata": {
    "application/vnd.databricks.v1+cell": {
     "cellMetadata": {
      "byteLimit": 2048000,
      "rowLimit": 10000
     },
     "inputWidgets": {},
     "nuid": "d43c05ca-57d5-4897-aa0e-5bd0846d8aac",
     "showTitle": false,
     "tableResultSettingsMap": {},
     "title": ""
    }
   },
   "outputs": [],
   "source": [
    "# Read AIS data from database\n",
    "AIS_DF = spark.table(AIS_TABLE)\n",
    "# Convert binary geometry to points\n",
    "AIS_DF = AIS_DF.withColumn(\"geometry\", expr(\"ST_AsText(ST_GeomFromWKB(geometry))\"))"
   ]
  },
  {
   "cell_type": "markdown",
   "metadata": {
    "application/vnd.databricks.v1+cell": {
     "cellMetadata": {},
     "inputWidgets": {},
     "nuid": "9048efe9-31c4-4a07-8fac-71da5fe3da40",
     "showTitle": false,
     "tableResultSettingsMap": {},
     "title": ""
    }
   },
   "source": [
    "# GIS query"
   ]
  },
  {
   "cell_type": "code",
   "execution_count": 0,
   "metadata": {
    "application/vnd.databricks.v1+cell": {
     "cellMetadata": {
      "byteLimit": 2048000,
      "rowLimit": 10000
     },
     "inputWidgets": {},
     "nuid": "6bfde3ea-14e8-4976-9133-e016ef4b182a",
     "showTitle": false,
     "tableResultSettingsMap": {},
     "title": ""
    }
   },
   "outputs": [],
   "source": [
    "def create_buffer_radius(lon, lat, radius_m=500):\n",
    "    data = [(1, lon, lat)]\n",
    "    df_raw = spark.createDataFrame(data, [\"id\", \"lon\", \"lat\"])\n",
    "    df_raw.createOrReplaceTempView(\"geom_points\")\n",
    "\n",
    "    query = f\"\"\"\n",
    "        SELECT \n",
    "            id,\n",
    "            st_asgeojson(\n",
    "                ST_Buffer(\n",
    "                    ST_SetSRID(ST_Point(lon, lat), {EPSG}),\n",
    "                    {radius_m}, True\n",
    "                )\n",
    "            ) AS geom\n",
    "        FROM geom_points\n",
    "    \"\"\"\n",
    "    buffer_df = spark.sql(query)\n",
    "    return buffer_df\n",
    "\n",
    "\n",
    "def get_geometry_within(df, lon, lat, radius_m=500, include_all_columns=False):\n",
    "    # Create the buffer\n",
    "    buffer_df = create_buffer_radius(lon, lat, radius_m)\n",
    "    \n",
    "    # Register input DataFrame\n",
    "    df.createOrReplaceTempView(\"Within_view\")\n",
    "\n",
    "    # Select either all columns or a default subset\n",
    "    if include_all_columns:\n",
    "        select_stmt = \"SELECT *\"\n",
    "    else:\n",
    "        select_stmt = \"\"\"\n",
    "            SELECT\n",
    "                mmsi,\n",
    "                ship_name,\n",
    "                ship_type,\n",
    "                date_time_utc,\n",
    "                geometry\n",
    "        \"\"\"\n",
    "\n",
    "    # Run spatial query directly on the buffer\n",
    "    query = f\"\"\"\n",
    "        {select_stmt}\n",
    "        FROM Within_view\n",
    "        WHERE ST_Intersects(\n",
    "            ST_GeomFromText(geometry),\n",
    "            ST_Transform(\n",
    "                ST_SetSRID(\n",
    "                    ST_Buffer(\n",
    "                        ST_SetSRID(ST_Point({lon}, {lat}), {EPSG}),\n",
    "                        {radius_m}, True\n",
    "                    ),\n",
    "                    {EPSG}\n",
    "                ),\n",
    "                'EPSG:{EPSG}'\n",
    "            )\n",
    "        )\n",
    "    \"\"\"\n",
    "    within_df = spark.sql(query)\n",
    "    return within_df, buffer_df\n"
   ]
  },
  {
   "cell_type": "markdown",
   "metadata": {
    "application/vnd.databricks.v1+cell": {
     "cellMetadata": {},
     "inputWidgets": {},
     "nuid": "b47681c4-654d-48c6-a388-afeaa76fd689",
     "showTitle": false,
     "tableResultSettingsMap": {},
     "title": ""
    }
   },
   "source": [
    "# Map visualization "
   ]
  },
  {
   "cell_type": "code",
   "execution_count": 0,
   "metadata": {
    "application/vnd.databricks.v1+cell": {
     "cellMetadata": {
      "byteLimit": 2048000,
      "rowLimit": 10000
     },
     "inputWidgets": {},
     "nuid": "0b55246c-4230-4f94-8b34-9f0cf618b85e",
     "showTitle": false,
     "tableResultSettingsMap": {},
     "title": ""
    }
   },
   "outputs": [],
   "source": [
    "def prepare_for_kepler(df: DataFrame) -> DataFrame:\n",
    "    \"\"\"\n",
    "    Cleans a DataFrame for visualization in SedonaKepler.\n",
    "    \n",
    "    - Converts DecimalType to FloatType\n",
    "    - Converts DateType to String (\"yyyy-MM-dd\")\n",
    "\n",
    "    Args:\n",
    "        df (DataFrame): The input PySpark DataFrame\n",
    "\n",
    "    Returns:\n",
    "        DataFrame: Cleaned DataFrame ready for Kepler.gl\n",
    "    \"\"\"\n",
    "    # Convert decimal columns to float\n",
    "    decimal_cols = [f.name for f in df.schema.fields if \"decimal\" in str(f.dataType).lower()]\n",
    "    for col_name in decimal_cols:\n",
    "        df = df.withColumn(col_name, col(col_name).cast(\"float\"))\n",
    "\n",
    "    # Convert date columns to string (yyyy-MM-dd)\n",
    "    if \"date\" in df.columns:\n",
    "        df = df.withColumn(\"date\", date_format(col(\"date\"), \"yyyy-MM-dd HH:mm\"))\n",
    "\n",
    "    return df\n",
    "\n",
    "def visualize_map(filter_df: DataFrame, name: str = None):\n",
    "    \"\"\"\n",
    "    Visualizes a filtered PySpark DataFrame on a Kepler-style interactive map.\n",
    "\n",
    "    Parameters:\n",
    "    filter_df (DataFrame): The filtered DataFrame containing spatial data (geometry or coordinates).\n",
    "    name (str, optional): A name or label to assign to the map layer. Defaults to None.\n",
    "\n",
    "    Returns:\n",
    "    None: Displays the interactive map in the notebook environment.\n",
    "    \"\"\"\n",
    "    # Preprocess the DataFrame to make it compatible with Kepler visualization\n",
    "    filtered_df_clean = prepare_for_kepler(filter_df)\n",
    "\n",
    "    # Create an empty interactive map using SedonaKepler\n",
    "    map = SedonaKepler.create_map()\n",
    "\n",
    "    # Add the cleaned DataFrame to the map, with an optional layer name\n",
    "    SedonaKepler.add_df(map, filtered_df_clean, name=name)\n",
    "\n",
    "    # Display the map in the notebook\n",
    "    return map\n",
    "\n"
   ]
  },
  {
   "cell_type": "markdown",
   "metadata": {
    "application/vnd.databricks.v1+cell": {
     "cellMetadata": {
      "byteLimit": 2048000,
      "rowLimit": 10000
     },
     "inputWidgets": {},
     "nuid": "b8b37415-f8a2-4b56-94c4-0d0536f40c02",
     "showTitle": false,
     "tableResultSettingsMap": {},
     "title": ""
    }
   },
   "source": [
    "# Optimization"
   ]
  },
  {
   "cell_type": "code",
   "execution_count": 0,
   "metadata": {
    "application/vnd.databricks.v1+cell": {
     "cellMetadata": {
      "byteLimit": 2048000,
      "rowLimit": 10000
     },
     "inputWidgets": {},
     "nuid": "ba9e99cd-daa2-417b-8a48-c6714fceb135",
     "showTitle": false,
     "tableResultSettingsMap": {},
     "title": ""
    }
   },
   "outputs": [],
   "source": [
    "def difference_between_rows(df: DataFrame, filter_df: DataFrame) -> int:\n",
    "    \"\"\"\n",
    "    Calculates and prints the difference in row counts between the original and filtered DataFrames.\n",
    "\n",
    "    Parameters:\n",
    "    df (DataFrame): The original (unfiltered) DataFrame.\n",
    "    filter_df (DataFrame): The filtered version of the DataFrame.\n",
    "\n",
    "    Returns:\n",
    "    int: The number of rows removed during filtering.\n",
    "    \"\"\"\n",
    "    # Count rows in both DataFrames\n",
    "    original_count = df.count()\n",
    "    filtered_count = filter_df.count()\n",
    "\n",
    "    # Print summary\n",
    "    print(f\"The original DataFrame has {original_count} rows.\")\n",
    "    print(f\"The filtered DataFrame has {filtered_count} rows.\")\n",
    "    print(f\"The difference is {original_count - filtered_count} rows.\")\n",
    "\n",
    "    # Return the difference in row count\n",
    "    return original_count - filtered_count"
   ]
  },
  {
   "cell_type": "code",
   "execution_count": 0,
   "metadata": {
    "application/vnd.databricks.v1+cell": {
     "cellMetadata": {
      "byteLimit": 2048000,
      "rowLimit": 10000
     },
     "inputWidgets": {},
     "nuid": "6b1f5360-7bfe-4a91-b289-4dbdef909302",
     "showTitle": false,
     "tableResultSettingsMap": {},
     "title": ""
    }
   },
   "outputs": [],
   "source": [
    "def difference_between_size(filter_df: DataFrame) -> float:\n",
    "    \"\"\"\n",
    "    Compares the disk size (in MB) of the original Delta table and a filtered DataFrame.\n",
    "\n",
    "    This function:\n",
    "    - Writes the filtered DataFrame to a temporary table\n",
    "    - Compares table sizes using DESCRIBE DETAIL\n",
    "    - Cleans up the temporary table afterward\n",
    "    - Returns the size difference in megabytes\n",
    "\n",
    "    Parameters:\n",
    "    original_table (str): The name of the original Delta table (e.g., 'bronze.ais').\n",
    "    filter_df (DataFrame): The filtered DataFrame to compare.\n",
    "\n",
    "    Returns:\n",
    "    float: The difference in size (original - filtered) in megabytes.\n",
    "    \"\"\"\n",
    "    tmp_table = \"bronze.ais_tmp\"\n",
    "\n",
    "    try:\n",
    "        # Save the filtered DataFrame as a temporary table\n",
    "        filter_df.write.mode(\"overwrite\").saveAsTable(tmp_table)\n",
    "        \n",
    "        # Get size of the original table\n",
    "        original_info = spark.sql(f\"DESCRIBE DETAIL land_techtroll_dev.bronze.ais\")\n",
    "        original_size_bytes = original_info.select(\"sizeInBytes\").collect()[0][0]\n",
    "        original_size_mb = original_size_bytes / (1024 * 1024)\n",
    "        original_size_kb = original_size_bytes / 1024 \n",
    "\n",
    "        # Get size of the temporary (filtered) table\n",
    "        tmp_info = spark.sql(f\"DESCRIBE DETAIL land_techtroll_dev.bronze.ais_tmp\")\n",
    "        tmp_size_bytes = tmp_info.select(\"sizeInBytes\").collect()[0][0]\n",
    "        print(tmp_size_bytes)\n",
    "        tmp_size_mb = tmp_size_bytes / 1024 \n",
    "\n",
    "        # Calculate and print the size difference\n",
    "        size_diff_mb = original_size_kb - tmp_size_mb\n",
    "        print(f\"Original table size: {original_size_mb:.2f} MB\")\n",
    "        print(f\"Filtered table size: {tmp_size_mb:.2f} KB\")\n",
    "        print(f\"Difference in size: {size_diff_mb:.2f} KB\")\n",
    "\n",
    "        return size_diff_mb\n",
    "\n",
    "    except AnalysisException as e:\n",
    "        print(f\"[ERROR] Table not found or query failed: {e}\")\n",
    "        return 0.0\n",
    "    except Exception as e:\n",
    "        print(f\"[ERROR] Unexpected error: {e}\")\n",
    "        return 0.0\n",
    "    finally:\n",
    "        # Always drop the temporary table, even if something fails\n",
    "        try:\n",
    "            spark.sql(f\"DROP TABLE IF EXISTS {tmp_table}\")\n",
    "            print(f\"Temporary table '{tmp_table}' dropped.\")\n",
    "        except Exception as drop_err:\n",
    "            print(f\"[WARNING] Could not drop temporary table: {drop_err}\")\n"
   ]
  },
  {
   "cell_type": "markdown",
   "metadata": {
    "application/vnd.databricks.v1+cell": {
     "cellMetadata": {
      "byteLimit": 2048000,
      "rowLimit": 10000
     },
     "inputWidgets": {},
     "nuid": "761c80e1-5cba-4f96-83f2-302eb191f82c",
     "showTitle": false,
     "tableResultSettingsMap": {},
     "title": ""
    }
   },
   "source": [
    "# Save filtrered df"
   ]
  },
  {
   "cell_type": "code",
   "execution_count": 0,
   "metadata": {
    "application/vnd.databricks.v1+cell": {
     "cellMetadata": {
      "byteLimit": 2048000,
      "rowLimit": 10000
     },
     "inputWidgets": {},
     "nuid": "c5e9dbed-f509-4f94-b3f6-2ce11131d14c",
     "showTitle": false,
     "tableResultSettingsMap": {},
     "title": ""
    }
   },
   "outputs": [],
   "source": [
    "def save_filtered_df(\n",
    "    filtered_df: DataFrame,\n",
    "    filename: str,\n",
    "    path: str = \"/Workspace/Users/andrine.flatby@kartverket.no/techtroll-data-ingestor/src/databricks/nedlastet_filer\",\n",
    "    file_format: str = \"csv\",\n",
    "    include_timestamp: bool = False\n",
    ") -> None:\n",
    "    \"\"\"\n",
    "    Saves a PySpark DataFrame to disk as CSV, Parquet, or JSON, with optional timestamp in filename.\n",
    "\n",
    "    Parameters:\n",
    "    filtered_df (DataFrame): The filtered PySpark DataFrame to save.\n",
    "    filename (str): Base name for the file (without extension).\n",
    "    path (str): Directory path where the file will be saved.\n",
    "    file_format (str): File format: 'csv', 'parquet', or 'json'. Default is 'csv'.\n",
    "    include_timestamp (bool): If True, adds a timestamp to the filename.\n",
    "\n",
    "    Returns:\n",
    "    None\n",
    "    \"\"\"\n",
    "    try:\n",
    "        # Convert to pandas DataFrame\n",
    "        pandas_df = filtered_df.toPandas()\n",
    "\n",
    "        # Validate format\n",
    "        file_format = file_format.lower()\n",
    "        if file_format not in {\"csv\", \"parquet\", \"json\"}:\n",
    "            raise ValueError(f\"Unsupported file format: {file_format}\")\n",
    "\n",
    "        # Optional timestamp\n",
    "        if include_timestamp:\n",
    "            timestamp = datetime.now().strftime(\"%Y%m%d_%H%M%S\")\n",
    "            filename = f\"{filename}_{timestamp}\"\n",
    "\n",
    "        # Construct full file path\n",
    "        full_path = os.path.join(path, f\"{filename}.{file_format}\")\n",
    "\n",
    "        # Ensure path exists\n",
    "        os.makedirs(path, exist_ok=True)\n",
    "\n",
    "        # Save based on format\n",
    "        if file_format == \"csv\":\n",
    "            pandas_df.to_csv(full_path, index=False)\n",
    "        elif file_format == \"parquet\":\n",
    "            pandas_df.to_parquet(full_path, index=False)\n",
    "        elif file_format == \"json\":\n",
    "            pandas_df.to_json(full_path, orient=\"records\", lines=True)\n",
    "\n",
    "        print(f\"[INFO] File saved to: {full_path}\")\n",
    "\n",
    "    except Exception as e:\n",
    "        print(f\"[ERROR] Failed to save DataFrame: {e}\")"
   ]
  },
  {
   "cell_type": "markdown",
   "metadata": {
    "application/vnd.databricks.v1+cell": {
     "cellMetadata": {
      "byteLimit": 2048000,
      "rowLimit": 10000
     },
     "inputWidgets": {},
     "nuid": "497dd040-dd30-4693-95a6-8e1a6ab47aca",
     "showTitle": false,
     "tableResultSettingsMap": {},
     "title": ""
    }
   },
   "source": [
    "# User case examples"
   ]
  },
  {
   "cell_type": "markdown",
   "metadata": {
    "application/vnd.databricks.v1+cell": {
     "cellMetadata": {
      "byteLimit": 2048000,
      "rowLimit": 10000
     },
     "inputWidgets": {},
     "nuid": "0cd4aa46-ddae-498f-997f-bf5d4613e1e3",
     "showTitle": false,
     "tableResultSettingsMap": {},
     "title": ""
    }
   },
   "source": [
    "## Henting av historiske skipsdata innenfor en gitt radius \n",
    "\n",
    "Som havnesjef i Kristiansand kommune ønsker jeg å vite hvilke skip som befant seg innen 6 km fra Kristiansand sentrum på en bestemt dato. \n",
    "\n",
    "Akseptkriterier: \n",
    "- Bruker skal kunne skrive inn forskjellige datoer. \n",
    "- Når testing med forskjellige datoer gir ulik output. \n",
    "\n",
    "Input:\n",
    "- Koordinater (58.103141, 8.034570)  \n",
    "- Dato (f.eks. 2024-12-28) \n",
    "- Radius i meter (f.eks. 6000) \n",
    "\n",
    " "
   ]
  },
  {
   "cell_type": "code",
   "execution_count": 0,
   "metadata": {
    "application/vnd.databricks.v1+cell": {
     "cellMetadata": {
      "byteLimit": 2048000,
      "rowLimit": 10000
     },
     "inputWidgets": {},
     "nuid": "0087a7e4-7632-47d9-adb1-761ff3964a97",
     "showTitle": false,
     "tableResultSettingsMap": {},
     "title": ""
    }
   },
   "outputs": [],
   "source": [
    "# Clear previous widgets\n",
    "dbutils.widgets.removeAll()\n",
    "\n",
    "# Define widgets\n",
    "dbutils.widgets.text(\"latitude\", \"58.103141\", \"Latitude\")\n",
    "dbutils.widgets.text(\"longitude\", \"8.034570\", \"Longitude\")\n",
    "dbutils.widgets.text(\"radius\", \"6000\", \"Radius (m)\")\n",
    "dbutils.widgets.text(\"date\", \"2024-12-28\", \"Dato (YYYY-MM-DD)\")"
   ]
  },
  {
   "cell_type": "code",
   "execution_count": 0,
   "metadata": {
    "application/vnd.databricks.v1+cell": {
     "cellMetadata": {
      "byteLimit": 2048000,
      "rowLimit": 10000
     },
     "inputWidgets": {},
     "nuid": "adb51249-3f6a-405c-a8fb-40df21dc45e5",
     "showTitle": false,
     "tableResultSettingsMap": {},
     "title": ""
    }
   },
   "outputs": [
    {
     "output_type": "stream",
     "name": "stdout",
     "output_type": "stream",
     "text": [
      "🔍 Søker etter skip innen 6000 meter fra (58.1467, 7.9956) på 2024-12-28…\n✅ Fant 14 skip. Viser 10 første.\n"
     ]
    },
    {
     "output_type": "display_data",
     "data": {
      "text/html": [
       "<div>\n",
       "<style scoped>\n",
       "    .dataframe tbody tr th:only-of-type {\n",
       "        vertical-align: middle;\n",
       "    }\n",
       "\n",
       "    .dataframe tbody tr th {\n",
       "        vertical-align: top;\n",
       "    }\n",
       "\n",
       "    .dataframe thead th {\n",
       "        text-align: right;\n",
       "    }\n",
       "</style>\n",
       "<table border=\"1\" class=\"dataframe\">\n",
       "  <thead>\n",
       "    <tr style=\"text-align: right;\">\n",
       "      <th></th>\n",
       "      <th>mmsi</th>\n",
       "      <th>ship_name</th>\n",
       "      <th>ship_type</th>\n",
       "      <th>date_time_utc</th>\n",
       "      <th>geometry</th>\n",
       "    </tr>\n",
       "  </thead>\n",
       "  <tbody>\n",
       "    <tr>\n",
       "      <th>0</th>\n",
       "      <td>209489000</td>\n",
       "      <td>JOIDES RESOLUTION</td>\n",
       "      <td>0</td>\n",
       "      <td>2024-12-28 05:59:48</td>\n",
       "      <td>POINT (7.98836166 58.140025)</td>\n",
       "    </tr>\n",
       "    <tr>\n",
       "      <th>1</th>\n",
       "      <td>257037970</td>\n",
       "      <td>HESTMANDEN</td>\n",
       "      <td>0</td>\n",
       "      <td>2024-12-28 05:55:21</td>\n",
       "      <td>POINT (7.98891166 58.10998666)</td>\n",
       "    </tr>\n",
       "    <tr>\n",
       "      <th>2</th>\n",
       "      <td>257042740</td>\n",
       "      <td>SEA PUFFIN 1</td>\n",
       "      <td>47</td>\n",
       "      <td>2024-12-28 05:59:32</td>\n",
       "      <td>POINT (8.03364 58.150175)</td>\n",
       "    </tr>\n",
       "    <tr>\n",
       "      <th>3</th>\n",
       "      <td>257076500</td>\n",
       "      <td>LOS113</td>\n",
       "      <td>50</td>\n",
       "      <td>2024-12-28 05:59:58</td>\n",
       "      <td>POINT (7.99569166 58.139405)</td>\n",
       "    </tr>\n",
       "    <tr>\n",
       "      <th>4</th>\n",
       "      <td>257130700</td>\n",
       "      <td>MAARTEN</td>\n",
       "      <td>60</td>\n",
       "      <td>2024-12-28 05:10:00</td>\n",
       "      <td>POINT (7.991666 58.141666)</td>\n",
       "    </tr>\n",
       "    <tr>\n",
       "      <th>5</th>\n",
       "      <td>257165800</td>\n",
       "      <td>RESCUE BERGESEN D.Y.</td>\n",
       "      <td>54</td>\n",
       "      <td>2024-12-28 05:58:35</td>\n",
       "      <td>POINT (8.03365 58.14987666)</td>\n",
       "    </tr>\n",
       "    <tr>\n",
       "      <th>6</th>\n",
       "      <td>257226500</td>\n",
       "      <td>GAMLE OKSOEY</td>\n",
       "      <td>90</td>\n",
       "      <td>2024-12-28 05:57:33</td>\n",
       "      <td>POINT (7.98890166 58.11077166)</td>\n",
       "    </tr>\n",
       "    <tr>\n",
       "      <th>7</th>\n",
       "      <td>257376700</td>\n",
       "      <td>MS BRAGDOYA</td>\n",
       "      <td>60</td>\n",
       "      <td>2024-12-28 05:57:20</td>\n",
       "      <td>POINT (7.97109166 58.12357333)</td>\n",
       "    </tr>\n",
       "    <tr>\n",
       "      <th>8</th>\n",
       "      <td>257874800</td>\n",
       "      <td>MOLLY</td>\n",
       "      <td>53</td>\n",
       "      <td>2024-12-28 03:30:30</td>\n",
       "      <td>POINT (7.995 58.14)</td>\n",
       "    </tr>\n",
       "    <tr>\n",
       "      <th>9</th>\n",
       "      <td>257878000</td>\n",
       "      <td>BOB</td>\n",
       "      <td>52</td>\n",
       "      <td>2024-12-28 05:09:20</td>\n",
       "      <td>POINT (7.99 58.141666)</td>\n",
       "    </tr>\n",
       "  </tbody>\n",
       "</table>\n",
       "</div>"
      ],
      "text/plain": [
       "        mmsi  ...                        geometry\n",
       "0  209489000  ...    POINT (7.98836166 58.140025)\n",
       "1  257037970  ...  POINT (7.98891166 58.10998666)\n",
       "2  257042740  ...       POINT (8.03364 58.150175)\n",
       "3  257076500  ...    POINT (7.99569166 58.139405)\n",
       "4  257130700  ...      POINT (7.991666 58.141666)\n",
       "5  257165800  ...     POINT (8.03365 58.14987666)\n",
       "6  257226500  ...  POINT (7.98890166 58.11077166)\n",
       "7  257376700  ...  POINT (7.97109166 58.12357333)\n",
       "8  257874800  ...             POINT (7.995 58.14)\n",
       "9  257878000  ...          POINT (7.99 58.141666)\n",
       "\n",
       "[10 rows x 5 columns]"
      ]
     },
     "metadata": {},
     "output_type": "display_data"
    },
    {
     "output_type": "stream",
     "name": "stdout",
     "output_type": "stream",
     "text": [
      "🗺️ Viser kart…\nUser Guide: https://docs.kepler.gl/docs/keplergl-jupyter\n"
     ]
    },
    {
     "output_type": "display_data",
     "data": {
      "application/vnd.jupyter.widget-view+json": {
       "model_id": "259c9f5e7e8f41fbb110d71d0a174df0",
       "version_major": 2,
       "version_minor": 0
      },
      "text/plain": [
       "KeplerGl(data={'Skip innen radius': {'index': [0, 1, 2, 3, 4, 5, 6, 7, 8, 9, 10, 11, 12, 13], 'columns': ['mms…"
      ]
     },
     "metadata": {},
     "output_type": "display_data"
    },
    {
     "output_type": "stream",
     "name": "stdout",
     "output_type": "stream",
     "text": [
      "The original DataFrame has 1654172 rows.\nThe filtered DataFrame has 14 rows.\nThe difference is 1654158 rows.\n2444\nOriginal table size: 45.16 MB\nFiltered table size: 2.39 KB\nDifference in size: 46241.77 KB\nTemporary table 'bronze.ais_tmp' dropped.\n"
     ]
    }
   ],
   "source": [
    "from datetime import datetime\n",
    "from pyspark.sql.functions import to_date, col, lit\n",
    "\n",
    "try:\n",
    "    # Get and convert input values\n",
    "    lat = float(dbutils.widgets.get(\"latitude\"))\n",
    "    lon = float(dbutils.widgets.get(\"longitude\"))\n",
    "    radius = int(dbutils.widgets.get(\"radius\"))\n",
    "    date_str = dbutils.widgets.get(\"date\")\n",
    "\n",
    "    # Validate date\n",
    "    selected_date = datetime.strptime(date_str, \"%Y-%m-%d\").date()\n",
    "    print(f\"🔍 Søker etter skip innen {radius} meter fra ({lat}, {lon}) på {selected_date}…\")\n",
    "\n",
    "    # Filter AIS data\n",
    "    AIS_filtered = AIS_DF.filter(\n",
    "        to_date(col(\"date\")) == to_date(lit(selected_date))\n",
    "    )\n",
    "    AIS_unique = AIS_filtered.dropDuplicates([\"mmsi\"])\n",
    "\n",
    "    # Spatial filter\n",
    "    df, buffer_df = get_geometry_within(AIS_unique, lon, lat, radius)\n",
    "\n",
    "    if df.count() == 0:\n",
    "        print(\"❗ Ingen skip funnet innenfor gitt radius.\")\n",
    "    else:\n",
    "        limited_df = df.limit(10)\n",
    "        print(f\"✅ Fant {df.count()} skip. Viser 10 første.\")\n",
    "        display(limited_df.toPandas())\n",
    "\n",
    "        # Show map\n",
    "        print(\"🗺️ Viser kart…\")\n",
    "        map_df = SedonaKepler.create_map()\n",
    "        map_df.add_data(prepare_for_kepler(df).toPandas(), \"Skip innen radius\")\n",
    "        map_df.add_data(buffer_df.toPandas(), \"Buffer\")\n",
    "        display(map_df)\n",
    "        difference_between_rows(AIS_DF, df)\n",
    "        difference_between_size(df)\n",
    "except Exception as e:\n",
    "    print(f\"❌ Feil under kjøring: {e}\")\n"
   ]
  },
  {
   "cell_type": "markdown",
   "metadata": {
    "application/vnd.databricks.v1+cell": {
     "cellMetadata": {},
     "inputWidgets": {},
     "nuid": "4c87349b-166f-42af-b33d-b7f5db8baa47",
     "showTitle": false,
     "tableResultSettingsMap": {},
     "title": ""
    }
   },
   "source": [
    "## Strømming av skipsdata innenfor en gitt radius \n",
    "Som havnesjef i Kristiansand kommune ønsker jeg å vite hvilke passasjerskip (type 60) som befant seg innen 6km fra Kristiansand sentrum i et bestemt tidsrom (simulert sanntid). \n",
    "\n",
    "- Bruker skal kunne skrive inn forskjellig avstand for overvåking/visualisering \n",
    "\n",
    "- Når testing med forskjellige avstander gir ulik output. \n",
    "\n",
    "Input\n",
    "- Passasjerskip (ship_type = 60) \n",
    "- En gitt radius i meter \n",
    "- Start time og end time\n"
   ]
  },
  {
   "cell_type": "code",
   "execution_count": 0,
   "metadata": {
    "application/vnd.databricks.v1+cell": {
     "cellMetadata": {
      "byteLimit": 2048000,
      "rowLimit": 10000
     },
     "inputWidgets": {},
     "nuid": "38a62339-63b8-4acd-b9c6-8dd8da6fdd6e",
     "showTitle": false,
     "tableResultSettingsMap": {},
     "title": ""
    }
   },
   "outputs": [],
   "source": [
    "# Clear existing widgets\n",
    "dbutils.widgets.removeAll()\n",
    "\n",
    "# Define input widgets\n",
    "dbutils.widgets.text(\"latitude\", \"58.1467\", \"Latitude\")\n",
    "dbutils.widgets.text(\"longitude\", \"7.9956\", \"Longitude\")\n",
    "dbutils.widgets.text(\"radius\", \"6000\", \"Radius (m)\")\n",
    "\n",
    "ship_type_rows = AIS_DF.select(\"ship_type\").distinct().collect()\n",
    "ship_type_list = sorted([str(row[\"ship_type\"]) for row in ship_type_rows])\n",
    "dbutils.widgets.dropdown(\"ship_type\", ship_type_list[0], ship_type_list)\n",
    "\n",
    "dbutils.widgets.text(\"date\", \"2024-12-28\", \"Dato (YYYY-MM-DD)\")\n",
    "dbutils.widgets.text(\"start_time\", \"12:00\", \"Starttid (HH:MM)\")\n",
    "dbutils.widgets.text(\"end_time\", \"13:00\", \"Sluttid (HH:MM)\")"
   ]
  },
  {
   "cell_type": "code",
   "execution_count": 0,
   "metadata": {
    "application/vnd.databricks.v1+cell": {
     "cellMetadata": {
      "byteLimit": 2048000,
      "rowLimit": 10000
     },
     "inputWidgets": {},
     "nuid": "1f4b8ba1-f03d-4226-94da-ccc724c9f870",
     "showTitle": false,
     "tableResultSettingsMap": {},
     "title": ""
    }
   },
   "outputs": [
    {
     "output_type": "stream",
     "name": "stdout",
     "output_type": "stream",
     "text": [
      "🔍 Søker etter AIS-data for 60 den 2024-12-28 mellom 12:00 og 13:00...\n📍 Utfører geografisk søk...\n✅ Funnet 895 registreringer. Viser 10 rader.\n"
     ]
    },
    {
     "output_type": "display_data",
     "data": {
      "text/html": [
       "<style scoped>\n",
       "  .table-result-container {\n",
       "    max-height: 300px;\n",
       "    overflow: auto;\n",
       "  }\n",
       "  table, th, td {\n",
       "    border: 1px solid black;\n",
       "    border-collapse: collapse;\n",
       "  }\n",
       "  th, td {\n",
       "    padding: 5px;\n",
       "  }\n",
       "  th {\n",
       "    text-align: left;\n",
       "  }\n",
       "</style><div class='table-result-container'><table class='table-result'><thead style='background-color: white'><tr><th>mmsi</th><th>date_time_utc</th><th>longitude</th><th>latitude</th><th>status</th><th>course_over_ground</th><th>speed_over_ground</th><th>rate_of_turn</th><th>maneuvre</th><th>imo</th><th>callsign</th><th>ship_name</th><th>ship_type</th><th>length</th><th>draught</th><th>data_source</th><th>ais_class</th><th>hex_7</th><th>hex_14</th><th>geometry</th><th>date</th><th>registrations_in_timespan</th></tr></thead><tbody><tr><td>219348000</td><td>2024-12-28T12:59:50Z</td><td>7.98709333</td><td>58.143015</td><td>0</td><td>65.0</td><td>0.0</td><td>0</td><td>0</td><td>9586617</td><td>OYPJ2</td><td>BERGENSFJORD</td><td>60</td><td>170</td><td>6.50</td><td>G</td><td>A</td><td>608155172278894591</td><td>639680369667918607</td><td>POINT (7.98709333 58.143015)</td><td>2024-12-28</td><td>492</td></tr><tr><td>219348000</td><td>2024-12-28T12:59:40Z</td><td>7.98709333</td><td>58.143015</td><td>0</td><td>245.0</td><td>0.0</td><td>0</td><td>0</td><td>9586617</td><td>OYPJ2</td><td>BERGENSFJORD</td><td>60</td><td>170</td><td>6.50</td><td>G</td><td>A</td><td>608155172278894591</td><td>639680369667918607</td><td>POINT (7.98709333 58.143015)</td><td>2024-12-28</td><td>492</td></tr><tr><td>219348000</td><td>2024-12-28T12:59:31Z</td><td>7.98709333</td><td>58.143015</td><td>0</td><td>65.0</td><td>0.0</td><td>0</td><td>0</td><td>9586617</td><td>OYPJ2</td><td>BERGENSFJORD</td><td>60</td><td>170</td><td>6.50</td><td>G</td><td>A</td><td>608155172278894591</td><td>639680369667918607</td><td>POINT (7.98709333 58.143015)</td><td>2024-12-28</td><td>492</td></tr><tr><td>219348000</td><td>2024-12-28T12:59:21Z</td><td>7.98709333</td><td>58.143015</td><td>0</td><td>245.0</td><td>0.0</td><td>0</td><td>0</td><td>9586617</td><td>OYPJ2</td><td>BERGENSFJORD</td><td>60</td><td>170</td><td>6.50</td><td>G</td><td>A</td><td>608155172278894591</td><td>639680369667918607</td><td>POINT (7.98709333 58.143015)</td><td>2024-12-28</td><td>492</td></tr><tr><td>219348000</td><td>2024-12-28T12:59:10Z</td><td>7.987095</td><td>58.143015</td><td>0</td><td>110.0</td><td>0.1</td><td>0</td><td>0</td><td>9586617</td><td>OYPJ2</td><td>BERGENSFJORD</td><td>60</td><td>170</td><td>6.50</td><td>G</td><td>A</td><td>608155172278894591</td><td>639680369667918607</td><td>POINT (7.987095 58.143015)</td><td>2024-12-28</td><td>492</td></tr><tr><td>219348000</td><td>2024-12-28T12:59:01Z</td><td>7.98709333</td><td>58.143015</td><td>0</td><td>173.0</td><td>0.1</td><td>0</td><td>0</td><td>9586617</td><td>OYPJ2</td><td>BERGENSFJORD</td><td>60</td><td>170</td><td>6.50</td><td>G</td><td>A</td><td>608155172278894591</td><td>639680369667918607</td><td>POINT (7.98709333 58.143015)</td><td>2024-12-28</td><td>492</td></tr><tr><td>219348000</td><td>2024-12-28T12:58:50Z</td><td>7.987095</td><td>58.143015</td><td>0</td><td>65.0</td><td>0.0</td><td>0</td><td>0</td><td>9586617</td><td>OYPJ2</td><td>BERGENSFJORD</td><td>60</td><td>170</td><td>6.50</td><td>G</td><td>A</td><td>608155172278894591</td><td>639680369667918607</td><td>POINT (7.987095 58.143015)</td><td>2024-12-28</td><td>492</td></tr><tr><td>219348000</td><td>2024-12-28T12:58:40Z</td><td>7.987095</td><td>58.143015</td><td>0</td><td>290.0</td><td>0.1</td><td>0</td><td>0</td><td>9586617</td><td>OYPJ2</td><td>BERGENSFJORD</td><td>60</td><td>170</td><td>6.50</td><td>G</td><td>A</td><td>608155172278894591</td><td>639680369667918607</td><td>POINT (7.987095 58.143015)</td><td>2024-12-28</td><td>492</td></tr><tr><td>219348000</td><td>2024-12-28T12:58:31Z</td><td>7.987095</td><td>58.14301666</td><td>0</td><td>348.0</td><td>0.1</td><td>0</td><td>0</td><td>9586617</td><td>OYPJ2</td><td>BERGENSFJORD</td><td>60</td><td>170</td><td>6.50</td><td>G</td><td>A</td><td>608155172278894591</td><td>639680369667918607</td><td>POINT (7.987095 58.14301666)</td><td>2024-12-28</td><td>492</td></tr><tr><td>219348000</td><td>2024-12-28T12:58:21Z</td><td>7.98709666</td><td>58.143015</td><td>0</td><td>213.0</td><td>0.1</td><td>0</td><td>0</td><td>9586617</td><td>OYPJ2</td><td>BERGENSFJORD</td><td>60</td><td>170</td><td>6.50</td><td>G</td><td>A</td><td>608155172278894591</td><td>639680369667918607</td><td>POINT (7.98709666 58.143015)</td><td>2024-12-28</td><td>492</td></tr></tbody></table></div>"
      ]
     },
     "metadata": {
      "application/vnd.databricks.v1+output": {
       "addedWidgets": {},
       "aggData": [],
       "aggError": "",
       "aggOverflow": false,
       "aggSchema": [],
       "aggSeriesLimitReached": false,
       "aggType": "",
       "arguments": {},
       "columnCustomDisplayInfos": {},
       "data": [
        [
         219348000,
         "2024-12-28T12:59:50Z",
         7.98709333,
         58.143015,
         0,
         65.0,
         0.0,
         0,
         0,
         9586617,
         "OYPJ2",
         "BERGENSFJORD",
         60,
         170,
         "6.50",
         "G",
         "A",
         608155172278894591,
         639680369667918607,
         "POINT (7.98709333 58.143015)",
         "2024-12-28",
         492
        ],
        [
         219348000,
         "2024-12-28T12:59:40Z",
         7.98709333,
         58.143015,
         0,
         245.0,
         0.0,
         0,
         0,
         9586617,
         "OYPJ2",
         "BERGENSFJORD",
         60,
         170,
         "6.50",
         "G",
         "A",
         608155172278894591,
         639680369667918607,
         "POINT (7.98709333 58.143015)",
         "2024-12-28",
         492
        ],
        [
         219348000,
         "2024-12-28T12:59:31Z",
         7.98709333,
         58.143015,
         0,
         65.0,
         0.0,
         0,
         0,
         9586617,
         "OYPJ2",
         "BERGENSFJORD",
         60,
         170,
         "6.50",
         "G",
         "A",
         608155172278894591,
         639680369667918607,
         "POINT (7.98709333 58.143015)",
         "2024-12-28",
         492
        ],
        [
         219348000,
         "2024-12-28T12:59:21Z",
         7.98709333,
         58.143015,
         0,
         245.0,
         0.0,
         0,
         0,
         9586617,
         "OYPJ2",
         "BERGENSFJORD",
         60,
         170,
         "6.50",
         "G",
         "A",
         608155172278894591,
         639680369667918607,
         "POINT (7.98709333 58.143015)",
         "2024-12-28",
         492
        ],
        [
         219348000,
         "2024-12-28T12:59:10Z",
         7.987095,
         58.143015,
         0,
         110.0,
         0.1,
         0,
         0,
         9586617,
         "OYPJ2",
         "BERGENSFJORD",
         60,
         170,
         "6.50",
         "G",
         "A",
         608155172278894591,
         639680369667918607,
         "POINT (7.987095 58.143015)",
         "2024-12-28",
         492
        ],
        [
         219348000,
         "2024-12-28T12:59:01Z",
         7.98709333,
         58.143015,
         0,
         173.0,
         0.1,
         0,
         0,
         9586617,
         "OYPJ2",
         "BERGENSFJORD",
         60,
         170,
         "6.50",
         "G",
         "A",
         608155172278894591,
         639680369667918607,
         "POINT (7.98709333 58.143015)",
         "2024-12-28",
         492
        ],
        [
         219348000,
         "2024-12-28T12:58:50Z",
         7.987095,
         58.143015,
         0,
         65.0,
         0.0,
         0,
         0,
         9586617,
         "OYPJ2",
         "BERGENSFJORD",
         60,
         170,
         "6.50",
         "G",
         "A",
         608155172278894591,
         639680369667918607,
         "POINT (7.987095 58.143015)",
         "2024-12-28",
         492
        ],
        [
         219348000,
         "2024-12-28T12:58:40Z",
         7.987095,
         58.143015,
         0,
         290.0,
         0.1,
         0,
         0,
         9586617,
         "OYPJ2",
         "BERGENSFJORD",
         60,
         170,
         "6.50",
         "G",
         "A",
         608155172278894591,
         639680369667918607,
         "POINT (7.987095 58.143015)",
         "2024-12-28",
         492
        ],
        [
         219348000,
         "2024-12-28T12:58:31Z",
         7.987095,
         58.14301666,
         0,
         348.0,
         0.1,
         0,
         0,
         9586617,
         "OYPJ2",
         "BERGENSFJORD",
         60,
         170,
         "6.50",
         "G",
         "A",
         608155172278894591,
         639680369667918607,
         "POINT (7.987095 58.14301666)",
         "2024-12-28",
         492
        ],
        [
         219348000,
         "2024-12-28T12:58:21Z",
         7.98709666,
         58.143015,
         0,
         213.0,
         0.1,
         0,
         0,
         9586617,
         "OYPJ2",
         "BERGENSFJORD",
         60,
         170,
         "6.50",
         "G",
         "A",
         608155172278894591,
         639680369667918607,
         "POINT (7.98709666 58.143015)",
         "2024-12-28",
         492
        ]
       ],
       "datasetInfos": [],
       "dbfsResultPath": null,
       "isJsonSchema": true,
       "metadata": {},
       "overflow": false,
       "plotOptions": {
        "customPlotOptions": {},
        "displayType": "table",
        "pivotAggregation": null,
        "pivotColumns": null,
        "xColumns": null,
        "yColumns": null
       },
       "removedWidgets": [],
       "schema": [
        {
         "metadata": "{}",
         "name": "mmsi",
         "type": "\"integer\""
        },
        {
         "metadata": "{}",
         "name": "date_time_utc",
         "type": "\"timestamp\""
        },
        {
         "metadata": "{}",
         "name": "longitude",
         "type": "\"double\""
        },
        {
         "metadata": "{}",
         "name": "latitude",
         "type": "\"double\""
        },
        {
         "metadata": "{}",
         "name": "status",
         "type": "\"byte\""
        },
        {
         "metadata": "{}",
         "name": "course_over_ground",
         "type": "\"double\""
        },
        {
         "metadata": "{}",
         "name": "speed_over_ground",
         "type": "\"double\""
        },
        {
         "metadata": "{}",
         "name": "rate_of_turn",
         "type": "\"short\""
        },
        {
         "metadata": "{}",
         "name": "maneuvre",
         "type": "\"short\""
        },
        {
         "metadata": "{}",
         "name": "imo",
         "type": "\"integer\""
        },
        {
         "metadata": "{}",
         "name": "callsign",
         "type": "\"string\""
        },
        {
         "metadata": "{}",
         "name": "ship_name",
         "type": "\"string\""
        },
        {
         "metadata": "{}",
         "name": "ship_type",
         "type": "\"byte\""
        },
        {
         "metadata": "{}",
         "name": "length",
         "type": "\"short\""
        },
        {
         "metadata": "{}",
         "name": "draught",
         "type": "\"decimal(10,2)\""
        },
        {
         "metadata": "{}",
         "name": "data_source",
         "type": "\"string\""
        },
        {
         "metadata": "{}",
         "name": "ais_class",
         "type": "\"string\""
        },
        {
         "metadata": "{}",
         "name": "hex_7",
         "type": "\"long\""
        },
        {
         "metadata": "{}",
         "name": "hex_14",
         "type": "\"long\""
        },
        {
         "metadata": "{}",
         "name": "geometry",
         "type": "\"string\""
        },
        {
         "metadata": "{}",
         "name": "date",
         "type": "\"date\""
        },
        {
         "metadata": "{}",
         "name": "registrations_in_timespan",
         "type": "\"long\""
        }
       ],
       "type": "table"
      }
     },
     "output_type": "display_data"
    },
    {
     "output_type": "stream",
     "name": "stdout",
     "output_type": "stream",
     "text": [
      "🗺️ Viser kart…\nUser Guide: https://docs.kepler.gl/docs/keplergl-jupyter\n"
     ]
    },
    {
     "output_type": "display_data",
     "data": {
      "application/vnd.jupyter.widget-view+json": {
       "model_id": "651b8be8543d40378cd8dea9b262cf5d",
       "version_major": 2,
       "version_minor": 0
      },
      "text/plain": [
       "KeplerGl(data={'Skip': {'index': [0, 1, 2, 3, 4, 5, 6, 7, 8, 9], 'columns': ['mmsi', 'date_time_utc', 'longitu…"
      ]
     },
     "metadata": {},
     "output_type": "display_data"
    },
    {
     "output_type": "stream",
     "name": "stdout",
     "output_type": "stream",
     "text": [
      "The original DataFrame has 1654172 rows.\nThe filtered DataFrame has 895 rows.\nThe difference is 1653277 rows.\n7031\nOriginal table size: 45.16 MB\nFiltered table size: 6.87 KB\nDifference in size: 46237.29 KB\nTemporary table 'bronze.ais_tmp' dropped.\n"
     ]
    }
   ],
   "source": [
    "from datetime import datetime\n",
    "from pyspark.sql.functions import col, lit, count\n",
    "from pyspark.sql.types import TimestampType\n",
    "\n",
    "try:\n",
    "    # Read inputs\n",
    "    lat = float(dbutils.widgets.get(\"latitude\"))\n",
    "    lon = float(dbutils.widgets.get(\"longitude\"))\n",
    "    radius = int(dbutils.widgets.get(\"radius\"))\n",
    "    ship_type = dbutils.widgets.get(\"ship_type\")\n",
    "    date_str = dbutils.widgets.get(\"date\")\n",
    "    start_time_str = dbutils.widgets.get(\"start_time\")\n",
    "    end_time_str = dbutils.widgets.get(\"end_time\")\n",
    "\n",
    "    # Parse datetime\n",
    "    start_dt = datetime.strptime(f\"{date_str} {start_time_str}\", \"%Y-%m-%d %H:%M\")\n",
    "    end_dt = datetime.strptime(f\"{date_str} {end_time_str}\", \"%Y-%m-%d %H:%M\")\n",
    "\n",
    "    if end_dt <= start_dt:\n",
    "        raise ValueError(\"❌ Sluttid må være etter starttid.\")\n",
    "\n",
    "    print(f\"🔍 Søker etter AIS-data for {ship_type} den {date_str} mellom {start_time_str} og {end_time_str}...\")\n",
    "\n",
    "    # Filter DataFrame\n",
    "    AIS_filtered = AIS_DF.filter(\n",
    "        (col(\"date\") == lit(date_str)) &\n",
    "        (col(\"ship_type\") == ship_type) &\n",
    "        (col(\"date_time_utc\") >= lit(start_dt).cast(TimestampType())) &\n",
    "        (col(\"date_time_utc\") <= lit(end_dt).cast(TimestampType()))\n",
    "    )\n",
    "\n",
    "    # Spatial filter\n",
    "    print(\"📍 Utfører geografisk søk...\")\n",
    "    df_full, buffer_df = get_geometry_within(AIS_filtered, lon, lat, radius, include_all_columns=True)\n",
    "\n",
    "    total_count = df_full.count()\n",
    "    if total_count == 0:\n",
    "        print(\"❗ Ingen skip funnet innenfor radius og tidsintervall.\")\n",
    "    else:\n",
    "        registrations_per_ship = df_full.groupBy(\"mmsi\").agg(count(\"*\").alias(\"registrations_in_timespan\"))\n",
    "        df_joined = df_full.join(registrations_per_ship, on=\"mmsi\", how=\"left\")\n",
    "\n",
    "        df_limited = df_joined.limit(10)\n",
    "\n",
    "        print(f\"✅ Funnet {total_count} registreringer. Viser {df_limited.count()} rader.\")\n",
    "        df_limited.display()\n",
    "\n",
    "        print(\"🗺️ Viser kart…\")\n",
    "        map_df = SedonaKepler.create_map()\n",
    "        map_df.add_data(prepare_for_kepler(df_limited).toPandas(), \"Skip\")  # ✅ use limited DF\n",
    "        map_df.add_data(buffer_df.toPandas(), \"Buffer\")\n",
    "        display(map_df)\n",
    "        difference_between_rows(AIS_DF, df_joined)\n",
    "        difference_between_size(df_limited)\n",
    "except Exception as e:\n",
    "    print(f\"❌ Feil: {e}\")\n"
   ]
  },
  {
   "cell_type": "markdown",
   "metadata": {
    "application/vnd.databricks.v1+cell": {
     "cellMetadata": {},
     "inputWidgets": {},
     "nuid": "d1b36eb7-6b3e-455e-8b0e-f0b8ba434bf0",
     "showTitle": false,
     "tableResultSettingsMap": {},
     "title": ""
    }
   },
   "source": [
    "\n"
   ]
  }
 ],
 "metadata": {
  "application/vnd.databricks.v1+notebook": {
   "computePreferences": null,
   "dashboards": [],
   "environmentMetadata": {
    "base_environment": "",
    "environment_version": "2"
   },
   "inputWidgetPreferences": null,
   "language": "python",
   "notebookMetadata": {
    "mostRecentlyExecutedCommandWithImplicitDF": {
     "commandId": 7148804453880452,
     "dataframes": [
      "_sqldf"
     ]
    },
    "pythonIndentUnit": 4,
    "widgetLayout": []
   },
   "notebookName": "Brukerhistorie_1",
   "widgets": {
    "date": {
     "currentValue": "2024-12-28",
     "nuid": "af2f6b17-c23a-473b-9911-4d20e4400104",
     "typedWidgetInfo": {
      "autoCreated": false,
      "defaultValue": "2024-12-28",
      "label": "Dato (YYYY-MM-DD)",
      "name": "date",
      "options": {
       "widgetDisplayType": "Text",
       "validationRegex": null
      },
      "parameterDataType": "String"
     },
     "widgetInfo": {
      "widgetType": "text",
      "defaultValue": "2024-12-28",
      "label": "Dato (YYYY-MM-DD)",
      "name": "date",
      "options": {
       "widgetType": "text",
       "autoCreated": null,
       "validationRegex": null
      }
     }
    },
    "end_time": {
     "currentValue": "13:00",
     "nuid": "f1dead31-6f74-4235-a658-e8ac1741da32",
     "typedWidgetInfo": {
      "autoCreated": false,
      "defaultValue": "13:00",
      "label": "Sluttid (HH:MM)",
      "name": "end_time",
      "options": {
       "widgetDisplayType": "Text",
       "validationRegex": null
      },
      "parameterDataType": "String"
     },
     "widgetInfo": {
      "widgetType": "text",
      "defaultValue": "13:00",
      "label": "Sluttid (HH:MM)",
      "name": "end_time",
      "options": {
       "widgetType": "text",
       "autoCreated": false,
       "validationRegex": null
      }
     }
    },
    "latitude": {
     "currentValue": "58.1467",
     "nuid": "dfe8076a-8ee2-4fac-8a3f-66278b7db17a",
     "typedWidgetInfo": {
      "autoCreated": false,
      "defaultValue": "58.1467",
      "label": "Latitude",
      "name": "latitude",
      "options": {
       "widgetDisplayType": "Text",
       "validationRegex": null
      },
      "parameterDataType": "String"
     },
     "widgetInfo": {
      "widgetType": "text",
      "defaultValue": "58.1467",
      "label": "Latitude",
      "name": "latitude",
      "options": {
       "widgetType": "text",
       "autoCreated": null,
       "validationRegex": null
      }
     }
    },
    "longitude": {
     "currentValue": "7.9956",
     "nuid": "7848feb5-09ba-4d30-9b40-dc8be0693d9f",
     "typedWidgetInfo": {
      "autoCreated": false,
      "defaultValue": "7.9956",
      "label": "Longitude",
      "name": "longitude",
      "options": {
       "widgetDisplayType": "Text",
       "validationRegex": null
      },
      "parameterDataType": "String"
     },
     "widgetInfo": {
      "widgetType": "text",
      "defaultValue": "7.9956",
      "label": "Longitude",
      "name": "longitude",
      "options": {
       "widgetType": "text",
       "autoCreated": null,
       "validationRegex": null
      }
     }
    },
    "radius": {
     "currentValue": "6000",
     "nuid": "fd5c6edc-9723-4898-bbf7-7a2974d19828",
     "typedWidgetInfo": {
      "autoCreated": false,
      "defaultValue": "6000",
      "label": "Radius (m)",
      "name": "radius",
      "options": {
       "widgetDisplayType": "Text",
       "validationRegex": null
      },
      "parameterDataType": "String"
     },
     "widgetInfo": {
      "widgetType": "text",
      "defaultValue": "6000",
      "label": "Radius (m)",
      "name": "radius",
      "options": {
       "widgetType": "text",
       "autoCreated": null,
       "validationRegex": null
      }
     }
    },
    "ship_type": {
     "currentValue": "60",
     "nuid": "14c83fd5-9aa0-40bc-94a3-0476f9d22bea",
     "typedWidgetInfo": {
      "autoCreated": false,
      "defaultValue": "0",
      "label": null,
      "name": "ship_type",
      "options": {
       "widgetDisplayType": "Dropdown",
       "choices": [
        "0",
        "30",
        "31",
        "39",
        "47",
        "50",
        "51",
        "52",
        "53",
        "54",
        "55",
        "56",
        "60",
        "69",
        "70",
        "71",
        "72",
        "75",
        "79",
        "80",
        "81",
        "82",
        "83",
        "84",
        "89",
        "90",
        "99"
       ],
       "fixedDomain": true,
       "multiselect": false
      },
      "parameterDataType": "String"
     },
     "widgetInfo": {
      "widgetType": "dropdown",
      "defaultValue": "0",
      "label": null,
      "name": "ship_type",
      "options": {
       "widgetType": "dropdown",
       "autoCreated": false,
       "choices": [
        "0",
        "30",
        "31",
        "39",
        "47",
        "50",
        "51",
        "52",
        "53",
        "54",
        "55",
        "56",
        "60",
        "69",
        "70",
        "71",
        "72",
        "75",
        "79",
        "80",
        "81",
        "82",
        "83",
        "84",
        "89",
        "90",
        "99"
       ]
      }
     }
    },
    "start_time": {
     "currentValue": "12:00",
     "nuid": "00604d7c-65f2-4768-964c-019564b7cdc7",
     "typedWidgetInfo": {
      "autoCreated": false,
      "defaultValue": "12:00",
      "label": "Starttid (HH:MM)",
      "name": "start_time",
      "options": {
       "widgetDisplayType": "Text",
       "validationRegex": null
      },
      "parameterDataType": "String"
     },
     "widgetInfo": {
      "widgetType": "text",
      "defaultValue": "12:00",
      "label": "Starttid (HH:MM)",
      "name": "start_time",
      "options": {
       "widgetType": "text",
       "autoCreated": false,
       "validationRegex": null
      }
     }
    }
   }
  },
  "language_info": {
   "name": "python"
  }
 },
 "nbformat": 4,
 "nbformat_minor": 0
}