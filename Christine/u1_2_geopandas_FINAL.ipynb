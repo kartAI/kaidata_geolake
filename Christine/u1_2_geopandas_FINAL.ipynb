{
 "cells": [
  {
   "cell_type": "markdown",
   "id": "64c28e28d1fef919",
   "metadata": {},
   "source": [
    "# Parquet konvertering-, partisjonering- og filtreringsverktøy for AIS-data\n",
    "\n",
    "Dette verktøyet konverterer Parquet-filer til GeoParquet-format, partisjonerer på angitte kolonner og filtrerer på angitt dato og radius rundt Kristiansand sentrum. Data vises på tabell og kart.\n",
    "\n",
    "Verktøyet er en løsningsmodell som bruker GeoPandas for følgende brukerhistorie:\n",
    "\n",
    "\"Som havnesjef i Kristiansand kommune ønsker jeg å vite hvilke skip som befant seg innen 6 km fra Kristiansand sentrum på en bestemt dato.\"\n",
    "\n",
    "### Hvordan bruke dette verktøyet\n",
    "1. Last opp dine geografiske datafiler til mappen `data/raw`\n",
    "2. Kjør alle cellene i denne notebooken\n",
    "3. De konverterte filene vil bli lagret i mappen `data/processed`\n",
    "\n",
    "### Støttede filformater\n",
    "\n",
    "- Parquet-filer med geografisk informasjon"
   ]
  },
  {
   "cell_type": "code",
   "execution_count": 3,
   "id": "8a56c74f7824305",
   "metadata": {
    "jupyter": {
     "is_executing": true
    }
   },
   "outputs": [],
   "source": [
    "import os\n",
    "\n",
    "def find_newest_file(folder_path, use_filename=True):\n",
    "    \"\"\"\n",
    "    Finner den nyeste filen i en mappe basert på filnavnet (dato) eller modifiseringstidspunkt.\n",
    "\n",
    "    Args:\n",
    "        folder_path (str): Stien til mappen hvor filene skal søkes\n",
    "        use_filename (bool): Om dato i filnavn skal brukes (True) eller sist endret tid (False)\n",
    "\n",
    "    Returns:\n",
    "        str: Stien til den nyeste filen, eller None hvis det ikke finnes filer\n",
    "    \"\"\"\n",
    "    try:\n",
    "        # Sjekk om mappen eksisterer\n",
    "        if not os.path.exists(folder_path):\n",
    "            print(f\"Mappen {folder_path} eksisterer ikke\")\n",
    "            return None\n",
    "\n",
    "        # Finn alle filer i mappen (ikke mapper)\n",
    "        files = [os.path.join(folder_path, f) for f in os.listdir(folder_path)\n",
    "                 if os.path.isfile(os.path.join(folder_path, f))]\n",
    "\n",
    "        if not files:\n",
    "            print(f\"Ingen filer funnet i {folder_path}\")\n",
    "            return None\n",
    "\n",
    "        if use_filename:\n",
    "            # Finn den nyeste filen basert på dato i filnavnet\n",
    "            import re\n",
    "            import datetime\n",
    "\n",
    "            newest_date = None\n",
    "            newest_file = None\n",
    "\n",
    "            for file in files:\n",
    "                filename = os.path.basename(file)\n",
    "                # Søk etter dato i formatet YYYY-MM-DD i filnavnet\n",
    "                date_match = re.search(r'(\\d{4}-\\d{2}-\\d{2})', filename)\n",
    "\n",
    "                if date_match:\n",
    "                    date_str = date_match.group(1)\n",
    "                    try:\n",
    "                        file_date = datetime.datetime.strptime(date_str, '%Y-%m-%d').date()\n",
    "\n",
    "                        if newest_date is None or file_date > newest_date:\n",
    "                            newest_date = file_date\n",
    "                            newest_file = file\n",
    "                    except ValueError:\n",
    "                        # Hvis datoen ikke kan tolkes, hopp over denne filen\n",
    "                        continue\n",
    "\n",
    "            if newest_file:\n",
    "                return newest_file\n",
    "            else:\n",
    "                print(\"Ingen filer med gyldig datoformat funnet. Bruker modifiseringstidspunkt i stedet.\")\n",
    "                # Fall tilbake til modifiseringstidspunkt\n",
    "                newest_file = max(files, key=os.path.getmtime)\n",
    "                return newest_file\n",
    "        else:\n",
    "            # Finn den nyeste filen basert på modifiseringstidspunkt\n",
    "            newest_file = max(files, key=os.path.getmtime)\n",
    "            return newest_file\n",
    "\n",
    "    except Exception as e:\n",
    "        print(f\"Feil ved søk etter nyeste fil: {str(e)}\")\n",
    "        return None"
   ]
  },
  {
   "cell_type": "code",
   "execution_count": 9,
   "id": "6f2b8e5679dbc78",
   "metadata": {
    "jupyter": {
     "is_executing": true
    }
   },
   "outputs": [
    {
     "name": "stdout",
     "output_type": "stream",
     "text": [
      "Ingen filer med gyldig datoformat funnet. Bruker modifiseringstidspunkt i stedet.\n"
     ]
    },
    {
     "data": {
      "text/plain": [
       "'./data/processed/.DS_Store'"
      ]
     },
     "execution_count": 9,
     "metadata": {},
     "output_type": "execute_result"
    }
   ],
   "source": [
    "folder_path = \"./data/processed\"\n",
    "find_newest_file(folder_path, use_filename=True)"
   ]
  },
  {
   "cell_type": "code",
   "execution_count": null,
   "id": "7e9e7229-e037-4972-b1b3-6117c8408cae",
   "metadata": {},
   "outputs": [],
   "source": []
  }
 ],
 "metadata": {
  "kernelspec": {
   "display_name": "Python [conda env:base] *",
   "language": "python",
   "name": "conda-base-py"
  },
  "language_info": {
   "codemirror_mode": {
    "name": "ipython",
    "version": 3
   },
   "file_extension": ".py",
   "mimetype": "text/x-python",
   "name": "python",
   "nbconvert_exporter": "python",
   "pygments_lexer": "ipython3",
   "version": "3.12.7"
  }
 },
 "nbformat": 4,
 "nbformat_minor": 5
}
