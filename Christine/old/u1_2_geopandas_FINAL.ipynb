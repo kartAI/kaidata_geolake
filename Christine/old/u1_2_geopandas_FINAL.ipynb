{
 "cells": [
  {
   "cell_type": "markdown",
   "id": "64c28e28d1fef919",
   "metadata": {},
   "source": [
    "# Parquet konvertering-, partisjonering- og filtreringsverktøy for AIS-data\n",
    "\n",
    "Dette verktøyet konverterer Parquet-filer til GeoParquet-format, partisjonerer på angitte kolonner og filtrerer på angitt dato og radius rundt Kristiansand sentrum. Data vises på tabell og kart.\n",
    "\n",
    "Verktøyet er en løsningsmodell som bruker GeoPandas for følgende brukerhistorie:\n",
    "\n",
    "\"Som havnesjef i Kristiansand kommune ønsker jeg å vite hvilke skip som befant seg innen 6 km fra Kristiansand sentrum på en bestemt dato.\"\n",
    "\n",
    "### Hvordan bruke dette verktøyet\n",
    "1. Last opp dine geografiske datafiler til mappen `data/raw`\n",
    "2. Kjør alle cellene i denne notebooken\n",
    "3. De konverterte filene vil bli lagret i mappen `data/processed`\n",
    "\n",
    "### Støttede filformater\n",
    "\n",
    "- Parquet-filer med geografisk informasjon"
   ]
  },
  {
   "cell_type": "code",
   "id": "8a56c74f7824305",
   "metadata": {
    "ExecuteTime": {
     "end_time": "2025-04-17T17:35:41.085444Z",
     "start_time": "2025-04-17T17:35:41.080570Z"
    }
   },
   "source": [
    "import os\n",
    "import re\n",
    "import datetime\n",
    "\n",
    "def find_newest_folder(folder_path, use_foldername=True):\n",
    "    \"\"\"\n",
    "    Finner den nyeste mappen i en mappe basert på mappenavnet (dato) eller modifiseringstidspunkt.\n",
    "    Leter etter mappenavn på formatet: hais_2024-12-24.snappy.parquet\n",
    "\n",
    "    Args:\n",
    "        folder_path (str): Stien til mappen hvor undermappene skal søkes\n",
    "        use_foldername (bool): Om dato i mappenavn skal brukes (True) eller sist endret tid (False)\n",
    "\n",
    "    Returns:\n",
    "        tuple: (str: Stien til den nyeste mappen, str: Datoen som string i format 'YYYY-MM-DD',\n",
    "               eller None hvis det ikke finnes mapper eller dato ikke ble funnet)\n",
    "    \"\"\"\n",
    "    try:\n",
    "        # Sjekk om mappen eksisterer\n",
    "        if not os.path.exists(folder_path):\n",
    "            print(f\"Mappen {folder_path} eksisterer ikke\")\n",
    "            return None, None\n",
    "\n",
    "        # Finn alle mapper i mappen (ikke filer)\n",
    "        folders = [os.path.join(folder_path, f) for f in os.listdir(folder_path)\n",
    "                  if os.path.isdir(os.path.join(folder_path, f))]\n",
    "\n",
    "        if not folders:\n",
    "            print(f\"Ingen mapper funnet i {folder_path}\")\n",
    "            return None, None\n",
    "\n",
    "        if use_foldername:\n",
    "            # Finn den nyeste mappen basert på dato i mappenavnet\n",
    "            newest_date = None\n",
    "            newest_folder = None\n",
    "            date_string = None\n",
    "\n",
    "            for folder in folders:\n",
    "                foldername = os.path.basename(folder)\n",
    "                # Søk etter dato i formatet YYYY-MM-DD i mappenavnet\n",
    "                date_match = re.search(r'(\\d{4}-\\d{2}-\\d{2})', foldername)\n",
    "\n",
    "                if date_match:\n",
    "                    date_str = date_match.group(1)\n",
    "                    try:\n",
    "                        folder_date = datetime.datetime.strptime(date_str, '%Y-%m-%d').date()\n",
    "\n",
    "                        if newest_date is None or folder_date > newest_date:\n",
    "                            newest_date = folder_date\n",
    "                            newest_folder = folder\n",
    "                            date_string = date_str\n",
    "                    except ValueError:\n",
    "                        # Hvis datoen ikke kan tolkes, hopp over denne mappen\n",
    "                        continue\n",
    "\n",
    "            if newest_folder:\n",
    "                return newest_folder, date_string\n",
    "            else:\n",
    "                print(\"Ingen mapper med gyldig datoformat funnet. Bruker modifiseringstidspunkt i stedet.\")\n",
    "                # Fall tilbake til modifiseringstidspunkt\n",
    "                newest_folder = max(folders, key=os.path.getmtime)\n",
    "                # Ingen dato funnet i mappenavn, så vi returnerer None som date_string\n",
    "                return newest_folder, None\n",
    "        else:\n",
    "            # Finn den nyeste mappen basert på modifiseringstidspunkt\n",
    "            newest_folder = max(folders, key=os.path.getmtime)\n",
    "\n",
    "            # Sjekk om vi kan finne en dato i mappenavnet til den nyeste mappen\n",
    "            foldername = os.path.basename(newest_folder)\n",
    "            date_match = re.search(r'(\\d{4}-\\d{2}-\\d{2})', foldername)\n",
    "            date_string = date_match.group(1) if date_match else None\n",
    "\n",
    "            return newest_folder, date_string\n",
    "\n",
    "    except Exception as e:\n",
    "        print(f\"Feil ved søk etter nyeste mappe: {str(e)}\")\n",
    "        return None, None"
   ],
   "outputs": [],
   "execution_count": 5
  },
  {
   "cell_type": "code",
   "id": "6f2b8e5679dbc78",
   "metadata": {
    "ExecuteTime": {
     "end_time": "2025-04-17T17:35:42.908105Z",
     "start_time": "2025-04-17T17:35:42.903652Z"
    }
   },
   "source": [
    "folder_path = \"data/processed\"\n",
    "find_newest_folder(folder_path, use_foldername=True)"
   ],
   "outputs": [
    {
     "data": {
      "text/plain": [
       "('data/processed/hais_2025-01-22.snappy.parquet', '2025-01-22')"
      ]
     },
     "execution_count": 6,
     "metadata": {},
     "output_type": "execute_result"
    }
   ],
   "execution_count": 6
  },
  {
   "cell_type": "code",
   "execution_count": null,
   "id": "7e9e7229-e037-4972-b1b3-6117c8408cae",
   "metadata": {},
   "outputs": [],
   "source": []
  }
 ],
 "metadata": {
  "kernelspec": {
   "display_name": "Python [conda env:base] *",
   "language": "python",
   "name": "conda-base-py"
  },
  "language_info": {
   "codemirror_mode": {
    "name": "ipython",
    "version": 3
   },
   "file_extension": ".py",
   "mimetype": "text/x-python",
   "name": "python",
   "nbconvert_exporter": "python",
   "pygments_lexer": "ipython3",
   "version": "3.12.7"
  }
 },
 "nbformat": 4,
 "nbformat_minor": 5
}
