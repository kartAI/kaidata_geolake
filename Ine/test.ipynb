{
 "cells": [
  {
   "metadata": {},
   "cell_type": "markdown",
   "source": "# Konventering fra parquet til geoparquet\n",
   "id": "62e3697d3b3262"
  },
  {
   "metadata": {
    "ExecuteTime": {
     "end_time": "2025-03-13T09:56:06.242623Z",
     "start_time": "2025-03-13T09:56:06.238699Z"
    }
   },
   "cell_type": "code",
   "source": [
    "import pandas as pd\n",
    "import pyarrow as pr\n",
    "import pyarrow.parquet as pq\n",
    "import geopandas as pg\n",
    "from shapely.geometry import Point\n",
    "import folium"
   ],
   "id": "d570c9e9e61785f4",
   "outputs": [],
   "execution_count": 33
  },
  {
   "metadata": {
    "collapsed": true,
    "ExecuteTime": {
     "end_time": "2025-03-13T09:18:12.890185Z",
     "start_time": "2025-03-13T09:18:12.749524Z"
    }
   },
   "cell_type": "code",
   "outputs": [],
   "execution_count": 19,
   "source": "file = pd.read_parquet('data/hais_2024-01-01.snappy.parquet')",
   "id": "initial_id"
  },
  {
   "metadata": {
    "ExecuteTime": {
     "end_time": "2025-03-13T09:28:08.807323Z",
     "start_time": "2025-03-13T09:28:08.802194Z"
    }
   },
   "cell_type": "code",
   "source": "print(file.columns)",
   "id": "676cd066435b7622",
   "outputs": [
    {
     "name": "stdout",
     "output_type": "stream",
     "text": [
      "Index(['date_time_utc', 'mmsi', 'longitude', 'latitude', 'status',\n",
      "       'course_over_ground', 'speed_over_ground', 'rate_of_turn', 'maneuvre',\n",
      "       'imo', 'callsign', 'ship_name', 'ship_type', 'length', 'draught',\n",
      "       'data_source', 'ais_class', 'hex_7', 'hex_14', 'geometry'],\n",
      "      dtype='object')\n"
     ]
    }
   ],
   "execution_count": 24
  },
  {
   "metadata": {
    "ExecuteTime": {
     "end_time": "2025-03-13T09:40:50.795590Z",
     "start_time": "2025-03-13T09:40:49.021608Z"
    }
   },
   "cell_type": "code",
   "source": [
    "geometry = [Point(xy) for xy in zip(file['longitude'], file['latitude'])]\n",
    "gdf = pg.GeoDataFrame(file, geometry=geometry)\n",
    "gdf.to_parquet('data/converted_parquet_file.geoparquet')\n",
    "gdf_read = pg.read_parquet('data/converted_parquet_file.geoparquet')\n",
    "print(gdf_read.head(10))"
   ],
   "id": "6a8a8f69c5daee44",
   "outputs": [
    {
     "name": "stdout",
     "output_type": "stream",
     "text": [
      "        date_time_utc       mmsi  longitude   latitude  status  \\\n",
      "0 2024-01-01 23:03:31  257038950   8.382945  58.247200       0   \n",
      "1 2024-01-01 23:03:39  257038950   8.382945  58.247200       0   \n",
      "2 2024-01-01 23:03:51  257038950   8.382945  58.247200       0   \n",
      "3 2024-01-01 23:04:01  257038950   8.382943  58.247200       0   \n",
      "4 2024-01-01 23:04:10  257038950   8.382940  58.247204       0   \n",
      "5 2024-01-01 23:04:21  257038950   8.382943  58.247200       0   \n",
      "6 2024-01-01 23:04:31  257038950   8.382945  58.247204       0   \n",
      "7 2024-01-01 23:04:39  257038950   8.382947  58.247204       0   \n",
      "8 2024-01-01 23:04:50  257038950   8.382947  58.247208       0   \n",
      "9 2024-01-01 23:05:01  257038950   8.382947  58.247204       0   \n",
      "\n",
      "   course_over_ground  speed_over_ground  rate_of_turn  maneuvre  imo  \\\n",
      "0               360.0                0.0          -128         0    0   \n",
      "1               360.0                0.0          -128         0    0   \n",
      "2               360.0                0.1          -128         0    0   \n",
      "3               360.0                0.0          -128         0    0   \n",
      "4               360.0                0.0          -128         0    0   \n",
      "5               360.0                0.0          -128         0    0   \n",
      "6               360.0                0.0          -128         0    0   \n",
      "7               360.0                0.0          -128         0    0   \n",
      "8               360.0                0.0          -128         0    0   \n",
      "9               360.0                0.1          -128         0    0   \n",
      "\n",
      "  callsign ship_name  ship_type  length draught data_source ais_class  \\\n",
      "0   LF6173  OPTIMERA         70      15    0.00           G         A   \n",
      "1   LF6173  OPTIMERA         70      15    0.00           G         A   \n",
      "2   LF6173  OPTIMERA         70      15    0.00           G         A   \n",
      "3   LF6173  OPTIMERA         70      15    0.00           G         A   \n",
      "4   LF6173  OPTIMERA         70      15    0.00           G         A   \n",
      "5   LF6173  OPTIMERA         70      15    0.00           G         A   \n",
      "6   LF6173  OPTIMERA         70      15    0.00           G         A   \n",
      "7   LF6173  OPTIMERA         70      15    0.00           G         A   \n",
      "8   LF6173  OPTIMERA         70      15    0.00           G         A   \n",
      "9   LF6173  OPTIMERA         70      15    0.00           G         A   \n",
      "\n",
      "                hex_7              hex_14                  geometry  \n",
      "0  608155174778699775  639680372160382879   POINT (8.38294 58.2472)  \n",
      "1  608155174778699775  639680372160382879   POINT (8.38294 58.2472)  \n",
      "2  608155174778699775  639680372160382879   POINT (8.38294 58.2472)  \n",
      "3  608155174778699775  639680372160382879   POINT (8.38294 58.2472)  \n",
      "4  608155174778699775  639680372160382879   POINT (8.38294 58.2472)  \n",
      "5  608155174778699775  639680372160382879   POINT (8.38294 58.2472)  \n",
      "6  608155174778699775  639680372160382879   POINT (8.38294 58.2472)  \n",
      "7  608155174778699775  639680372160382879   POINT (8.38295 58.2472)  \n",
      "8  608155174778699775  639680372160382879  POINT (8.38295 58.24721)  \n",
      "9  608155174778699775  639680372160382879   POINT (8.38295 58.2472)  \n"
     ]
    }
   ],
   "execution_count": 28
  },
  {
   "metadata": {
    "ExecuteTime": {
     "end_time": "2025-03-13T09:04:32.148451Z",
     "start_time": "2025-03-13T09:04:32.145125Z"
    }
   },
   "cell_type": "code",
   "outputs": [
    {
     "name": "stdout",
     "output_type": "stream",
     "text": [
      "Index(['date_time_utc', 'mmsi', 'longitude', 'latitude', 'status',\n",
      "       'course_over_ground', 'speed_over_ground', 'rate_of_turn', 'maneuvre',\n",
      "       'imo', 'callsign', 'ship_name', 'ship_type', 'length', 'draught',\n",
      "       'data_source', 'ais_class', 'hex_7', 'hex_14', 'geometry'],\n",
      "      dtype='object')\n"
     ]
    }
   ],
   "execution_count": 9,
   "source": "print(gdf_read.columns)",
   "id": "ee43a00fe63919a"
  },
  {
   "metadata": {
    "ExecuteTime": {
     "end_time": "2025-03-13T09:22:40.370923Z",
     "start_time": "2025-03-13T09:22:40.265944Z"
    }
   },
   "cell_type": "code",
   "source": [
    "specific_lat = 40.0\n",
    "specific_lon = -70.0\n",
    "reference_point = Point(specific_lon, specific_lat)\n",
    "closest_point = gdf_read.iloc[gdf_read.distance(reference_point).idxmin()]\n",
    "print(closest_point)\n",
    "\n",
    "m = folium.Map(locations=[closest_point.latitude, closest_point.longitude], zoom_start=10)\n",
    "folium.Marker(\n",
    "    [closest_point.latitude, closest_point.longitude],\n",
    "    popup=f\"Ship: {closest_point.ship_name}\\nMMSI: {closest_point.mmsi}\"\n",
    ").add_to(m)\n",
    "m"
   ],
   "id": "72d75f994fce0c2c",
   "outputs": [
    {
     "name": "stdout",
     "output_type": "stream",
     "text": [
      "date_time_utc               2024-01-01 09:45:28\n",
      "mmsi                                  352002289\n",
      "longitude                              6.543423\n",
      "latitude                               57.47652\n",
      "status                                        0\n",
      "course_over_ground                        262.1\n",
      "speed_over_ground                          11.7\n",
      "rate_of_turn                                  7\n",
      "maneuvre                                      0\n",
      "imo                                     9944144\n",
      "callsign                                 3E3506\n",
      "ship_name                          NORD VOLANTE\n",
      "ship_type                                    89\n",
      "length                                      183\n",
      "draught                                   11.30\n",
      "data_source                                   G\n",
      "ais_class                                     A\n",
      "hex_7                        608154189368918015\n",
      "hex_14                       639679386753068359\n",
      "geometry              POINT (6.543423 57.47652)\n",
      "Name: 283571, dtype: object\n"
     ]
    },
    {
     "data": {
      "text/plain": [
       "<folium.folium.Map at 0x116d61a90>"
      ],
      "text/html": [
       "<div style=\"width:100%;\"><div style=\"position:relative;width:100%;height:0;padding-bottom:60%;\"><span style=\"color:#565656\">Make this Notebook Trusted to load map: File -> Trust Notebook</span><iframe srcdoc=\"&lt;!DOCTYPE html&gt;\n",
       "&lt;html&gt;\n",
       "&lt;head&gt;\n",
       "    \n",
       "    &lt;meta http-equiv=&quot;content-type&quot; content=&quot;text/html; charset=UTF-8&quot; /&gt;\n",
       "    \n",
       "        &lt;script&gt;\n",
       "            L_NO_TOUCH = false;\n",
       "            L_DISABLE_3D = false;\n",
       "        &lt;/script&gt;\n",
       "    \n",
       "    &lt;style&gt;html, body {width: 100%;height: 100%;margin: 0;padding: 0;}&lt;/style&gt;\n",
       "    &lt;style&gt;#map {position:absolute;top:0;bottom:0;right:0;left:0;}&lt;/style&gt;\n",
       "    &lt;script src=&quot;https://cdn.jsdelivr.net/npm/leaflet@1.9.3/dist/leaflet.js&quot;&gt;&lt;/script&gt;\n",
       "    &lt;script src=&quot;https://code.jquery.com/jquery-3.7.1.min.js&quot;&gt;&lt;/script&gt;\n",
       "    &lt;script src=&quot;https://cdn.jsdelivr.net/npm/bootstrap@5.2.2/dist/js/bootstrap.bundle.min.js&quot;&gt;&lt;/script&gt;\n",
       "    &lt;script src=&quot;https://cdnjs.cloudflare.com/ajax/libs/Leaflet.awesome-markers/2.0.2/leaflet.awesome-markers.js&quot;&gt;&lt;/script&gt;\n",
       "    &lt;link rel=&quot;stylesheet&quot; href=&quot;https://cdn.jsdelivr.net/npm/leaflet@1.9.3/dist/leaflet.css&quot;/&gt;\n",
       "    &lt;link rel=&quot;stylesheet&quot; href=&quot;https://cdn.jsdelivr.net/npm/bootstrap@5.2.2/dist/css/bootstrap.min.css&quot;/&gt;\n",
       "    &lt;link rel=&quot;stylesheet&quot; href=&quot;https://netdna.bootstrapcdn.com/bootstrap/3.0.0/css/bootstrap-glyphicons.css&quot;/&gt;\n",
       "    &lt;link rel=&quot;stylesheet&quot; href=&quot;https://cdn.jsdelivr.net/npm/@fortawesome/fontawesome-free@6.2.0/css/all.min.css&quot;/&gt;\n",
       "    &lt;link rel=&quot;stylesheet&quot; href=&quot;https://cdnjs.cloudflare.com/ajax/libs/Leaflet.awesome-markers/2.0.2/leaflet.awesome-markers.css&quot;/&gt;\n",
       "    &lt;link rel=&quot;stylesheet&quot; href=&quot;https://cdn.jsdelivr.net/gh/python-visualization/folium/folium/templates/leaflet.awesome.rotate.min.css&quot;/&gt;\n",
       "    \n",
       "            &lt;meta name=&quot;viewport&quot; content=&quot;width=device-width,\n",
       "                initial-scale=1.0, maximum-scale=1.0, user-scalable=no&quot; /&gt;\n",
       "            &lt;style&gt;\n",
       "                #map_801ba98a817d324ee2cc025f99fe2e7b {\n",
       "                    position: relative;\n",
       "                    width: 100.0%;\n",
       "                    height: 100.0%;\n",
       "                    left: 0.0%;\n",
       "                    top: 0.0%;\n",
       "                }\n",
       "                .leaflet-container { font-size: 1rem; }\n",
       "            &lt;/style&gt;\n",
       "        \n",
       "&lt;/head&gt;\n",
       "&lt;body&gt;\n",
       "    \n",
       "    \n",
       "            &lt;div class=&quot;folium-map&quot; id=&quot;map_801ba98a817d324ee2cc025f99fe2e7b&quot; &gt;&lt;/div&gt;\n",
       "        \n",
       "&lt;/body&gt;\n",
       "&lt;script&gt;\n",
       "    \n",
       "    \n",
       "            var map_801ba98a817d324ee2cc025f99fe2e7b = L.map(\n",
       "                &quot;map_801ba98a817d324ee2cc025f99fe2e7b&quot;,\n",
       "                {\n",
       "                    center: [0.0, 0.0],\n",
       "                    crs: L.CRS.EPSG3857,\n",
       "                    ...{\n",
       "  &quot;zoom&quot;: 1,\n",
       "  &quot;zoomControl&quot;: true,\n",
       "  &quot;preferCanvas&quot;: false,\n",
       "  &quot;locations&quot;: [\n",
       "57.47652,\n",
       "6.543423,\n",
       "],\n",
       "}\n",
       "\n",
       "                }\n",
       "            );\n",
       "\n",
       "            \n",
       "\n",
       "        \n",
       "    \n",
       "            var tile_layer_83c0044f06660f1448c00523098e8a3d = L.tileLayer(\n",
       "                &quot;https://tile.openstreetmap.org/{z}/{x}/{y}.png&quot;,\n",
       "                {\n",
       "  &quot;minZoom&quot;: 0,\n",
       "  &quot;maxZoom&quot;: 19,\n",
       "  &quot;maxNativeZoom&quot;: 19,\n",
       "  &quot;noWrap&quot;: false,\n",
       "  &quot;attribution&quot;: &quot;\\u0026copy; \\u003ca href=\\&quot;https://www.openstreetmap.org/copyright\\&quot;\\u003eOpenStreetMap\\u003c/a\\u003e contributors&quot;,\n",
       "  &quot;subdomains&quot;: &quot;abc&quot;,\n",
       "  &quot;detectRetina&quot;: false,\n",
       "  &quot;tms&quot;: false,\n",
       "  &quot;opacity&quot;: 1,\n",
       "}\n",
       "\n",
       "            );\n",
       "        \n",
       "    \n",
       "            tile_layer_83c0044f06660f1448c00523098e8a3d.addTo(map_801ba98a817d324ee2cc025f99fe2e7b);\n",
       "        \n",
       "    \n",
       "            var marker_b182d30a2719c0bba7770cd75dff552a = L.marker(\n",
       "                [57.47652, 6.543423],\n",
       "                {\n",
       "}\n",
       "            ).addTo(map_801ba98a817d324ee2cc025f99fe2e7b);\n",
       "        \n",
       "    \n",
       "        var popup_a663e13655f9c88a8822c7b4ab0eb4fe = L.popup({\n",
       "  &quot;maxWidth&quot;: &quot;100%&quot;,\n",
       "});\n",
       "\n",
       "        \n",
       "            \n",
       "                var html_cda5d614da8cd0f713e96e9f1ca73efa = $(`&lt;div id=&quot;html_cda5d614da8cd0f713e96e9f1ca73efa&quot; style=&quot;width: 100.0%; height: 100.0%;&quot;&gt;Ship: NORD VOLANTE MMSI: 352002289&lt;/div&gt;`)[0];\n",
       "                popup_a663e13655f9c88a8822c7b4ab0eb4fe.setContent(html_cda5d614da8cd0f713e96e9f1ca73efa);\n",
       "            \n",
       "        \n",
       "\n",
       "        marker_b182d30a2719c0bba7770cd75dff552a.bindPopup(popup_a663e13655f9c88a8822c7b4ab0eb4fe)\n",
       "        ;\n",
       "\n",
       "        \n",
       "    \n",
       "&lt;/script&gt;\n",
       "&lt;/html&gt;\" style=\"position:absolute;width:100%;height:100%;left:0;top:0;border:none !important;\" allowfullscreen webkitallowfullscreen mozallowfullscreen></iframe></div></div>"
      ]
     },
     "execution_count": 23,
     "metadata": {},
     "output_type": "execute_result"
    }
   ],
   "execution_count": 23
  },
  {
   "metadata": {},
   "cell_type": "markdown",
   "source": "# Partisjonering",
   "id": "aa656522d4e63421"
  },
  {
   "metadata": {
    "ExecuteTime": {
     "end_time": "2025-03-13T10:55:40.059401Z",
     "start_time": "2025-03-13T10:55:39.880359Z"
    }
   },
   "cell_type": "code",
   "source": [
    "# Leser geoparquet\n",
    "geoparquet_file = pd.read_parquet('data/converted_parquet_file.geoparquet')"
   ],
   "id": "6f80bd9a901231c6",
   "outputs": [],
   "execution_count": 42
  },
  {
   "metadata": {
    "ExecuteTime": {
     "end_time": "2025-03-13T10:55:41.631868Z",
     "start_time": "2025-03-13T10:55:41.581212Z"
    }
   },
   "cell_type": "code",
   "source": [
    "# Deler opp kolonnen date_time_utc til bare date og time.\n",
    "geoparquet_file['date'] = geoparquet_file['date_time_utc'].dt.date\n",
    "\n",
    "geoparquet_file['hour'] = geoparquet_file['date_time_utc'].dt.hour"
   ],
   "id": "ebac94db76fa0fb6",
   "outputs": [],
   "execution_count": 43
  },
  {
   "metadata": {
    "ExecuteTime": {
     "end_time": "2025-03-13T10:55:42.759198Z",
     "start_time": "2025-03-13T10:55:42.751975Z"
    }
   },
   "cell_type": "code",
   "source": "print(geoparquet_file.head(10))",
   "id": "a17ca68c4182bc4",
   "outputs": [
    {
     "name": "stdout",
     "output_type": "stream",
     "text": [
      "        date_time_utc       mmsi  longitude   latitude  status  \\\n",
      "0 2024-01-01 23:03:31  257038950   8.382945  58.247200       0   \n",
      "1 2024-01-01 23:03:39  257038950   8.382945  58.247200       0   \n",
      "2 2024-01-01 23:03:51  257038950   8.382945  58.247200       0   \n",
      "3 2024-01-01 23:04:01  257038950   8.382943  58.247200       0   \n",
      "4 2024-01-01 23:04:10  257038950   8.382940  58.247204       0   \n",
      "5 2024-01-01 23:04:21  257038950   8.382943  58.247200       0   \n",
      "6 2024-01-01 23:04:31  257038950   8.382945  58.247204       0   \n",
      "7 2024-01-01 23:04:39  257038950   8.382947  58.247204       0   \n",
      "8 2024-01-01 23:04:50  257038950   8.382947  58.247208       0   \n",
      "9 2024-01-01 23:05:01  257038950   8.382947  58.247204       0   \n",
      "\n",
      "   course_over_ground  speed_over_ground  rate_of_turn  maneuvre  imo  ...  \\\n",
      "0               360.0                0.0          -128         0    0  ...   \n",
      "1               360.0                0.0          -128         0    0  ...   \n",
      "2               360.0                0.1          -128         0    0  ...   \n",
      "3               360.0                0.0          -128         0    0  ...   \n",
      "4               360.0                0.0          -128         0    0  ...   \n",
      "5               360.0                0.0          -128         0    0  ...   \n",
      "6               360.0                0.0          -128         0    0  ...   \n",
      "7               360.0                0.0          -128         0    0  ...   \n",
      "8               360.0                0.0          -128         0    0  ...   \n",
      "9               360.0                0.1          -128         0    0  ...   \n",
      "\n",
      "  ship_type length  draught  data_source ais_class               hex_7  \\\n",
      "0        70     15     0.00            G         A  608155174778699775   \n",
      "1        70     15     0.00            G         A  608155174778699775   \n",
      "2        70     15     0.00            G         A  608155174778699775   \n",
      "3        70     15     0.00            G         A  608155174778699775   \n",
      "4        70     15     0.00            G         A  608155174778699775   \n",
      "5        70     15     0.00            G         A  608155174778699775   \n",
      "6        70     15     0.00            G         A  608155174778699775   \n",
      "7        70     15     0.00            G         A  608155174778699775   \n",
      "8        70     15     0.00            G         A  608155174778699775   \n",
      "9        70     15     0.00            G         A  608155174778699775   \n",
      "\n",
      "               hex_14                                           geometry  \\\n",
      "0  639680372160382879  b'\\x01\\x01\\x00\\x00\\x00\\\\U\\xf6]\\x11\\xc4 @\\x1d\\x...   \n",
      "1  639680372160382879  b'\\x01\\x01\\x00\\x00\\x00\\\\U\\xf6]\\x11\\xc4 @\\x1d\\x...   \n",
      "2  639680372160382879  b'\\x01\\x01\\x00\\x00\\x00\\\\U\\xf6]\\x11\\xc4 @\\x1d\\x...   \n",
      "3  639680372160382879  b'\\x01\\x01\\x00\\x00\\x00\\xd9v\\xda\\x1a\\x11\\xc4 @\\...   \n",
      "4  639680372160382879  b'\\x01\\x01\\x00\\x00\\x00\\x15\\xa90\\xb6\\x10\\xc4 @_...   \n",
      "5  639680372160382879  b'\\x01\\x01\\x00\\x00\\x00\\xd9v\\xda\\x1a\\x11\\xc4 @\\...   \n",
      "6  639680372160382879  b'\\x01\\x01\\x00\\x00\\x00\\\\U\\xf6]\\x11\\xc4 @_\\xb8s...   \n",
      "7  639680372160382879  b'\\x01\\x01\\x00\\x00\\x00\\xdf3\\x12\\xa1\\x11\\xc4 @_...   \n",
      "8  639680372160382879  b'\\x01\\x01\\x00\\x00\\x00\\xdf3\\x12\\xa1\\x11\\xc4 @\\...   \n",
      "9  639680372160382879  b'\\x01\\x01\\x00\\x00\\x00\\xdf3\\x12\\xa1\\x11\\xc4 @_...   \n",
      "\n",
      "         date hour  \n",
      "0  2024-01-01   23  \n",
      "1  2024-01-01   23  \n",
      "2  2024-01-01   23  \n",
      "3  2024-01-01   23  \n",
      "4  2024-01-01   23  \n",
      "5  2024-01-01   23  \n",
      "6  2024-01-01   23  \n",
      "7  2024-01-01   23  \n",
      "8  2024-01-01   23  \n",
      "9  2024-01-01   23  \n",
      "\n",
      "[10 rows x 22 columns]\n"
     ]
    }
   ],
   "execution_count": 44
  },
  {
   "metadata": {
    "ExecuteTime": {
     "end_time": "2025-03-13T09:58:54.536571Z",
     "start_time": "2025-03-13T09:58:54.532674Z"
    }
   },
   "cell_type": "code",
   "outputs": [],
   "execution_count": 35,
   "source": [
    "#conventerer speed_over_ground til string\n",
    "# geoparquet_file['speed_over_ground_str'] = geoparquet_file['speed_over_ground'].astype(str)"
   ],
   "id": "a03440ed1e19c7a7"
  },
  {
   "metadata": {
    "ExecuteTime": {
     "end_time": "2025-03-13T09:53:15.040493Z",
     "start_time": "2025-03-13T09:53:14.696415Z"
    }
   },
   "cell_type": "code",
   "outputs": [],
   "execution_count": 32,
   "source": [
    "# Konventerer til pyarrow tabell\n",
    "table = pr.Table.from_pandas(geoparquet_file)"
   ],
   "id": "8e8a8b05b0824605"
  },
  {
   "metadata": {
    "ExecuteTime": {
     "end_time": "2025-03-13T10:01:10.253019Z",
     "start_time": "2025-03-13T10:01:09.383583Z"
    }
   },
   "cell_type": "code",
   "outputs": [],
   "execution_count": 37,
   "source": [
    "# Partisjonering\n",
    "pq.write_to_dataset(\n",
    "    table,\n",
    "    root_path='data/utdata_mappe',\n",
    "    partition_cols=['date', 'hour', 'ship_name']\n",
    ")"
   ],
   "id": "7b8c2773b7fd310c"
  },
  {
   "metadata": {},
   "cell_type": "markdown",
   "source": "# Filtrering",
   "id": "b0d6f21fdc776f16"
  },
  {
   "metadata": {},
   "cell_type": "code",
   "outputs": [],
   "execution_count": null,
   "source": "",
   "id": "1af049ef605c4542"
  }
 ],
 "metadata": {
  "kernelspec": {
   "display_name": "Python 3",
   "language": "python",
   "name": "python3"
  },
  "language_info": {
   "codemirror_mode": {
    "name": "ipython",
    "version": 2
   },
   "file_extension": ".py",
   "mimetype": "text/x-python",
   "name": "python",
   "nbconvert_exporter": "python",
   "pygments_lexer": "ipython2",
   "version": "2.7.6"
  }
 },
 "nbformat": 4,
 "nbformat_minor": 5
}
