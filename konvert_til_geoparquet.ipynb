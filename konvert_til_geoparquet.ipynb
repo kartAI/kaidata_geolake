{
 "cells": [
  {
   "metadata": {},
   "cell_type": "markdown",
   "source": "# Konvert filer till geoparquet",
   "id": "a9e75261acf264b0"
  },
  {
   "metadata": {
    "ExecuteTime": {
     "end_time": "2025-03-06T11:27:16.581974Z",
     "start_time": "2025-03-06T11:27:13.506743Z"
    }
   },
   "cell_type": "code",
   "source": "import geopandas as gpd",
   "id": "301131af1f185fa",
   "outputs": [],
   "execution_count": 2
  },
  {
   "metadata": {
    "ExecuteTime": {
     "end_time": "2025-03-06T11:27:16.596869Z",
     "start_time": "2025-03-06T11:27:16.589522Z"
    }
   },
   "cell_type": "code",
   "source": [
    "#NB! filen må lagres geopatquet\n",
    "def convert_geoparquet(filepath):\n",
    "    # Read the Parquet file\n",
    "    df = gpd.read_parquet(filepath)\n",
    "    \n",
    "    # Ensure it's a GeoDataFrame\n",
    "    if not isinstance(df, gpd.GeoDataFrame):\n",
    "        df = gpd.GeoDataFrame(df, geometry=\"geometry\")\n",
    "    \n",
    "    # Save as a GeoParquet file\n",
    "    df.to_parquet(\"output.geoparquet\", engine=\"pyarrow\")\n",
    "    return df"
   ],
   "id": "39255e766a642e15",
   "outputs": [],
   "execution_count": 3
  }
 ],
 "metadata": {
  "kernelspec": {
   "display_name": "Python 3",
   "language": "python",
   "name": "python3"
  },
  "language_info": {
   "codemirror_mode": {
    "name": "ipython",
    "version": 2
   },
   "file_extension": ".py",
   "mimetype": "text/x-python",
   "name": "python",
   "nbconvert_exporter": "python",
   "pygments_lexer": "ipython2",
   "version": "2.7.6"
  }
 },
 "nbformat": 4,
 "nbformat_minor": 5
}
