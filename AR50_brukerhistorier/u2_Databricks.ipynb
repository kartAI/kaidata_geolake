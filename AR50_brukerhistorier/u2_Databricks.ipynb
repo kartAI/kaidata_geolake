{
 "cells": [
  {
   "cell_type": "markdown",
   "metadata": {
    "application/vnd.databricks.v1+cell": {
     "cellMetadata": {
      "byteLimit": 2048000,
      "rowLimit": 10000
     },
     "inputWidgets": {},
     "nuid": "1446137f-6fbc-4865-bcda-9f9629b92922",
     "showTitle": false,
     "tableResultSettingsMap": {},
     "title": ""
    }
   },
   "source": [
    "# Brukerhistorie 2\n",
    "Som bruker ønsker jeg å strømme AR50 slik at jeg kan filtrere data etter behov.  \n",
    "\n",
    "Funksjonalitet: Det skal være mulig å hente AR50 direkte fra fil. Prosessen omhandler strømming som benytter “partial read\" som bruker kan filtrere ut data. \n",
    "\n",
    "Akseptkriterier: \n",
    "- Jeg skal kunne hente AR50-data direkte fra filer med geografisk filtrering og kolonnefiltrering.  \n",
    "- Jeg skal kunne filtrere data etter mine egne behov. \n",
    "\n",
    "Mål: \n",
    "Strømmingen av AR50 skal være en effektiv og brukervennlig prosess. Brukeren skal kunne filtrere data etter egne behov. Prosessen skal også benytte “partial read”, slik at data oppdateres automatisk og ytelsen optimaliseres. \n"
   ]
  },
  {
   "cell_type": "markdown",
   "metadata": {
    "application/vnd.databricks.v1+cell": {
     "cellMetadata": {
      "byteLimit": 2048000,
      "rowLimit": 10000
     },
     "inputWidgets": {},
     "nuid": "c85076ce-694c-47ad-a357-ff94b67a64e3",
     "showTitle": false,
     "tableResultSettingsMap": {},
     "title": ""
    }
   },
   "source": [
    "# Packages"
   ]
  },
  {
   "cell_type": "code",
   "execution_count": 0,
   "metadata": {
    "application/vnd.databricks.v1+cell": {
     "cellMetadata": {
      "byteLimit": 2048000,
      "rowLimit": 10000
     },
     "inputWidgets": {},
     "nuid": "28a5ba3b-8ee8-424b-9730-94f16fb3b6fb",
     "showTitle": false,
     "tableResultSettingsMap": {},
     "title": ""
    }
   },
   "outputs": [
    {
     "output_type": "display_data",
     "data": {
      "application/vnd.databricks.v1+h3_hint": "",
      "text/plain": []
     },
     "metadata": {},
     "output_type": "display_data"
    }
   ],
   "source": [
    "from sedona.spark import *\n",
    "import requests\n",
    "import os\n",
    "import json\n",
    "from pyspark.sql import Row\n",
    "import pyspark.sql.functions as F\n",
    "from pyspark.sql.functions import expr, col, to_timestamp, hour, date_format, lit, to_timestamp, lower, when, desc\n",
    "from pyspark.sql.types import IntegerType, DoubleType, FloatType, LongType, TimestampType, DateType, StringType\n",
    "from pyspark.sql import DataFrame\n",
    "from pyspark.sql.utils import AnalysisException\n",
    "import pandas as pd\n",
    "import geopandas as gpd\n",
    "from shapely import wkb\n",
    "from datetime import datetime\n",
    "from shapely.geometry import Point\n",
    "import geopandas as gpd"
   ]
  },
  {
   "cell_type": "markdown",
   "metadata": {
    "application/vnd.databricks.v1+cell": {
     "cellMetadata": {
      "byteLimit": 2048000,
      "rowLimit": 10000
     },
     "inputWidgets": {},
     "nuid": "808675f5-910d-49ce-815c-d40939c49d2d",
     "showTitle": false,
     "tableResultSettingsMap": {},
     "title": ""
    }
   },
   "source": [
    "# Constant variable"
   ]
  },
  {
   "cell_type": "code",
   "execution_count": 0,
   "metadata": {
    "application/vnd.databricks.v1+cell": {
     "cellMetadata": {
      "byteLimit": 2048000,
      "rowLimit": 10000
     },
     "inputWidgets": {},
     "nuid": "2d0413f8-4340-4326-bd58-61982482352b",
     "showTitle": false,
     "tableResultSettingsMap": {},
     "title": ""
    }
   },
   "outputs": [],
   "source": [
    "A50_TABLE =\"land_techtroll_dev.bronze.ar50\"\n",
    "EPSG = 4326\n",
    "OPERATOR = [\"==\", \"!=\", \"<\", \"<=\", \">\", \">=\", \"LIKE\"]"
   ]
  },
  {
   "cell_type": "markdown",
   "metadata": {
    "application/vnd.databricks.v1+cell": {
     "cellMetadata": {
      "byteLimit": 2048000,
      "rowLimit": 10000
     },
     "inputWidgets": {},
     "nuid": "89a03f79-12d5-45e7-b573-f674132e9073",
     "showTitle": false,
     "tableResultSettingsMap": {},
     "title": ""
    }
   },
   "source": [
    "# Config\n",
    "Define dev_config for the development environment and prod_config for the production environment.</br></br>\n",
    "Each configuration contains:\n",
    "- catalog_name: the name of the catalog.\n",
    "- landing_zone_prefix: file path to the \"landing zone\" where new data is typically placed initially.\n",
    "- location_prefix: file path to where static data is stored in the cloud.\n",
    "- static_data_prefix: general file path to static data."
   ]
  },
  {
   "cell_type": "code",
   "execution_count": 0,
   "metadata": {
    "application/vnd.databricks.v1+cell": {
     "cellMetadata": {
      "byteLimit": 2048000,
      "rowLimit": 10000
     },
     "inputWidgets": {},
     "nuid": "bd5deafc-c848-46ff-9581-2cf5b763eec7",
     "showTitle": false,
     "tableResultSettingsMap": {},
     "title": ""
    }
   },
   "outputs": [
    {
     "output_type": "execute_result",
     "data": {
      "text/plain": [
       "{'catalog_name': 'land_techtroll_dev',\n",
       " 'landing_zone_prefix': '/Volumes/land_techtroll_dev/external_dev/landing_zone',\n",
       " 'location_prefix': '/Volumes/land_techtroll_dev/external_dev/static_data/cloudFiles',\n",
       " 'static_data_prefix': '/Volumes/land_techtroll_dev/external_dev/static_data',\n",
       " 'env': 'dev'}"
      ]
     },
     "execution_count": 3,
     "metadata": {},
     "output_type": "execute_result"
    }
   ],
   "source": [
    "%run ./config"
   ]
  },
  {
   "cell_type": "markdown",
   "metadata": {
    "application/vnd.databricks.v1+cell": {
     "cellMetadata": {
      "byteLimit": 2048000,
      "rowLimit": 10000
     },
     "inputWidgets": {},
     "nuid": "8bfdceff-4d34-4c52-a9c2-842839fba4f9",
     "showTitle": false,
     "tableResultSettingsMap": {},
     "title": ""
    }
   },
   "source": [
    "# Set catelog\n",
    "In this notebook, the catalog is set to `land_techtroll_dev`, as this is where the relevant databases are located. Setting the catalog ensures that all subsequent queries reference the correct data environment, making it easier to access and manage the necessary tables for our testing and development.\n"
   ]
  },
  {
   "cell_type": "code",
   "execution_count": 0,
   "metadata": {
    "application/vnd.databricks.v1+cell": {
     "cellMetadata": {
      "byteLimit": 2048000,
      "rowLimit": 10000
     },
     "inputWidgets": {},
     "nuid": "eff93ca5-eda4-4547-8b86-7e56fdaafa04",
     "showTitle": false,
     "tableResultSettingsMap": {},
     "title": ""
    }
   },
   "outputs": [
    {
     "output_type": "execute_result",
     "data": {
      "text/plain": [
       "DataFrame[]"
      ]
     },
     "execution_count": 4,
     "metadata": {},
     "output_type": "execute_result"
    }
   ],
   "source": [
    "spark.sql(f'USE CATALOG {spark.conf.get(\"conf.catalog_name\")}')"
   ]
  },
  {
   "cell_type": "markdown",
   "metadata": {
    "application/vnd.databricks.v1+cell": {
     "cellMetadata": {
      "byteLimit": 2048000,
      "rowLimit": 10000
     },
     "inputWidgets": {},
     "nuid": "b5142044-d62d-4427-9cd5-3e8bd5de2432",
     "showTitle": false,
     "tableResultSettingsMap": {},
     "title": ""
    }
   },
   "source": [
    "# Get tabell from database\n",
    "The database follows the Medallion Architecture, which organizes data into layers:\n",
    "- Bronze: Raw or minimally processed data (used in this case).\n",
    "- Silver: Cleaned and structured data.\n",
    "- Gold: Aggregated, business-ready data\n",
    "\n",
    "This notebook using only bronze layer to work with raw data for early-stage testing and development.\n",
    "\n",
    "Important note! <i> Spark table has geometry data as binary, hence it need to be convert</i>"
   ]
  },
  {
   "cell_type": "code",
   "execution_count": 0,
   "metadata": {
    "application/vnd.databricks.v1+cell": {
     "cellMetadata": {
      "byteLimit": 2048000,
      "rowLimit": 10000
     },
     "inputWidgets": {},
     "nuid": "d43c05ca-57d5-4897-aa0e-5bd0846d8aac",
     "showTitle": false,
     "tableResultSettingsMap": {},
     "title": ""
    }
   },
   "outputs": [],
   "source": [
    "# Read AIS data from database\n",
    "AR50_DF = spark.table(A50_TABLE)"
   ]
  },
  {
   "cell_type": "markdown",
   "metadata": {
    "application/vnd.databricks.v1+cell": {
     "cellMetadata": {
      "byteLimit": 2048000,
      "rowLimit": 10000
     },
     "inputWidgets": {},
     "nuid": "de2879ad-5899-4866-8ab8-e4342e9f9eb2",
     "showTitle": false,
     "tableResultSettingsMap": {},
     "title": ""
    }
   },
   "source": [
    "# Clean the table\n",
    "Remove unnecessary data table in following columns:\n",
    "- Arealtype\n",
    "- Jordbruk\n",
    "- Skogbonitet\n",
    "- Treslag\n",
    "- vegetasjonsdekke\n",
    "\n",
    "The following values is removed:\n",
    "- 99: \"Ikke kartlagt\"\n",
    "- 98: \"Ikke definert\""
   ]
  },
  {
   "cell_type": "code",
   "execution_count": 0,
   "metadata": {
    "application/vnd.databricks.v1+cell": {
     "cellMetadata": {
      "byteLimit": 2048000,
      "rowLimit": 10000
     },
     "inputWidgets": {},
     "nuid": "544a64ee-2d65-4494-8a1e-816ed8fdac7b",
     "showTitle": false,
     "tableResultSettingsMap": {},
     "title": ""
    }
   },
   "outputs": [],
   "source": [
    "# If there are more values that needs be remove, add them here\n",
    "null_values = [98, 99]\n",
    "\n",
    "AR50_DF = AR50_DF.withColumn(\n",
    "    \"vegetasjonsdekke\",\n",
    "    when(col(\"vegetasjonsdekke\").isin(null_values), None).otherwise(col(\"vegetasjonsdekke\"))\n",
    ")\n",
    "\n",
    "AR50_DF = AR50_DF.withColumn(\n",
    "    \"Arealtype\",\n",
    "    when(col(\"Arealtype\").isin(null_values), None).otherwise(col(\"Arealtype\"))\n",
    ")\n",
    "\n",
    "AR50_DF = AR50_DF.withColumn(\n",
    "    \"Treslag\",\n",
    "    when(col(\"Treslag\").isin(null_values), None).otherwise(col(\"Treslag\"))\n",
    ")\n",
    "\n",
    "AR50_DF = AR50_DF.withColumn(\n",
    "    \"Skogbonitet\",\n",
    "    when(col(\"Skogbonitet\").isin(null_values), None).otherwise(col(\"Skogbonitet\"))\n",
    ")\n",
    "\n",
    "AR50_DF = AR50_DF.withColumn(\n",
    "    \"Jordbruk\",\n",
    "    when(col(\"Jordbruk\").isin(null_values), None).otherwise(col(\"Jordbruk\"))\n",
    ")"
   ]
  },
  {
   "cell_type": "markdown",
   "metadata": {
    "application/vnd.databricks.v1+cell": {
     "cellMetadata": {
      "byteLimit": 2048000,
      "rowLimit": 10000
     },
     "inputWidgets": {},
     "nuid": "0d08c36e-b63f-4c88-8d6f-51cf643ecd81",
     "showTitle": false,
     "tableResultSettingsMap": {},
     "title": ""
    }
   },
   "source": [
    "# Checks methods\n",
    "Various methods for check if the variable, dataframe or so on, it correct"
   ]
  },
  {
   "cell_type": "code",
   "execution_count": 0,
   "metadata": {
    "application/vnd.databricks.v1+cell": {
     "cellMetadata": {
      "byteLimit": 2048000,
      "rowLimit": 10000
     },
     "inputWidgets": {},
     "nuid": "406acd5d-7cda-47ea-82ad-8d6e975bcd9c",
     "showTitle": false,
     "tableResultSettingsMap": {},
     "title": ""
    }
   },
   "outputs": [],
   "source": [
    "def check_df_columns(df: DataFrame):\n",
    "    \"\"\"\n",
    "    Validates that the provided DataFrame contains at least one column.\n",
    "\n",
    "    Parameters:\n",
    "    df (DataFrame): The DataFrame to validate.\n",
    "\n",
    "    Raises:\n",
    "    ValueError: If the DataFrame has no columns.\n",
    "    \"\"\"\n",
    "    if not df.columns:\n",
    "        # Raise an error if the DataFrame has no columns\n",
    "        raise ValueError(\"DataFrame has no columns to search.\")\n",
    "\n",
    "def check_df_contains_column(df: DataFrame, required_cols: list):\n",
    "    \"\"\"\n",
    "    Checks whether the given DataFrame contains all the specified required columns.\n",
    "\n",
    "    Parameters:\n",
    "    df (DataFrame): The DataFrame to validate.\n",
    "    required_cols (list): A list of column names that are expected in the DataFrame.\n",
    "\n",
    "    Raises:\n",
    "    ValueError: If one or more required columns are missing. \n",
    "                The error message will include the names of the missing columns.\n",
    "    \"\"\"\n",
    "    # Create a list of missing columns by checking which required columns are not in the DataFrame\n",
    "    missing = [col for col in required_cols if col not in df.columns]\n",
    "\n",
    "    # Raise an error if any required columns are missing\n",
    "    if missing:\n",
    "        raise ValueError(f\"Missing required columns: {missing}\")\n",
    "def is_column_string(df: DataFrame, column_name: str) -> bool:\n",
    "    \"\"\"\n",
    "    Checks whether the specified column in the DataFrame has a string data type.\n",
    "\n",
    "    Parameters:\n",
    "    df (DataFrame): The input PySpark DataFrame.\n",
    "    column_name (str): The name of the column to check.\n",
    "\n",
    "    Returns:\n",
    "    bool: True if the column is of type StringType, False otherwise.\n",
    "    \"\"\"\n",
    "    # Access the column's data type from the DataFrame schema and check if it's a StringType\n",
    "    return isinstance(df.schema[column_name].dataType, StringType)\n",
    "  \n",
    "def is_column_integer(df: DataFrame, column_name: str) -> bool:\n",
    "    \"\"\"\n",
    "    Checks if the specified column is of an integer-compatible type.\n",
    "\n",
    "    Parameters:\n",
    "    df (DataFrame): The input PySpark DataFrame.\n",
    "    column_name (str): The name of the column to check.\n",
    "\n",
    "    Returns:\n",
    "    bool: True if the column is IntegerType or LongType, otherwise False.\n",
    "    \"\"\"\n",
    "    # Check if the column's data type is either IntegerType or LongType\n",
    "    return isinstance(df.schema[column_name].dataType, (IntegerType, LongType))\n",
    "\n",
    "def is_column_double(df: DataFrame, column_name: str) -> bool:\n",
    "    \"\"\"\n",
    "    Checks if the specified column is of a floating-point type.\n",
    "\n",
    "    Parameters:\n",
    "    df (DataFrame): The input PySpark DataFrame.\n",
    "    column_name (str): The name of the column to check.\n",
    "\n",
    "    Returns:\n",
    "    bool: True if the column is DoubleType or FloatType, otherwise False.\n",
    "    \"\"\"\n",
    "    # Check if the column's data type is either DoubleType or FloatType\n",
    "    return isinstance(df.schema[column_name].dataType, (DoubleType, FloatType))\n",
    "\n",
    "\n",
    "def is_column_datetime(df: DataFrame, column_name: str) -> bool:\n",
    "    \"\"\"\n",
    "    Checks if the specified column is a timestamp or date.\n",
    "\n",
    "    Parameters:\n",
    "    df (DataFrame): The input PySpark DataFrame.\n",
    "    column_name (str): The name of the column to check.\n",
    "\n",
    "    Returns:\n",
    "    bool: True if the column is TimestampType or DateType, otherwise False.\n",
    "    \"\"\"\n",
    "    # Check if the column's data type is either TimestampType or DateType\n",
    "    return isinstance(df.schema[column_name].dataType, (TimestampType, DateType))\n"
   ]
  },
  {
   "cell_type": "markdown",
   "metadata": {
    "application/vnd.databricks.v1+cell": {
     "cellMetadata": {
      "byteLimit": 2048000,
      "rowLimit": 10000
     },
     "inputWidgets": {},
     "nuid": "67603aa8-b1a5-4fd4-831b-4d47207481dc",
     "showTitle": false,
     "tableResultSettingsMap": {},
     "title": ""
    }
   },
   "source": [
    "# Filter methods\n",
    "Various methods are available for filtering the data based on specific conditions or criteria."
   ]
  },
  {
   "cell_type": "code",
   "execution_count": 0,
   "metadata": {
    "application/vnd.databricks.v1+cell": {
     "cellMetadata": {
      "byteLimit": 2048000,
      "rowLimit": 10000
     },
     "inputWidgets": {},
     "nuid": "0469e3aa-674d-4a0e-96cd-ef9c77d116a1",
     "showTitle": false,
     "tableResultSettingsMap": {},
     "title": ""
    }
   },
   "outputs": [],
   "source": [
    "def search_df(df: DataFrame, search_term: str, limit: int = 100) -> DataFrame:\n",
    "    \"\"\"\n",
    "    Searches a DataFrame for rows where any column contains the given search term (case-insensitive).\n",
    "\n",
    "    Parameters:\n",
    "    df (DataFrame): The input PySpark DataFrame.\n",
    "    search_term (str): The term to search for within all columns.\n",
    "    limit (int): Maximum number of rows to return. Default is 100.\n",
    "\n",
    "    Returns:\n",
    "    DataFrame: A DataFrame with up to `limit` rows where at least one column contains the search term.\n",
    "\n",
    "    Raises:\n",
    "    ValueError: If the DataFrame has no columns or no matches are found.\n",
    "    \"\"\"\n",
    "    # Ensure the DataFrame has columns to search\n",
    "    check_df_columns(df)\n",
    "\n",
    "    filtered_dfs = []\n",
    "\n",
    "    # Convert search term to lowercase once\n",
    "    search_term_lower = search_term.lower()\n",
    "\n",
    "    # Search each column for the search term (case-insensitive)\n",
    "    for col_name in df.columns:\n",
    "        filtered_col_df = df.filter(lower(col(col_name).cast(\"string\")).contains(search_term_lower))\n",
    "\n",
    "        if filtered_col_df.take(1):  # Efficient check for matches\n",
    "            filtered_dfs.append(filtered_col_df)\n",
    "\n",
    "    if not filtered_dfs:\n",
    "        raise ValueError(\"No matches found for the given search term.\")\n",
    "\n",
    "    # Combine all matching rows and remove duplicates\n",
    "    combined_filtered_df = filtered_dfs[0]\n",
    "    for filtered_df in filtered_dfs[1:]:\n",
    "        combined_filtered_df = combined_filtered_df.union(filtered_df)\n",
    "\n",
    "    return combined_filtered_df.distinct().limit(limit)\n",
    "\n",
    "def select_columns(df: DataFrame, columns: list, limit: int = 100) -> DataFrame:\n",
    "    \"\"\"\n",
    "    Selects specific columns from a DataFrame and returns up to `limit` rows.\n",
    "\n",
    "    Parameters:\n",
    "    df (DataFrame): The input PySpark DataFrame.\n",
    "    columns (list): A list of column names to select.\n",
    "    limit (int): The maximum number of rows to return. Default is 100.\n",
    "\n",
    "    Returns:\n",
    "    DataFrame: A DataFrame containing only the selected columns, limited to `limit` rows.\n",
    "\n",
    "    Raises:\n",
    "    ValueError: If any of the specified columns are missing from the DataFrame.\n",
    "    \"\"\"\n",
    "    # Validate that all specified columns exist in the DataFrame\n",
    "    check_df_contains_column(df, columns)\n",
    "\n",
    "    # Select specified columns and limit to the desired number of rows\n",
    "    return df.select(*columns).limit(limit)"
   ]
  },
  {
   "cell_type": "code",
   "execution_count": 0,
   "metadata": {
    "application/vnd.databricks.v1+cell": {
     "cellMetadata": {
      "byteLimit": 2048000,
      "rowLimit": 10000
     },
     "inputWidgets": {},
     "nuid": "d6dc0560-d689-4f20-8a2f-97cd017a19dc",
     "showTitle": false,
     "tableResultSettingsMap": {},
     "title": ""
    }
   },
   "outputs": [],
   "source": [
    "def operation_on_column(df: DataFrame, op: str, column: str, value: dict) -> DataFrame | None:\n",
    "    \"\"\"\n",
    "    Applies a dynamic filter operation on a specified column in the DataFrame.\n",
    "\n",
    "    Parameters:\n",
    "    df (DataFrame): The input PySpark DataFrame.\n",
    "    op (str): The operator to use for filtering (e.g., '>=', '==', 'between').\n",
    "    column (str): The name of the column to apply the filter to.\n",
    "    value (dict): A dictionary containing the 'search' value(s).\n",
    "    type_value (str): A type hint (e.g., 'hour', 'date') to handle special filtering cases.\n",
    "\n",
    "    Returns:\n",
    "    DataFrame | None: A new filtered DataFrame if the operator is valid, otherwise None.\n",
    "    \"\"\"\n",
    "    # Extract the search value or value range from the filter definition\n",
    "    search = value[\"search\"]\n",
    "    tmp_df = None\n",
    "\n",
    "    # Handle standard comparison operators\n",
    "    if op == \">=\":\n",
    "        tmp_df = df.filter(col(column) >= search)\n",
    "    elif op == \"<=\":\n",
    "        tmp_df = df.filter(col(column) <= search)\n",
    "    elif op == \">\":\n",
    "        tmp_df = df.filter(col(column) > search)\n",
    "    elif op == \"<\":\n",
    "        tmp_df = df.filter(col(column) < search)\n",
    "    elif op == \"==\":\n",
    "        tmp_df = df.filter(col(column) == search)\n",
    "\n",
    "    # Handle range-based filtering (e.g., 'between')\n",
    "    elif op == \"between\":\n",
    "        # Generic between filter for numeric, date, or timestamp values\n",
    "        tmp_df = df.filter(col(column).between(search[0], search[1]))\n",
    "\n",
    "    return tmp_df\n",
    "def filter_dataframe(df: DataFrame, filters: dict, limit: int = 100) -> DataFrame:\n",
    "    \"\"\"\n",
    "    Dynamically filters a DataFrame based on a dictionary of column filter definitions.\n",
    "\n",
    "    Parameters:\n",
    "    - df (DataFrame): The input DataFrame to filter.\n",
    "    - filters (dict): Dictionary of filters with structure:\n",
    "        {\n",
    "            \"column_name\": {\n",
    "                \"operator\": \"==\", \">=\", \"<\", \"between\", ...\n",
    "                \"value\": {\n",
    "                    \"search\": value or (start, end)\n",
    "                }\n",
    "            }\n",
    "        }\n",
    "    - limit (int): Maximum number of rows to return.\n",
    "\n",
    "    Returns:\n",
    "    - DataFrame: Filtered DataFrame with the applied filters.\n",
    "    \"\"\"\n",
    "    # Validate all columns exist\n",
    "    check_df_contains_column(df, filters.keys())\n",
    "\n",
    "    filter_df = df\n",
    "\n",
    "    for col_name, value in filters.items():\n",
    "        tmp_df = operation_on_column(\n",
    "            df,\n",
    "            value[\"operator\"],\n",
    "            col_name,\n",
    "            value[\"value\"]\n",
    "        )\n",
    "\n",
    "        if tmp_df is None:\n",
    "            raise ValueError(f\"Invalid operator {value['operator']} for column '{col_name}'\")\n",
    "\n",
    "        # Use intersection logic instead of join to ensure rows match all filters\n",
    "        filter_df = filter_df.intersect(tmp_df)\n",
    "\n",
    "    return filter_df.limit(limit)\n"
   ]
  },
  {
   "cell_type": "markdown",
   "metadata": {
    "application/vnd.databricks.v1+cell": {
     "cellMetadata": {
      "byteLimit": 2048000,
      "rowLimit": 10000
     },
     "inputWidgets": {},
     "nuid": "2782bef6-ff2e-4386-a4b8-b588e0d02129",
     "showTitle": false,
     "tableResultSettingsMap": {},
     "title": ""
    }
   },
   "source": [
    "# Gis query"
   ]
  },
  {
   "cell_type": "code",
   "execution_count": 0,
   "metadata": {
    "application/vnd.databricks.v1+cell": {
     "cellMetadata": {
      "byteLimit": 2048000,
      "rowLimit": 10000
     },
     "inputWidgets": {},
     "nuid": "132449d7-e478-40e3-a4b9-2d3f6c810aa0",
     "showTitle": false,
     "tableResultSettingsMap": {},
     "title": ""
    }
   },
   "outputs": [],
   "source": [
    "def create_buffer_radius(lon, lat, radius_m=500):\n",
    "    \"\"\"\n",
    "    Create a buffer area (radius in meters) around a given longitude and latitude.\n",
    "\n",
    "    Args:\n",
    "        lon (float): Longitude of the center point.\n",
    "        lat (float): Latitude of the center point.\n",
    "        radius_m (int, optional): Radius of the buffer in meters. Defaults to 500.\n",
    "\n",
    "    Returns:\n",
    "        DataFrame: A Spark DataFrame containing the buffer geometry as GeoJSON.\n",
    "    \"\"\"\n",
    "    # Create a DataFrame with a single point (id, longitude, latitude)\n",
    "    data = [(1, lon, lat)]\n",
    "    df_raw = spark.createDataFrame(data, [\"id\", \"lon\", \"lat\"])\n",
    "    df_raw.createOrReplaceTempView(\"geom_points\")\n",
    "\n",
    "    # Convert the longitude and latitude into a geometry point with SRID 3857\n",
    "    geom_df = spark.sql(\"\"\"\n",
    "    SELECT \n",
    "        id,\n",
    "        ST_SetSRID(ST_Point(lon, lat), 3857) AS geometry\n",
    "    FROM geom_points\n",
    "    \"\"\")\n",
    "\n",
    "    # Create a buffer around the point and transform it, returning it as GeoJSON\n",
    "    query = f\"\"\"\n",
    "        SELECT \n",
    "            id,\n",
    "            st_asgeojson(\n",
    "                ST_Transform(\n",
    "                    ST_SetSRID(\n",
    "                        ST_Buffer(\n",
    "                            ST_SetSRID(ST_Point(lon, lat), {EPSG}),\n",
    "                            {radius_m}, True\n",
    "                        ),\n",
    "                        {EPSG}\n",
    "                    ),\n",
    "                    'EPSG:{EPSG}'\n",
    "                )\n",
    "            ) AS geom\n",
    "        FROM geom_points\n",
    "    \"\"\"\n",
    "    buffer_df = spark.sql(query)\n",
    "    return buffer_df\n",
    "\n",
    "\n",
    "def get_geomtry_within(df, lon, lat, radius_m=500):\n",
    "    \"\"\"\n",
    "    Find geometries within a given radius from a specified point.\n",
    "\n",
    "    Args:\n",
    "        df (DataFrame): Spark DataFrame containing geometries to query against.\n",
    "        lon (float): Longitude of the center point.\n",
    "        lat (float): Latitude of the center point.\n",
    "        radius_m (int, optional): Search radius in meters. Defaults to 500.\n",
    "\n",
    "    Returns:\n",
    "        Tuple[DataFrame, DataFrame]: \n",
    "            - DataFrame with geometries that intersect the buffer area.\n",
    "            - DataFrame with the buffer geometry itself.\n",
    "    \"\"\"\n",
    "    # Create a buffer around the given point\n",
    "    buffer_df = create_buffer_radius(lon, lat)\n",
    "    \n",
    "    # Register the input DataFrame as a temporary view\n",
    "    df.createOrReplaceTempView(\"Within_view\")\n",
    "\n",
    "    # Query to select geometries that intersect the buffer\n",
    "    query = f\"\"\"\n",
    "        SELECT\n",
    "            gml_Id,\n",
    "            Treslag,\n",
    "            geometry\n",
    "        FROM Within_view\n",
    "        WHERE ST_Intersects(\n",
    "            ST_GeomFromText(geometry),\n",
    "            (SELECT \n",
    "                ST_Transform(\n",
    "                    ST_SetSRID(\n",
    "                        ST_Buffer(\n",
    "                            ST_SetSRID(ST_Point(lon, lat), {EPSG}),\n",
    "                            {radius_m}, True\n",
    "                        ),\n",
    "                        {EPSG}\n",
    "                    ),\n",
    "                    'EPSG:{EPSG}'\n",
    "                ) AS geom\n",
    "            FROM geom_points)\n",
    "        )\n",
    "    \"\"\"\n",
    "    within_df = spark.sql(query)\n",
    "    return within_df, buffer_df\n"
   ]
  },
  {
   "cell_type": "markdown",
   "metadata": {
    "application/vnd.databricks.v1+cell": {
     "cellMetadata": {
      "byteLimit": 2048000,
      "rowLimit": 10000
     },
     "inputWidgets": {},
     "nuid": "c71a666d-f514-4e78-a23b-72ad11ff8740",
     "showTitle": false,
     "tableResultSettingsMap": {},
     "title": ""
    }
   },
   "source": [
    "# Map visualization\n"
   ]
  },
  {
   "cell_type": "code",
   "execution_count": 0,
   "metadata": {
    "application/vnd.databricks.v1+cell": {
     "cellMetadata": {
      "byteLimit": 2048000,
      "rowLimit": 10000
     },
     "inputWidgets": {},
     "nuid": "6f1acd6f-3735-4ba2-bdda-bdd5a1863201",
     "showTitle": false,
     "tableResultSettingsMap": {},
     "title": ""
    }
   },
   "outputs": [],
   "source": [
    "def prepare_for_kepler(df: DataFrame) -> DataFrame:\n",
    "    \"\"\"\n",
    "    Cleans a DataFrame for visualization in SedonaKepler.\n",
    "    \n",
    "    - Converts DecimalType to FloatType\n",
    "    - Converts DateType to String (\"yyyy-MM-dd\")\n",
    "\n",
    "    Args:\n",
    "        df (DataFrame): The input PySpark DataFrame\n",
    "\n",
    "    Returns:\n",
    "        DataFrame: Cleaned DataFrame ready for Kepler.gl\n",
    "    \"\"\"\n",
    "    # Convert decimal columns to float\n",
    "    decimal_cols = [f.name for f in df.schema.fields if \"decimal\" in str(f.dataType).lower()]\n",
    "    for col_name in decimal_cols:\n",
    "        df = df.withColumn(col_name, col(col_name).cast(\"float\"))\n",
    "\n",
    "    # Convert date columns to string (yyyy-MM-dd)\n",
    "    if \"date\" in df.columns:\n",
    "        df = df.withColumn(\"date\", date_format(col(\"date\"), \"yyyy-MM-dd\"))\n",
    "\n",
    "    return df\n",
    "    \n",
    "def visualize_map(filter_df: DataFrame, name: str = None):\n",
    "    \"\"\"\n",
    "    Visualizes a filtered PySpark DataFrame on a Kepler-style interactive map.\n",
    "\n",
    "    Parameters:\n",
    "    filter_df (DataFrame): The filtered DataFrame containing spatial data (geometry or coordinates).\n",
    "    name (str, optional): A name or label to assign to the map layer. Defaults to None.\n",
    "\n",
    "    Returns:\n",
    "    None: Displays the interactive map in the notebook environment.\n",
    "    \"\"\"\n",
    "    # Preprocess the DataFrame to make it compatible with Kepler visualization\n",
    "    filtered_df_clean = prepare_for_kepler(filter_df)\n",
    "\n",
    "    # Create an empty interactive map using SedonaKepler\n",
    "    map = SedonaKepler.create_map()\n",
    "\n",
    "    # Add the cleaned DataFrame to the map, with an optional layer name\n",
    "    SedonaKepler.add_df(map, filtered_df_clean, name=name)\n",
    "\n",
    "    # Display the map in the notebook\n",
    "    return map"
   ]
  },
  {
   "cell_type": "markdown",
   "metadata": {
    "application/vnd.databricks.v1+cell": {
     "cellMetadata": {
      "byteLimit": 2048000,
      "rowLimit": 10000
     },
     "inputWidgets": {},
     "nuid": "1bbfe212-532b-4ad4-bc54-1f276e947946",
     "showTitle": false,
     "tableResultSettingsMap": {},
     "title": ""
    }
   },
   "source": [
    "# Input functions"
   ]
  },
  {
   "cell_type": "code",
   "execution_count": 0,
   "metadata": {
    "application/vnd.databricks.v1+cell": {
     "cellMetadata": {
      "byteLimit": 2048000,
      "rowLimit": 10000
     },
     "inputWidgets": {},
     "nuid": "7ae4e9d6-329e-440b-ba23-52e94a5a11a0",
     "showTitle": false,
     "tableResultSettingsMap": {},
     "title": ""
    }
   },
   "outputs": [],
   "source": [
    "def choose_col():\n",
    "    print(\"\\nFølgende kolumner er tilgjengelig\")\n",
    "    for vailed_col in AR50_DF.columns:\n",
    "        print(vailed_col)\n",
    "    col = input(\"\"\"Hilken kolumne ønsker du filtere etter?\"\"\")\n",
    "    return col if col in AR50_DF.columns else None\n",
    "\n",
    "def value_converter(col:str):\n",
    "    try:\n",
    "        value = input(f\"Skriv inn verdien du ønsker flitere etter\")\n",
    "        if col == \"arealtype\" or col == \"lokalId\" or col == \"Jordbruk\" or col == \"områdeId\" or col == \"Skogbonitet\" or col == \"Treslag\" or col == \"vegetasjonsdekke\":\n",
    "            print(value)\n",
    "            return int(value)\n",
    "        elif col == \"Kopiddato\" or col == \"Oppdateringsdato\":\n",
    "            return datetime.strptime(value, \"%Y-%m-%d %H:%M:%S\")\n",
    "        else:\n",
    "            return value\n",
    "    except ValueError:\n",
    "        print(f\"Du har skrev ikke en gylding input for {col}, prøv igjen\")\n",
    "        return None\n",
    "    \n",
    "def choose_operator():\n",
    "    print(\"Hvilken operator ønsker du å bruke?\")\n",
    "    print(\"Følgende operatorer er tilgjengelige:\")\n",
    "    print(\"==    sjekker om to verdier er like\")\n",
    "    print(\"!=    sjekker om to verdier er ulike\")\n",
    "    print(\">     sjekker om en verdi er større enn en annen\")\n",
    "    print(\"<     sjekker om en verdi er mindre enn en annen\")\n",
    "    print(\">=    sjekker om en verdi er større enn eller lik en annen\")\n",
    "    print(\"<=    sjekker om en verdi er mindre enn eller lik en annen\")\n",
    "    print(\"LIKE  sjekker om en verdi inneholder en spesifikk tekst (brukes vanligvis med tekststrenger)\")\n",
    "\n",
    "    operator = input()\n",
    "    return operator if operator in [\"==\", \"!=\", \">\", \"<\", \">=\", \"<=\", \"LIKE\"] else None"
   ]
  },
  {
   "cell_type": "markdown",
   "metadata": {
    "application/vnd.databricks.v1+cell": {
     "cellMetadata": {
      "byteLimit": 2048000,
      "rowLimit": 10000
     },
     "inputWidgets": {},
     "nuid": "b8b37415-f8a2-4b56-94c4-0d0536f40c02",
     "showTitle": false,
     "tableResultSettingsMap": {},
     "title": ""
    }
   },
   "source": [
    "# Optimization"
   ]
  },
  {
   "cell_type": "code",
   "execution_count": 0,
   "metadata": {
    "application/vnd.databricks.v1+cell": {
     "cellMetadata": {
      "byteLimit": 2048000,
      "rowLimit": 10000
     },
     "inputWidgets": {},
     "nuid": "ba9e99cd-daa2-417b-8a48-c6714fceb135",
     "showTitle": false,
     "tableResultSettingsMap": {},
     "title": ""
    }
   },
   "outputs": [],
   "source": [
    "def difference_between_rows(df: DataFrame, filter_df: DataFrame) -> int:\n",
    "    \"\"\"\n",
    "    Calculates and prints the difference in row counts between the original and filtered DataFrames.\n",
    "\n",
    "    Parameters:\n",
    "    df (DataFrame): The original (unfiltered) DataFrame.\n",
    "    filter_df (DataFrame): The filtered version of the DataFrame.\n",
    "\n",
    "    Returns:\n",
    "    int: The number of rows removed during filtering.\n",
    "    \"\"\"\n",
    "    # Count rows in both DataFrames\n",
    "    original_count = df.count()\n",
    "    filtered_count = filter_df.count()\n",
    "\n",
    "    # Print summary\n",
    "    print(f\"The original DataFrame has {original_count} rows.\")\n",
    "    print(f\"The filtered DataFrame has {filtered_count} rows.\")\n",
    "    print(f\"The difference is {original_count - filtered_count} rows.\")\n",
    "\n",
    "    # Return the difference in row count\n",
    "    return original_count - filtered_count"
   ]
  },
  {
   "cell_type": "code",
   "execution_count": 0,
   "metadata": {
    "application/vnd.databricks.v1+cell": {
     "cellMetadata": {
      "byteLimit": 2048000,
      "rowLimit": 10000
     },
     "inputWidgets": {},
     "nuid": "6b1f5360-7bfe-4a91-b289-4dbdef909302",
     "showTitle": false,
     "tableResultSettingsMap": {},
     "title": ""
    }
   },
   "outputs": [],
   "source": [
    "def difference_between_size(original_table: str, filter_df: DataFrame) -> float:\n",
    "    \"\"\"\n",
    "    Compares the disk size (in MB) of the original Delta table and a filtered DataFrame.\n",
    "\n",
    "    This function:\n",
    "    - Writes the filtered DataFrame to a temporary table\n",
    "    - Compares table sizes using DESCRIBE DETAIL\n",
    "    - Cleans up the temporary table afterward\n",
    "    - Returns the size difference in megabytes\n",
    "\n",
    "    Parameters:\n",
    "    original_table (str): The name of the original Delta table (e.g., 'bronze.ais').\n",
    "    filter_df (DataFrame): The filtered DataFrame to compare.\n",
    "\n",
    "    Returns:\n",
    "    float: The difference in size (original - filtered) in megabytes.\n",
    "    \"\"\"\n",
    "    tmp_table = \"bronze.ais_tmp\"\n",
    "\n",
    "    try:\n",
    "        # Save the filtered DataFrame as a temporary table\n",
    "        filter_df.write.mode(\"overwrite\").saveAsTable(tmp_table)\n",
    "\n",
    "        # Get size of the original table\n",
    "        original_info = spark.sql(f\"DESCRIBE DETAIL {original_table}\")\n",
    "        original_size_bytes = original_info.select(\"sizeInBytes\").collect()[0][0]\n",
    "        original_size_mb = original_size_bytes / (1024 * 1024)\n",
    "\n",
    "        # Get size of the temporary (filtered) table\n",
    "        tmp_info = spark.sql(f\"DESCRIBE DETAIL {tmp_table}\")\n",
    "        tmp_size_bytes = tmp_info.select(\"sizeInBytes\").collect()[0][0]\n",
    "        tmp_size_mb = tmp_size_bytes / (1024 * 1024)\n",
    "\n",
    "        # Calculate and print the size difference\n",
    "        size_diff_mb = original_size_mb - tmp_size_mb\n",
    "        print(f\"Original table size: {original_size_mb:.2f} MB\")\n",
    "        print(f\"Filtered table size: {tmp_size_mb:.2f} MB\")\n",
    "        print(f\"Difference in size: {size_diff_mb:.2f} MB\")\n",
    "\n",
    "        return size_diff_mb\n",
    "\n",
    "    except AnalysisException as e:\n",
    "        print(f\"[ERROR] Table not found or query failed: {e}\")\n",
    "        return 0.0\n",
    "    except Exception as e:\n",
    "        print(f\"[ERROR] Unexpected error: {e}\")\n",
    "        return 0.0\n",
    "    finally:\n",
    "        # Always drop the temporary table, even if something fails\n",
    "        try:\n",
    "            spark.sql(f\"DROP TABLE IF EXISTS {tmp_table}\")\n",
    "            print(f\"Temporary table '{tmp_table}' dropped.\")\n",
    "        except Exception as drop_err:\n",
    "            print(f\"[WARNING] Could not drop temporary table: {drop_err}\")\n"
   ]
  },
  {
   "cell_type": "markdown",
   "metadata": {
    "application/vnd.databricks.v1+cell": {
     "cellMetadata": {
      "byteLimit": 2048000,
      "rowLimit": 10000
     },
     "inputWidgets": {},
     "nuid": "761c80e1-5cba-4f96-83f2-302eb191f82c",
     "showTitle": false,
     "tableResultSettingsMap": {},
     "title": ""
    }
   },
   "source": [
    "# Save filtrered df"
   ]
  },
  {
   "cell_type": "code",
   "execution_count": 0,
   "metadata": {
    "application/vnd.databricks.v1+cell": {
     "cellMetadata": {
      "byteLimit": 2048000,
      "rowLimit": 10000
     },
     "inputWidgets": {},
     "nuid": "c5e9dbed-f509-4f94-b3f6-2ce11131d14c",
     "showTitle": false,
     "tableResultSettingsMap": {},
     "title": ""
    }
   },
   "outputs": [],
   "source": [
    "def save_filtered_df(\n",
    "    filtered_df: DataFrame,\n",
    "    filename: str,\n",
    "    path: str = \"/Workspace/Users/andrine.flatby@kartverket.no/techtroll-data-ingestor/src/databricks/nedlastet_filer\",\n",
    "    file_format: str = \"csv\",\n",
    "    include_timestamp: bool = False\n",
    ") -> None:\n",
    "    \"\"\"\n",
    "    Saves a PySpark DataFrame to disk as CSV, Parquet, or JSON, with optional timestamp in filename.\n",
    "\n",
    "    Parameters:\n",
    "    filtered_df (DataFrame): The filtered PySpark DataFrame to save.\n",
    "    filename (str): Base name for the file (without extension).\n",
    "    path (str): Directory path where the file will be saved.\n",
    "    file_format (str): File format: 'csv', 'parquet', or 'json'. Default is 'csv'.\n",
    "    include_timestamp (bool): If True, adds a timestamp to the filename.\n",
    "\n",
    "    Returns:\n",
    "    None\n",
    "    \"\"\"\n",
    "    try:\n",
    "        # Convert to pandas DataFrame\n",
    "        pandas_df = filtered_df.toPandas()\n",
    "\n",
    "        # Validate format\n",
    "        file_format = file_format.lower()\n",
    "        if file_format not in {\"csv\", \"parquet\", \"json\"}:\n",
    "            raise ValueError(f\"Unsupported file format: {file_format}\")\n",
    "\n",
    "        # Optional timestamp\n",
    "        if include_timestamp:\n",
    "            timestamp = datetime.now().strftime(\"%Y%m%d_%H%M%S\")\n",
    "            filename = f\"{filename}_{timestamp}\"\n",
    "\n",
    "        # Construct full file path\n",
    "        full_path = os.path.join(path, f\"{filename}.{file_format}\")\n",
    "\n",
    "        # Ensure path exists\n",
    "        os.makedirs(path, exist_ok=True)\n",
    "\n",
    "        # Save based on format\n",
    "        if file_format == \"csv\":\n",
    "            pandas_df.to_csv(full_path, index=False)\n",
    "        elif file_format == \"parquet\":\n",
    "            pandas_df.to_parquet(full_path, index=False)\n",
    "        elif file_format == \"json\":\n",
    "            pandas_df.to_json(full_path, orient=\"records\", lines=True)\n",
    "\n",
    "        print(f\"[INFO] File saved to: {full_path}\")\n",
    "\n",
    "    except Exception as e:\n",
    "        print(f\"[ERROR] Failed to save DataFrame: {e}\")"
   ]
  },
  {
   "cell_type": "markdown",
   "metadata": {
    "application/vnd.databricks.v1+cell": {
     "cellMetadata": {
      "byteLimit": 2048000,
      "rowLimit": 10000
     },
     "inputWidgets": {},
     "nuid": "497dd040-dd30-4693-95a6-8e1a6ab47aca",
     "showTitle": false,
     "tableResultSettingsMap": {},
     "title": ""
    }
   },
   "source": [
    "# User case examples"
   ]
  },
  {
   "cell_type": "markdown",
   "metadata": {
    "application/vnd.databricks.v1+cell": {
     "cellMetadata": {
      "byteLimit": 2048000,
      "rowLimit": 10000
     },
     "inputWidgets": {},
     "nuid": "2c72906b-44be-4c14-b562-623b3c1dd3e7",
     "showTitle": false,
     "tableResultSettingsMap": {},
     "title": ""
    }
   },
   "source": [
    "## Visning av treslag innenfor et gitt område \n",
    "\n",
    "Som arealplanlegger i Kristiansand kommune ønsker jeg å hente ut og analysere AR50-data innenfor en radius på 500-meter rundt et valgt punkt, slik at jeg kan finne hvilke treslag som finnes i området og vurdere grøntstruktur i byplanlegging. \n",
    "\n",
    "Akseptkriterier: \n",
    "- Bruker skal kunne angi koordinater og buffer-radius \n",
    "- Systemet skal returnere forekomster av treslag innenfor området \n",
    "- Treslagene skal vises både i tabell og på kart \n",
    "<br>\n",
    "\n",
    "Input:\n",
    "- Koordinater (f.eks. 8.003180405023354, 58.16368151324909)  \n",
    "- En radius i meter (f.eks. 500) \n",
    "\n",
    "Output:\n",
    "- Tabell \n",
    "- Kart \n"
   ]
  },
  {
   "cell_type": "code",
   "execution_count": 0,
   "metadata": {
    "application/vnd.databricks.v1+cell": {
     "cellMetadata": {
      "byteLimit": 2048000,
      "rowLimit": 10000
     },
     "inputWidgets": {},
     "nuid": "f6e5e3b1-45cd-4752-ac4c-1981ec91e286",
     "showTitle": false,
     "tableResultSettingsMap": {},
     "title": ""
    }
   },
   "outputs": [
    {
     "output_type": "stream",
     "name": "stdout",
     "output_type": "stream",
     "text": [
      "Hilken kolumne ønsker du filtere etter?\n\nFølgende kolumner er tilgjengelig\ngml_Id\nArealtype\nlokalId\nNavnerom\nInformasjon\nJordbruk\nKartstandard\nKopiddato\nområdeId\nOriginalDatavert\nOppdateringsdato\nSkogbonitet\nTreslag\nvegetasjonsdekke\ngeometry\n"
     ]
    },
    {
     "output_type": "display_data",
     "data": {
      "text/plain": [
       " Treslag"
      ]
     },
     "metadata": {},
     "output_type": "display_data"
    },
    {
     "output_type": "stream",
     "name": "stdout",
     "output_type": "stream",
     "text": [
      "Skriv inn koordinatene din:\n"
     ]
    },
    {
     "output_type": "display_data",
     "data": {
      "text/plain": [
       "latitude 58.16368151324909"
      ]
     },
     "metadata": {},
     "output_type": "display_data"
    },
    {
     "output_type": "display_data",
     "data": {
      "text/plain": [
       "longitude 8.003180405023354"
      ]
     },
     "metadata": {},
     "output_type": "display_data"
    },
    {
     "output_type": "stream",
     "name": "stdout",
     "output_type": "stream",
     "text": [
      "Skriv inn radiusen i meter du ønsker søke i:\n"
     ]
    },
    {
     "output_type": "display_data",
     "data": {
      "text/plain": [
       "radius 500"
      ]
     },
     "metadata": {},
     "output_type": "display_data"
    },
    {
     "output_type": "display_data",
     "data": {
      "text/html": [
       "<style scoped>\n",
       "  .table-result-container {\n",
       "    max-height: 300px;\n",
       "    overflow: auto;\n",
       "  }\n",
       "  table, th, td {\n",
       "    border: 1px solid black;\n",
       "    border-collapse: collapse;\n",
       "  }\n",
       "  th, td {\n",
       "    padding: 5px;\n",
       "  }\n",
       "  th {\n",
       "    text-align: left;\n",
       "  }\n",
       "</style><div class='table-result-container'><table class='table-result'><thead style='background-color: white'><tr><th>gml_Id</th><th>Treslag</th><th>geometry</th></tr></thead><tbody><tr><td>idb498c719-7486-4106-a629-170094d23aea</td><td>33</td><td>POLYGON ((8.005060930372247 58.16038908892208, 8.004694602276352 58.16030131853006, 8.004594471461935 58.16016062486779, 8.004638427238715 58.15993775156891, 8.004753531088042 58.159786386628674, 8.004939782878553 58.15970652985068, 8.004915196674213 58.15961505734768, 8.004562063376559 58.15946042472104, 8.004195746032746 58.15937265311437, 8.003976119068616 58.159405610778336, 8.003781074836645 58.159530040716795, 8.003599217660945 58.15958760847904, 8.003430548653366 58.15957831414517, 8.003401570182152 58.15950912870705, 8.00351228154379 58.15938005224562, 8.003454324648994 58.15924168140114, 8.003227701524724 58.159094015985026, 8.00297470175735 58.15908007373783, 8.00269532254258 58.15919985444291, 8.002471298681503 58.159255096737425, 8.00230263165497 58.15924580094561, 8.002227092045759 58.15919657852954, 8.002244679696407 58.15910742965219, 8.002388766683833 58.15902525265799, 8.002659352250388 58.158950047100035, 8.002850000472105 58.15884790614587, 8.002960711560542 58.15871883016032, 8.002936130977277 58.15862735739207, 8.002776259717733 58.158573487783215, 8.002751679684929 58.15848201499082, 8.002862389883486 58.15835293907259, 8.002795644113256 58.15825914251318, 8.002551443623798 58.15820062505877, 8.002378384897538 58.15821361670715, 8.002276466939083 58.15829811772873, 8.002103407662398 58.15831110899048, 8.001859208062852 58.158252590222304, 8.00146652685728 58.158298534340105, 8.000925360075724 58.15844893988195, 8.00066615622099 58.15868247627651, 8.000688918783924 58.15899914532545, 8.000611569234072 58.159175117958114, 8.00043410717324 58.15921039398269, 8.000285616887409 58.159314855774866, 8.000166097710643 58.15948850342253, 8.000290783180878 58.15972067332103, 8.00065967867394 58.1600113648633, 8.00083533272679 58.16020128457713, 8.000817740803235 58.16029043316978, 8.000888882650619 58.16036194358018, 8.001048758718325 58.1604158156685, 8.001119901273103 58.160487325964226, 8.00110230986555 58.16057647460724, 8.001173452828139 58.16064798488153, 8.001333330610278 58.160701856647236, 8.001475618229101 58.16084487693247, 8.001600316458656 58.1610770458128, 8.00183573966836 58.16118013985719, 8.002181886385456 58.161154158418256, 8.002405922865336 58.16109891689906, 8.002507849065344 58.16101441594552, 8.00268531843613 58.16097913717347, 8.00293833152551 58.16099308027723, 8.003140382617055 58.161049273661064, 8.003291472156906 58.16114771757783, 8.003316054918631 58.161239190323755, 8.003214129908311 58.161323691951516, 8.003238712557437 58.16141516471016, 8.003389803859948 58.16151360854688, 8.00345216012476 58.16162969221184, 8.003425780551465 58.161763415819095, 8.003572477258452 58.16188414674772, 8.003892251905587 58.161991884432254, 8.003979195514365 58.16219944056425, 8.0038333045666 58.16250681554888, 8.003860491842143 58.1628011973408, 8.004060761650072 58.16308258591895, 8.004296205212743 58.16318567582528, 8.004566819419827 58.16311046679865, 8.00477506954098 58.16291917404626, 8.004920954377466 58.16261179785018, 8.005036066568222 58.16246043282719, 8.005120408168288 58.16246507910376, 8.005129199506323 58.16242050441223, 8.005062440815278 58.16232670877319, 8.005071232178496 58.16228213408622, 8.005155573363012 58.162286780330696, 8.005215326301169 58.1621999540307, 8.005250490658485 58.16202165521397, 8.005188127854055 58.16190557229558, 8.005028238573356 58.161851705146084, 8.004999255437504 58.161782519974516, 8.005101177705154 58.161698016855084, 8.005038815883658 58.16158193388407, 8.004812171746105 58.16143427085637, 8.004707641866048 58.16131586454643, 8.004725224762383 58.16122671522493, 8.004869315189021 58.16114453548515, 8.0052752105694 58.161031719352565, 8.00494843504939 58.16074336335234, 8.004894866178539 58.160582705665426, 8.005060930372247 58.16038908892208))</td></tr><tr><td>ida658c04f-7ffd-449e-a4ec-b6754b06c2a2</td><td>31</td><td>POLYGON ((7.997502940783783 58.168443637533315, 7.997782411777257 58.16832387018386, 7.9978465949786 58.168214760986416, 7.997788648527019 58.168076387768934, 7.997848430039722 58.16798956553622, 7.99802593895404 58.16795429411025, 7.998081318664256 58.16788975873936, 7.998014569675674 58.167795959594116, 7.997892441393705 58.16776669573508, 7.997714933313068 58.16780196699182, 7.997634981689575 58.16777502858653, 7.997652586697049 58.167685880707374, 7.997838896474018 58.16760603556815, 7.998193910088738 58.167535492406216, 7.998338041792979 58.167453320948155, 7.998237918504781 58.167312622424035, 7.997731807930266 58.16728471519386, 7.997449781076081 58.167201574167365, 7.997223135399897 58.16705389754871, 7.9970254624263974 58.16697540730698, 7.996856760831576 58.16696610354976, 7.996632678726952 58.16702133431403, 7.996353214630902 58.16714109927539, 7.996193316605869 58.16708722080818, 7.996152986361048 58.16685969940037, 7.995862162363916 58.16682112879355, 7.995050178587022 58.16704669548507, 7.9952636069353336 58.16726123636244, 7.995461277350775 58.167339729295215, 7.995714331677957 58.16735368767056, 7.995827651952326 58.167427527324236, 7.995801237819119 58.167561248623294, 7.995424206560272 58.16774321931803, 7.99469655142309 58.16797343614157, 7.9942974931074575 58.16826683738853, 7.994227037281721 58.16862342627827, 7.994149631424334 58.16879939379508, 7.994065276816704 58.16879473995277, 7.994060873141233 58.168817026747575, 7.994136420534066 58.16886625419073, 7.994101191204203 58.16904454856637, 7.9939551829582145 58.16935190973656, 7.993924355941781 58.169507917243656, 7.994050890357266 58.169514898179145, 7.994596659779434 58.1693422393174, 7.994849727857994 58.16935619970566, 7.994992020880681 58.16949922737957, 7.995189702758193 58.16957772097655, 7.995442772831185 58.16959168022394, 7.995564905083895 58.16962094652415, 7.99555609931922 58.16966552025111, 7.995935705751159 58.16968645786457, 7.997087734071115 58.16968240315061, 7.997000816076279 58.1694748428288, 7.996723176147552 58.169369412938444, 7.996225842831757 58.169296925295704, 7.995985982085753 58.16921610699032, 7.996003592205493 58.1691269594467, 7.996101155315336 58.169064751351485, 7.996278671241478 58.16902948251672, 7.996338458175905 58.16894266110887, 7.996280516681267 58.16880428730627, 7.996340303190448 58.168717465888754, 7.996517817140838 58.168682196678006, 7.99661537809755 58.16861998814239, 7.996632986234398 58.16853084047002, 7.99685707804673 58.168475609908526, 7.997502940783783 58.168443637533315))</td></tr><tr><td>idaad7410f-fb36-46cd-b532-695eb9ef7145</td><td>31</td><td>POLYGON ((8.000602836808843 58.16915524813237, 8.000855906819472 58.16916919658285, 8.001242496650994 58.169370739987265, 8.001846972846142 58.16976452610115, 8.002351315677219 58.17001761384523, 8.00295761885633 58.1701861989833, 8.003284459010281 58.170474561474855, 8.003726451102004 58.17061156011884, 8.004392542026498 58.17069331350126, 8.004729986065884 58.17071190160963, 8.004738780712703 58.17066732701324, 8.00486971941545 58.17065201000816, 8.005122802371 58.17066595022038, 8.005351292747836 58.17058841737238, 8.005555188885218 58.17041941156232, 8.005534992495848 58.17030565169213, 8.005290705688518 58.17024713769884, 8.005164165623034 58.17024016785283, 8.005155371654475 58.17028474249288, 8.004982254353088 58.170297736466, 8.00464481405354 58.1702791491068, 8.004400529021664 58.1702206334371, 8.004249399566094 58.17012219000139, 8.004187027826235 58.1700061064005, 8.004213413001251 58.16987238274866, 8.005172141788623 58.169767487514065, 8.006117676574775 58.169729447032445, 8.007063209858167 58.1696913994741, 8.007953376665364 58.16971788485107, 8.007842646094188 58.16984696478967, 8.007947209621411 58.16996536922494, 8.008267069355657 58.170073097668734, 8.008562330178341 58.170089353240826, 8.0088329897689 58.17001413606428, 8.008943717369613 58.16988505519921, 8.008894514146123 58.169702111088824, 8.008912092303504 58.169612961085484, 8.008996451532928 58.16961760515487, 8.0090562088981 58.169530777136785, 8.009091364064577 58.169352477058915, 8.009463951886207 58.16919275225316, 8.010528974984076 58.16898102184499, 8.010668691989423 58.16892112351649, 8.010703838253999 58.16874282280592, 8.010680986467989 58.168426153676904, 8.01058959755818 58.168240888629796, 8.010429671748158 58.16818702752097, 8.010282926675536 58.16806630350549, 8.010149362980641 58.1678787166426, 8.009993833014706 58.16780256746796, 8.009816335513808 58.16783785587427, 8.009740767754867 58.1677886373409, 8.009767129813618 58.16765491205155, 8.009629176559466 58.16748961227616, 8.009175778962911 58.16719429992018, 8.008935900747737 58.16711350572881, 8.00888670033593 58.16693056167586, 8.008948216864129 58.16661853651312, 8.009067720320791 58.166444880259775, 8.009245211417056 58.16640959276666, 8.009342744249437 58.16634737385807, 8.009360318991995 58.16625822372207, 8.009213585132672 58.1661374987056, 8.008902544758335 58.165985198282215, 8.008700456343492 58.165929013291795, 8.008607317724088 58.16596894420953, 8.008185565375376 58.16594572292581, 8.007060022445584 58.165816156248646, 8.007020466860128 58.16601674307394, 8.007049456809039 58.166085927927526, 8.007133807352915 58.16609057305319, 8.007116227155235 58.16617972276644, 8.006996715277692 58.16635337700531, 8.007054695636972 58.16649174672652, 8.007290170185373 58.16659483172758, 8.007399118043484 58.16669094895457, 8.007381538098981 58.16678009871005, 8.007326176880161 58.16684463852648, 8.007233034309861 58.16688456835285, 8.006895624702704 58.1668659876218, 8.006023114041879 58.16675034685673, 8.004884365540871 58.16668762262266, 8.004500386987779 58.166688999597156, 8.004491593403593 58.166733574198645, 8.004271920611737 58.16676653141488, 8.003841368324963 58.16678787014453, 8.003575121464822 58.16684078973882, 8.003473179967438 58.1669252912307, 8.003257902770034 58.16693595940096, 8.002929291162237 58.16687279369974, 8.002709616250863 58.16690574816691, 8.002598876491964 58.167034823335825, 8.002286051834028 58.16710770327559, 8.001771142656136 58.16712438649946, 8.001500491726695 58.16719958879449, 8.001474099114509 58.167333311725145, 8.001574235476474 58.167474007969716, 8.001800902392729 58.167621677261884, 8.002011785517752 58.16763329883534, 8.002206882414887 58.16750887271759, 8.002646240209797 58.167442965310684, 8.003329859929611 58.167435574098725, 8.003658477464038 58.16749873888687, 8.003632092642583 58.16763246242968, 8.003698856425117 58.16772625892972, 8.003858769359672 58.167780128251344, 8.004251553854072 58.167734178892935, 8.004877205822313 58.16758840860644, 8.00518563344997 58.167537809598464, 8.005176840432581 58.167582384259475, 8.005298974623217 58.167611641231225, 8.005552036218686 58.16762558013977, 8.00574973255824 58.1677040575879, 8.005892064301635 58.167847073848264, 8.006089762629937 58.16792555080834, 8.006342826883323 58.167939488195536, 8.006489557719 58.168060216469094, 8.006529955267014 58.16828773600066, 8.006630114381608 58.168428428732255, 8.006790035126468 58.16848229452356, 8.007009716646486 58.168449333130646, 8.007289157167753 58.16832954420605, 8.0074376671623 58.168225074627074, 8.00745524795448 58.16813592488111, 8.007384078192253 58.168064417566015, 8.007224158325162 58.16801055254185, 8.007161779938263 58.16789447026477, 8.007196942345885 58.167716170864395, 8.007096782748999 58.16757547857047, 8.006861302496175 58.16747239309069, 8.006752353889052 58.16737627538599, 8.006769935815226 58.167287125758996, 8.006956223920135 58.16720726677983, 8.007311217271557 58.16713669768592, 8.007479923454385 58.16714598763994, 8.007462343400876 58.167235137404454, 8.007533511786377 58.16730664464664, 8.007693429060392 58.167360509226484, 8.007738228808927 58.167565741074505, 8.00766790940194 58.167922340278665, 8.007712709467775 58.168127572142645, 8.007872630636513 58.16818143657845, 8.008007953819789 58.16814382865961, 8.00811867802169 58.16801474844407, 8.008347144752436 58.16793720970746, 8.008693354308653 58.167911211819984, 8.008946419871396 58.16792514404224, 8.00910634213991 58.16797900694618, 8.009126549255528 58.168092766471624, 8.009007039928758 58.16826642265835, 8.008601071047261 58.168379249192256, 8.007908642215833 58.16843124331565, 8.007507063402333 58.16852177878961, 8.007396335295441 58.16865085838989, 8.007252218724238 58.16873304045378, 8.007074714061087 58.16876832487521, 8.006972774804906 58.168852829226, 8.006946401031335 58.16898655368987, 8.006675745744241 58.16906176693243, 8.006160808874174 58.1690784673891, 8.005907736630723 58.16906452947149, 8.005916529240759 58.16901995475105, 8.00579438973663 58.16899069826226, 8.005541318315183 58.16897675963109, 8.005359414246874 58.16903432893557, 8.005248676729368 58.16916340646483, 8.005226692943847 58.169274843101775, 8.005293463768238 58.16936863891082, 8.005233697631919 58.169455464973154, 8.005047393658527 58.169535321091665, 8.00492085618681 58.16952835105739, 8.004854086093134 58.16943455506751, 8.004651985337945 58.16937836337025, 8.004314553983486 58.16935977532026, 8.004028096960582 58.16929893550963, 8.003792614988107 58.1691958442986, 8.003688067654583 58.169077436779695, 8.003714453748964 58.16894371325123, 8.003854181542254 58.168883822651964, 8.004107251388849 58.168897764614805, 8.004331334916397 58.168842520680435, 8.00452643091389 58.168718090977094, 8.004501841281007 58.16862661831933, 8.004257567676735 58.16856810261417, 8.00408885592588 58.168558808259256, 8.00399570524737 58.16859873553954, 8.003975514474059 58.16848497553952, 8.00402828305312 58.16821752828254, 8.003894752404065 58.16802993552909, 8.003574924718961 58.16792219673691, 8.003364039177766 58.16791057771061, 8.003262093926287 58.167995078954554, 8.003291077810529 58.168064264540064, 8.003450991572166 58.168118134392984, 8.003517755686275 58.1682119309954, 8.00349136960481 58.168345654482856, 8.003427203278186 58.16845476688886, 8.00332525651275 58.16853926815199, 8.003016817760454 58.16858986240511, 8.002501887145975 58.168606548145156, 8.002240023186495 58.1686371774154, 8.002231226108483 58.168681751787325, 8.002146870317231 58.1686771032926, 8.001986956203293 58.16862323178871, 8.001847226471936 58.16868312029126, 8.001727679833316 58.16885676883996, 8.001579150747329 58.16896123133613, 8.001401639880255 58.168996507691865, 8.001195148208508 58.16896259780598, 8.000959677018658 58.16885950156401, 8.000782166117215 58.16889477705243, 8.000602836808843 58.16915524813237))</td></tr><tr><td>idc4176272-64ca-4986-98b2-5ac2e0b8b796</td><td>31</td><td>POLYGON ((7.995050178587022 58.16704669548507, 7.995862162363916 58.16682112879355, 7.996152986361048 58.16685969940037, 7.996193316605869 58.16708722080818, 7.996353214630902 58.16714109927539, 7.996632678726952 58.16702133431403, 7.996856760831576 58.16696610354976, 7.9970254624263974 58.16697540730698, 7.997223135399897 58.16705389754871, 7.997449781076081 58.167201574167365, 7.997731807930266 58.16728471519386, 7.998237918504781 58.167312622424035, 7.998643905387829 58.16719982942336, 7.998725685535222 58.16700157159372, 7.998618590319293 58.16668025182866, 7.99852726884191 58.16649497951136, 7.998451719963293 58.16644575465172, 7.998114320861143 58.16642715079119, 7.997515071234213 58.1664391658346, 7.9971820741881245 58.16639827254677, 7.997115330120801 58.16630447303222, 7.997217284478463 58.16621997691829, 7.997487936171861 58.16614478377558, 7.997791959406495 58.16611648963756, 7.998129355334217 58.16613509428868, 7.998400004580271 58.166059899149154, 7.998603905346178 58.1658909046084, 7.999009874551067 58.1657781100666, 7.999617912382575 58.16572151358807, 8.000061651321381 58.165633327670776, 8.000341091260474 58.165513554036174, 8.000607332328688 58.16546064110648, 8.000860376105965 58.165474588997874, 8.000889353577648 58.16554377499692, 8.00069426353289 58.16566819923173, 8.000761016129877 58.16576199704223, 8.00108961332106 58.165825168056145, 8.00120294049693 58.165899003053525, 8.001100996367855 58.165983502584176, 8.00112557586598 58.16607497568758, 8.00127667998556 58.166173422311076, 8.001736205271065 58.16622127799573, 8.002504151271452 58.16621853938129, 8.002837153825098 58.16625941881764, 8.002735212388874 58.16634391971774, 8.002468967433522 58.16639683703093, 8.002038419023032 58.166418169724224, 8.00181874624576 58.16645112269371, 8.001809949388798 58.16649569704071, 8.00151472261189 58.1664794264715, 8.000933067971024 58.166402309029806, 8.000591268306396 58.16640599885366, 8.000489321210857 58.16649049783082, 8.000353997097514 58.16652809771167, 8.000185296415946 58.16651879839893, 8.000007796708406 58.166554073038505, 7.99982149727264 58.16663392157875, 7.99965977306881 58.16680524314361, 7.999522623095783 58.1670680378062, 7.999651727135933 58.16727792166735, 8.000047089467186 58.16743489400399, 8.000184997114463 58.16760020323939, 8.000065446505502 58.16777385013816, 7.999912517585336 58.16790059776655, 7.999726210649434 58.16798044601002, 7.999595280068628 58.16799575787798, 7.9995197266223155 58.1679465335582, 7.999308842770356 58.16793490782794, 7.998962628028848 58.167960880002326, 7.998649788269997 58.16803375066111, 7.998370322418897 58.16815352002858, 7.998217385859678 58.16828026545401, 7.99819097981797 58.168413987420536, 7.998009067569658 58.16847154601638, 7.997502940783783 58.168443637533315, 7.99685707804673 58.168475609908526, 7.996632986234398 58.16853084047002, 7.99661537809755 58.16861998814239, 7.996517817140838 58.168682196678006, 7.996340303190448 58.168717465888754, 7.996280516681267 58.16880428730627, 7.996338458175905 58.16894266110887, 7.996278671241478 58.16902948251672, 7.996101155315336 58.169064751351485, 7.996003592205493 58.1691269594467, 7.995985982085753 58.16921610699032, 7.996225842831757 58.169296925295704, 7.996723176147552 58.169369412938444, 7.997000816076279 58.1694748428288, 7.997087734071115 58.16968240315061, 7.998286342819253 58.169658376565614, 7.998552618188967 58.169605468665836, 7.998654579285226 58.16952097153739, 7.998680984724196 58.169387249461195, 7.998927082732199 58.16922058021119, 7.999392869589219 58.16902096243124, 7.999710116982121 58.168925803032536, 7.999878828887026 58.168935103212426, 8.000072119142166 58.1690358764524, 8.000398925397713 58.169324245664015, 8.000602836808843 58.16915524813237, 8.000782166117215 58.16889477705243, 8.000959677018658 58.16885950156401, 8.001195148208508 58.16896259780598, 8.001401639880255 58.168996507691865, 8.001579150747329 58.16896123133613, 8.001727679833316 58.16885676883996, 8.001847226471936 58.16868312029126, 8.001986956203293 58.16862323178871, 8.002146870317231 58.1686771032926, 8.002231226108483 58.168681751787325, 8.002240023186495 58.1686371774154, 8.002501887145975 58.168606548145156, 8.003016817760454 58.16858986240511, 8.00332525651275 58.16853926815199, 8.003427203278186 58.16845476688886, 8.00349136960481 58.168345654482856, 8.003517755686275 58.1682119309954, 8.003450991572166 58.168118134392984, 8.003291077810529 58.168064264540064, 8.003262093926287 58.167995078954554, 8.003364039177766 58.16791057771061, 8.003574924718961 58.16792219673691, 8.003894752404065 58.16802993552909, 8.00402828305312 58.16821752828254, 8.003975514474059 58.16848497553952, 8.00399570524737 58.16859873553954, 8.00408885592588 58.168558808259256, 8.004257567676735 58.16856810261417, 8.004501841281007 58.16862661831933, 8.00452643091389 58.168718090977094, 8.004331334916397 58.168842520680435, 8.004107251388849 58.168897764614805, 8.003854181542254 58.168883822651964, 8.003714453748964 58.16894371325123, 8.003688067654583 58.169077436779695, 8.003792614988107 58.1691958442986, 8.004028096960582 58.16929893550963, 8.004314553983486 58.16935977532026, 8.004651985337945 58.16937836337025, 8.004854086093134 58.16943455506751, 8.00492085618681 58.16952835105739, 8.005047393658527 58.169535321091665, 8.005233697631919 58.169455464973154, 8.005293463768238 58.16936863891082, 8.005226692943847 58.169274843101775, 8.005248676729368 58.16916340646483, 8.005359414246874 58.16903432893557, 8.005541318315183 58.16897675963109, 8.00579438973663 58.16899069826226, 8.005916529240759 58.16901995475105, 8.005907736630723 58.16906452947149, 8.006160808874174 58.1690784673891, 8.006675745744241 58.16906176693243, 8.006946401031335 58.16898655368987, 8.006972774804906 58.168852829226, 8.007074714061087 58.16876832487521, 8.007252218724238 58.16873304045378, 8.007396335295441 58.16865085838989, 8.007507063402333 58.16852177878961, 8.007908642215833 58.16843124331565, 8.008601071047261 58.168379249192256, 8.009007039928758 58.16826642265835, 8.009126549255528 58.168092766471624, 8.00910634213991 58.16797900694618, 8.008946419871396 58.16792514404224, 8.008693354308653 58.167911211819984, 8.008347144752436 58.16793720970746, 8.00811867802169 58.16801474844407, 8.008007953819789 58.16814382865961, 8.007872630636513 58.16818143657845, 8.007712709467775 58.168127572142645, 8.00766790940194 58.167922340278665, 8.007738228808927 58.167565741074505, 8.007693429060392 58.167360509226484, 8.007533511786377 58.16730664464664, 8.007462343400876 58.167235137404454, 8.007479923454385 58.16714598763994, 8.007311217271557 58.16713669768592, 8.006956223920135 58.16720726677983, 8.006769935815226 58.167287125758996, 8.006752353889052 58.16737627538599, 8.006861302496175 58.16747239309069, 8.007096782748999 58.16757547857047, 8.007196942345885 58.167716170864395, 8.007161779938263 58.16789447026477, 8.007224158325162 58.16801055254185, 8.007384078192253 58.168064417566015, 8.00745524795448 58.16813592488111, 8.0074376671623 58.168225074627074, 8.007289157167753 58.16832954420605, 8.007009716646486 58.168449333130646, 8.006790035126468 58.16848229452356, 8.006630114381608 58.168428428732255, 8.006529955267014 58.16828773600066, 8.006489557719 58.168060216469094, 8.006342826883323 58.167939488195536, 8.006089762629937 58.16792555080834, 8.005892064301635 58.167847073848264, 8.00574973255824 58.1677040575879, 8.005552036218686 58.16762558013977, 8.005298974623217 58.167611641231225, 8.005176840432581 58.167582384259475, 8.00518563344997 58.167537809598464, 8.004877205822313 58.16758840860644, 8.004251553854072 58.167734178892935, 8.003858769359672 58.167780128251344, 8.003698856425117 58.16772625892972, 8.003632092642583 58.16763246242968, 8.003658477464038 58.16749873888687, 8.003329859929611 58.167435574098725, 8.002646240209797 58.167442965310684, 8.002206882414887 58.16750887271759, 8.002011785517752 58.16763329883534, 8.001800902392729 58.167621677261884, 8.001574235476474 58.167474007969716, 8.001474099114509 58.167333311725145, 8.001500491726695 58.16719958879449, 8.001771142656136 58.16712438649946, 8.002286051834028 58.16710770327559, 8.002598876491964 58.167034823335825, 8.002709616250863 58.16690574816691, 8.002929291162237 58.16687279369974, 8.003257902770034 58.16693595940096, 8.003473179967438 58.1669252912307, 8.003575121464822 58.16684078973882, 8.003841368324963 58.16678787014453, 8.004271920611737 58.16676653141488, 8.004491593403593 58.166733574198645, 8.004500386987779 58.166688999597156, 8.004884365540871 58.16668762262266, 8.006023114041879 58.16675034685673, 8.006036301543505 58.1666834847348, 8.005749862535671 58.16662264918882, 8.00516819491427 58.1665455508888, 8.00492833066444 58.166464749414324, 8.005030267379562 58.16638024665335, 8.004963502290924 58.166286450826924, 8.00472803680297 58.16618336169817, 8.004623494410811 58.166064955054736, 8.004649873903679 58.16593123119484, 8.004620888777255 58.165862045894166, 8.004536539228365 58.16585739911889, 8.004567315412615 58.16570138797198, 8.004786164187657 58.16524032442007, 8.004519930370154 58.16529324626986, 8.004439978769035 58.16526631215305, 8.004457565036628 58.16517716293812, 8.004386406925894 58.16510565418664, 8.004226504886294 58.16505178575879, 8.003935685396774 58.16501323375089, 8.003513948578647 58.164989997265366, 8.003125591298915 58.16501365772475, 8.002770612054842 58.16508421540412, 8.002495581187642 58.165181707415115, 8.002300498674344 58.165306134277174, 8.002165180945061 58.16534373622335, 8.00208962918925 58.16529451346959, 8.001920933719306 58.1652852165737, 8.001659094069323 58.16531584515436, 8.001494797082259 58.16528426052492, 8.001428043320821 58.16519046307615, 8.001230370626358 58.16511197939143, 8.000737484643704 58.165017223304055, 8.000458050010446 58.165136997922666, 8.000238383990048 58.1651699482978, 7.999985342713208 58.16515599921845, 7.999787673563779 58.165077513360536, 7.999645377201151 58.164934490996785, 7.9992280449715985 58.164888953296966, 7.998535674726689 58.16494089750216, 7.998033998034791 58.164890705161305, 7.997723018215694 58.164738378606046, 7.997441011169309 58.164655237976305, 7.9971879750648895 58.1646412834269, 7.99711683289991 58.16456977093359, 7.997227583871923 58.164440700785576, 7.997169644911367 58.16430232744451, 7.996943018045946 58.16415465072175, 7.996893882755649 58.16397170338865, 7.997022236385932 58.163753485595805, 7.997006470586689 58.163617438038955, 7.996846586980654 58.163563560698215, 7.996699907223036 58.16344282234846, 7.996566431953289 58.163255223049084, 7.996550667983181 58.163119175474215, 7.996652613931769 58.163034679638564, 7.9964971346102125 58.1629585149861, 7.996084231641223 58.162890680604505, 7.9958268072427225 58.16289901052784, 7.995724859792004 58.16298350566837, 7.9955895446627085 58.16302110065607, 7.995420862304396 58.163011795393594, 7.9952232153667895 58.162933302891844, 7.994996605173486 58.16278562304325, 7.994785753903302 58.16277399048, 7.994590659120396 58.1628984052294, 7.9945730497323595 58.16298755259018, 7.99473292714343 58.163041432665636, 7.994799659332698 58.16313523318285, 7.99477324575206 58.16326895427726, 7.9948022097763705 58.16333814138344, 7.994886551602682 58.163342794467525, 7.994902309213653 58.16347884211578, 7.994849481880167 58.16374628433867, 7.994903008663114 58.16390694538406, 7.995062890642718 58.163960825139846, 7.9951717970502605 58.16405695199345, 7.99522972782483 58.164195326074896, 7.995305267535117 58.16424455266004, 7.995398415715417 58.16420463170764, 7.995524931702336 58.164211610786474, 7.995684816022485 58.164265489807775, 7.995713782506592 58.16433467675773, 7.995611830413077 58.16441917171049, 7.995640796856584 58.164488358676294, 7.995800682578679 58.16454223758109, 7.9959139945013975 58.16461607698165, 7.995980732506516 58.16470987700026, 7.995958723550493 58.16482131150112, 7.995847966755585 58.16495038041954, 7.995872532123182 58.16504185424348, 7.996032420649268 58.165095732915205, 7.996103561558292 58.16516724599031, 7.996085954400641 58.16525639360863, 7.995946228881594 58.16531627570075, 7.995684384770071 58.16534689185845, 7.995540256068819 58.16542906036461, 7.9955138429103885 58.165562781623215, 7.995403082010226 58.16569185006753, 7.995207972512034 58.165816265458716, 7.995134981164687 58.165969946967635, 7.995184109329622 58.16615289483367, 7.995119922248942 58.166262002602046, 7.994942419342249 58.16629727008868, 7.994844862240633 58.16635947741835, 7.9948272511178455 58.1664486247792, 7.994640941168799 58.166528465492505, 7.994285931462 58.166598998795656, 7.994141794339345 58.16668116553698, 7.994208531063782 58.166774966461574, 7.994443968324676 58.16687807451829, 7.995050178587022 58.16704669548507))</td></tr><tr><td>idbeddaafe-c18b-4d7c-b38d-98fa87e79c5a</td><td>32</td><td>POLYGON ((8.000737484643704 58.165017223304055, 8.001230370626358 58.16511197939143, 8.001428043320821 58.16519046307615, 8.001494797082259 58.16528426052492, 8.001659094069323 58.16531584515436, 8.001920933719306 58.1652852165737, 8.00208962918925 58.16529451346959, 8.002165180945061 58.16534373622335, 8.002300498674344 58.165306134277174, 8.002495581187642 58.165181707415115, 8.002770612054842 58.16508421540412, 8.003125591298915 58.16501365772475, 8.003513948578647 58.164989997265366, 8.003935685396774 58.16501323375089, 8.004226504886294 58.16505178575879, 8.004386406925894 58.16510565418664, 8.004457565036628 58.16517716293812, 8.004439978769035 58.16526631215305, 8.004519930370154 58.16529324626986, 8.004786164187657 58.16524032442007, 8.004925875211736 58.16518043229012, 8.005178919341551 58.165194371576696, 8.005591868377886 58.16526217732746, 8.005951240032504 58.16516932431252, 8.00625702971701 58.16491581289118, 8.006540839124442 58.164773737669506, 8.006802671281365 58.164743098858224, 8.006942377048746 58.16468320439789, 8.00695995665804 58.16459405469687, 8.007205982064045 58.16442736787372, 8.007680448453419 58.16418314249897, 8.007669035986124 58.164024807946284, 8.00717175117776 58.163952364221004, 8.006858962708602 58.164025256191536, 8.00673066770359 58.16424348516229, 8.006582173229232 58.16434795423762, 8.00641348061565 58.16433866337446, 8.006185033675123 58.16441619904327, 8.005896830320957 58.164580560877816, 8.005419735997679 58.164621869972656, 8.004753755199893 58.164540124291236, 8.004234487184252 58.164579105615736, 8.003861926970465 58.16473881564292, 8.00360009276178 58.164769448342895, 8.003448987675267 58.164671004466435, 8.003246915871463 58.164614811139096, 8.002993876904151 58.16460086810789, 8.002811991937657 58.164658434160046, 8.00270126016977 58.16478750958486, 8.00251057834972 58.16488964961303, 8.002239946265858 58.1649648538797, 8.002095833801828 58.165047030172346, 8.002078241715562 58.16513617893785, 8.001985098157837 58.16517610489101, 8.00181640328617 58.165166807868665, 8.001618729815387 58.16508832477271, 8.00139207906941 58.164940655495435, 8.001194407808487 58.16486217178485, 8.001025714708714 58.164852873748465, 8.000890397494974 58.1648904743458, 8.000737484643704 58.165017223304055))</td></tr><tr><td>idafe74f87-f1a8-4c62-bb0a-73b39cd14f2b</td><td>32</td><td>POLYGON ((8.004562063376559 58.15946042472104, 8.004915196674213 58.15961505734768, 8.004939782878553 58.15970652985068, 8.004753531088042 58.159786386628674, 8.004638427238715 58.15993775156891, 8.004594471461935 58.16016062486779, 8.004694602276352 58.16030131853006, 8.005060930372247 58.16038908892208, 8.005506371869272 58.16007568564122, 8.005776959502963 58.16000047347737, 8.006021177932967 58.1600589850998, 8.00613449818781 58.16013281554605, 8.006116919564018 58.160221965152054, 8.006192466815552 58.16027118541252, 8.006361140099774 58.16028047616434, 8.006454265716972 58.16024054662359, 8.006480632366848 58.16010682211659, 8.006406861504228 58.15983240523206, 8.00651756323143 58.15970332594615, 8.006788145986846 58.15962811152358, 8.007049939682101 58.15959747139648, 8.007302945330682 58.15961140564048, 8.00756913218788 58.15955847696848, 8.007848498674456 58.159438685264426, 8.00806988833027 58.159180523791555, 8.008233299582217 58.15878399282085, 8.008239456842976 58.15853650823711, 8.008088363710963 58.15843807013825, 8.007717653896911 58.15837259621567, 8.007127327741212 58.158340084551405, 8.006776817286353 58.15838836755423, 8.006666120944024 58.158517447178646, 8.006222486957371 58.15860565838983, 8.005445914661358 58.15865299768125, 8.004960109856139 58.15873888145481, 8.004765072798245 58.158863313056074, 8.00468774361401 58.15903928860058, 8.004728123643392 58.159266808331694, 8.004701751280669 58.159400532354276, 8.004562063376559 58.15946042472104))</td></tr><tr><td>id4b937f35-4f54-48d9-9bcf-f3b29d8b6540</td><td>31</td><td>POLYGON ((8.007060022445584 58.165816156248646, 8.008185565375376 58.16594572292581, 8.008607317724088 58.16596894420953, 8.008700456343492 58.165929013291795, 8.008902544758335 58.165985198282215, 8.009213585132672 58.1661374987056, 8.009360318991995 58.16625822372207, 8.009342744249437 58.16634737385807, 8.009245211417056 58.16640959276666, 8.009067720320791 58.166444880259775, 8.008948216864129 58.16661853651312, 8.00888670033593 58.16693056167586, 8.008935900747737 58.16711350572881, 8.009175778962911 58.16719429992018, 8.009428839696026 58.16720823107918, 8.009702109383602 58.16733592120549, 8.010079945395647 58.16758201347891, 8.010353220308245 58.1677097023126, 8.010521930302756 58.16771898830202, 8.010790814844839 58.1678689638373, 8.011159878316347 58.168159628373616, 8.011593089449025 58.168341174943826, 8.012339124196279 58.16844981606124, 8.012352300718756 58.16838295305291, 8.012230157598651 58.168353702683085, 8.011977087213314 58.16833977690864, 8.011941046953597 58.168089970726086, 8.01212203256787 58.1676042842319, 8.012136953113757 58.167312223687716, 8.011985813289337 58.16721378924994, 8.0115728280514 58.16714600354974, 8.010897998034956 58.16710886404359, 8.010564976716838 58.16706800536888, 8.010573762818742 58.16702343018987, 8.010409449243443 58.166991856756006, 8.010072036325301 58.16697328440186, 8.009743410928563 58.16691013605875, 8.00942357422164 58.16680241181944, 8.00935679663849 58.16670861804294, 8.009543076072474 58.16662875508471, 8.009666970212418 58.16643281066336, 8.009728478718058 58.16612078495491, 8.009923540736184 58.16599634624362, 8.01025215814907 58.166059493952886, 8.010522783054547 58.16598427244702, 8.010735412562372 58.16577068203666, 8.010761768819906 58.16563695642006, 8.010601854169593 58.165583095762365, 8.010517504200395 58.165578452954115, 8.010508718521914 58.16562302813789, 8.010377800534403 58.165638351394854, 8.010124750434532 58.16562442235108, 8.009880487041611 58.16556591768453, 8.009645011212195 58.16546283746394, 8.009582628671081 58.16534675629093, 8.009693337759778 58.16521767438608, 8.009706517589626 58.16515081172243, 8.009622168805247 58.165146168343846, 8.009601961064519 58.165032408885324, 8.009645893856105 58.16480953336691, 8.009765387193688 58.164635876245605, 8.009960440535446 58.16451143729652, 8.010235446776397 58.16441392859013, 8.010590405939114 58.164343349607094, 8.010776669920038 58.164263484514905, 8.010794239651414 58.164174334075994, 8.010929544375816 58.16413672265557, 8.011182584348852 58.164150649882274, 8.011402235246107 58.16411768024435, 8.011588496267175 58.16403781389854, 8.01209896734331 58.16404337753669, 8.013350996984826 58.16417986020787, 8.013503862096165 58.164053095051415, 8.013517034180442 58.163986231830144, 8.013441468924881 58.163937015553614, 8.013272775778864 58.163927733798594, 8.013010954276199 58.163958386183836, 8.012800087927895 58.163946783241336, 8.012640177414958 58.163892925239324, 8.012569004856188 58.163821420774816, 8.01258656980227 58.16373226998766, 8.01247322476575 58.163658444784524, 8.012228970450105 58.16359994482924, 8.012115626583194 58.16352611933116, 8.012133192461576 58.16343696862636, 8.011990851399018 58.16329395917379, 8.011537484498902 58.16299865590296, 8.01063869664928 58.163016774308325, 8.01026354184476 58.162973594327156, 8.010112424955082 58.16287515813965, 8.009888388032131 58.16293041325755, 8.009591427800268 58.163139359225944, 8.009476332307218 58.16329072873163, 8.00954310445795 58.16338452233045, 8.009483359742248 58.16347135084108, 8.009297097284021 58.16355121406641, 8.009039669179602 58.16355957071909, 8.008711076970789 58.163496420398175, 8.008559962407842 58.16339798241036, 8.008586324395354 58.163264257366684, 8.008528342341155 58.16312588831134, 8.008386017258987 58.162982875149815, 8.008053037681604 58.162942010757526, 8.007529401531631 58.16300329358985, 8.00715687249141 58.163163013943766, 8.00693544930197 58.163421173123915, 8.007073375399862 58.163586475256686, 8.007570654908346 58.16365891925638, 8.007966014996637 58.16381586687, 8.008259456981111 58.1640573190779, 8.008532698863506 58.164185011138905, 8.008785737880833 58.164198943125456, 8.008843722386445 58.16433731211504, 8.008706650579793 58.16460011833754, 8.00871806767539 58.16475845289411, 8.008877975667545 58.164812315786335, 8.008906968461387 58.164881500274824, 8.008805045315444 58.164966006433815, 8.008636348973305 58.164956718447776, 8.008400880839224 58.16485363607973, 8.00819001127532 58.16484202540854, 8.008003738624627 58.16492188652213, 8.00789741888531 58.1650286793783, 8.007871052503765 58.165162404187484, 8.00762502477052 58.165329092251824, 8.007159331966019 58.16552874221561, 8.00695986819662 58.16567546395954, 8.007060022445584 58.165816156248646))</td></tr><tr><td>id99342cee-9c90-4451-aee9-aba7f93c61b5</td><td>39</td><td>POLYGON ((8.005060930372247 58.16038908892208, 8.004894866178539 58.160582705665426, 8.00494843504939 58.16074336335234, 8.0052752105694 58.161031719352565, 8.005667918228653 58.16098576400069, 8.00579003057015 58.161015020041226, 8.005772450481691 58.16110416956909, 8.006065856132349 58.161345626086266, 8.006670257573427 58.161739387646314, 8.0070611983619 58.16191862498222, 8.007238668272299 58.161883339852416, 8.00729841543539 58.1617965124505, 8.007240440413957 58.16165814295461, 8.0072957929893 58.161593602995595, 8.007464472929975 58.16160289242016, 8.007561994941831 58.16154067465455, 8.00758835876915 58.16140694985768, 8.007525989162463 58.16129086794608, 8.00737488692206 58.16119242880582, 8.00734589961427 58.161123244083, 8.007439026459974 58.16108331384513, 8.007363475780501 58.161034094255, 8.007119248356494 58.160975585027536, 8.00694355651184 58.160785673221426, 8.006836400918058 58.160464359135574, 8.006707275607065 58.16025448214444, 8.006480632366848 58.16010682211659, 8.006454265716972 58.16024054662359, 8.006361140099774 58.16028047616434, 8.006192466815552 58.16027118541252, 8.006116919564018 58.160221965152054, 8.00613449818781 58.16013281554605, 8.006021177932967 58.1600589850998, 8.005776959502963 58.16000047347737, 8.005506371869272 58.16007568564122, 8.005060930372247 58.16038908892208))</td></tr><tr><td>id7f291bf8-8a53-4aca-b845-8d4c913539c0</td><td>31</td><td>POLYGON ((8.011537484498902 58.16299865590296, 8.011990851399018 58.16329395917379, 8.012133192461576 58.16343696862636, 8.012115626583194 58.16352611933116, 8.012228970450105 58.16359994482924, 8.01247322476575 58.163658444784524, 8.01258656980227 58.16373226998766, 8.012569004856188 58.163821420774816, 8.012640177414958 58.163892925239324, 8.012800087927895 58.163946783241336, 8.013010954276199 58.163958386183836, 8.013272775778864 58.163927733798594, 8.013441468924881 58.163937015553614, 8.013517034180442 58.163986231830144, 8.013503862096165 58.164053095051415, 8.013350996984826 58.16417986020787, 8.013411655855153 58.164521137527714, 8.01351622394585 58.16463953746742, 8.013684920548888 58.164648818971195, 8.013866788994823 58.16459123698797, 8.014159347243218 58.164404568539396, 8.014125023160453 58.163929564813415, 8.01416453555063 58.163728974871326, 8.01426644248528 58.16364446406849, 8.014410521866065 58.16356227326185, 8.014596773440237 58.163482402302506, 8.015031671389503 58.16343873834403, 8.015715216328395 58.16343127884264, 8.016061377791297 58.16340525984691, 8.016070155767544 58.16336068411791, 8.01615889041669 58.16334303527716, 8.016327581836977 58.16335231315901, 8.016483107186794 58.16342845447279, 8.016625467224447 58.163571459282906, 8.016632531017951 58.163752081756726, 8.01650429647956 58.16397032187317, 8.016520137251284 58.16410636857281, 8.016680054954634 58.16416022183542, 8.01674684788842 58.16425401207814, 8.016720515505154 58.16438773943646, 8.016758300909766 58.16441234666205, 8.016911155222358 58.16428557717478, 8.01696381811328 58.16401812233437, 8.01707010788629 58.1639113212554, 8.017247579004698 58.163876022151335, 8.01729852918026 58.16383376545318, 8.017222958821646 58.16378455132199, 8.017253676992448 58.16362853588708, 8.017390681914094 58.16336571903426, 8.017417010736231 58.163231991462716, 8.017332665101188 58.16322735327555, 8.017316821347467 58.16309130661535, 8.017369478748268 58.16282385149262, 8.017147162317599 58.16265392130775, 8.016649874385253 58.162581514664076, 8.016165754940987 58.16244224250023, 8.015694806495363 58.16223610501967, 8.015197527741122 58.16216369287608, 8.01467391330372 58.162225005647215, 8.014272421548002 58.16231556435092, 8.013993052312733 58.16243537014299, 8.013886758226752 58.16254216855358, 8.01395354094539 58.162635960052285, 8.013893808260374 58.162722790891124, 8.013707559295572 58.162802660873076, 8.013365793079148 58.16280638580722, 8.012868511857468 58.16273396448397, 8.012568918185407 58.16274000785035, 8.012467010069306 58.16282451726486, 8.012247368115508 58.16285748893309, 8.0119099930092 58.162838922258004, 8.011690350520045 58.16287189295084, 8.011537484498902 58.16299865590296))</td></tr></tbody></table></div>"
      ]
     },
     "metadata": {
      "application/vnd.databricks.v1+output": {
       "addedWidgets": {},
       "aggData": [],
       "aggError": "",
       "aggOverflow": false,
       "aggSchema": [],
       "aggSeriesLimitReached": false,
       "aggType": "",
       "arguments": {},
       "columnCustomDisplayInfos": {},
       "data": [
        [
         "idb498c719-7486-4106-a629-170094d23aea",
         33,
         "POLYGON ((8.005060930372247 58.16038908892208, 8.004694602276352 58.16030131853006, 8.004594471461935 58.16016062486779, 8.004638427238715 58.15993775156891, 8.004753531088042 58.159786386628674, 8.004939782878553 58.15970652985068, 8.004915196674213 58.15961505734768, 8.004562063376559 58.15946042472104, 8.004195746032746 58.15937265311437, 8.003976119068616 58.159405610778336, 8.003781074836645 58.159530040716795, 8.003599217660945 58.15958760847904, 8.003430548653366 58.15957831414517, 8.003401570182152 58.15950912870705, 8.00351228154379 58.15938005224562, 8.003454324648994 58.15924168140114, 8.003227701524724 58.159094015985026, 8.00297470175735 58.15908007373783, 8.00269532254258 58.15919985444291, 8.002471298681503 58.159255096737425, 8.00230263165497 58.15924580094561, 8.002227092045759 58.15919657852954, 8.002244679696407 58.15910742965219, 8.002388766683833 58.15902525265799, 8.002659352250388 58.158950047100035, 8.002850000472105 58.15884790614587, 8.002960711560542 58.15871883016032, 8.002936130977277 58.15862735739207, 8.002776259717733 58.158573487783215, 8.002751679684929 58.15848201499082, 8.002862389883486 58.15835293907259, 8.002795644113256 58.15825914251318, 8.002551443623798 58.15820062505877, 8.002378384897538 58.15821361670715, 8.002276466939083 58.15829811772873, 8.002103407662398 58.15831110899048, 8.001859208062852 58.158252590222304, 8.00146652685728 58.158298534340105, 8.000925360075724 58.15844893988195, 8.00066615622099 58.15868247627651, 8.000688918783924 58.15899914532545, 8.000611569234072 58.159175117958114, 8.00043410717324 58.15921039398269, 8.000285616887409 58.159314855774866, 8.000166097710643 58.15948850342253, 8.000290783180878 58.15972067332103, 8.00065967867394 58.1600113648633, 8.00083533272679 58.16020128457713, 8.000817740803235 58.16029043316978, 8.000888882650619 58.16036194358018, 8.001048758718325 58.1604158156685, 8.001119901273103 58.160487325964226, 8.00110230986555 58.16057647460724, 8.001173452828139 58.16064798488153, 8.001333330610278 58.160701856647236, 8.001475618229101 58.16084487693247, 8.001600316458656 58.1610770458128, 8.00183573966836 58.16118013985719, 8.002181886385456 58.161154158418256, 8.002405922865336 58.16109891689906, 8.002507849065344 58.16101441594552, 8.00268531843613 58.16097913717347, 8.00293833152551 58.16099308027723, 8.003140382617055 58.161049273661064, 8.003291472156906 58.16114771757783, 8.003316054918631 58.161239190323755, 8.003214129908311 58.161323691951516, 8.003238712557437 58.16141516471016, 8.003389803859948 58.16151360854688, 8.00345216012476 58.16162969221184, 8.003425780551465 58.161763415819095, 8.003572477258452 58.16188414674772, 8.003892251905587 58.161991884432254, 8.003979195514365 58.16219944056425, 8.0038333045666 58.16250681554888, 8.003860491842143 58.1628011973408, 8.004060761650072 58.16308258591895, 8.004296205212743 58.16318567582528, 8.004566819419827 58.16311046679865, 8.00477506954098 58.16291917404626, 8.004920954377466 58.16261179785018, 8.005036066568222 58.16246043282719, 8.005120408168288 58.16246507910376, 8.005129199506323 58.16242050441223, 8.005062440815278 58.16232670877319, 8.005071232178496 58.16228213408622, 8.005155573363012 58.162286780330696, 8.005215326301169 58.1621999540307, 8.005250490658485 58.16202165521397, 8.005188127854055 58.16190557229558, 8.005028238573356 58.161851705146084, 8.004999255437504 58.161782519974516, 8.005101177705154 58.161698016855084, 8.005038815883658 58.16158193388407, 8.004812171746105 58.16143427085637, 8.004707641866048 58.16131586454643, 8.004725224762383 58.16122671522493, 8.004869315189021 58.16114453548515, 8.0052752105694 58.161031719352565, 8.00494843504939 58.16074336335234, 8.004894866178539 58.160582705665426, 8.005060930372247 58.16038908892208))"
        ],
        [
         "ida658c04f-7ffd-449e-a4ec-b6754b06c2a2",
         31,
         "POLYGON ((7.997502940783783 58.168443637533315, 7.997782411777257 58.16832387018386, 7.9978465949786 58.168214760986416, 7.997788648527019 58.168076387768934, 7.997848430039722 58.16798956553622, 7.99802593895404 58.16795429411025, 7.998081318664256 58.16788975873936, 7.998014569675674 58.167795959594116, 7.997892441393705 58.16776669573508, 7.997714933313068 58.16780196699182, 7.997634981689575 58.16777502858653, 7.997652586697049 58.167685880707374, 7.997838896474018 58.16760603556815, 7.998193910088738 58.167535492406216, 7.998338041792979 58.167453320948155, 7.998237918504781 58.167312622424035, 7.997731807930266 58.16728471519386, 7.997449781076081 58.167201574167365, 7.997223135399897 58.16705389754871, 7.9970254624263974 58.16697540730698, 7.996856760831576 58.16696610354976, 7.996632678726952 58.16702133431403, 7.996353214630902 58.16714109927539, 7.996193316605869 58.16708722080818, 7.996152986361048 58.16685969940037, 7.995862162363916 58.16682112879355, 7.995050178587022 58.16704669548507, 7.9952636069353336 58.16726123636244, 7.995461277350775 58.167339729295215, 7.995714331677957 58.16735368767056, 7.995827651952326 58.167427527324236, 7.995801237819119 58.167561248623294, 7.995424206560272 58.16774321931803, 7.99469655142309 58.16797343614157, 7.9942974931074575 58.16826683738853, 7.994227037281721 58.16862342627827, 7.994149631424334 58.16879939379508, 7.994065276816704 58.16879473995277, 7.994060873141233 58.168817026747575, 7.994136420534066 58.16886625419073, 7.994101191204203 58.16904454856637, 7.9939551829582145 58.16935190973656, 7.993924355941781 58.169507917243656, 7.994050890357266 58.169514898179145, 7.994596659779434 58.1693422393174, 7.994849727857994 58.16935619970566, 7.994992020880681 58.16949922737957, 7.995189702758193 58.16957772097655, 7.995442772831185 58.16959168022394, 7.995564905083895 58.16962094652415, 7.99555609931922 58.16966552025111, 7.995935705751159 58.16968645786457, 7.997087734071115 58.16968240315061, 7.997000816076279 58.1694748428288, 7.996723176147552 58.169369412938444, 7.996225842831757 58.169296925295704, 7.995985982085753 58.16921610699032, 7.996003592205493 58.1691269594467, 7.996101155315336 58.169064751351485, 7.996278671241478 58.16902948251672, 7.996338458175905 58.16894266110887, 7.996280516681267 58.16880428730627, 7.996340303190448 58.168717465888754, 7.996517817140838 58.168682196678006, 7.99661537809755 58.16861998814239, 7.996632986234398 58.16853084047002, 7.99685707804673 58.168475609908526, 7.997502940783783 58.168443637533315))"
        ],
        [
         "idaad7410f-fb36-46cd-b532-695eb9ef7145",
         31,
         "POLYGON ((8.000602836808843 58.16915524813237, 8.000855906819472 58.16916919658285, 8.001242496650994 58.169370739987265, 8.001846972846142 58.16976452610115, 8.002351315677219 58.17001761384523, 8.00295761885633 58.1701861989833, 8.003284459010281 58.170474561474855, 8.003726451102004 58.17061156011884, 8.004392542026498 58.17069331350126, 8.004729986065884 58.17071190160963, 8.004738780712703 58.17066732701324, 8.00486971941545 58.17065201000816, 8.005122802371 58.17066595022038, 8.005351292747836 58.17058841737238, 8.005555188885218 58.17041941156232, 8.005534992495848 58.17030565169213, 8.005290705688518 58.17024713769884, 8.005164165623034 58.17024016785283, 8.005155371654475 58.17028474249288, 8.004982254353088 58.170297736466, 8.00464481405354 58.1702791491068, 8.004400529021664 58.1702206334371, 8.004249399566094 58.17012219000139, 8.004187027826235 58.1700061064005, 8.004213413001251 58.16987238274866, 8.005172141788623 58.169767487514065, 8.006117676574775 58.169729447032445, 8.007063209858167 58.1696913994741, 8.007953376665364 58.16971788485107, 8.007842646094188 58.16984696478967, 8.007947209621411 58.16996536922494, 8.008267069355657 58.170073097668734, 8.008562330178341 58.170089353240826, 8.0088329897689 58.17001413606428, 8.008943717369613 58.16988505519921, 8.008894514146123 58.169702111088824, 8.008912092303504 58.169612961085484, 8.008996451532928 58.16961760515487, 8.0090562088981 58.169530777136785, 8.009091364064577 58.169352477058915, 8.009463951886207 58.16919275225316, 8.010528974984076 58.16898102184499, 8.010668691989423 58.16892112351649, 8.010703838253999 58.16874282280592, 8.010680986467989 58.168426153676904, 8.01058959755818 58.168240888629796, 8.010429671748158 58.16818702752097, 8.010282926675536 58.16806630350549, 8.010149362980641 58.1678787166426, 8.009993833014706 58.16780256746796, 8.009816335513808 58.16783785587427, 8.009740767754867 58.1677886373409, 8.009767129813618 58.16765491205155, 8.009629176559466 58.16748961227616, 8.009175778962911 58.16719429992018, 8.008935900747737 58.16711350572881, 8.00888670033593 58.16693056167586, 8.008948216864129 58.16661853651312, 8.009067720320791 58.166444880259775, 8.009245211417056 58.16640959276666, 8.009342744249437 58.16634737385807, 8.009360318991995 58.16625822372207, 8.009213585132672 58.1661374987056, 8.008902544758335 58.165985198282215, 8.008700456343492 58.165929013291795, 8.008607317724088 58.16596894420953, 8.008185565375376 58.16594572292581, 8.007060022445584 58.165816156248646, 8.007020466860128 58.16601674307394, 8.007049456809039 58.166085927927526, 8.007133807352915 58.16609057305319, 8.007116227155235 58.16617972276644, 8.006996715277692 58.16635337700531, 8.007054695636972 58.16649174672652, 8.007290170185373 58.16659483172758, 8.007399118043484 58.16669094895457, 8.007381538098981 58.16678009871005, 8.007326176880161 58.16684463852648, 8.007233034309861 58.16688456835285, 8.006895624702704 58.1668659876218, 8.006023114041879 58.16675034685673, 8.004884365540871 58.16668762262266, 8.004500386987779 58.166688999597156, 8.004491593403593 58.166733574198645, 8.004271920611737 58.16676653141488, 8.003841368324963 58.16678787014453, 8.003575121464822 58.16684078973882, 8.003473179967438 58.1669252912307, 8.003257902770034 58.16693595940096, 8.002929291162237 58.16687279369974, 8.002709616250863 58.16690574816691, 8.002598876491964 58.167034823335825, 8.002286051834028 58.16710770327559, 8.001771142656136 58.16712438649946, 8.001500491726695 58.16719958879449, 8.001474099114509 58.167333311725145, 8.001574235476474 58.167474007969716, 8.001800902392729 58.167621677261884, 8.002011785517752 58.16763329883534, 8.002206882414887 58.16750887271759, 8.002646240209797 58.167442965310684, 8.003329859929611 58.167435574098725, 8.003658477464038 58.16749873888687, 8.003632092642583 58.16763246242968, 8.003698856425117 58.16772625892972, 8.003858769359672 58.167780128251344, 8.004251553854072 58.167734178892935, 8.004877205822313 58.16758840860644, 8.00518563344997 58.167537809598464, 8.005176840432581 58.167582384259475, 8.005298974623217 58.167611641231225, 8.005552036218686 58.16762558013977, 8.00574973255824 58.1677040575879, 8.005892064301635 58.167847073848264, 8.006089762629937 58.16792555080834, 8.006342826883323 58.167939488195536, 8.006489557719 58.168060216469094, 8.006529955267014 58.16828773600066, 8.006630114381608 58.168428428732255, 8.006790035126468 58.16848229452356, 8.007009716646486 58.168449333130646, 8.007289157167753 58.16832954420605, 8.0074376671623 58.168225074627074, 8.00745524795448 58.16813592488111, 8.007384078192253 58.168064417566015, 8.007224158325162 58.16801055254185, 8.007161779938263 58.16789447026477, 8.007196942345885 58.167716170864395, 8.007096782748999 58.16757547857047, 8.006861302496175 58.16747239309069, 8.006752353889052 58.16737627538599, 8.006769935815226 58.167287125758996, 8.006956223920135 58.16720726677983, 8.007311217271557 58.16713669768592, 8.007479923454385 58.16714598763994, 8.007462343400876 58.167235137404454, 8.007533511786377 58.16730664464664, 8.007693429060392 58.167360509226484, 8.007738228808927 58.167565741074505, 8.00766790940194 58.167922340278665, 8.007712709467775 58.168127572142645, 8.007872630636513 58.16818143657845, 8.008007953819789 58.16814382865961, 8.00811867802169 58.16801474844407, 8.008347144752436 58.16793720970746, 8.008693354308653 58.167911211819984, 8.008946419871396 58.16792514404224, 8.00910634213991 58.16797900694618, 8.009126549255528 58.168092766471624, 8.009007039928758 58.16826642265835, 8.008601071047261 58.168379249192256, 8.007908642215833 58.16843124331565, 8.007507063402333 58.16852177878961, 8.007396335295441 58.16865085838989, 8.007252218724238 58.16873304045378, 8.007074714061087 58.16876832487521, 8.006972774804906 58.168852829226, 8.006946401031335 58.16898655368987, 8.006675745744241 58.16906176693243, 8.006160808874174 58.1690784673891, 8.005907736630723 58.16906452947149, 8.005916529240759 58.16901995475105, 8.00579438973663 58.16899069826226, 8.005541318315183 58.16897675963109, 8.005359414246874 58.16903432893557, 8.005248676729368 58.16916340646483, 8.005226692943847 58.169274843101775, 8.005293463768238 58.16936863891082, 8.005233697631919 58.169455464973154, 8.005047393658527 58.169535321091665, 8.00492085618681 58.16952835105739, 8.004854086093134 58.16943455506751, 8.004651985337945 58.16937836337025, 8.004314553983486 58.16935977532026, 8.004028096960582 58.16929893550963, 8.003792614988107 58.1691958442986, 8.003688067654583 58.169077436779695, 8.003714453748964 58.16894371325123, 8.003854181542254 58.168883822651964, 8.004107251388849 58.168897764614805, 8.004331334916397 58.168842520680435, 8.00452643091389 58.168718090977094, 8.004501841281007 58.16862661831933, 8.004257567676735 58.16856810261417, 8.00408885592588 58.168558808259256, 8.00399570524737 58.16859873553954, 8.003975514474059 58.16848497553952, 8.00402828305312 58.16821752828254, 8.003894752404065 58.16802993552909, 8.003574924718961 58.16792219673691, 8.003364039177766 58.16791057771061, 8.003262093926287 58.167995078954554, 8.003291077810529 58.168064264540064, 8.003450991572166 58.168118134392984, 8.003517755686275 58.1682119309954, 8.00349136960481 58.168345654482856, 8.003427203278186 58.16845476688886, 8.00332525651275 58.16853926815199, 8.003016817760454 58.16858986240511, 8.002501887145975 58.168606548145156, 8.002240023186495 58.1686371774154, 8.002231226108483 58.168681751787325, 8.002146870317231 58.1686771032926, 8.001986956203293 58.16862323178871, 8.001847226471936 58.16868312029126, 8.001727679833316 58.16885676883996, 8.001579150747329 58.16896123133613, 8.001401639880255 58.168996507691865, 8.001195148208508 58.16896259780598, 8.000959677018658 58.16885950156401, 8.000782166117215 58.16889477705243, 8.000602836808843 58.16915524813237))"
        ],
        [
         "idc4176272-64ca-4986-98b2-5ac2e0b8b796",
         31,
         "POLYGON ((7.995050178587022 58.16704669548507, 7.995862162363916 58.16682112879355, 7.996152986361048 58.16685969940037, 7.996193316605869 58.16708722080818, 7.996353214630902 58.16714109927539, 7.996632678726952 58.16702133431403, 7.996856760831576 58.16696610354976, 7.9970254624263974 58.16697540730698, 7.997223135399897 58.16705389754871, 7.997449781076081 58.167201574167365, 7.997731807930266 58.16728471519386, 7.998237918504781 58.167312622424035, 7.998643905387829 58.16719982942336, 7.998725685535222 58.16700157159372, 7.998618590319293 58.16668025182866, 7.99852726884191 58.16649497951136, 7.998451719963293 58.16644575465172, 7.998114320861143 58.16642715079119, 7.997515071234213 58.1664391658346, 7.9971820741881245 58.16639827254677, 7.997115330120801 58.16630447303222, 7.997217284478463 58.16621997691829, 7.997487936171861 58.16614478377558, 7.997791959406495 58.16611648963756, 7.998129355334217 58.16613509428868, 7.998400004580271 58.166059899149154, 7.998603905346178 58.1658909046084, 7.999009874551067 58.1657781100666, 7.999617912382575 58.16572151358807, 8.000061651321381 58.165633327670776, 8.000341091260474 58.165513554036174, 8.000607332328688 58.16546064110648, 8.000860376105965 58.165474588997874, 8.000889353577648 58.16554377499692, 8.00069426353289 58.16566819923173, 8.000761016129877 58.16576199704223, 8.00108961332106 58.165825168056145, 8.00120294049693 58.165899003053525, 8.001100996367855 58.165983502584176, 8.00112557586598 58.16607497568758, 8.00127667998556 58.166173422311076, 8.001736205271065 58.16622127799573, 8.002504151271452 58.16621853938129, 8.002837153825098 58.16625941881764, 8.002735212388874 58.16634391971774, 8.002468967433522 58.16639683703093, 8.002038419023032 58.166418169724224, 8.00181874624576 58.16645112269371, 8.001809949388798 58.16649569704071, 8.00151472261189 58.1664794264715, 8.000933067971024 58.166402309029806, 8.000591268306396 58.16640599885366, 8.000489321210857 58.16649049783082, 8.000353997097514 58.16652809771167, 8.000185296415946 58.16651879839893, 8.000007796708406 58.166554073038505, 7.99982149727264 58.16663392157875, 7.99965977306881 58.16680524314361, 7.999522623095783 58.1670680378062, 7.999651727135933 58.16727792166735, 8.000047089467186 58.16743489400399, 8.000184997114463 58.16760020323939, 8.000065446505502 58.16777385013816, 7.999912517585336 58.16790059776655, 7.999726210649434 58.16798044601002, 7.999595280068628 58.16799575787798, 7.9995197266223155 58.1679465335582, 7.999308842770356 58.16793490782794, 7.998962628028848 58.167960880002326, 7.998649788269997 58.16803375066111, 7.998370322418897 58.16815352002858, 7.998217385859678 58.16828026545401, 7.99819097981797 58.168413987420536, 7.998009067569658 58.16847154601638, 7.997502940783783 58.168443637533315, 7.99685707804673 58.168475609908526, 7.996632986234398 58.16853084047002, 7.99661537809755 58.16861998814239, 7.996517817140838 58.168682196678006, 7.996340303190448 58.168717465888754, 7.996280516681267 58.16880428730627, 7.996338458175905 58.16894266110887, 7.996278671241478 58.16902948251672, 7.996101155315336 58.169064751351485, 7.996003592205493 58.1691269594467, 7.995985982085753 58.16921610699032, 7.996225842831757 58.169296925295704, 7.996723176147552 58.169369412938444, 7.997000816076279 58.1694748428288, 7.997087734071115 58.16968240315061, 7.998286342819253 58.169658376565614, 7.998552618188967 58.169605468665836, 7.998654579285226 58.16952097153739, 7.998680984724196 58.169387249461195, 7.998927082732199 58.16922058021119, 7.999392869589219 58.16902096243124, 7.999710116982121 58.168925803032536, 7.999878828887026 58.168935103212426, 8.000072119142166 58.1690358764524, 8.000398925397713 58.169324245664015, 8.000602836808843 58.16915524813237, 8.000782166117215 58.16889477705243, 8.000959677018658 58.16885950156401, 8.001195148208508 58.16896259780598, 8.001401639880255 58.168996507691865, 8.001579150747329 58.16896123133613, 8.001727679833316 58.16885676883996, 8.001847226471936 58.16868312029126, 8.001986956203293 58.16862323178871, 8.002146870317231 58.1686771032926, 8.002231226108483 58.168681751787325, 8.002240023186495 58.1686371774154, 8.002501887145975 58.168606548145156, 8.003016817760454 58.16858986240511, 8.00332525651275 58.16853926815199, 8.003427203278186 58.16845476688886, 8.00349136960481 58.168345654482856, 8.003517755686275 58.1682119309954, 8.003450991572166 58.168118134392984, 8.003291077810529 58.168064264540064, 8.003262093926287 58.167995078954554, 8.003364039177766 58.16791057771061, 8.003574924718961 58.16792219673691, 8.003894752404065 58.16802993552909, 8.00402828305312 58.16821752828254, 8.003975514474059 58.16848497553952, 8.00399570524737 58.16859873553954, 8.00408885592588 58.168558808259256, 8.004257567676735 58.16856810261417, 8.004501841281007 58.16862661831933, 8.00452643091389 58.168718090977094, 8.004331334916397 58.168842520680435, 8.004107251388849 58.168897764614805, 8.003854181542254 58.168883822651964, 8.003714453748964 58.16894371325123, 8.003688067654583 58.169077436779695, 8.003792614988107 58.1691958442986, 8.004028096960582 58.16929893550963, 8.004314553983486 58.16935977532026, 8.004651985337945 58.16937836337025, 8.004854086093134 58.16943455506751, 8.00492085618681 58.16952835105739, 8.005047393658527 58.169535321091665, 8.005233697631919 58.169455464973154, 8.005293463768238 58.16936863891082, 8.005226692943847 58.169274843101775, 8.005248676729368 58.16916340646483, 8.005359414246874 58.16903432893557, 8.005541318315183 58.16897675963109, 8.00579438973663 58.16899069826226, 8.005916529240759 58.16901995475105, 8.005907736630723 58.16906452947149, 8.006160808874174 58.1690784673891, 8.006675745744241 58.16906176693243, 8.006946401031335 58.16898655368987, 8.006972774804906 58.168852829226, 8.007074714061087 58.16876832487521, 8.007252218724238 58.16873304045378, 8.007396335295441 58.16865085838989, 8.007507063402333 58.16852177878961, 8.007908642215833 58.16843124331565, 8.008601071047261 58.168379249192256, 8.009007039928758 58.16826642265835, 8.009126549255528 58.168092766471624, 8.00910634213991 58.16797900694618, 8.008946419871396 58.16792514404224, 8.008693354308653 58.167911211819984, 8.008347144752436 58.16793720970746, 8.00811867802169 58.16801474844407, 8.008007953819789 58.16814382865961, 8.007872630636513 58.16818143657845, 8.007712709467775 58.168127572142645, 8.00766790940194 58.167922340278665, 8.007738228808927 58.167565741074505, 8.007693429060392 58.167360509226484, 8.007533511786377 58.16730664464664, 8.007462343400876 58.167235137404454, 8.007479923454385 58.16714598763994, 8.007311217271557 58.16713669768592, 8.006956223920135 58.16720726677983, 8.006769935815226 58.167287125758996, 8.006752353889052 58.16737627538599, 8.006861302496175 58.16747239309069, 8.007096782748999 58.16757547857047, 8.007196942345885 58.167716170864395, 8.007161779938263 58.16789447026477, 8.007224158325162 58.16801055254185, 8.007384078192253 58.168064417566015, 8.00745524795448 58.16813592488111, 8.0074376671623 58.168225074627074, 8.007289157167753 58.16832954420605, 8.007009716646486 58.168449333130646, 8.006790035126468 58.16848229452356, 8.006630114381608 58.168428428732255, 8.006529955267014 58.16828773600066, 8.006489557719 58.168060216469094, 8.006342826883323 58.167939488195536, 8.006089762629937 58.16792555080834, 8.005892064301635 58.167847073848264, 8.00574973255824 58.1677040575879, 8.005552036218686 58.16762558013977, 8.005298974623217 58.167611641231225, 8.005176840432581 58.167582384259475, 8.00518563344997 58.167537809598464, 8.004877205822313 58.16758840860644, 8.004251553854072 58.167734178892935, 8.003858769359672 58.167780128251344, 8.003698856425117 58.16772625892972, 8.003632092642583 58.16763246242968, 8.003658477464038 58.16749873888687, 8.003329859929611 58.167435574098725, 8.002646240209797 58.167442965310684, 8.002206882414887 58.16750887271759, 8.002011785517752 58.16763329883534, 8.001800902392729 58.167621677261884, 8.001574235476474 58.167474007969716, 8.001474099114509 58.167333311725145, 8.001500491726695 58.16719958879449, 8.001771142656136 58.16712438649946, 8.002286051834028 58.16710770327559, 8.002598876491964 58.167034823335825, 8.002709616250863 58.16690574816691, 8.002929291162237 58.16687279369974, 8.003257902770034 58.16693595940096, 8.003473179967438 58.1669252912307, 8.003575121464822 58.16684078973882, 8.003841368324963 58.16678787014453, 8.004271920611737 58.16676653141488, 8.004491593403593 58.166733574198645, 8.004500386987779 58.166688999597156, 8.004884365540871 58.16668762262266, 8.006023114041879 58.16675034685673, 8.006036301543505 58.1666834847348, 8.005749862535671 58.16662264918882, 8.00516819491427 58.1665455508888, 8.00492833066444 58.166464749414324, 8.005030267379562 58.16638024665335, 8.004963502290924 58.166286450826924, 8.00472803680297 58.16618336169817, 8.004623494410811 58.166064955054736, 8.004649873903679 58.16593123119484, 8.004620888777255 58.165862045894166, 8.004536539228365 58.16585739911889, 8.004567315412615 58.16570138797198, 8.004786164187657 58.16524032442007, 8.004519930370154 58.16529324626986, 8.004439978769035 58.16526631215305, 8.004457565036628 58.16517716293812, 8.004386406925894 58.16510565418664, 8.004226504886294 58.16505178575879, 8.003935685396774 58.16501323375089, 8.003513948578647 58.164989997265366, 8.003125591298915 58.16501365772475, 8.002770612054842 58.16508421540412, 8.002495581187642 58.165181707415115, 8.002300498674344 58.165306134277174, 8.002165180945061 58.16534373622335, 8.00208962918925 58.16529451346959, 8.001920933719306 58.1652852165737, 8.001659094069323 58.16531584515436, 8.001494797082259 58.16528426052492, 8.001428043320821 58.16519046307615, 8.001230370626358 58.16511197939143, 8.000737484643704 58.165017223304055, 8.000458050010446 58.165136997922666, 8.000238383990048 58.1651699482978, 7.999985342713208 58.16515599921845, 7.999787673563779 58.165077513360536, 7.999645377201151 58.164934490996785, 7.9992280449715985 58.164888953296966, 7.998535674726689 58.16494089750216, 7.998033998034791 58.164890705161305, 7.997723018215694 58.164738378606046, 7.997441011169309 58.164655237976305, 7.9971879750648895 58.1646412834269, 7.99711683289991 58.16456977093359, 7.997227583871923 58.164440700785576, 7.997169644911367 58.16430232744451, 7.996943018045946 58.16415465072175, 7.996893882755649 58.16397170338865, 7.997022236385932 58.163753485595805, 7.997006470586689 58.163617438038955, 7.996846586980654 58.163563560698215, 7.996699907223036 58.16344282234846, 7.996566431953289 58.163255223049084, 7.996550667983181 58.163119175474215, 7.996652613931769 58.163034679638564, 7.9964971346102125 58.1629585149861, 7.996084231641223 58.162890680604505, 7.9958268072427225 58.16289901052784, 7.995724859792004 58.16298350566837, 7.9955895446627085 58.16302110065607, 7.995420862304396 58.163011795393594, 7.9952232153667895 58.162933302891844, 7.994996605173486 58.16278562304325, 7.994785753903302 58.16277399048, 7.994590659120396 58.1628984052294, 7.9945730497323595 58.16298755259018, 7.99473292714343 58.163041432665636, 7.994799659332698 58.16313523318285, 7.99477324575206 58.16326895427726, 7.9948022097763705 58.16333814138344, 7.994886551602682 58.163342794467525, 7.994902309213653 58.16347884211578, 7.994849481880167 58.16374628433867, 7.994903008663114 58.16390694538406, 7.995062890642718 58.163960825139846, 7.9951717970502605 58.16405695199345, 7.99522972782483 58.164195326074896, 7.995305267535117 58.16424455266004, 7.995398415715417 58.16420463170764, 7.995524931702336 58.164211610786474, 7.995684816022485 58.164265489807775, 7.995713782506592 58.16433467675773, 7.995611830413077 58.16441917171049, 7.995640796856584 58.164488358676294, 7.995800682578679 58.16454223758109, 7.9959139945013975 58.16461607698165, 7.995980732506516 58.16470987700026, 7.995958723550493 58.16482131150112, 7.995847966755585 58.16495038041954, 7.995872532123182 58.16504185424348, 7.996032420649268 58.165095732915205, 7.996103561558292 58.16516724599031, 7.996085954400641 58.16525639360863, 7.995946228881594 58.16531627570075, 7.995684384770071 58.16534689185845, 7.995540256068819 58.16542906036461, 7.9955138429103885 58.165562781623215, 7.995403082010226 58.16569185006753, 7.995207972512034 58.165816265458716, 7.995134981164687 58.165969946967635, 7.995184109329622 58.16615289483367, 7.995119922248942 58.166262002602046, 7.994942419342249 58.16629727008868, 7.994844862240633 58.16635947741835, 7.9948272511178455 58.1664486247792, 7.994640941168799 58.166528465492505, 7.994285931462 58.166598998795656, 7.994141794339345 58.16668116553698, 7.994208531063782 58.166774966461574, 7.994443968324676 58.16687807451829, 7.995050178587022 58.16704669548507))"
        ],
        [
         "idbeddaafe-c18b-4d7c-b38d-98fa87e79c5a",
         32,
         "POLYGON ((8.000737484643704 58.165017223304055, 8.001230370626358 58.16511197939143, 8.001428043320821 58.16519046307615, 8.001494797082259 58.16528426052492, 8.001659094069323 58.16531584515436, 8.001920933719306 58.1652852165737, 8.00208962918925 58.16529451346959, 8.002165180945061 58.16534373622335, 8.002300498674344 58.165306134277174, 8.002495581187642 58.165181707415115, 8.002770612054842 58.16508421540412, 8.003125591298915 58.16501365772475, 8.003513948578647 58.164989997265366, 8.003935685396774 58.16501323375089, 8.004226504886294 58.16505178575879, 8.004386406925894 58.16510565418664, 8.004457565036628 58.16517716293812, 8.004439978769035 58.16526631215305, 8.004519930370154 58.16529324626986, 8.004786164187657 58.16524032442007, 8.004925875211736 58.16518043229012, 8.005178919341551 58.165194371576696, 8.005591868377886 58.16526217732746, 8.005951240032504 58.16516932431252, 8.00625702971701 58.16491581289118, 8.006540839124442 58.164773737669506, 8.006802671281365 58.164743098858224, 8.006942377048746 58.16468320439789, 8.00695995665804 58.16459405469687, 8.007205982064045 58.16442736787372, 8.007680448453419 58.16418314249897, 8.007669035986124 58.164024807946284, 8.00717175117776 58.163952364221004, 8.006858962708602 58.164025256191536, 8.00673066770359 58.16424348516229, 8.006582173229232 58.16434795423762, 8.00641348061565 58.16433866337446, 8.006185033675123 58.16441619904327, 8.005896830320957 58.164580560877816, 8.005419735997679 58.164621869972656, 8.004753755199893 58.164540124291236, 8.004234487184252 58.164579105615736, 8.003861926970465 58.16473881564292, 8.00360009276178 58.164769448342895, 8.003448987675267 58.164671004466435, 8.003246915871463 58.164614811139096, 8.002993876904151 58.16460086810789, 8.002811991937657 58.164658434160046, 8.00270126016977 58.16478750958486, 8.00251057834972 58.16488964961303, 8.002239946265858 58.1649648538797, 8.002095833801828 58.165047030172346, 8.002078241715562 58.16513617893785, 8.001985098157837 58.16517610489101, 8.00181640328617 58.165166807868665, 8.001618729815387 58.16508832477271, 8.00139207906941 58.164940655495435, 8.001194407808487 58.16486217178485, 8.001025714708714 58.164852873748465, 8.000890397494974 58.1648904743458, 8.000737484643704 58.165017223304055))"
        ],
        [
         "idafe74f87-f1a8-4c62-bb0a-73b39cd14f2b",
         32,
         "POLYGON ((8.004562063376559 58.15946042472104, 8.004915196674213 58.15961505734768, 8.004939782878553 58.15970652985068, 8.004753531088042 58.159786386628674, 8.004638427238715 58.15993775156891, 8.004594471461935 58.16016062486779, 8.004694602276352 58.16030131853006, 8.005060930372247 58.16038908892208, 8.005506371869272 58.16007568564122, 8.005776959502963 58.16000047347737, 8.006021177932967 58.1600589850998, 8.00613449818781 58.16013281554605, 8.006116919564018 58.160221965152054, 8.006192466815552 58.16027118541252, 8.006361140099774 58.16028047616434, 8.006454265716972 58.16024054662359, 8.006480632366848 58.16010682211659, 8.006406861504228 58.15983240523206, 8.00651756323143 58.15970332594615, 8.006788145986846 58.15962811152358, 8.007049939682101 58.15959747139648, 8.007302945330682 58.15961140564048, 8.00756913218788 58.15955847696848, 8.007848498674456 58.159438685264426, 8.00806988833027 58.159180523791555, 8.008233299582217 58.15878399282085, 8.008239456842976 58.15853650823711, 8.008088363710963 58.15843807013825, 8.007717653896911 58.15837259621567, 8.007127327741212 58.158340084551405, 8.006776817286353 58.15838836755423, 8.006666120944024 58.158517447178646, 8.006222486957371 58.15860565838983, 8.005445914661358 58.15865299768125, 8.004960109856139 58.15873888145481, 8.004765072798245 58.158863313056074, 8.00468774361401 58.15903928860058, 8.004728123643392 58.159266808331694, 8.004701751280669 58.159400532354276, 8.004562063376559 58.15946042472104))"
        ],
        [
         "id4b937f35-4f54-48d9-9bcf-f3b29d8b6540",
         31,
         "POLYGON ((8.007060022445584 58.165816156248646, 8.008185565375376 58.16594572292581, 8.008607317724088 58.16596894420953, 8.008700456343492 58.165929013291795, 8.008902544758335 58.165985198282215, 8.009213585132672 58.1661374987056, 8.009360318991995 58.16625822372207, 8.009342744249437 58.16634737385807, 8.009245211417056 58.16640959276666, 8.009067720320791 58.166444880259775, 8.008948216864129 58.16661853651312, 8.00888670033593 58.16693056167586, 8.008935900747737 58.16711350572881, 8.009175778962911 58.16719429992018, 8.009428839696026 58.16720823107918, 8.009702109383602 58.16733592120549, 8.010079945395647 58.16758201347891, 8.010353220308245 58.1677097023126, 8.010521930302756 58.16771898830202, 8.010790814844839 58.1678689638373, 8.011159878316347 58.168159628373616, 8.011593089449025 58.168341174943826, 8.012339124196279 58.16844981606124, 8.012352300718756 58.16838295305291, 8.012230157598651 58.168353702683085, 8.011977087213314 58.16833977690864, 8.011941046953597 58.168089970726086, 8.01212203256787 58.1676042842319, 8.012136953113757 58.167312223687716, 8.011985813289337 58.16721378924994, 8.0115728280514 58.16714600354974, 8.010897998034956 58.16710886404359, 8.010564976716838 58.16706800536888, 8.010573762818742 58.16702343018987, 8.010409449243443 58.166991856756006, 8.010072036325301 58.16697328440186, 8.009743410928563 58.16691013605875, 8.00942357422164 58.16680241181944, 8.00935679663849 58.16670861804294, 8.009543076072474 58.16662875508471, 8.009666970212418 58.16643281066336, 8.009728478718058 58.16612078495491, 8.009923540736184 58.16599634624362, 8.01025215814907 58.166059493952886, 8.010522783054547 58.16598427244702, 8.010735412562372 58.16577068203666, 8.010761768819906 58.16563695642006, 8.010601854169593 58.165583095762365, 8.010517504200395 58.165578452954115, 8.010508718521914 58.16562302813789, 8.010377800534403 58.165638351394854, 8.010124750434532 58.16562442235108, 8.009880487041611 58.16556591768453, 8.009645011212195 58.16546283746394, 8.009582628671081 58.16534675629093, 8.009693337759778 58.16521767438608, 8.009706517589626 58.16515081172243, 8.009622168805247 58.165146168343846, 8.009601961064519 58.165032408885324, 8.009645893856105 58.16480953336691, 8.009765387193688 58.164635876245605, 8.009960440535446 58.16451143729652, 8.010235446776397 58.16441392859013, 8.010590405939114 58.164343349607094, 8.010776669920038 58.164263484514905, 8.010794239651414 58.164174334075994, 8.010929544375816 58.16413672265557, 8.011182584348852 58.164150649882274, 8.011402235246107 58.16411768024435, 8.011588496267175 58.16403781389854, 8.01209896734331 58.16404337753669, 8.013350996984826 58.16417986020787, 8.013503862096165 58.164053095051415, 8.013517034180442 58.163986231830144, 8.013441468924881 58.163937015553614, 8.013272775778864 58.163927733798594, 8.013010954276199 58.163958386183836, 8.012800087927895 58.163946783241336, 8.012640177414958 58.163892925239324, 8.012569004856188 58.163821420774816, 8.01258656980227 58.16373226998766, 8.01247322476575 58.163658444784524, 8.012228970450105 58.16359994482924, 8.012115626583194 58.16352611933116, 8.012133192461576 58.16343696862636, 8.011990851399018 58.16329395917379, 8.011537484498902 58.16299865590296, 8.01063869664928 58.163016774308325, 8.01026354184476 58.162973594327156, 8.010112424955082 58.16287515813965, 8.009888388032131 58.16293041325755, 8.009591427800268 58.163139359225944, 8.009476332307218 58.16329072873163, 8.00954310445795 58.16338452233045, 8.009483359742248 58.16347135084108, 8.009297097284021 58.16355121406641, 8.009039669179602 58.16355957071909, 8.008711076970789 58.163496420398175, 8.008559962407842 58.16339798241036, 8.008586324395354 58.163264257366684, 8.008528342341155 58.16312588831134, 8.008386017258987 58.162982875149815, 8.008053037681604 58.162942010757526, 8.007529401531631 58.16300329358985, 8.00715687249141 58.163163013943766, 8.00693544930197 58.163421173123915, 8.007073375399862 58.163586475256686, 8.007570654908346 58.16365891925638, 8.007966014996637 58.16381586687, 8.008259456981111 58.1640573190779, 8.008532698863506 58.164185011138905, 8.008785737880833 58.164198943125456, 8.008843722386445 58.16433731211504, 8.008706650579793 58.16460011833754, 8.00871806767539 58.16475845289411, 8.008877975667545 58.164812315786335, 8.008906968461387 58.164881500274824, 8.008805045315444 58.164966006433815, 8.008636348973305 58.164956718447776, 8.008400880839224 58.16485363607973, 8.00819001127532 58.16484202540854, 8.008003738624627 58.16492188652213, 8.00789741888531 58.1650286793783, 8.007871052503765 58.165162404187484, 8.00762502477052 58.165329092251824, 8.007159331966019 58.16552874221561, 8.00695986819662 58.16567546395954, 8.007060022445584 58.165816156248646))"
        ],
        [
         "id99342cee-9c90-4451-aee9-aba7f93c61b5",
         39,
         "POLYGON ((8.005060930372247 58.16038908892208, 8.004894866178539 58.160582705665426, 8.00494843504939 58.16074336335234, 8.0052752105694 58.161031719352565, 8.005667918228653 58.16098576400069, 8.00579003057015 58.161015020041226, 8.005772450481691 58.16110416956909, 8.006065856132349 58.161345626086266, 8.006670257573427 58.161739387646314, 8.0070611983619 58.16191862498222, 8.007238668272299 58.161883339852416, 8.00729841543539 58.1617965124505, 8.007240440413957 58.16165814295461, 8.0072957929893 58.161593602995595, 8.007464472929975 58.16160289242016, 8.007561994941831 58.16154067465455, 8.00758835876915 58.16140694985768, 8.007525989162463 58.16129086794608, 8.00737488692206 58.16119242880582, 8.00734589961427 58.161123244083, 8.007439026459974 58.16108331384513, 8.007363475780501 58.161034094255, 8.007119248356494 58.160975585027536, 8.00694355651184 58.160785673221426, 8.006836400918058 58.160464359135574, 8.006707275607065 58.16025448214444, 8.006480632366848 58.16010682211659, 8.006454265716972 58.16024054662359, 8.006361140099774 58.16028047616434, 8.006192466815552 58.16027118541252, 8.006116919564018 58.160221965152054, 8.00613449818781 58.16013281554605, 8.006021177932967 58.1600589850998, 8.005776959502963 58.16000047347737, 8.005506371869272 58.16007568564122, 8.005060930372247 58.16038908892208))"
        ],
        [
         "id7f291bf8-8a53-4aca-b845-8d4c913539c0",
         31,
         "POLYGON ((8.011537484498902 58.16299865590296, 8.011990851399018 58.16329395917379, 8.012133192461576 58.16343696862636, 8.012115626583194 58.16352611933116, 8.012228970450105 58.16359994482924, 8.01247322476575 58.163658444784524, 8.01258656980227 58.16373226998766, 8.012569004856188 58.163821420774816, 8.012640177414958 58.163892925239324, 8.012800087927895 58.163946783241336, 8.013010954276199 58.163958386183836, 8.013272775778864 58.163927733798594, 8.013441468924881 58.163937015553614, 8.013517034180442 58.163986231830144, 8.013503862096165 58.164053095051415, 8.013350996984826 58.16417986020787, 8.013411655855153 58.164521137527714, 8.01351622394585 58.16463953746742, 8.013684920548888 58.164648818971195, 8.013866788994823 58.16459123698797, 8.014159347243218 58.164404568539396, 8.014125023160453 58.163929564813415, 8.01416453555063 58.163728974871326, 8.01426644248528 58.16364446406849, 8.014410521866065 58.16356227326185, 8.014596773440237 58.163482402302506, 8.015031671389503 58.16343873834403, 8.015715216328395 58.16343127884264, 8.016061377791297 58.16340525984691, 8.016070155767544 58.16336068411791, 8.01615889041669 58.16334303527716, 8.016327581836977 58.16335231315901, 8.016483107186794 58.16342845447279, 8.016625467224447 58.163571459282906, 8.016632531017951 58.163752081756726, 8.01650429647956 58.16397032187317, 8.016520137251284 58.16410636857281, 8.016680054954634 58.16416022183542, 8.01674684788842 58.16425401207814, 8.016720515505154 58.16438773943646, 8.016758300909766 58.16441234666205, 8.016911155222358 58.16428557717478, 8.01696381811328 58.16401812233437, 8.01707010788629 58.1639113212554, 8.017247579004698 58.163876022151335, 8.01729852918026 58.16383376545318, 8.017222958821646 58.16378455132199, 8.017253676992448 58.16362853588708, 8.017390681914094 58.16336571903426, 8.017417010736231 58.163231991462716, 8.017332665101188 58.16322735327555, 8.017316821347467 58.16309130661535, 8.017369478748268 58.16282385149262, 8.017147162317599 58.16265392130775, 8.016649874385253 58.162581514664076, 8.016165754940987 58.16244224250023, 8.015694806495363 58.16223610501967, 8.015197527741122 58.16216369287608, 8.01467391330372 58.162225005647215, 8.014272421548002 58.16231556435092, 8.013993052312733 58.16243537014299, 8.013886758226752 58.16254216855358, 8.01395354094539 58.162635960052285, 8.013893808260374 58.162722790891124, 8.013707559295572 58.162802660873076, 8.013365793079148 58.16280638580722, 8.012868511857468 58.16273396448397, 8.012568918185407 58.16274000785035, 8.012467010069306 58.16282451726486, 8.012247368115508 58.16285748893309, 8.0119099930092 58.162838922258004, 8.011690350520045 58.16287189295084, 8.011537484498902 58.16299865590296))"
        ]
       ],
       "datasetInfos": [],
       "dbfsResultPath": null,
       "isJsonSchema": true,
       "metadata": {},
       "overflow": false,
       "plotOptions": {
        "customPlotOptions": {},
        "displayType": "table",
        "pivotAggregation": null,
        "pivotColumns": null,
        "xColumns": null,
        "yColumns": null
       },
       "removedWidgets": [],
       "schema": [
        {
         "metadata": "{}",
         "name": "gml_Id",
         "type": "\"string\""
        },
        {
         "metadata": "{}",
         "name": "Treslag",
         "type": "\"long\""
        },
        {
         "metadata": "{}",
         "name": "geometry",
         "type": "\"string\""
        }
       ],
       "type": "table"
      }
     },
     "output_type": "display_data"
    },
    {
     "output_type": "stream",
     "name": "stdout",
     "output_type": "stream",
     "text": [
      "User Guide: https://docs.kepler.gl/docs/keplergl-jupyter\n"
     ]
    },
    {
     "output_type": "execute_result",
     "data": {
      "application/vnd.jupyter.widget-view+json": {
       "model_id": "146b4570c7044a4f938156cdc9c33885",
       "version_major": 2,
       "version_minor": 0
      },
      "text/plain": [
       "KeplerGl(data={'points': {'index': [0, 1, 2, 3, 4, 5, 6, 7, 8], 'columns': ['gml_Id', 'Treslag', 'geometry'], …"
      ]
     },
     "execution_count": 16,
     "metadata": {},
     "output_type": "execute_result"
    }
   ],
   "source": [
    "while True: \n",
    "    print(\"\"\"Hilken kolumne ønsker du filtere etter?\"\"\")\n",
    "    print(\"\\nFølgende kolumner er tilgjengelig\")\n",
    "    for vailed_col in AR50_DF.columns:\n",
    "        print(vailed_col)\n",
    "    col = input()\n",
    "    if col in AR50_DF.columns:\n",
    "        while True: \n",
    "            try:\n",
    "                print(\"\"\"Skriv inn koordinatene din:\"\"\")\n",
    "                lat = float(input(\"latitude\"))\n",
    "                lon = float(input(\"longitude\"))\n",
    "                while True: \n",
    "                    try:\n",
    "                        print(\"\"\"Skriv inn radiusen i meter du ønsker søke i:\"\"\")\n",
    "                        radius = int(input(\"radius\"))\n",
    "                    except ValueError:\n",
    "                        print(\"Du har skrev ikke en gylding radius, prøv igjen\")\n",
    "                        continue\n",
    "                    break\n",
    "            except ValueError:\n",
    "                print(\"Du har skrev ikke en gylding koordinat, prøv igjen\")\n",
    "                continue\n",
    "            break\n",
    "        break\n",
    "    else:\n",
    "        print(\"Du har skrev ikke en gylding kolumne, prøv igjen\")\n",
    "\n",
    "filtered_df = AR50_DF.filter(AR50_DF[col].isNotNull())\n",
    "df, buffer_df = get_geomtry_within(filtered_df,lon, lat, radius)\n",
    "df.display()\n",
    "                        \n",
    "map_df = SedonaKepler.create_map()\n",
    "\n",
    "# Add the cleaned DataFrame to the map, with an optional layer name\n",
    "map_df.add_data(df.toPandas(), \"points\")\n",
    "map_df.add_data(buffer_df.toPandas(), \"buffer\")\n",
    "map_df\n",
    "\n",
    "\n"
   ]
  },
  {
   "cell_type": "markdown",
   "metadata": {
    "application/vnd.databricks.v1+cell": {
     "cellMetadata": {
      "byteLimit": 2048000,
      "rowLimit": 10000
     },
     "inputWidgets": {},
     "nuid": "4e782f34-d368-44cb-adfa-af0369cd6ad3",
     "showTitle": false,
     "tableResultSettingsMap": {},
     "title": ""
    }
   },
   "source": [
    "\n",
    "## Analyse av arealtype 10 (bebyggelse) i Kristiansand \n",
    "\n",
    "Brukerhistorie \n",
    "\n",
    "Som arealplanlegger i Kristiansand kommune ønsker jeg å hente ut og analysere AR50-data innenfor en radius på 500-meter rundt et valgt punkt, slik at jeg kan finne hvilke treslag som finnes i området og vurdere grøntstruktur i byplanlegging. \n",
    "\n",
    "Akseptkriterier: \n",
    "- Bruker skal kunne spesifisere områdekode og arealtype.  \n",
    "- Systemet skal returnere de 10 største forekomstene basert på areal.  \n",
    "\n",
    "Input \n",
    "- En områdekode (f.eks. 4204) \n",
    "- En arealtype (f.eks. 10) \n",
    "\n",
    "Output: \n",
    "\n",
    "- Tabell med topp 10 forekomster  \n",
    "- Kart med markering av disse områdene  \n",
    "\n",
    " \n",
    "\n"
   ]
  },
  {
   "cell_type": "code",
   "execution_count": 0,
   "metadata": {
    "application/vnd.databricks.v1+cell": {
     "cellMetadata": {
      "byteLimit": 2048000,
      "rowLimit": 10000
     },
     "inputWidgets": {},
     "nuid": "4a0b210c-7d0c-4f94-bb4b-ac57ba247086",
     "showTitle": false,
     "tableResultSettingsMap": {},
     "title": ""
    }
   },
   "outputs": [
    {
     "output_type": "display_data",
     "data": {
      "text/plain": [
       "com.databricks.backend.common.rpc.CommandSkippedException\n",
       "\tat com.databricks.spark.chauffeur.SequenceExecutionState.$anonfun$cancel$3(SequenceExecutionState.scala:138)\n",
       "\tat com.databricks.spark.chauffeur.SequenceExecutionState.$anonfun$cancel$3$adapted(SequenceExecutionState.scala:133)\n",
       "\tat scala.collection.immutable.Range.foreach(Range.scala:158)\n",
       "\tat com.databricks.spark.chauffeur.SequenceExecutionState.cancel(SequenceExecutionState.scala:133)\n",
       "\tat com.databricks.spark.chauffeur.ExecContextState.cancelRunningSequence(ExecContextState.scala:728)\n",
       "\tat com.databricks.spark.chauffeur.ExecContextState.$anonfun$cancel$1(ExecContextState.scala:446)\n",
       "\tat scala.Option.getOrElse(Option.scala:189)\n",
       "\tat com.databricks.spark.chauffeur.ExecContextState.cancel(ExecContextState.scala:446)\n",
       "\tat com.databricks.spark.chauffeur.ExecutionContextManagerV1.cancelExecution(ExecutionContextManagerV1.scala:464)\n",
       "\tat com.databricks.spark.chauffeur.ChauffeurState.$anonfun$process$1(ChauffeurState.scala:571)\n",
       "\tat com.databricks.logging.UsageLogging.$anonfun$recordOperation$1(UsageLogging.scala:528)\n",
       "\tat com.databricks.logging.UsageLogging.executeThunkAndCaptureResultTags$1(UsageLogging.scala:633)\n",
       "\tat com.databricks.logging.UsageLogging.$anonfun$recordOperationWithResultTags$4(UsageLogging.scala:656)\n",
       "\tat com.databricks.logging.AttributionContextTracing.$anonfun$withAttributionContext$1(AttributionContextTracing.scala:48)\n",
       "\tat com.databricks.logging.AttributionContext$.$anonfun$withValue$1(AttributionContext.scala:276)\n",
       "\tat scala.util.DynamicVariable.withValue(DynamicVariable.scala:62)\n",
       "\tat com.databricks.logging.AttributionContext$.withValue(AttributionContext.scala:272)\n",
       "\tat com.databricks.logging.AttributionContextTracing.withAttributionContext(AttributionContextTracing.scala:46)\n",
       "\tat com.databricks.logging.AttributionContextTracing.withAttributionContext$(AttributionContextTracing.scala:43)\n",
       "\tat com.databricks.spark.chauffeur.ChauffeurState.withAttributionContext(ChauffeurState.scala:51)\n",
       "\tat com.databricks.logging.AttributionContextTracing.withAttributionTags(AttributionContextTracing.scala:95)\n",
       "\tat com.databricks.logging.AttributionContextTracing.withAttributionTags$(AttributionContextTracing.scala:76)\n",
       "\tat com.databricks.spark.chauffeur.ChauffeurState.withAttributionTags(ChauffeurState.scala:51)\n",
       "\tat com.databricks.logging.UsageLogging.recordOperationWithResultTags(UsageLogging.scala:628)\n",
       "\tat com.databricks.logging.UsageLogging.recordOperationWithResultTags$(UsageLogging.scala:537)\n",
       "\tat com.databricks.spark.chauffeur.ChauffeurState.recordOperationWithResultTags(ChauffeurState.scala:51)\n",
       "\tat com.databricks.logging.UsageLogging.recordOperation(UsageLogging.scala:529)\n",
       "\tat com.databricks.logging.UsageLogging.recordOperation$(UsageLogging.scala:495)\n",
       "\tat com.databricks.spark.chauffeur.ChauffeurState.recordOperation(ChauffeurState.scala:51)\n",
       "\tat com.databricks.spark.chauffeur.ChauffeurState.process(ChauffeurState.scala:553)\n",
       "\tat com.databricks.spark.chauffeur.Chauffeur$$anon$1$$anonfun$receive$1.handleDriverRequest$1(Chauffeur.scala:846)\n",
       "\tat com.databricks.spark.chauffeur.Chauffeur$$anon$1$$anonfun$receive$1.$anonfun$applyOrElse$5(Chauffeur.scala:872)\n",
       "\tat com.databricks.logging.UsageLogging.executeThunkAndCaptureResultTags$1(UsageLogging.scala:633)\n",
       "\tat com.databricks.logging.UsageLogging.$anonfun$recordOperationWithResultTags$4(UsageLogging.scala:656)\n",
       "\tat com.databricks.logging.AttributionContextTracing.$anonfun$withAttributionContext$1(AttributionContextTracing.scala:48)\n",
       "\tat com.databricks.logging.AttributionContext$.$anonfun$withValue$1(AttributionContext.scala:276)\n",
       "\tat scala.util.DynamicVariable.withValue(DynamicVariable.scala:62)\n",
       "\tat com.databricks.logging.AttributionContext$.withValue(AttributionContext.scala:272)\n",
       "\tat com.databricks.logging.AttributionContextTracing.withAttributionContext(AttributionContextTracing.scala:46)\n",
       "\tat com.databricks.logging.AttributionContextTracing.withAttributionContext$(AttributionContextTracing.scala:43)\n",
       "\tat com.databricks.rpc.ServerBackend.withAttributionContext(ServerBackend.scala:22)\n",
       "\tat com.databricks.logging.AttributionContextTracing.withAttributionTags(AttributionContextTracing.scala:95)\n",
       "\tat com.databricks.logging.AttributionContextTracing.withAttributionTags$(AttributionContextTracing.scala:76)\n",
       "\tat com.databricks.rpc.ServerBackend.withAttributionTags(ServerBackend.scala:22)\n",
       "\tat com.databricks.logging.UsageLogging.recordOperationWithResultTags(UsageLogging.scala:628)\n",
       "\tat com.databricks.logging.UsageLogging.recordOperationWithResultTags$(UsageLogging.scala:537)\n",
       "\tat com.databricks.rpc.ServerBackend.recordOperationWithResultTags(ServerBackend.scala:22)\n",
       "\tat com.databricks.spark.chauffeur.Chauffeur$$anon$1$$anonfun$receive$1.handleDriverRequestWithUsageLogging$1(Chauffeur.scala:871)\n",
       "\tat com.databricks.spark.chauffeur.Chauffeur$$anon$1$$anonfun$receive$1.applyOrElse(Chauffeur.scala:926)\n",
       "\tat com.databricks.spark.chauffeur.Chauffeur$$anon$1$$anonfun$receive$1.applyOrElse(Chauffeur.scala:719)\n",
       "\tat com.databricks.rpc.ServerBackend.$anonfun$internalReceive0$2(ServerBackend.scala:174)\n",
       "\tat com.databricks.rpc.ServerBackend$$anonfun$commonReceive$1.applyOrElse(ServerBackend.scala:200)\n",
       "\tat com.databricks.rpc.ServerBackend$$anonfun$commonReceive$1.applyOrElse(ServerBackend.scala:200)\n",
       "\tat com.databricks.rpc.ServerBackend.internalReceive0(ServerBackend.scala:171)\n",
       "\tat com.databricks.rpc.ServerBackend.$anonfun$internalReceive$1(ServerBackend.scala:147)\n",
       "\tat com.databricks.logging.UsageLogging.$anonfun$recordOperation$1(UsageLogging.scala:528)\n",
       "\tat com.databricks.logging.UsageLogging.executeThunkAndCaptureResultTags$1(UsageLogging.scala:633)\n",
       "\tat com.databricks.logging.UsageLogging.$anonfun$recordOperationWithResultTags$4(UsageLogging.scala:656)\n",
       "\tat com.databricks.logging.AttributionContextTracing.$anonfun$withAttributionContext$1(AttributionContextTracing.scala:48)\n",
       "\tat com.databricks.logging.AttributionContext$.$anonfun$withValue$1(AttributionContext.scala:276)\n",
       "\tat scala.util.DynamicVariable.withValue(DynamicVariable.scala:62)\n",
       "\tat com.databricks.logging.AttributionContext$.withValue(AttributionContext.scala:272)\n",
       "\tat com.databricks.logging.AttributionContextTracing.withAttributionContext(AttributionContextTracing.scala:46)\n",
       "\tat com.databricks.logging.AttributionContextTracing.withAttributionContext$(AttributionContextTracing.scala:43)\n",
       "\tat com.databricks.rpc.ServerBackend.withAttributionContext(ServerBackend.scala:22)\n",
       "\tat com.databricks.logging.AttributionContextTracing.withAttributionTags(AttributionContextTracing.scala:95)\n",
       "\tat com.databricks.logging.AttributionContextTracing.withAttributionTags$(AttributionContextTracing.scala:76)\n",
       "\tat com.databricks.rpc.ServerBackend.withAttributionTags(ServerBackend.scala:22)\n",
       "\tat com.databricks.logging.UsageLogging.recordOperationWithResultTags(UsageLogging.scala:628)\n",
       "\tat com.databricks.logging.UsageLogging.recordOperationWithResultTags$(UsageLogging.scala:537)\n",
       "\tat com.databricks.rpc.ServerBackend.recordOperationWithResultTags(ServerBackend.scala:22)\n",
       "\tat com.databricks.logging.UsageLogging.recordOperation(UsageLogging.scala:529)\n",
       "\tat com.databricks.logging.UsageLogging.recordOperation$(UsageLogging.scala:495)\n",
       "\tat com.databricks.rpc.ServerBackend.recordOperation(ServerBackend.scala:22)\n",
       "\tat com.databricks.rpc.ServerBackend.internalReceive(ServerBackend.scala:146)\n",
       "\tat com.databricks.rpc.JettyServer$RequestManager.handleRPC(JettyServer.scala:1021)\n",
       "\tat com.databricks.rpc.JettyServer$RequestManager.handleRequestAndRespond(JettyServer.scala:942)\n",
       "\tat com.databricks.rpc.JettyServer$RequestManager.$anonfun$handleHttp$6(JettyServer.scala:546)\n",
       "\tat com.databricks.rpc.JettyServer$RequestManager.$anonfun$handleHttp$6$adapted(JettyServer.scala:515)\n",
       "\tat com.databricks.logging.activity.ActivityContextFactory$.$anonfun$withActivityInternal$6(ActivityContextFactory.scala:545)\n",
       "\tat com.databricks.logging.AttributionContextTracing.$anonfun$withAttributionContext$1(AttributionContextTracing.scala:48)\n",
       "\tat com.databricks.logging.AttributionContext$.$anonfun$withValue$1(AttributionContext.scala:276)\n",
       "\tat scala.util.DynamicVariable.withValue(DynamicVariable.scala:62)\n",
       "\tat com.databricks.logging.AttributionContext$.withValue(AttributionContext.scala:272)\n",
       "\tat com.databricks.logging.AttributionContextTracing.withAttributionContext(AttributionContextTracing.scala:46)\n",
       "\tat com.databricks.logging.AttributionContextTracing.withAttributionContext$(AttributionContextTracing.scala:43)\n",
       "\tat com.databricks.logging.activity.ActivityContextFactory$.withAttributionContext(ActivityContextFactory.scala:48)\n",
       "\tat com.databricks.logging.activity.ActivityContextFactory$.$anonfun$withActivityInternal$3(ActivityContextFactory.scala:545)\n",
       "\tat com.databricks.context.integrity.IntegrityCheckContext$ThreadLocalStorage$.withValue(IntegrityCheckContext.scala:73)\n",
       "\tat com.databricks.logging.activity.ActivityContextFactory$.withActivityInternal(ActivityContextFactory.scala:523)\n",
       "\tat com.databricks.logging.activity.ActivityContextFactory$.withServiceRequestActivity(ActivityContextFactory.scala:175)\n",
       "\tat com.databricks.rpc.JettyServer$RequestManager.handleHttp(JettyServer.scala:515)\n",
       "\tat com.databricks.rpc.JettyServer$RequestManager.doPost(JettyServer.scala:405)\n",
       "\tat javax.servlet.http.HttpServlet.service(HttpServlet.java:665)\n",
       "\tat com.databricks.rpc.HttpServletWithPatch.service(HttpServletWithPatch.scala:33)\n",
       "\tat javax.servlet.http.HttpServlet.service(HttpServlet.java:750)\n",
       "\tat org.eclipse.jetty.servlet.ServletHolder.handle(ServletHolder.java:799)\n",
       "\tat org.eclipse.jetty.servlet.ServletHandler.doHandle(ServletHandler.java:554)\n",
       "\tat org.eclipse.jetty.server.handler.ScopedHandler.nextScope(ScopedHandler.java:190)\n",
       "\tat org.eclipse.jetty.servlet.ServletHandler.doScope(ServletHandler.java:505)\n",
       "\tat org.eclipse.jetty.server.handler.ScopedHandler.handle(ScopedHandler.java:141)\n",
       "\tat org.eclipse.jetty.server.handler.HandlerWrapper.handle(HandlerWrapper.java:127)\n",
       "\tat org.eclipse.jetty.server.Server.handle(Server.java:516)\n",
       "\tat org.eclipse.jetty.server.HttpChannel.lambda$handle$1(HttpChannel.java:487)\n",
       "\tat org.eclipse.jetty.server.HttpChannel.dispatch(HttpChannel.java:732)\n",
       "\tat org.eclipse.jetty.server.HttpChannel.handle(HttpChannel.java:479)\n",
       "\tat org.eclipse.jetty.server.HttpConnection.onFillable(HttpConnection.java:277)\n",
       "\tat org.eclipse.jetty.io.AbstractConnection$ReadCallback.succeeded(AbstractConnection.java:311)\n",
       "\tat org.eclipse.jetty.io.FillInterest.fillable(FillInterest.java:105)\n",
       "\tat org.eclipse.jetty.io.ssl.SslConnection$DecryptedEndPoint.onFillable(SslConnection.java:555)\n",
       "\tat org.eclipse.jetty.io.ssl.SslConnection.onFillable(SslConnection.java:410)\n",
       "\tat org.eclipse.jetty.io.ssl.SslConnection$2.succeeded(SslConnection.java:164)\n",
       "\tat org.eclipse.jetty.io.FillInterest.fillable(FillInterest.java:105)\n",
       "\tat org.eclipse.jetty.io.ChannelEndPoint$1.run(ChannelEndPoint.java:104)\n",
       "\tat org.eclipse.jetty.util.thread.strategy.EatWhatYouKill.runTask(EatWhatYouKill.java:338)\n",
       "\tat org.eclipse.jetty.util.thread.strategy.EatWhatYouKill.doProduce(EatWhatYouKill.java:315)\n",
       "\tat org.eclipse.jetty.util.thread.strategy.EatWhatYouKill.tryProduce(EatWhatYouKill.java:173)\n",
       "\tat org.eclipse.jetty.util.thread.strategy.EatWhatYouKill.run(EatWhatYouKill.java:131)\n",
       "\tat org.eclipse.jetty.util.thread.ReservedThreadExecutor$ReservedThread.run(ReservedThreadExecutor.java:409)\n",
       "\tat com.databricks.rpc.InstrumentedQueuedThreadPool$$anon$1.$anonfun$run$2(InstrumentedQueuedThreadPool.scala:105)\n",
       "\tat scala.runtime.java8.JFunction0$mcV$sp.apply(JFunction0$mcV$sp.java:23)\n",
       "\tat com.databricks.logging.AttributionContextTracing.$anonfun$withAttributionContext$1(AttributionContextTracing.scala:48)\n",
       "\tat com.databricks.logging.AttributionContext$.$anonfun$withValue$1(AttributionContext.scala:276)\n",
       "\tat scala.util.DynamicVariable.withValue(DynamicVariable.scala:62)\n",
       "\tat com.databricks.logging.AttributionContext$.withValue(AttributionContext.scala:272)\n",
       "\tat com.databricks.logging.AttributionContextTracing.withAttributionContext(AttributionContextTracing.scala:46)\n",
       "\tat com.databricks.logging.AttributionContextTracing.withAttributionContext$(AttributionContextTracing.scala:43)\n",
       "\tat com.databricks.rpc.InstrumentedQueuedThreadPool.withAttributionContext(InstrumentedQueuedThreadPool.scala:45)\n",
       "\tat com.databricks.rpc.InstrumentedQueuedThreadPool$$anon$1.$anonfun$run$1(InstrumentedQueuedThreadPool.scala:105)\n",
       "\tat scala.runtime.java8.JFunction0$mcV$sp.apply(JFunction0$mcV$sp.java:23)\n",
       "\tat com.databricks.instrumentation.QueuedThreadPoolInstrumenter.trackActiveThreads(QueuedThreadPoolInstrumenter.scala:110)\n",
       "\tat com.databricks.instrumentation.QueuedThreadPoolInstrumenter.trackActiveThreads$(QueuedThreadPoolInstrumenter.scala:107)\n",
       "\tat com.databricks.rpc.InstrumentedQueuedThreadPool.trackActiveThreads(InstrumentedQueuedThreadPool.scala:45)\n",
       "\tat com.databricks.rpc.InstrumentedQueuedThreadPool$$anon$1.run(InstrumentedQueuedThreadPool.scala:87)\n",
       "\tat org.eclipse.jetty.util.thread.QueuedThreadPool.runJob(QueuedThreadPool.java:883)\n",
       "\tat org.eclipse.jetty.util.thread.QueuedThreadPool$Runner.run(QueuedThreadPool.java:1034)\n",
       "\tat java.lang.Thread.run(Thread.java:750)"
      ]
     },
     "metadata": {
      "application/vnd.databricks.v1+output": {
       "addedWidgets": {},
       "arguments": {},
       "datasetInfos": [],
       "jupyterProps": null,
       "metadata": {
        "errorSummary": "Command skipped"
       },
       "removedWidgets": [],
       "sqlProps": null,
       "stackFrames": [
        "com.databricks.backend.common.rpc.CommandSkippedException",
        "\tat com.databricks.spark.chauffeur.SequenceExecutionState.$anonfun$cancel$3(SequenceExecutionState.scala:138)",
        "\tat com.databricks.spark.chauffeur.SequenceExecutionState.$anonfun$cancel$3$adapted(SequenceExecutionState.scala:133)",
        "\tat scala.collection.immutable.Range.foreach(Range.scala:158)",
        "\tat com.databricks.spark.chauffeur.SequenceExecutionState.cancel(SequenceExecutionState.scala:133)",
        "\tat com.databricks.spark.chauffeur.ExecContextState.cancelRunningSequence(ExecContextState.scala:728)",
        "\tat com.databricks.spark.chauffeur.ExecContextState.$anonfun$cancel$1(ExecContextState.scala:446)",
        "\tat scala.Option.getOrElse(Option.scala:189)",
        "\tat com.databricks.spark.chauffeur.ExecContextState.cancel(ExecContextState.scala:446)",
        "\tat com.databricks.spark.chauffeur.ExecutionContextManagerV1.cancelExecution(ExecutionContextManagerV1.scala:464)",
        "\tat com.databricks.spark.chauffeur.ChauffeurState.$anonfun$process$1(ChauffeurState.scala:571)",
        "\tat com.databricks.logging.UsageLogging.$anonfun$recordOperation$1(UsageLogging.scala:528)",
        "\tat com.databricks.logging.UsageLogging.executeThunkAndCaptureResultTags$1(UsageLogging.scala:633)",
        "\tat com.databricks.logging.UsageLogging.$anonfun$recordOperationWithResultTags$4(UsageLogging.scala:656)",
        "\tat com.databricks.logging.AttributionContextTracing.$anonfun$withAttributionContext$1(AttributionContextTracing.scala:48)",
        "\tat com.databricks.logging.AttributionContext$.$anonfun$withValue$1(AttributionContext.scala:276)",
        "\tat scala.util.DynamicVariable.withValue(DynamicVariable.scala:62)",
        "\tat com.databricks.logging.AttributionContext$.withValue(AttributionContext.scala:272)",
        "\tat com.databricks.logging.AttributionContextTracing.withAttributionContext(AttributionContextTracing.scala:46)",
        "\tat com.databricks.logging.AttributionContextTracing.withAttributionContext$(AttributionContextTracing.scala:43)",
        "\tat com.databricks.spark.chauffeur.ChauffeurState.withAttributionContext(ChauffeurState.scala:51)",
        "\tat com.databricks.logging.AttributionContextTracing.withAttributionTags(AttributionContextTracing.scala:95)",
        "\tat com.databricks.logging.AttributionContextTracing.withAttributionTags$(AttributionContextTracing.scala:76)",
        "\tat com.databricks.spark.chauffeur.ChauffeurState.withAttributionTags(ChauffeurState.scala:51)",
        "\tat com.databricks.logging.UsageLogging.recordOperationWithResultTags(UsageLogging.scala:628)",
        "\tat com.databricks.logging.UsageLogging.recordOperationWithResultTags$(UsageLogging.scala:537)",
        "\tat com.databricks.spark.chauffeur.ChauffeurState.recordOperationWithResultTags(ChauffeurState.scala:51)",
        "\tat com.databricks.logging.UsageLogging.recordOperation(UsageLogging.scala:529)",
        "\tat com.databricks.logging.UsageLogging.recordOperation$(UsageLogging.scala:495)",
        "\tat com.databricks.spark.chauffeur.ChauffeurState.recordOperation(ChauffeurState.scala:51)",
        "\tat com.databricks.spark.chauffeur.ChauffeurState.process(ChauffeurState.scala:553)",
        "\tat com.databricks.spark.chauffeur.Chauffeur$$anon$1$$anonfun$receive$1.handleDriverRequest$1(Chauffeur.scala:846)",
        "\tat com.databricks.spark.chauffeur.Chauffeur$$anon$1$$anonfun$receive$1.$anonfun$applyOrElse$5(Chauffeur.scala:872)",
        "\tat com.databricks.logging.UsageLogging.executeThunkAndCaptureResultTags$1(UsageLogging.scala:633)",
        "\tat com.databricks.logging.UsageLogging.$anonfun$recordOperationWithResultTags$4(UsageLogging.scala:656)",
        "\tat com.databricks.logging.AttributionContextTracing.$anonfun$withAttributionContext$1(AttributionContextTracing.scala:48)",
        "\tat com.databricks.logging.AttributionContext$.$anonfun$withValue$1(AttributionContext.scala:276)",
        "\tat scala.util.DynamicVariable.withValue(DynamicVariable.scala:62)",
        "\tat com.databricks.logging.AttributionContext$.withValue(AttributionContext.scala:272)",
        "\tat com.databricks.logging.AttributionContextTracing.withAttributionContext(AttributionContextTracing.scala:46)",
        "\tat com.databricks.logging.AttributionContextTracing.withAttributionContext$(AttributionContextTracing.scala:43)",
        "\tat com.databricks.rpc.ServerBackend.withAttributionContext(ServerBackend.scala:22)",
        "\tat com.databricks.logging.AttributionContextTracing.withAttributionTags(AttributionContextTracing.scala:95)",
        "\tat com.databricks.logging.AttributionContextTracing.withAttributionTags$(AttributionContextTracing.scala:76)",
        "\tat com.databricks.rpc.ServerBackend.withAttributionTags(ServerBackend.scala:22)",
        "\tat com.databricks.logging.UsageLogging.recordOperationWithResultTags(UsageLogging.scala:628)",
        "\tat com.databricks.logging.UsageLogging.recordOperationWithResultTags$(UsageLogging.scala:537)",
        "\tat com.databricks.rpc.ServerBackend.recordOperationWithResultTags(ServerBackend.scala:22)",
        "\tat com.databricks.spark.chauffeur.Chauffeur$$anon$1$$anonfun$receive$1.handleDriverRequestWithUsageLogging$1(Chauffeur.scala:871)",
        "\tat com.databricks.spark.chauffeur.Chauffeur$$anon$1$$anonfun$receive$1.applyOrElse(Chauffeur.scala:926)",
        "\tat com.databricks.spark.chauffeur.Chauffeur$$anon$1$$anonfun$receive$1.applyOrElse(Chauffeur.scala:719)",
        "\tat com.databricks.rpc.ServerBackend.$anonfun$internalReceive0$2(ServerBackend.scala:174)",
        "\tat com.databricks.rpc.ServerBackend$$anonfun$commonReceive$1.applyOrElse(ServerBackend.scala:200)",
        "\tat com.databricks.rpc.ServerBackend$$anonfun$commonReceive$1.applyOrElse(ServerBackend.scala:200)",
        "\tat com.databricks.rpc.ServerBackend.internalReceive0(ServerBackend.scala:171)",
        "\tat com.databricks.rpc.ServerBackend.$anonfun$internalReceive$1(ServerBackend.scala:147)",
        "\tat com.databricks.logging.UsageLogging.$anonfun$recordOperation$1(UsageLogging.scala:528)",
        "\tat com.databricks.logging.UsageLogging.executeThunkAndCaptureResultTags$1(UsageLogging.scala:633)",
        "\tat com.databricks.logging.UsageLogging.$anonfun$recordOperationWithResultTags$4(UsageLogging.scala:656)",
        "\tat com.databricks.logging.AttributionContextTracing.$anonfun$withAttributionContext$1(AttributionContextTracing.scala:48)",
        "\tat com.databricks.logging.AttributionContext$.$anonfun$withValue$1(AttributionContext.scala:276)",
        "\tat scala.util.DynamicVariable.withValue(DynamicVariable.scala:62)",
        "\tat com.databricks.logging.AttributionContext$.withValue(AttributionContext.scala:272)",
        "\tat com.databricks.logging.AttributionContextTracing.withAttributionContext(AttributionContextTracing.scala:46)",
        "\tat com.databricks.logging.AttributionContextTracing.withAttributionContext$(AttributionContextTracing.scala:43)",
        "\tat com.databricks.rpc.ServerBackend.withAttributionContext(ServerBackend.scala:22)",
        "\tat com.databricks.logging.AttributionContextTracing.withAttributionTags(AttributionContextTracing.scala:95)",
        "\tat com.databricks.logging.AttributionContextTracing.withAttributionTags$(AttributionContextTracing.scala:76)",
        "\tat com.databricks.rpc.ServerBackend.withAttributionTags(ServerBackend.scala:22)",
        "\tat com.databricks.logging.UsageLogging.recordOperationWithResultTags(UsageLogging.scala:628)",
        "\tat com.databricks.logging.UsageLogging.recordOperationWithResultTags$(UsageLogging.scala:537)",
        "\tat com.databricks.rpc.ServerBackend.recordOperationWithResultTags(ServerBackend.scala:22)",
        "\tat com.databricks.logging.UsageLogging.recordOperation(UsageLogging.scala:529)",
        "\tat com.databricks.logging.UsageLogging.recordOperation$(UsageLogging.scala:495)",
        "\tat com.databricks.rpc.ServerBackend.recordOperation(ServerBackend.scala:22)",
        "\tat com.databricks.rpc.ServerBackend.internalReceive(ServerBackend.scala:146)",
        "\tat com.databricks.rpc.JettyServer$RequestManager.handleRPC(JettyServer.scala:1021)",
        "\tat com.databricks.rpc.JettyServer$RequestManager.handleRequestAndRespond(JettyServer.scala:942)",
        "\tat com.databricks.rpc.JettyServer$RequestManager.$anonfun$handleHttp$6(JettyServer.scala:546)",
        "\tat com.databricks.rpc.JettyServer$RequestManager.$anonfun$handleHttp$6$adapted(JettyServer.scala:515)",
        "\tat com.databricks.logging.activity.ActivityContextFactory$.$anonfun$withActivityInternal$6(ActivityContextFactory.scala:545)",
        "\tat com.databricks.logging.AttributionContextTracing.$anonfun$withAttributionContext$1(AttributionContextTracing.scala:48)",
        "\tat com.databricks.logging.AttributionContext$.$anonfun$withValue$1(AttributionContext.scala:276)",
        "\tat scala.util.DynamicVariable.withValue(DynamicVariable.scala:62)",
        "\tat com.databricks.logging.AttributionContext$.withValue(AttributionContext.scala:272)",
        "\tat com.databricks.logging.AttributionContextTracing.withAttributionContext(AttributionContextTracing.scala:46)",
        "\tat com.databricks.logging.AttributionContextTracing.withAttributionContext$(AttributionContextTracing.scala:43)",
        "\tat com.databricks.logging.activity.ActivityContextFactory$.withAttributionContext(ActivityContextFactory.scala:48)",
        "\tat com.databricks.logging.activity.ActivityContextFactory$.$anonfun$withActivityInternal$3(ActivityContextFactory.scala:545)",
        "\tat com.databricks.context.integrity.IntegrityCheckContext$ThreadLocalStorage$.withValue(IntegrityCheckContext.scala:73)",
        "\tat com.databricks.logging.activity.ActivityContextFactory$.withActivityInternal(ActivityContextFactory.scala:523)",
        "\tat com.databricks.logging.activity.ActivityContextFactory$.withServiceRequestActivity(ActivityContextFactory.scala:175)",
        "\tat com.databricks.rpc.JettyServer$RequestManager.handleHttp(JettyServer.scala:515)",
        "\tat com.databricks.rpc.JettyServer$RequestManager.doPost(JettyServer.scala:405)",
        "\tat javax.servlet.http.HttpServlet.service(HttpServlet.java:665)",
        "\tat com.databricks.rpc.HttpServletWithPatch.service(HttpServletWithPatch.scala:33)",
        "\tat javax.servlet.http.HttpServlet.service(HttpServlet.java:750)",
        "\tat org.eclipse.jetty.servlet.ServletHolder.handle(ServletHolder.java:799)",
        "\tat org.eclipse.jetty.servlet.ServletHandler.doHandle(ServletHandler.java:554)",
        "\tat org.eclipse.jetty.server.handler.ScopedHandler.nextScope(ScopedHandler.java:190)",
        "\tat org.eclipse.jetty.servlet.ServletHandler.doScope(ServletHandler.java:505)",
        "\tat org.eclipse.jetty.server.handler.ScopedHandler.handle(ScopedHandler.java:141)",
        "\tat org.eclipse.jetty.server.handler.HandlerWrapper.handle(HandlerWrapper.java:127)",
        "\tat org.eclipse.jetty.server.Server.handle(Server.java:516)",
        "\tat org.eclipse.jetty.server.HttpChannel.lambda$handle$1(HttpChannel.java:487)",
        "\tat org.eclipse.jetty.server.HttpChannel.dispatch(HttpChannel.java:732)",
        "\tat org.eclipse.jetty.server.HttpChannel.handle(HttpChannel.java:479)",
        "\tat org.eclipse.jetty.server.HttpConnection.onFillable(HttpConnection.java:277)",
        "\tat org.eclipse.jetty.io.AbstractConnection$ReadCallback.succeeded(AbstractConnection.java:311)",
        "\tat org.eclipse.jetty.io.FillInterest.fillable(FillInterest.java:105)",
        "\tat org.eclipse.jetty.io.ssl.SslConnection$DecryptedEndPoint.onFillable(SslConnection.java:555)",
        "\tat org.eclipse.jetty.io.ssl.SslConnection.onFillable(SslConnection.java:410)",
        "\tat org.eclipse.jetty.io.ssl.SslConnection$2.succeeded(SslConnection.java:164)",
        "\tat org.eclipse.jetty.io.FillInterest.fillable(FillInterest.java:105)",
        "\tat org.eclipse.jetty.io.ChannelEndPoint$1.run(ChannelEndPoint.java:104)",
        "\tat org.eclipse.jetty.util.thread.strategy.EatWhatYouKill.runTask(EatWhatYouKill.java:338)",
        "\tat org.eclipse.jetty.util.thread.strategy.EatWhatYouKill.doProduce(EatWhatYouKill.java:315)",
        "\tat org.eclipse.jetty.util.thread.strategy.EatWhatYouKill.tryProduce(EatWhatYouKill.java:173)",
        "\tat org.eclipse.jetty.util.thread.strategy.EatWhatYouKill.run(EatWhatYouKill.java:131)",
        "\tat org.eclipse.jetty.util.thread.ReservedThreadExecutor$ReservedThread.run(ReservedThreadExecutor.java:409)",
        "\tat com.databricks.rpc.InstrumentedQueuedThreadPool$$anon$1.$anonfun$run$2(InstrumentedQueuedThreadPool.scala:105)",
        "\tat scala.runtime.java8.JFunction0$mcV$sp.apply(JFunction0$mcV$sp.java:23)",
        "\tat com.databricks.logging.AttributionContextTracing.$anonfun$withAttributionContext$1(AttributionContextTracing.scala:48)",
        "\tat com.databricks.logging.AttributionContext$.$anonfun$withValue$1(AttributionContext.scala:276)",
        "\tat scala.util.DynamicVariable.withValue(DynamicVariable.scala:62)",
        "\tat com.databricks.logging.AttributionContext$.withValue(AttributionContext.scala:272)",
        "\tat com.databricks.logging.AttributionContextTracing.withAttributionContext(AttributionContextTracing.scala:46)",
        "\tat com.databricks.logging.AttributionContextTracing.withAttributionContext$(AttributionContextTracing.scala:43)",
        "\tat com.databricks.rpc.InstrumentedQueuedThreadPool.withAttributionContext(InstrumentedQueuedThreadPool.scala:45)",
        "\tat com.databricks.rpc.InstrumentedQueuedThreadPool$$anon$1.$anonfun$run$1(InstrumentedQueuedThreadPool.scala:105)",
        "\tat scala.runtime.java8.JFunction0$mcV$sp.apply(JFunction0$mcV$sp.java:23)",
        "\tat com.databricks.instrumentation.QueuedThreadPoolInstrumenter.trackActiveThreads(QueuedThreadPoolInstrumenter.scala:110)",
        "\tat com.databricks.instrumentation.QueuedThreadPoolInstrumenter.trackActiveThreads$(QueuedThreadPoolInstrumenter.scala:107)",
        "\tat com.databricks.rpc.InstrumentedQueuedThreadPool.trackActiveThreads(InstrumentedQueuedThreadPool.scala:45)",
        "\tat com.databricks.rpc.InstrumentedQueuedThreadPool$$anon$1.run(InstrumentedQueuedThreadPool.scala:87)",
        "\tat org.eclipse.jetty.util.thread.QueuedThreadPool.runJob(QueuedThreadPool.java:883)",
        "\tat org.eclipse.jetty.util.thread.QueuedThreadPool$Runner.run(QueuedThreadPool.java:1034)",
        "\tat java.lang.Thread.run(Thread.java:750)"
       ],
       "type": "baseError"
      }
     },
     "output_type": "display_data"
    }
   ],
   "source": [
    "filter_obj = {}\n",
    "while True:\n",
    "  col = choose_col()\n",
    "  if col == None:\n",
    "    print(\"Du har skrev ikke en gylding kolumne, prøv igjen\")\n",
    "    continue\n",
    "\n",
    "  while True:\n",
    "    operator = choose_operator()\n",
    "    if operator == None:\n",
    "      print(\"Du har skrev ikke en gylding operatoren, prøv igjen\")\n",
    "      continue\n",
    "    break\n",
    "\n",
    "  while True:\n",
    "    value = value_converter(col)\n",
    "    if value == None:\n",
    "      print(\"Du har skrev ikke en gylding input, prøv igjen\")\n",
    "      continue\n",
    "    break\n",
    "  filter_obj[col] = {  # Sett en ny nøkkel i dict direkte\n",
    "    \"operator\": operator,\n",
    "    \"value\": {\n",
    "        \"search\": f\"{value}\"\n",
    "    }\n",
    "  }\n",
    "\n",
    "\n",
    "  done = input(\"Ønker du å flitere etter noe med? ja eller nei\").lower()\n",
    "  if done == \"ja\":\n",
    "    continue\n",
    "  elif done == \"nei\":\n",
    "    break\n",
    "  else:\n",
    "    print(\"Du har skrev ikke en gyldig svar, prøv igjen\")"
   ]
  },
  {
   "cell_type": "code",
   "execution_count": 0,
   "metadata": {
    "application/vnd.databricks.v1+cell": {
     "cellMetadata": {
      "byteLimit": 2048000,
      "rowLimit": 10000
     },
     "inputWidgets": {},
     "nuid": "f3fe5e11-f74a-4c82-9426-f349884cd0c0",
     "showTitle": false,
     "tableResultSettingsMap": {},
     "title": ""
    }
   },
   "outputs": [
    {
     "output_type": "display_data",
     "data": {
      "text/plain": [
       "com.databricks.backend.common.rpc.CommandSkippedException\n",
       "\tat com.databricks.spark.chauffeur.SequenceExecutionState.$anonfun$cancel$3(SequenceExecutionState.scala:138)\n",
       "\tat com.databricks.spark.chauffeur.SequenceExecutionState.$anonfun$cancel$3$adapted(SequenceExecutionState.scala:133)\n",
       "\tat scala.collection.immutable.Range.foreach(Range.scala:158)\n",
       "\tat com.databricks.spark.chauffeur.SequenceExecutionState.cancel(SequenceExecutionState.scala:133)\n",
       "\tat com.databricks.spark.chauffeur.ExecContextState.cancelRunningSequence(ExecContextState.scala:728)\n",
       "\tat com.databricks.spark.chauffeur.ExecContextState.$anonfun$cancel$1(ExecContextState.scala:446)\n",
       "\tat scala.Option.getOrElse(Option.scala:189)\n",
       "\tat com.databricks.spark.chauffeur.ExecContextState.cancel(ExecContextState.scala:446)\n",
       "\tat com.databricks.spark.chauffeur.ExecutionContextManagerV1.cancelExecution(ExecutionContextManagerV1.scala:464)\n",
       "\tat com.databricks.spark.chauffeur.ChauffeurState.$anonfun$process$1(ChauffeurState.scala:571)\n",
       "\tat com.databricks.logging.UsageLogging.$anonfun$recordOperation$1(UsageLogging.scala:528)\n",
       "\tat com.databricks.logging.UsageLogging.executeThunkAndCaptureResultTags$1(UsageLogging.scala:633)\n",
       "\tat com.databricks.logging.UsageLogging.$anonfun$recordOperationWithResultTags$4(UsageLogging.scala:656)\n",
       "\tat com.databricks.logging.AttributionContextTracing.$anonfun$withAttributionContext$1(AttributionContextTracing.scala:48)\n",
       "\tat com.databricks.logging.AttributionContext$.$anonfun$withValue$1(AttributionContext.scala:276)\n",
       "\tat scala.util.DynamicVariable.withValue(DynamicVariable.scala:62)\n",
       "\tat com.databricks.logging.AttributionContext$.withValue(AttributionContext.scala:272)\n",
       "\tat com.databricks.logging.AttributionContextTracing.withAttributionContext(AttributionContextTracing.scala:46)\n",
       "\tat com.databricks.logging.AttributionContextTracing.withAttributionContext$(AttributionContextTracing.scala:43)\n",
       "\tat com.databricks.spark.chauffeur.ChauffeurState.withAttributionContext(ChauffeurState.scala:51)\n",
       "\tat com.databricks.logging.AttributionContextTracing.withAttributionTags(AttributionContextTracing.scala:95)\n",
       "\tat com.databricks.logging.AttributionContextTracing.withAttributionTags$(AttributionContextTracing.scala:76)\n",
       "\tat com.databricks.spark.chauffeur.ChauffeurState.withAttributionTags(ChauffeurState.scala:51)\n",
       "\tat com.databricks.logging.UsageLogging.recordOperationWithResultTags(UsageLogging.scala:628)\n",
       "\tat com.databricks.logging.UsageLogging.recordOperationWithResultTags$(UsageLogging.scala:537)\n",
       "\tat com.databricks.spark.chauffeur.ChauffeurState.recordOperationWithResultTags(ChauffeurState.scala:51)\n",
       "\tat com.databricks.logging.UsageLogging.recordOperation(UsageLogging.scala:529)\n",
       "\tat com.databricks.logging.UsageLogging.recordOperation$(UsageLogging.scala:495)\n",
       "\tat com.databricks.spark.chauffeur.ChauffeurState.recordOperation(ChauffeurState.scala:51)\n",
       "\tat com.databricks.spark.chauffeur.ChauffeurState.process(ChauffeurState.scala:553)\n",
       "\tat com.databricks.spark.chauffeur.Chauffeur$$anon$1$$anonfun$receive$1.handleDriverRequest$1(Chauffeur.scala:846)\n",
       "\tat com.databricks.spark.chauffeur.Chauffeur$$anon$1$$anonfun$receive$1.$anonfun$applyOrElse$5(Chauffeur.scala:872)\n",
       "\tat com.databricks.logging.UsageLogging.executeThunkAndCaptureResultTags$1(UsageLogging.scala:633)\n",
       "\tat com.databricks.logging.UsageLogging.$anonfun$recordOperationWithResultTags$4(UsageLogging.scala:656)\n",
       "\tat com.databricks.logging.AttributionContextTracing.$anonfun$withAttributionContext$1(AttributionContextTracing.scala:48)\n",
       "\tat com.databricks.logging.AttributionContext$.$anonfun$withValue$1(AttributionContext.scala:276)\n",
       "\tat scala.util.DynamicVariable.withValue(DynamicVariable.scala:62)\n",
       "\tat com.databricks.logging.AttributionContext$.withValue(AttributionContext.scala:272)\n",
       "\tat com.databricks.logging.AttributionContextTracing.withAttributionContext(AttributionContextTracing.scala:46)\n",
       "\tat com.databricks.logging.AttributionContextTracing.withAttributionContext$(AttributionContextTracing.scala:43)\n",
       "\tat com.databricks.rpc.ServerBackend.withAttributionContext(ServerBackend.scala:22)\n",
       "\tat com.databricks.logging.AttributionContextTracing.withAttributionTags(AttributionContextTracing.scala:95)\n",
       "\tat com.databricks.logging.AttributionContextTracing.withAttributionTags$(AttributionContextTracing.scala:76)\n",
       "\tat com.databricks.rpc.ServerBackend.withAttributionTags(ServerBackend.scala:22)\n",
       "\tat com.databricks.logging.UsageLogging.recordOperationWithResultTags(UsageLogging.scala:628)\n",
       "\tat com.databricks.logging.UsageLogging.recordOperationWithResultTags$(UsageLogging.scala:537)\n",
       "\tat com.databricks.rpc.ServerBackend.recordOperationWithResultTags(ServerBackend.scala:22)\n",
       "\tat com.databricks.spark.chauffeur.Chauffeur$$anon$1$$anonfun$receive$1.handleDriverRequestWithUsageLogging$1(Chauffeur.scala:871)\n",
       "\tat com.databricks.spark.chauffeur.Chauffeur$$anon$1$$anonfun$receive$1.applyOrElse(Chauffeur.scala:926)\n",
       "\tat com.databricks.spark.chauffeur.Chauffeur$$anon$1$$anonfun$receive$1.applyOrElse(Chauffeur.scala:719)\n",
       "\tat com.databricks.rpc.ServerBackend.$anonfun$internalReceive0$2(ServerBackend.scala:174)\n",
       "\tat com.databricks.rpc.ServerBackend$$anonfun$commonReceive$1.applyOrElse(ServerBackend.scala:200)\n",
       "\tat com.databricks.rpc.ServerBackend$$anonfun$commonReceive$1.applyOrElse(ServerBackend.scala:200)\n",
       "\tat com.databricks.rpc.ServerBackend.internalReceive0(ServerBackend.scala:171)\n",
       "\tat com.databricks.rpc.ServerBackend.$anonfun$internalReceive$1(ServerBackend.scala:147)\n",
       "\tat com.databricks.logging.UsageLogging.$anonfun$recordOperation$1(UsageLogging.scala:528)\n",
       "\tat com.databricks.logging.UsageLogging.executeThunkAndCaptureResultTags$1(UsageLogging.scala:633)\n",
       "\tat com.databricks.logging.UsageLogging.$anonfun$recordOperationWithResultTags$4(UsageLogging.scala:656)\n",
       "\tat com.databricks.logging.AttributionContextTracing.$anonfun$withAttributionContext$1(AttributionContextTracing.scala:48)\n",
       "\tat com.databricks.logging.AttributionContext$.$anonfun$withValue$1(AttributionContext.scala:276)\n",
       "\tat scala.util.DynamicVariable.withValue(DynamicVariable.scala:62)\n",
       "\tat com.databricks.logging.AttributionContext$.withValue(AttributionContext.scala:272)\n",
       "\tat com.databricks.logging.AttributionContextTracing.withAttributionContext(AttributionContextTracing.scala:46)\n",
       "\tat com.databricks.logging.AttributionContextTracing.withAttributionContext$(AttributionContextTracing.scala:43)\n",
       "\tat com.databricks.rpc.ServerBackend.withAttributionContext(ServerBackend.scala:22)\n",
       "\tat com.databricks.logging.AttributionContextTracing.withAttributionTags(AttributionContextTracing.scala:95)\n",
       "\tat com.databricks.logging.AttributionContextTracing.withAttributionTags$(AttributionContextTracing.scala:76)\n",
       "\tat com.databricks.rpc.ServerBackend.withAttributionTags(ServerBackend.scala:22)\n",
       "\tat com.databricks.logging.UsageLogging.recordOperationWithResultTags(UsageLogging.scala:628)\n",
       "\tat com.databricks.logging.UsageLogging.recordOperationWithResultTags$(UsageLogging.scala:537)\n",
       "\tat com.databricks.rpc.ServerBackend.recordOperationWithResultTags(ServerBackend.scala:22)\n",
       "\tat com.databricks.logging.UsageLogging.recordOperation(UsageLogging.scala:529)\n",
       "\tat com.databricks.logging.UsageLogging.recordOperation$(UsageLogging.scala:495)\n",
       "\tat com.databricks.rpc.ServerBackend.recordOperation(ServerBackend.scala:22)\n",
       "\tat com.databricks.rpc.ServerBackend.internalReceive(ServerBackend.scala:146)\n",
       "\tat com.databricks.rpc.JettyServer$RequestManager.handleRPC(JettyServer.scala:1021)\n",
       "\tat com.databricks.rpc.JettyServer$RequestManager.handleRequestAndRespond(JettyServer.scala:942)\n",
       "\tat com.databricks.rpc.JettyServer$RequestManager.$anonfun$handleHttp$6(JettyServer.scala:546)\n",
       "\tat com.databricks.rpc.JettyServer$RequestManager.$anonfun$handleHttp$6$adapted(JettyServer.scala:515)\n",
       "\tat com.databricks.logging.activity.ActivityContextFactory$.$anonfun$withActivityInternal$6(ActivityContextFactory.scala:545)\n",
       "\tat com.databricks.logging.AttributionContextTracing.$anonfun$withAttributionContext$1(AttributionContextTracing.scala:48)\n",
       "\tat com.databricks.logging.AttributionContext$.$anonfun$withValue$1(AttributionContext.scala:276)\n",
       "\tat scala.util.DynamicVariable.withValue(DynamicVariable.scala:62)\n",
       "\tat com.databricks.logging.AttributionContext$.withValue(AttributionContext.scala:272)\n",
       "\tat com.databricks.logging.AttributionContextTracing.withAttributionContext(AttributionContextTracing.scala:46)\n",
       "\tat com.databricks.logging.AttributionContextTracing.withAttributionContext$(AttributionContextTracing.scala:43)\n",
       "\tat com.databricks.logging.activity.ActivityContextFactory$.withAttributionContext(ActivityContextFactory.scala:48)\n",
       "\tat com.databricks.logging.activity.ActivityContextFactory$.$anonfun$withActivityInternal$3(ActivityContextFactory.scala:545)\n",
       "\tat com.databricks.context.integrity.IntegrityCheckContext$ThreadLocalStorage$.withValue(IntegrityCheckContext.scala:73)\n",
       "\tat com.databricks.logging.activity.ActivityContextFactory$.withActivityInternal(ActivityContextFactory.scala:523)\n",
       "\tat com.databricks.logging.activity.ActivityContextFactory$.withServiceRequestActivity(ActivityContextFactory.scala:175)\n",
       "\tat com.databricks.rpc.JettyServer$RequestManager.handleHttp(JettyServer.scala:515)\n",
       "\tat com.databricks.rpc.JettyServer$RequestManager.doPost(JettyServer.scala:405)\n",
       "\tat javax.servlet.http.HttpServlet.service(HttpServlet.java:665)\n",
       "\tat com.databricks.rpc.HttpServletWithPatch.service(HttpServletWithPatch.scala:33)\n",
       "\tat javax.servlet.http.HttpServlet.service(HttpServlet.java:750)\n",
       "\tat org.eclipse.jetty.servlet.ServletHolder.handle(ServletHolder.java:799)\n",
       "\tat org.eclipse.jetty.servlet.ServletHandler.doHandle(ServletHandler.java:554)\n",
       "\tat org.eclipse.jetty.server.handler.ScopedHandler.nextScope(ScopedHandler.java:190)\n",
       "\tat org.eclipse.jetty.servlet.ServletHandler.doScope(ServletHandler.java:505)\n",
       "\tat org.eclipse.jetty.server.handler.ScopedHandler.handle(ScopedHandler.java:141)\n",
       "\tat org.eclipse.jetty.server.handler.HandlerWrapper.handle(HandlerWrapper.java:127)\n",
       "\tat org.eclipse.jetty.server.Server.handle(Server.java:516)\n",
       "\tat org.eclipse.jetty.server.HttpChannel.lambda$handle$1(HttpChannel.java:487)\n",
       "\tat org.eclipse.jetty.server.HttpChannel.dispatch(HttpChannel.java:732)\n",
       "\tat org.eclipse.jetty.server.HttpChannel.handle(HttpChannel.java:479)\n",
       "\tat org.eclipse.jetty.server.HttpConnection.onFillable(HttpConnection.java:277)\n",
       "\tat org.eclipse.jetty.io.AbstractConnection$ReadCallback.succeeded(AbstractConnection.java:311)\n",
       "\tat org.eclipse.jetty.io.FillInterest.fillable(FillInterest.java:105)\n",
       "\tat org.eclipse.jetty.io.ssl.SslConnection$DecryptedEndPoint.onFillable(SslConnection.java:555)\n",
       "\tat org.eclipse.jetty.io.ssl.SslConnection.onFillable(SslConnection.java:410)\n",
       "\tat org.eclipse.jetty.io.ssl.SslConnection$2.succeeded(SslConnection.java:164)\n",
       "\tat org.eclipse.jetty.io.FillInterest.fillable(FillInterest.java:105)\n",
       "\tat org.eclipse.jetty.io.ChannelEndPoint$1.run(ChannelEndPoint.java:104)\n",
       "\tat org.eclipse.jetty.util.thread.strategy.EatWhatYouKill.runTask(EatWhatYouKill.java:338)\n",
       "\tat org.eclipse.jetty.util.thread.strategy.EatWhatYouKill.doProduce(EatWhatYouKill.java:315)\n",
       "\tat org.eclipse.jetty.util.thread.strategy.EatWhatYouKill.tryProduce(EatWhatYouKill.java:173)\n",
       "\tat org.eclipse.jetty.util.thread.strategy.EatWhatYouKill.run(EatWhatYouKill.java:131)\n",
       "\tat org.eclipse.jetty.util.thread.ReservedThreadExecutor$ReservedThread.run(ReservedThreadExecutor.java:409)\n",
       "\tat com.databricks.rpc.InstrumentedQueuedThreadPool$$anon$1.$anonfun$run$2(InstrumentedQueuedThreadPool.scala:105)\n",
       "\tat scala.runtime.java8.JFunction0$mcV$sp.apply(JFunction0$mcV$sp.java:23)\n",
       "\tat com.databricks.logging.AttributionContextTracing.$anonfun$withAttributionContext$1(AttributionContextTracing.scala:48)\n",
       "\tat com.databricks.logging.AttributionContext$.$anonfun$withValue$1(AttributionContext.scala:276)\n",
       "\tat scala.util.DynamicVariable.withValue(DynamicVariable.scala:62)\n",
       "\tat com.databricks.logging.AttributionContext$.withValue(AttributionContext.scala:272)\n",
       "\tat com.databricks.logging.AttributionContextTracing.withAttributionContext(AttributionContextTracing.scala:46)\n",
       "\tat com.databricks.logging.AttributionContextTracing.withAttributionContext$(AttributionContextTracing.scala:43)\n",
       "\tat com.databricks.rpc.InstrumentedQueuedThreadPool.withAttributionContext(InstrumentedQueuedThreadPool.scala:45)\n",
       "\tat com.databricks.rpc.InstrumentedQueuedThreadPool$$anon$1.$anonfun$run$1(InstrumentedQueuedThreadPool.scala:105)\n",
       "\tat scala.runtime.java8.JFunction0$mcV$sp.apply(JFunction0$mcV$sp.java:23)\n",
       "\tat com.databricks.instrumentation.QueuedThreadPoolInstrumenter.trackActiveThreads(QueuedThreadPoolInstrumenter.scala:110)\n",
       "\tat com.databricks.instrumentation.QueuedThreadPoolInstrumenter.trackActiveThreads$(QueuedThreadPoolInstrumenter.scala:107)\n",
       "\tat com.databricks.rpc.InstrumentedQueuedThreadPool.trackActiveThreads(InstrumentedQueuedThreadPool.scala:45)\n",
       "\tat com.databricks.rpc.InstrumentedQueuedThreadPool$$anon$1.run(InstrumentedQueuedThreadPool.scala:87)\n",
       "\tat org.eclipse.jetty.util.thread.QueuedThreadPool.runJob(QueuedThreadPool.java:883)\n",
       "\tat org.eclipse.jetty.util.thread.QueuedThreadPool$Runner.run(QueuedThreadPool.java:1034)\n",
       "\tat java.lang.Thread.run(Thread.java:750)"
      ]
     },
     "metadata": {
      "application/vnd.databricks.v1+output": {
       "addedWidgets": {},
       "arguments": {},
       "datasetInfos": [],
       "jupyterProps": null,
       "metadata": {
        "errorSummary": "Command skipped"
       },
       "removedWidgets": [],
       "sqlProps": null,
       "stackFrames": [
        "com.databricks.backend.common.rpc.CommandSkippedException",
        "\tat com.databricks.spark.chauffeur.SequenceExecutionState.$anonfun$cancel$3(SequenceExecutionState.scala:138)",
        "\tat com.databricks.spark.chauffeur.SequenceExecutionState.$anonfun$cancel$3$adapted(SequenceExecutionState.scala:133)",
        "\tat scala.collection.immutable.Range.foreach(Range.scala:158)",
        "\tat com.databricks.spark.chauffeur.SequenceExecutionState.cancel(SequenceExecutionState.scala:133)",
        "\tat com.databricks.spark.chauffeur.ExecContextState.cancelRunningSequence(ExecContextState.scala:728)",
        "\tat com.databricks.spark.chauffeur.ExecContextState.$anonfun$cancel$1(ExecContextState.scala:446)",
        "\tat scala.Option.getOrElse(Option.scala:189)",
        "\tat com.databricks.spark.chauffeur.ExecContextState.cancel(ExecContextState.scala:446)",
        "\tat com.databricks.spark.chauffeur.ExecutionContextManagerV1.cancelExecution(ExecutionContextManagerV1.scala:464)",
        "\tat com.databricks.spark.chauffeur.ChauffeurState.$anonfun$process$1(ChauffeurState.scala:571)",
        "\tat com.databricks.logging.UsageLogging.$anonfun$recordOperation$1(UsageLogging.scala:528)",
        "\tat com.databricks.logging.UsageLogging.executeThunkAndCaptureResultTags$1(UsageLogging.scala:633)",
        "\tat com.databricks.logging.UsageLogging.$anonfun$recordOperationWithResultTags$4(UsageLogging.scala:656)",
        "\tat com.databricks.logging.AttributionContextTracing.$anonfun$withAttributionContext$1(AttributionContextTracing.scala:48)",
        "\tat com.databricks.logging.AttributionContext$.$anonfun$withValue$1(AttributionContext.scala:276)",
        "\tat scala.util.DynamicVariable.withValue(DynamicVariable.scala:62)",
        "\tat com.databricks.logging.AttributionContext$.withValue(AttributionContext.scala:272)",
        "\tat com.databricks.logging.AttributionContextTracing.withAttributionContext(AttributionContextTracing.scala:46)",
        "\tat com.databricks.logging.AttributionContextTracing.withAttributionContext$(AttributionContextTracing.scala:43)",
        "\tat com.databricks.spark.chauffeur.ChauffeurState.withAttributionContext(ChauffeurState.scala:51)",
        "\tat com.databricks.logging.AttributionContextTracing.withAttributionTags(AttributionContextTracing.scala:95)",
        "\tat com.databricks.logging.AttributionContextTracing.withAttributionTags$(AttributionContextTracing.scala:76)",
        "\tat com.databricks.spark.chauffeur.ChauffeurState.withAttributionTags(ChauffeurState.scala:51)",
        "\tat com.databricks.logging.UsageLogging.recordOperationWithResultTags(UsageLogging.scala:628)",
        "\tat com.databricks.logging.UsageLogging.recordOperationWithResultTags$(UsageLogging.scala:537)",
        "\tat com.databricks.spark.chauffeur.ChauffeurState.recordOperationWithResultTags(ChauffeurState.scala:51)",
        "\tat com.databricks.logging.UsageLogging.recordOperation(UsageLogging.scala:529)",
        "\tat com.databricks.logging.UsageLogging.recordOperation$(UsageLogging.scala:495)",
        "\tat com.databricks.spark.chauffeur.ChauffeurState.recordOperation(ChauffeurState.scala:51)",
        "\tat com.databricks.spark.chauffeur.ChauffeurState.process(ChauffeurState.scala:553)",
        "\tat com.databricks.spark.chauffeur.Chauffeur$$anon$1$$anonfun$receive$1.handleDriverRequest$1(Chauffeur.scala:846)",
        "\tat com.databricks.spark.chauffeur.Chauffeur$$anon$1$$anonfun$receive$1.$anonfun$applyOrElse$5(Chauffeur.scala:872)",
        "\tat com.databricks.logging.UsageLogging.executeThunkAndCaptureResultTags$1(UsageLogging.scala:633)",
        "\tat com.databricks.logging.UsageLogging.$anonfun$recordOperationWithResultTags$4(UsageLogging.scala:656)",
        "\tat com.databricks.logging.AttributionContextTracing.$anonfun$withAttributionContext$1(AttributionContextTracing.scala:48)",
        "\tat com.databricks.logging.AttributionContext$.$anonfun$withValue$1(AttributionContext.scala:276)",
        "\tat scala.util.DynamicVariable.withValue(DynamicVariable.scala:62)",
        "\tat com.databricks.logging.AttributionContext$.withValue(AttributionContext.scala:272)",
        "\tat com.databricks.logging.AttributionContextTracing.withAttributionContext(AttributionContextTracing.scala:46)",
        "\tat com.databricks.logging.AttributionContextTracing.withAttributionContext$(AttributionContextTracing.scala:43)",
        "\tat com.databricks.rpc.ServerBackend.withAttributionContext(ServerBackend.scala:22)",
        "\tat com.databricks.logging.AttributionContextTracing.withAttributionTags(AttributionContextTracing.scala:95)",
        "\tat com.databricks.logging.AttributionContextTracing.withAttributionTags$(AttributionContextTracing.scala:76)",
        "\tat com.databricks.rpc.ServerBackend.withAttributionTags(ServerBackend.scala:22)",
        "\tat com.databricks.logging.UsageLogging.recordOperationWithResultTags(UsageLogging.scala:628)",
        "\tat com.databricks.logging.UsageLogging.recordOperationWithResultTags$(UsageLogging.scala:537)",
        "\tat com.databricks.rpc.ServerBackend.recordOperationWithResultTags(ServerBackend.scala:22)",
        "\tat com.databricks.spark.chauffeur.Chauffeur$$anon$1$$anonfun$receive$1.handleDriverRequestWithUsageLogging$1(Chauffeur.scala:871)",
        "\tat com.databricks.spark.chauffeur.Chauffeur$$anon$1$$anonfun$receive$1.applyOrElse(Chauffeur.scala:926)",
        "\tat com.databricks.spark.chauffeur.Chauffeur$$anon$1$$anonfun$receive$1.applyOrElse(Chauffeur.scala:719)",
        "\tat com.databricks.rpc.ServerBackend.$anonfun$internalReceive0$2(ServerBackend.scala:174)",
        "\tat com.databricks.rpc.ServerBackend$$anonfun$commonReceive$1.applyOrElse(ServerBackend.scala:200)",
        "\tat com.databricks.rpc.ServerBackend$$anonfun$commonReceive$1.applyOrElse(ServerBackend.scala:200)",
        "\tat com.databricks.rpc.ServerBackend.internalReceive0(ServerBackend.scala:171)",
        "\tat com.databricks.rpc.ServerBackend.$anonfun$internalReceive$1(ServerBackend.scala:147)",
        "\tat com.databricks.logging.UsageLogging.$anonfun$recordOperation$1(UsageLogging.scala:528)",
        "\tat com.databricks.logging.UsageLogging.executeThunkAndCaptureResultTags$1(UsageLogging.scala:633)",
        "\tat com.databricks.logging.UsageLogging.$anonfun$recordOperationWithResultTags$4(UsageLogging.scala:656)",
        "\tat com.databricks.logging.AttributionContextTracing.$anonfun$withAttributionContext$1(AttributionContextTracing.scala:48)",
        "\tat com.databricks.logging.AttributionContext$.$anonfun$withValue$1(AttributionContext.scala:276)",
        "\tat scala.util.DynamicVariable.withValue(DynamicVariable.scala:62)",
        "\tat com.databricks.logging.AttributionContext$.withValue(AttributionContext.scala:272)",
        "\tat com.databricks.logging.AttributionContextTracing.withAttributionContext(AttributionContextTracing.scala:46)",
        "\tat com.databricks.logging.AttributionContextTracing.withAttributionContext$(AttributionContextTracing.scala:43)",
        "\tat com.databricks.rpc.ServerBackend.withAttributionContext(ServerBackend.scala:22)",
        "\tat com.databricks.logging.AttributionContextTracing.withAttributionTags(AttributionContextTracing.scala:95)",
        "\tat com.databricks.logging.AttributionContextTracing.withAttributionTags$(AttributionContextTracing.scala:76)",
        "\tat com.databricks.rpc.ServerBackend.withAttributionTags(ServerBackend.scala:22)",
        "\tat com.databricks.logging.UsageLogging.recordOperationWithResultTags(UsageLogging.scala:628)",
        "\tat com.databricks.logging.UsageLogging.recordOperationWithResultTags$(UsageLogging.scala:537)",
        "\tat com.databricks.rpc.ServerBackend.recordOperationWithResultTags(ServerBackend.scala:22)",
        "\tat com.databricks.logging.UsageLogging.recordOperation(UsageLogging.scala:529)",
        "\tat com.databricks.logging.UsageLogging.recordOperation$(UsageLogging.scala:495)",
        "\tat com.databricks.rpc.ServerBackend.recordOperation(ServerBackend.scala:22)",
        "\tat com.databricks.rpc.ServerBackend.internalReceive(ServerBackend.scala:146)",
        "\tat com.databricks.rpc.JettyServer$RequestManager.handleRPC(JettyServer.scala:1021)",
        "\tat com.databricks.rpc.JettyServer$RequestManager.handleRequestAndRespond(JettyServer.scala:942)",
        "\tat com.databricks.rpc.JettyServer$RequestManager.$anonfun$handleHttp$6(JettyServer.scala:546)",
        "\tat com.databricks.rpc.JettyServer$RequestManager.$anonfun$handleHttp$6$adapted(JettyServer.scala:515)",
        "\tat com.databricks.logging.activity.ActivityContextFactory$.$anonfun$withActivityInternal$6(ActivityContextFactory.scala:545)",
        "\tat com.databricks.logging.AttributionContextTracing.$anonfun$withAttributionContext$1(AttributionContextTracing.scala:48)",
        "\tat com.databricks.logging.AttributionContext$.$anonfun$withValue$1(AttributionContext.scala:276)",
        "\tat scala.util.DynamicVariable.withValue(DynamicVariable.scala:62)",
        "\tat com.databricks.logging.AttributionContext$.withValue(AttributionContext.scala:272)",
        "\tat com.databricks.logging.AttributionContextTracing.withAttributionContext(AttributionContextTracing.scala:46)",
        "\tat com.databricks.logging.AttributionContextTracing.withAttributionContext$(AttributionContextTracing.scala:43)",
        "\tat com.databricks.logging.activity.ActivityContextFactory$.withAttributionContext(ActivityContextFactory.scala:48)",
        "\tat com.databricks.logging.activity.ActivityContextFactory$.$anonfun$withActivityInternal$3(ActivityContextFactory.scala:545)",
        "\tat com.databricks.context.integrity.IntegrityCheckContext$ThreadLocalStorage$.withValue(IntegrityCheckContext.scala:73)",
        "\tat com.databricks.logging.activity.ActivityContextFactory$.withActivityInternal(ActivityContextFactory.scala:523)",
        "\tat com.databricks.logging.activity.ActivityContextFactory$.withServiceRequestActivity(ActivityContextFactory.scala:175)",
        "\tat com.databricks.rpc.JettyServer$RequestManager.handleHttp(JettyServer.scala:515)",
        "\tat com.databricks.rpc.JettyServer$RequestManager.doPost(JettyServer.scala:405)",
        "\tat javax.servlet.http.HttpServlet.service(HttpServlet.java:665)",
        "\tat com.databricks.rpc.HttpServletWithPatch.service(HttpServletWithPatch.scala:33)",
        "\tat javax.servlet.http.HttpServlet.service(HttpServlet.java:750)",
        "\tat org.eclipse.jetty.servlet.ServletHolder.handle(ServletHolder.java:799)",
        "\tat org.eclipse.jetty.servlet.ServletHandler.doHandle(ServletHandler.java:554)",
        "\tat org.eclipse.jetty.server.handler.ScopedHandler.nextScope(ScopedHandler.java:190)",
        "\tat org.eclipse.jetty.servlet.ServletHandler.doScope(ServletHandler.java:505)",
        "\tat org.eclipse.jetty.server.handler.ScopedHandler.handle(ScopedHandler.java:141)",
        "\tat org.eclipse.jetty.server.handler.HandlerWrapper.handle(HandlerWrapper.java:127)",
        "\tat org.eclipse.jetty.server.Server.handle(Server.java:516)",
        "\tat org.eclipse.jetty.server.HttpChannel.lambda$handle$1(HttpChannel.java:487)",
        "\tat org.eclipse.jetty.server.HttpChannel.dispatch(HttpChannel.java:732)",
        "\tat org.eclipse.jetty.server.HttpChannel.handle(HttpChannel.java:479)",
        "\tat org.eclipse.jetty.server.HttpConnection.onFillable(HttpConnection.java:277)",
        "\tat org.eclipse.jetty.io.AbstractConnection$ReadCallback.succeeded(AbstractConnection.java:311)",
        "\tat org.eclipse.jetty.io.FillInterest.fillable(FillInterest.java:105)",
        "\tat org.eclipse.jetty.io.ssl.SslConnection$DecryptedEndPoint.onFillable(SslConnection.java:555)",
        "\tat org.eclipse.jetty.io.ssl.SslConnection.onFillable(SslConnection.java:410)",
        "\tat org.eclipse.jetty.io.ssl.SslConnection$2.succeeded(SslConnection.java:164)",
        "\tat org.eclipse.jetty.io.FillInterest.fillable(FillInterest.java:105)",
        "\tat org.eclipse.jetty.io.ChannelEndPoint$1.run(ChannelEndPoint.java:104)",
        "\tat org.eclipse.jetty.util.thread.strategy.EatWhatYouKill.runTask(EatWhatYouKill.java:338)",
        "\tat org.eclipse.jetty.util.thread.strategy.EatWhatYouKill.doProduce(EatWhatYouKill.java:315)",
        "\tat org.eclipse.jetty.util.thread.strategy.EatWhatYouKill.tryProduce(EatWhatYouKill.java:173)",
        "\tat org.eclipse.jetty.util.thread.strategy.EatWhatYouKill.run(EatWhatYouKill.java:131)",
        "\tat org.eclipse.jetty.util.thread.ReservedThreadExecutor$ReservedThread.run(ReservedThreadExecutor.java:409)",
        "\tat com.databricks.rpc.InstrumentedQueuedThreadPool$$anon$1.$anonfun$run$2(InstrumentedQueuedThreadPool.scala:105)",
        "\tat scala.runtime.java8.JFunction0$mcV$sp.apply(JFunction0$mcV$sp.java:23)",
        "\tat com.databricks.logging.AttributionContextTracing.$anonfun$withAttributionContext$1(AttributionContextTracing.scala:48)",
        "\tat com.databricks.logging.AttributionContext$.$anonfun$withValue$1(AttributionContext.scala:276)",
        "\tat scala.util.DynamicVariable.withValue(DynamicVariable.scala:62)",
        "\tat com.databricks.logging.AttributionContext$.withValue(AttributionContext.scala:272)",
        "\tat com.databricks.logging.AttributionContextTracing.withAttributionContext(AttributionContextTracing.scala:46)",
        "\tat com.databricks.logging.AttributionContextTracing.withAttributionContext$(AttributionContextTracing.scala:43)",
        "\tat com.databricks.rpc.InstrumentedQueuedThreadPool.withAttributionContext(InstrumentedQueuedThreadPool.scala:45)",
        "\tat com.databricks.rpc.InstrumentedQueuedThreadPool$$anon$1.$anonfun$run$1(InstrumentedQueuedThreadPool.scala:105)",
        "\tat scala.runtime.java8.JFunction0$mcV$sp.apply(JFunction0$mcV$sp.java:23)",
        "\tat com.databricks.instrumentation.QueuedThreadPoolInstrumenter.trackActiveThreads(QueuedThreadPoolInstrumenter.scala:110)",
        "\tat com.databricks.instrumentation.QueuedThreadPoolInstrumenter.trackActiveThreads$(QueuedThreadPoolInstrumenter.scala:107)",
        "\tat com.databricks.rpc.InstrumentedQueuedThreadPool.trackActiveThreads(InstrumentedQueuedThreadPool.scala:45)",
        "\tat com.databricks.rpc.InstrumentedQueuedThreadPool$$anon$1.run(InstrumentedQueuedThreadPool.scala:87)",
        "\tat org.eclipse.jetty.util.thread.QueuedThreadPool.runJob(QueuedThreadPool.java:883)",
        "\tat org.eclipse.jetty.util.thread.QueuedThreadPool$Runner.run(QueuedThreadPool.java:1034)",
        "\tat java.lang.Thread.run(Thread.java:750)"
       ],
       "type": "baseError"
      }
     },
     "output_type": "display_data"
    }
   ],
   "source": [
    "filtered_df =  filter_dataframe(AR50_DF, filter_obj)\n",
    "filtered_df.display()\n",
    "\n",
    "map_user2 = SedonaKepler.create_map()\n",
    "\n",
    "# Add the cleaned DataFrame to the map, with an optional layer name\n",
    "map_user2.add_data(filtered_df.toPandas(), \"filtered\")\n",
    "map_user2"
   ]
  },
  {
   "cell_type": "markdown",
   "metadata": {
    "application/vnd.databricks.v1+cell": {
     "cellMetadata": {
      "byteLimit": 2048000,
      "rowLimit": 10000
     },
     "inputWidgets": {},
     "nuid": "eb510063-30aa-467a-96ed-dbac28a4de68",
     "showTitle": false,
     "tableResultSettingsMap": {},
     "title": ""
    }
   },
   "source": [
    "\n",
    "## Henting av arealtyper innenfor buffer rundt koordinat \n",
    "\n",
    "Brukerhistorie \n",
    "\n",
    "Som miljøkonsulent ønsker jeg å kunne angi koordinater med buffer for å se hvilke typer vegetasjon eller arealtyper som finnes innenfor det avgrensede området, slik at jeg kan vurdere påvirkning på naturmiljøet i et utbyggingsprosjekt. \n",
    "\n",
    "Akseptkriterier: \n",
    "- Bruker skal kunne angi koordinater og buffer-radius.  \n",
    "- Systemet skal returnere en oversikt over forekomster av ulike arealtyper.  \n",
    "- Brukeren skal kunne se resultatene både som liste og visuelt på kart. \n",
    "\n",
    "Input \n",
    "- Koordinater (f.eks. 58.1467, 7.9956)  \n",
    "- En radius i meter (f.eks. 1000) \n",
    "\n",
    "Output: \n",
    "- Tabell med arealtyper  \n",
    "- Kart med arealfordeling i området \n"
   ]
  },
  {
   "cell_type": "code",
   "execution_count": 0,
   "metadata": {
    "application/vnd.databricks.v1+cell": {
     "cellMetadata": {
      "byteLimit": 2048000,
      "rowLimit": 10000
     },
     "inputWidgets": {},
     "nuid": "46ebf818-b04f-42d5-a37d-7de9751269ea",
     "showTitle": false,
     "tableResultSettingsMap": {},
     "title": ""
    }
   },
   "outputs": [
    {
     "output_type": "display_data",
     "data": {
      "text/plain": [
       "com.databricks.backend.common.rpc.CommandSkippedException\n",
       "\tat com.databricks.spark.chauffeur.SequenceExecutionState.$anonfun$cancel$3(SequenceExecutionState.scala:138)\n",
       "\tat com.databricks.spark.chauffeur.SequenceExecutionState.$anonfun$cancel$3$adapted(SequenceExecutionState.scala:133)\n",
       "\tat scala.collection.immutable.Range.foreach(Range.scala:158)\n",
       "\tat com.databricks.spark.chauffeur.SequenceExecutionState.cancel(SequenceExecutionState.scala:133)\n",
       "\tat com.databricks.spark.chauffeur.ExecContextState.cancelRunningSequence(ExecContextState.scala:728)\n",
       "\tat com.databricks.spark.chauffeur.ExecContextState.$anonfun$cancel$1(ExecContextState.scala:446)\n",
       "\tat scala.Option.getOrElse(Option.scala:189)\n",
       "\tat com.databricks.spark.chauffeur.ExecContextState.cancel(ExecContextState.scala:446)\n",
       "\tat com.databricks.spark.chauffeur.ExecutionContextManagerV1.cancelExecution(ExecutionContextManagerV1.scala:464)\n",
       "\tat com.databricks.spark.chauffeur.ChauffeurState.$anonfun$process$1(ChauffeurState.scala:571)\n",
       "\tat com.databricks.logging.UsageLogging.$anonfun$recordOperation$1(UsageLogging.scala:528)\n",
       "\tat com.databricks.logging.UsageLogging.executeThunkAndCaptureResultTags$1(UsageLogging.scala:633)\n",
       "\tat com.databricks.logging.UsageLogging.$anonfun$recordOperationWithResultTags$4(UsageLogging.scala:656)\n",
       "\tat com.databricks.logging.AttributionContextTracing.$anonfun$withAttributionContext$1(AttributionContextTracing.scala:48)\n",
       "\tat com.databricks.logging.AttributionContext$.$anonfun$withValue$1(AttributionContext.scala:276)\n",
       "\tat scala.util.DynamicVariable.withValue(DynamicVariable.scala:62)\n",
       "\tat com.databricks.logging.AttributionContext$.withValue(AttributionContext.scala:272)\n",
       "\tat com.databricks.logging.AttributionContextTracing.withAttributionContext(AttributionContextTracing.scala:46)\n",
       "\tat com.databricks.logging.AttributionContextTracing.withAttributionContext$(AttributionContextTracing.scala:43)\n",
       "\tat com.databricks.spark.chauffeur.ChauffeurState.withAttributionContext(ChauffeurState.scala:51)\n",
       "\tat com.databricks.logging.AttributionContextTracing.withAttributionTags(AttributionContextTracing.scala:95)\n",
       "\tat com.databricks.logging.AttributionContextTracing.withAttributionTags$(AttributionContextTracing.scala:76)\n",
       "\tat com.databricks.spark.chauffeur.ChauffeurState.withAttributionTags(ChauffeurState.scala:51)\n",
       "\tat com.databricks.logging.UsageLogging.recordOperationWithResultTags(UsageLogging.scala:628)\n",
       "\tat com.databricks.logging.UsageLogging.recordOperationWithResultTags$(UsageLogging.scala:537)\n",
       "\tat com.databricks.spark.chauffeur.ChauffeurState.recordOperationWithResultTags(ChauffeurState.scala:51)\n",
       "\tat com.databricks.logging.UsageLogging.recordOperation(UsageLogging.scala:529)\n",
       "\tat com.databricks.logging.UsageLogging.recordOperation$(UsageLogging.scala:495)\n",
       "\tat com.databricks.spark.chauffeur.ChauffeurState.recordOperation(ChauffeurState.scala:51)\n",
       "\tat com.databricks.spark.chauffeur.ChauffeurState.process(ChauffeurState.scala:553)\n",
       "\tat com.databricks.spark.chauffeur.Chauffeur$$anon$1$$anonfun$receive$1.handleDriverRequest$1(Chauffeur.scala:846)\n",
       "\tat com.databricks.spark.chauffeur.Chauffeur$$anon$1$$anonfun$receive$1.$anonfun$applyOrElse$5(Chauffeur.scala:872)\n",
       "\tat com.databricks.logging.UsageLogging.executeThunkAndCaptureResultTags$1(UsageLogging.scala:633)\n",
       "\tat com.databricks.logging.UsageLogging.$anonfun$recordOperationWithResultTags$4(UsageLogging.scala:656)\n",
       "\tat com.databricks.logging.AttributionContextTracing.$anonfun$withAttributionContext$1(AttributionContextTracing.scala:48)\n",
       "\tat com.databricks.logging.AttributionContext$.$anonfun$withValue$1(AttributionContext.scala:276)\n",
       "\tat scala.util.DynamicVariable.withValue(DynamicVariable.scala:62)\n",
       "\tat com.databricks.logging.AttributionContext$.withValue(AttributionContext.scala:272)\n",
       "\tat com.databricks.logging.AttributionContextTracing.withAttributionContext(AttributionContextTracing.scala:46)\n",
       "\tat com.databricks.logging.AttributionContextTracing.withAttributionContext$(AttributionContextTracing.scala:43)\n",
       "\tat com.databricks.rpc.ServerBackend.withAttributionContext(ServerBackend.scala:22)\n",
       "\tat com.databricks.logging.AttributionContextTracing.withAttributionTags(AttributionContextTracing.scala:95)\n",
       "\tat com.databricks.logging.AttributionContextTracing.withAttributionTags$(AttributionContextTracing.scala:76)\n",
       "\tat com.databricks.rpc.ServerBackend.withAttributionTags(ServerBackend.scala:22)\n",
       "\tat com.databricks.logging.UsageLogging.recordOperationWithResultTags(UsageLogging.scala:628)\n",
       "\tat com.databricks.logging.UsageLogging.recordOperationWithResultTags$(UsageLogging.scala:537)\n",
       "\tat com.databricks.rpc.ServerBackend.recordOperationWithResultTags(ServerBackend.scala:22)\n",
       "\tat com.databricks.spark.chauffeur.Chauffeur$$anon$1$$anonfun$receive$1.handleDriverRequestWithUsageLogging$1(Chauffeur.scala:871)\n",
       "\tat com.databricks.spark.chauffeur.Chauffeur$$anon$1$$anonfun$receive$1.applyOrElse(Chauffeur.scala:926)\n",
       "\tat com.databricks.spark.chauffeur.Chauffeur$$anon$1$$anonfun$receive$1.applyOrElse(Chauffeur.scala:719)\n",
       "\tat com.databricks.rpc.ServerBackend.$anonfun$internalReceive0$2(ServerBackend.scala:174)\n",
       "\tat com.databricks.rpc.ServerBackend$$anonfun$commonReceive$1.applyOrElse(ServerBackend.scala:200)\n",
       "\tat com.databricks.rpc.ServerBackend$$anonfun$commonReceive$1.applyOrElse(ServerBackend.scala:200)\n",
       "\tat com.databricks.rpc.ServerBackend.internalReceive0(ServerBackend.scala:171)\n",
       "\tat com.databricks.rpc.ServerBackend.$anonfun$internalReceive$1(ServerBackend.scala:147)\n",
       "\tat com.databricks.logging.UsageLogging.$anonfun$recordOperation$1(UsageLogging.scala:528)\n",
       "\tat com.databricks.logging.UsageLogging.executeThunkAndCaptureResultTags$1(UsageLogging.scala:633)\n",
       "\tat com.databricks.logging.UsageLogging.$anonfun$recordOperationWithResultTags$4(UsageLogging.scala:656)\n",
       "\tat com.databricks.logging.AttributionContextTracing.$anonfun$withAttributionContext$1(AttributionContextTracing.scala:48)\n",
       "\tat com.databricks.logging.AttributionContext$.$anonfun$withValue$1(AttributionContext.scala:276)\n",
       "\tat scala.util.DynamicVariable.withValue(DynamicVariable.scala:62)\n",
       "\tat com.databricks.logging.AttributionContext$.withValue(AttributionContext.scala:272)\n",
       "\tat com.databricks.logging.AttributionContextTracing.withAttributionContext(AttributionContextTracing.scala:46)\n",
       "\tat com.databricks.logging.AttributionContextTracing.withAttributionContext$(AttributionContextTracing.scala:43)\n",
       "\tat com.databricks.rpc.ServerBackend.withAttributionContext(ServerBackend.scala:22)\n",
       "\tat com.databricks.logging.AttributionContextTracing.withAttributionTags(AttributionContextTracing.scala:95)\n",
       "\tat com.databricks.logging.AttributionContextTracing.withAttributionTags$(AttributionContextTracing.scala:76)\n",
       "\tat com.databricks.rpc.ServerBackend.withAttributionTags(ServerBackend.scala:22)\n",
       "\tat com.databricks.logging.UsageLogging.recordOperationWithResultTags(UsageLogging.scala:628)\n",
       "\tat com.databricks.logging.UsageLogging.recordOperationWithResultTags$(UsageLogging.scala:537)\n",
       "\tat com.databricks.rpc.ServerBackend.recordOperationWithResultTags(ServerBackend.scala:22)\n",
       "\tat com.databricks.logging.UsageLogging.recordOperation(UsageLogging.scala:529)\n",
       "\tat com.databricks.logging.UsageLogging.recordOperation$(UsageLogging.scala:495)\n",
       "\tat com.databricks.rpc.ServerBackend.recordOperation(ServerBackend.scala:22)\n",
       "\tat com.databricks.rpc.ServerBackend.internalReceive(ServerBackend.scala:146)\n",
       "\tat com.databricks.rpc.JettyServer$RequestManager.handleRPC(JettyServer.scala:1021)\n",
       "\tat com.databricks.rpc.JettyServer$RequestManager.handleRequestAndRespond(JettyServer.scala:942)\n",
       "\tat com.databricks.rpc.JettyServer$RequestManager.$anonfun$handleHttp$6(JettyServer.scala:546)\n",
       "\tat com.databricks.rpc.JettyServer$RequestManager.$anonfun$handleHttp$6$adapted(JettyServer.scala:515)\n",
       "\tat com.databricks.logging.activity.ActivityContextFactory$.$anonfun$withActivityInternal$6(ActivityContextFactory.scala:545)\n",
       "\tat com.databricks.logging.AttributionContextTracing.$anonfun$withAttributionContext$1(AttributionContextTracing.scala:48)\n",
       "\tat com.databricks.logging.AttributionContext$.$anonfun$withValue$1(AttributionContext.scala:276)\n",
       "\tat scala.util.DynamicVariable.withValue(DynamicVariable.scala:62)\n",
       "\tat com.databricks.logging.AttributionContext$.withValue(AttributionContext.scala:272)\n",
       "\tat com.databricks.logging.AttributionContextTracing.withAttributionContext(AttributionContextTracing.scala:46)\n",
       "\tat com.databricks.logging.AttributionContextTracing.withAttributionContext$(AttributionContextTracing.scala:43)\n",
       "\tat com.databricks.logging.activity.ActivityContextFactory$.withAttributionContext(ActivityContextFactory.scala:48)\n",
       "\tat com.databricks.logging.activity.ActivityContextFactory$.$anonfun$withActivityInternal$3(ActivityContextFactory.scala:545)\n",
       "\tat com.databricks.context.integrity.IntegrityCheckContext$ThreadLocalStorage$.withValue(IntegrityCheckContext.scala:73)\n",
       "\tat com.databricks.logging.activity.ActivityContextFactory$.withActivityInternal(ActivityContextFactory.scala:523)\n",
       "\tat com.databricks.logging.activity.ActivityContextFactory$.withServiceRequestActivity(ActivityContextFactory.scala:175)\n",
       "\tat com.databricks.rpc.JettyServer$RequestManager.handleHttp(JettyServer.scala:515)\n",
       "\tat com.databricks.rpc.JettyServer$RequestManager.doPost(JettyServer.scala:405)\n",
       "\tat javax.servlet.http.HttpServlet.service(HttpServlet.java:665)\n",
       "\tat com.databricks.rpc.HttpServletWithPatch.service(HttpServletWithPatch.scala:33)\n",
       "\tat javax.servlet.http.HttpServlet.service(HttpServlet.java:750)\n",
       "\tat org.eclipse.jetty.servlet.ServletHolder.handle(ServletHolder.java:799)\n",
       "\tat org.eclipse.jetty.servlet.ServletHandler.doHandle(ServletHandler.java:554)\n",
       "\tat org.eclipse.jetty.server.handler.ScopedHandler.nextScope(ScopedHandler.java:190)\n",
       "\tat org.eclipse.jetty.servlet.ServletHandler.doScope(ServletHandler.java:505)\n",
       "\tat org.eclipse.jetty.server.handler.ScopedHandler.handle(ScopedHandler.java:141)\n",
       "\tat org.eclipse.jetty.server.handler.HandlerWrapper.handle(HandlerWrapper.java:127)\n",
       "\tat org.eclipse.jetty.server.Server.handle(Server.java:516)\n",
       "\tat org.eclipse.jetty.server.HttpChannel.lambda$handle$1(HttpChannel.java:487)\n",
       "\tat org.eclipse.jetty.server.HttpChannel.dispatch(HttpChannel.java:732)\n",
       "\tat org.eclipse.jetty.server.HttpChannel.handle(HttpChannel.java:479)\n",
       "\tat org.eclipse.jetty.server.HttpConnection.onFillable(HttpConnection.java:277)\n",
       "\tat org.eclipse.jetty.io.AbstractConnection$ReadCallback.succeeded(AbstractConnection.java:311)\n",
       "\tat org.eclipse.jetty.io.FillInterest.fillable(FillInterest.java:105)\n",
       "\tat org.eclipse.jetty.io.ssl.SslConnection$DecryptedEndPoint.onFillable(SslConnection.java:555)\n",
       "\tat org.eclipse.jetty.io.ssl.SslConnection.onFillable(SslConnection.java:410)\n",
       "\tat org.eclipse.jetty.io.ssl.SslConnection$2.succeeded(SslConnection.java:164)\n",
       "\tat org.eclipse.jetty.io.FillInterest.fillable(FillInterest.java:105)\n",
       "\tat org.eclipse.jetty.io.ChannelEndPoint$1.run(ChannelEndPoint.java:104)\n",
       "\tat org.eclipse.jetty.util.thread.strategy.EatWhatYouKill.runTask(EatWhatYouKill.java:338)\n",
       "\tat org.eclipse.jetty.util.thread.strategy.EatWhatYouKill.doProduce(EatWhatYouKill.java:315)\n",
       "\tat org.eclipse.jetty.util.thread.strategy.EatWhatYouKill.tryProduce(EatWhatYouKill.java:173)\n",
       "\tat org.eclipse.jetty.util.thread.strategy.EatWhatYouKill.run(EatWhatYouKill.java:131)\n",
       "\tat org.eclipse.jetty.util.thread.ReservedThreadExecutor$ReservedThread.run(ReservedThreadExecutor.java:409)\n",
       "\tat com.databricks.rpc.InstrumentedQueuedThreadPool$$anon$1.$anonfun$run$2(InstrumentedQueuedThreadPool.scala:105)\n",
       "\tat scala.runtime.java8.JFunction0$mcV$sp.apply(JFunction0$mcV$sp.java:23)\n",
       "\tat com.databricks.logging.AttributionContextTracing.$anonfun$withAttributionContext$1(AttributionContextTracing.scala:48)\n",
       "\tat com.databricks.logging.AttributionContext$.$anonfun$withValue$1(AttributionContext.scala:276)\n",
       "\tat scala.util.DynamicVariable.withValue(DynamicVariable.scala:62)\n",
       "\tat com.databricks.logging.AttributionContext$.withValue(AttributionContext.scala:272)\n",
       "\tat com.databricks.logging.AttributionContextTracing.withAttributionContext(AttributionContextTracing.scala:46)\n",
       "\tat com.databricks.logging.AttributionContextTracing.withAttributionContext$(AttributionContextTracing.scala:43)\n",
       "\tat com.databricks.rpc.InstrumentedQueuedThreadPool.withAttributionContext(InstrumentedQueuedThreadPool.scala:45)\n",
       "\tat com.databricks.rpc.InstrumentedQueuedThreadPool$$anon$1.$anonfun$run$1(InstrumentedQueuedThreadPool.scala:105)\n",
       "\tat scala.runtime.java8.JFunction0$mcV$sp.apply(JFunction0$mcV$sp.java:23)\n",
       "\tat com.databricks.instrumentation.QueuedThreadPoolInstrumenter.trackActiveThreads(QueuedThreadPoolInstrumenter.scala:110)\n",
       "\tat com.databricks.instrumentation.QueuedThreadPoolInstrumenter.trackActiveThreads$(QueuedThreadPoolInstrumenter.scala:107)\n",
       "\tat com.databricks.rpc.InstrumentedQueuedThreadPool.trackActiveThreads(InstrumentedQueuedThreadPool.scala:45)\n",
       "\tat com.databricks.rpc.InstrumentedQueuedThreadPool$$anon$1.run(InstrumentedQueuedThreadPool.scala:87)\n",
       "\tat org.eclipse.jetty.util.thread.QueuedThreadPool.runJob(QueuedThreadPool.java:883)\n",
       "\tat org.eclipse.jetty.util.thread.QueuedThreadPool$Runner.run(QueuedThreadPool.java:1034)\n",
       "\tat java.lang.Thread.run(Thread.java:750)"
      ]
     },
     "metadata": {
      "application/vnd.databricks.v1+output": {
       "addedWidgets": {},
       "arguments": {},
       "datasetInfos": [],
       "jupyterProps": null,
       "metadata": {
        "errorSummary": "Command skipped"
       },
       "removedWidgets": [],
       "sqlProps": null,
       "stackFrames": [
        "com.databricks.backend.common.rpc.CommandSkippedException",
        "\tat com.databricks.spark.chauffeur.SequenceExecutionState.$anonfun$cancel$3(SequenceExecutionState.scala:138)",
        "\tat com.databricks.spark.chauffeur.SequenceExecutionState.$anonfun$cancel$3$adapted(SequenceExecutionState.scala:133)",
        "\tat scala.collection.immutable.Range.foreach(Range.scala:158)",
        "\tat com.databricks.spark.chauffeur.SequenceExecutionState.cancel(SequenceExecutionState.scala:133)",
        "\tat com.databricks.spark.chauffeur.ExecContextState.cancelRunningSequence(ExecContextState.scala:728)",
        "\tat com.databricks.spark.chauffeur.ExecContextState.$anonfun$cancel$1(ExecContextState.scala:446)",
        "\tat scala.Option.getOrElse(Option.scala:189)",
        "\tat com.databricks.spark.chauffeur.ExecContextState.cancel(ExecContextState.scala:446)",
        "\tat com.databricks.spark.chauffeur.ExecutionContextManagerV1.cancelExecution(ExecutionContextManagerV1.scala:464)",
        "\tat com.databricks.spark.chauffeur.ChauffeurState.$anonfun$process$1(ChauffeurState.scala:571)",
        "\tat com.databricks.logging.UsageLogging.$anonfun$recordOperation$1(UsageLogging.scala:528)",
        "\tat com.databricks.logging.UsageLogging.executeThunkAndCaptureResultTags$1(UsageLogging.scala:633)",
        "\tat com.databricks.logging.UsageLogging.$anonfun$recordOperationWithResultTags$4(UsageLogging.scala:656)",
        "\tat com.databricks.logging.AttributionContextTracing.$anonfun$withAttributionContext$1(AttributionContextTracing.scala:48)",
        "\tat com.databricks.logging.AttributionContext$.$anonfun$withValue$1(AttributionContext.scala:276)",
        "\tat scala.util.DynamicVariable.withValue(DynamicVariable.scala:62)",
        "\tat com.databricks.logging.AttributionContext$.withValue(AttributionContext.scala:272)",
        "\tat com.databricks.logging.AttributionContextTracing.withAttributionContext(AttributionContextTracing.scala:46)",
        "\tat com.databricks.logging.AttributionContextTracing.withAttributionContext$(AttributionContextTracing.scala:43)",
        "\tat com.databricks.spark.chauffeur.ChauffeurState.withAttributionContext(ChauffeurState.scala:51)",
        "\tat com.databricks.logging.AttributionContextTracing.withAttributionTags(AttributionContextTracing.scala:95)",
        "\tat com.databricks.logging.AttributionContextTracing.withAttributionTags$(AttributionContextTracing.scala:76)",
        "\tat com.databricks.spark.chauffeur.ChauffeurState.withAttributionTags(ChauffeurState.scala:51)",
        "\tat com.databricks.logging.UsageLogging.recordOperationWithResultTags(UsageLogging.scala:628)",
        "\tat com.databricks.logging.UsageLogging.recordOperationWithResultTags$(UsageLogging.scala:537)",
        "\tat com.databricks.spark.chauffeur.ChauffeurState.recordOperationWithResultTags(ChauffeurState.scala:51)",
        "\tat com.databricks.logging.UsageLogging.recordOperation(UsageLogging.scala:529)",
        "\tat com.databricks.logging.UsageLogging.recordOperation$(UsageLogging.scala:495)",
        "\tat com.databricks.spark.chauffeur.ChauffeurState.recordOperation(ChauffeurState.scala:51)",
        "\tat com.databricks.spark.chauffeur.ChauffeurState.process(ChauffeurState.scala:553)",
        "\tat com.databricks.spark.chauffeur.Chauffeur$$anon$1$$anonfun$receive$1.handleDriverRequest$1(Chauffeur.scala:846)",
        "\tat com.databricks.spark.chauffeur.Chauffeur$$anon$1$$anonfun$receive$1.$anonfun$applyOrElse$5(Chauffeur.scala:872)",
        "\tat com.databricks.logging.UsageLogging.executeThunkAndCaptureResultTags$1(UsageLogging.scala:633)",
        "\tat com.databricks.logging.UsageLogging.$anonfun$recordOperationWithResultTags$4(UsageLogging.scala:656)",
        "\tat com.databricks.logging.AttributionContextTracing.$anonfun$withAttributionContext$1(AttributionContextTracing.scala:48)",
        "\tat com.databricks.logging.AttributionContext$.$anonfun$withValue$1(AttributionContext.scala:276)",
        "\tat scala.util.DynamicVariable.withValue(DynamicVariable.scala:62)",
        "\tat com.databricks.logging.AttributionContext$.withValue(AttributionContext.scala:272)",
        "\tat com.databricks.logging.AttributionContextTracing.withAttributionContext(AttributionContextTracing.scala:46)",
        "\tat com.databricks.logging.AttributionContextTracing.withAttributionContext$(AttributionContextTracing.scala:43)",
        "\tat com.databricks.rpc.ServerBackend.withAttributionContext(ServerBackend.scala:22)",
        "\tat com.databricks.logging.AttributionContextTracing.withAttributionTags(AttributionContextTracing.scala:95)",
        "\tat com.databricks.logging.AttributionContextTracing.withAttributionTags$(AttributionContextTracing.scala:76)",
        "\tat com.databricks.rpc.ServerBackend.withAttributionTags(ServerBackend.scala:22)",
        "\tat com.databricks.logging.UsageLogging.recordOperationWithResultTags(UsageLogging.scala:628)",
        "\tat com.databricks.logging.UsageLogging.recordOperationWithResultTags$(UsageLogging.scala:537)",
        "\tat com.databricks.rpc.ServerBackend.recordOperationWithResultTags(ServerBackend.scala:22)",
        "\tat com.databricks.spark.chauffeur.Chauffeur$$anon$1$$anonfun$receive$1.handleDriverRequestWithUsageLogging$1(Chauffeur.scala:871)",
        "\tat com.databricks.spark.chauffeur.Chauffeur$$anon$1$$anonfun$receive$1.applyOrElse(Chauffeur.scala:926)",
        "\tat com.databricks.spark.chauffeur.Chauffeur$$anon$1$$anonfun$receive$1.applyOrElse(Chauffeur.scala:719)",
        "\tat com.databricks.rpc.ServerBackend.$anonfun$internalReceive0$2(ServerBackend.scala:174)",
        "\tat com.databricks.rpc.ServerBackend$$anonfun$commonReceive$1.applyOrElse(ServerBackend.scala:200)",
        "\tat com.databricks.rpc.ServerBackend$$anonfun$commonReceive$1.applyOrElse(ServerBackend.scala:200)",
        "\tat com.databricks.rpc.ServerBackend.internalReceive0(ServerBackend.scala:171)",
        "\tat com.databricks.rpc.ServerBackend.$anonfun$internalReceive$1(ServerBackend.scala:147)",
        "\tat com.databricks.logging.UsageLogging.$anonfun$recordOperation$1(UsageLogging.scala:528)",
        "\tat com.databricks.logging.UsageLogging.executeThunkAndCaptureResultTags$1(UsageLogging.scala:633)",
        "\tat com.databricks.logging.UsageLogging.$anonfun$recordOperationWithResultTags$4(UsageLogging.scala:656)",
        "\tat com.databricks.logging.AttributionContextTracing.$anonfun$withAttributionContext$1(AttributionContextTracing.scala:48)",
        "\tat com.databricks.logging.AttributionContext$.$anonfun$withValue$1(AttributionContext.scala:276)",
        "\tat scala.util.DynamicVariable.withValue(DynamicVariable.scala:62)",
        "\tat com.databricks.logging.AttributionContext$.withValue(AttributionContext.scala:272)",
        "\tat com.databricks.logging.AttributionContextTracing.withAttributionContext(AttributionContextTracing.scala:46)",
        "\tat com.databricks.logging.AttributionContextTracing.withAttributionContext$(AttributionContextTracing.scala:43)",
        "\tat com.databricks.rpc.ServerBackend.withAttributionContext(ServerBackend.scala:22)",
        "\tat com.databricks.logging.AttributionContextTracing.withAttributionTags(AttributionContextTracing.scala:95)",
        "\tat com.databricks.logging.AttributionContextTracing.withAttributionTags$(AttributionContextTracing.scala:76)",
        "\tat com.databricks.rpc.ServerBackend.withAttributionTags(ServerBackend.scala:22)",
        "\tat com.databricks.logging.UsageLogging.recordOperationWithResultTags(UsageLogging.scala:628)",
        "\tat com.databricks.logging.UsageLogging.recordOperationWithResultTags$(UsageLogging.scala:537)",
        "\tat com.databricks.rpc.ServerBackend.recordOperationWithResultTags(ServerBackend.scala:22)",
        "\tat com.databricks.logging.UsageLogging.recordOperation(UsageLogging.scala:529)",
        "\tat com.databricks.logging.UsageLogging.recordOperation$(UsageLogging.scala:495)",
        "\tat com.databricks.rpc.ServerBackend.recordOperation(ServerBackend.scala:22)",
        "\tat com.databricks.rpc.ServerBackend.internalReceive(ServerBackend.scala:146)",
        "\tat com.databricks.rpc.JettyServer$RequestManager.handleRPC(JettyServer.scala:1021)",
        "\tat com.databricks.rpc.JettyServer$RequestManager.handleRequestAndRespond(JettyServer.scala:942)",
        "\tat com.databricks.rpc.JettyServer$RequestManager.$anonfun$handleHttp$6(JettyServer.scala:546)",
        "\tat com.databricks.rpc.JettyServer$RequestManager.$anonfun$handleHttp$6$adapted(JettyServer.scala:515)",
        "\tat com.databricks.logging.activity.ActivityContextFactory$.$anonfun$withActivityInternal$6(ActivityContextFactory.scala:545)",
        "\tat com.databricks.logging.AttributionContextTracing.$anonfun$withAttributionContext$1(AttributionContextTracing.scala:48)",
        "\tat com.databricks.logging.AttributionContext$.$anonfun$withValue$1(AttributionContext.scala:276)",
        "\tat scala.util.DynamicVariable.withValue(DynamicVariable.scala:62)",
        "\tat com.databricks.logging.AttributionContext$.withValue(AttributionContext.scala:272)",
        "\tat com.databricks.logging.AttributionContextTracing.withAttributionContext(AttributionContextTracing.scala:46)",
        "\tat com.databricks.logging.AttributionContextTracing.withAttributionContext$(AttributionContextTracing.scala:43)",
        "\tat com.databricks.logging.activity.ActivityContextFactory$.withAttributionContext(ActivityContextFactory.scala:48)",
        "\tat com.databricks.logging.activity.ActivityContextFactory$.$anonfun$withActivityInternal$3(ActivityContextFactory.scala:545)",
        "\tat com.databricks.context.integrity.IntegrityCheckContext$ThreadLocalStorage$.withValue(IntegrityCheckContext.scala:73)",
        "\tat com.databricks.logging.activity.ActivityContextFactory$.withActivityInternal(ActivityContextFactory.scala:523)",
        "\tat com.databricks.logging.activity.ActivityContextFactory$.withServiceRequestActivity(ActivityContextFactory.scala:175)",
        "\tat com.databricks.rpc.JettyServer$RequestManager.handleHttp(JettyServer.scala:515)",
        "\tat com.databricks.rpc.JettyServer$RequestManager.doPost(JettyServer.scala:405)",
        "\tat javax.servlet.http.HttpServlet.service(HttpServlet.java:665)",
        "\tat com.databricks.rpc.HttpServletWithPatch.service(HttpServletWithPatch.scala:33)",
        "\tat javax.servlet.http.HttpServlet.service(HttpServlet.java:750)",
        "\tat org.eclipse.jetty.servlet.ServletHolder.handle(ServletHolder.java:799)",
        "\tat org.eclipse.jetty.servlet.ServletHandler.doHandle(ServletHandler.java:554)",
        "\tat org.eclipse.jetty.server.handler.ScopedHandler.nextScope(ScopedHandler.java:190)",
        "\tat org.eclipse.jetty.servlet.ServletHandler.doScope(ServletHandler.java:505)",
        "\tat org.eclipse.jetty.server.handler.ScopedHandler.handle(ScopedHandler.java:141)",
        "\tat org.eclipse.jetty.server.handler.HandlerWrapper.handle(HandlerWrapper.java:127)",
        "\tat org.eclipse.jetty.server.Server.handle(Server.java:516)",
        "\tat org.eclipse.jetty.server.HttpChannel.lambda$handle$1(HttpChannel.java:487)",
        "\tat org.eclipse.jetty.server.HttpChannel.dispatch(HttpChannel.java:732)",
        "\tat org.eclipse.jetty.server.HttpChannel.handle(HttpChannel.java:479)",
        "\tat org.eclipse.jetty.server.HttpConnection.onFillable(HttpConnection.java:277)",
        "\tat org.eclipse.jetty.io.AbstractConnection$ReadCallback.succeeded(AbstractConnection.java:311)",
        "\tat org.eclipse.jetty.io.FillInterest.fillable(FillInterest.java:105)",
        "\tat org.eclipse.jetty.io.ssl.SslConnection$DecryptedEndPoint.onFillable(SslConnection.java:555)",
        "\tat org.eclipse.jetty.io.ssl.SslConnection.onFillable(SslConnection.java:410)",
        "\tat org.eclipse.jetty.io.ssl.SslConnection$2.succeeded(SslConnection.java:164)",
        "\tat org.eclipse.jetty.io.FillInterest.fillable(FillInterest.java:105)",
        "\tat org.eclipse.jetty.io.ChannelEndPoint$1.run(ChannelEndPoint.java:104)",
        "\tat org.eclipse.jetty.util.thread.strategy.EatWhatYouKill.runTask(EatWhatYouKill.java:338)",
        "\tat org.eclipse.jetty.util.thread.strategy.EatWhatYouKill.doProduce(EatWhatYouKill.java:315)",
        "\tat org.eclipse.jetty.util.thread.strategy.EatWhatYouKill.tryProduce(EatWhatYouKill.java:173)",
        "\tat org.eclipse.jetty.util.thread.strategy.EatWhatYouKill.run(EatWhatYouKill.java:131)",
        "\tat org.eclipse.jetty.util.thread.ReservedThreadExecutor$ReservedThread.run(ReservedThreadExecutor.java:409)",
        "\tat com.databricks.rpc.InstrumentedQueuedThreadPool$$anon$1.$anonfun$run$2(InstrumentedQueuedThreadPool.scala:105)",
        "\tat scala.runtime.java8.JFunction0$mcV$sp.apply(JFunction0$mcV$sp.java:23)",
        "\tat com.databricks.logging.AttributionContextTracing.$anonfun$withAttributionContext$1(AttributionContextTracing.scala:48)",
        "\tat com.databricks.logging.AttributionContext$.$anonfun$withValue$1(AttributionContext.scala:276)",
        "\tat scala.util.DynamicVariable.withValue(DynamicVariable.scala:62)",
        "\tat com.databricks.logging.AttributionContext$.withValue(AttributionContext.scala:272)",
        "\tat com.databricks.logging.AttributionContextTracing.withAttributionContext(AttributionContextTracing.scala:46)",
        "\tat com.databricks.logging.AttributionContextTracing.withAttributionContext$(AttributionContextTracing.scala:43)",
        "\tat com.databricks.rpc.InstrumentedQueuedThreadPool.withAttributionContext(InstrumentedQueuedThreadPool.scala:45)",
        "\tat com.databricks.rpc.InstrumentedQueuedThreadPool$$anon$1.$anonfun$run$1(InstrumentedQueuedThreadPool.scala:105)",
        "\tat scala.runtime.java8.JFunction0$mcV$sp.apply(JFunction0$mcV$sp.java:23)",
        "\tat com.databricks.instrumentation.QueuedThreadPoolInstrumenter.trackActiveThreads(QueuedThreadPoolInstrumenter.scala:110)",
        "\tat com.databricks.instrumentation.QueuedThreadPoolInstrumenter.trackActiveThreads$(QueuedThreadPoolInstrumenter.scala:107)",
        "\tat com.databricks.rpc.InstrumentedQueuedThreadPool.trackActiveThreads(InstrumentedQueuedThreadPool.scala:45)",
        "\tat com.databricks.rpc.InstrumentedQueuedThreadPool$$anon$1.run(InstrumentedQueuedThreadPool.scala:87)",
        "\tat org.eclipse.jetty.util.thread.QueuedThreadPool.runJob(QueuedThreadPool.java:883)",
        "\tat org.eclipse.jetty.util.thread.QueuedThreadPool$Runner.run(QueuedThreadPool.java:1034)",
        "\tat java.lang.Thread.run(Thread.java:750)"
       ],
       "type": "baseError"
      }
     },
     "output_type": "display_data"
    }
   ],
   "source": [
    "while True: \n",
    "    print(\"\"\"Hilken kolumne ønsker du filtere etter?\"\"\")\n",
    "    print(\"\\nFølgende kolumner er tilgjengelig\")\n",
    "    for vailed_col in AR50_DF.columns:\n",
    "        print(vailed_col)\n",
    "    col = input()\n",
    "    if col in AR50_DF.columns:\n",
    "        while True: \n",
    "            try:\n",
    "                print(\"\"\"Skriv inn koordinatene din:\"\"\")\n",
    "                lat = float(input(\"latitude\"))\n",
    "                lon = float(input(\"longitude\"))\n",
    "                while True: \n",
    "                    try:\n",
    "                        print(\"\"\"Skriv inn radiusen i meter du ønsker søke i:\"\"\")\n",
    "                        radius = int(input(\"radius\"))\n",
    "                    except ValueError:\n",
    "                        print(\"Du har skrev ikke en gylding radius, prøv igjen\")\n",
    "                        continue\n",
    "                    break\n",
    "            except ValueError:\n",
    "                print(\"Du har skrev ikke en gylding koordinat, prøv igjen\")\n",
    "                continue\n",
    "            break\n",
    "        break\n",
    "    else:\n",
    "        print(\"Du har skrev ikke en gylding kolumne, prøv igjen\")\n",
    "\n",
    "filtered_df = AR50_DF.filter(AR50_DF[col].isNotNull())\n",
    "df, buffer_df = get_geomtry_within(filtered_df,lon, lat, radius)\n",
    "df.display()\n",
    "                        \n",
    "map_df = SedonaKepler.create_map()\n",
    "\n",
    "# Add the cleaned DataFrame to the map, with an optional layer name\n",
    "map_df.add_data(df.toPandas(), \"points\")\n",
    "map_df.add_data(buffer_df.toPandas(), \"buffer\")\n",
    "map_df\n",
    "\n",
    "\n"
   ]
  }
 ],
 "metadata": {
  "application/vnd.databricks.v1+notebook": {
   "computePreferences": null,
   "dashboards": [],
   "environmentMetadata": {
    "base_environment": "",
    "environment_version": "2"
   },
   "inputWidgetPreferences": null,
   "language": "python",
   "notebookMetadata": {
    "mostRecentlyExecutedCommandWithImplicitDF": {
     "commandId": -1,
     "dataframes": [
      "_sqldf"
     ]
    },
    "pythonIndentUnit": 4
   },
   "notebookName": "Brukerhistorie_2",
   "widgets": {}
  },
  "language_info": {
   "name": "python"
  }
 },
 "nbformat": 4,
 "nbformat_minor": 0
}