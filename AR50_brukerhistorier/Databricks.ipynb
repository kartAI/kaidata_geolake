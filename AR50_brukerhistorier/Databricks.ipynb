{
 "cells": [
  {
   "cell_type": "markdown",
   "metadata": {
    "application/vnd.databricks.v1+cell": {
     "cellMetadata": {
      "byteLimit": 2048000,
      "rowLimit": 10000
     },
     "inputWidgets": {},
     "nuid": "1446137f-6fbc-4865-bcda-9f9629b92922",
     "showTitle": false,
     "tableResultSettingsMap": {},
     "title": ""
    }
   },
   "source": [
    "# Brukerhistorie 2\n",
    "Som bruker ønsker jeg å strømme AR50 slik at jeg kan filtrere data etter behov.  \n",
    "\n",
    "Funksjonalitet: Det skal være mulig å hente AR50 direkte fra fil. Prosessen omhandler strømming som benytter “partial read\" som bruker kan filtrere ut data. \n",
    "\n",
    "Akseptkriterier: \n",
    "- Jeg skal kunne hente AR50-data direkte fra filer med geografisk filtrering og kolonnefiltrering.  \n",
    "- Jeg skal kunne filtrere data etter mine egne behov. \n",
    "\n",
    "Mål: \n",
    "Strømmingen av AR50 skal være en effektiv og brukervennlig prosess. Brukeren skal kunne filtrere data etter egne behov. Prosessen skal også benytte “partial read”, slik at data oppdateres automatisk og ytelsen optimaliseres. \n"
   ]
  },
  {
   "cell_type": "markdown",
   "metadata": {
    "application/vnd.databricks.v1+cell": {
     "cellMetadata": {
      "byteLimit": 2048000,
      "rowLimit": 10000
     },
     "inputWidgets": {},
     "nuid": "c85076ce-694c-47ad-a357-ff94b67a64e3",
     "showTitle": false,
     "tableResultSettingsMap": {},
     "title": ""
    }
   },
   "source": [
    "# Packages"
   ]
  },
  {
   "cell_type": "code",
   "execution_count": 0,
   "metadata": {
    "application/vnd.databricks.v1+cell": {
     "cellMetadata": {
      "byteLimit": 2048000,
      "rowLimit": 10000
     },
     "inputWidgets": {},
     "nuid": "28a5ba3b-8ee8-424b-9730-94f16fb3b6fb",
     "showTitle": false,
     "tableResultSettingsMap": {},
     "title": ""
    }
   },
   "outputs": [
    {
     "output_type": "display_data",
     "data": {
      "application/vnd.databricks.v1+h3_hint": "",
      "text/plain": []
     },
     "metadata": {},
     "output_type": "display_data"
    }
   ],
   "source": [
    "from sedona.spark import *\n",
    "import requests\n",
    "import os\n",
    "import json\n",
    "from pyspark.sql import Row\n",
    "import pyspark.sql.functions as F\n",
    "from pyspark.sql.functions import expr, col, to_timestamp, hour, date_format, lit, to_timestamp, lower, when, desc\n",
    "from pyspark.sql.types import IntegerType, DoubleType, FloatType, LongType, TimestampType, DateType, StringType\n",
    "from pyspark.sql import DataFrame\n",
    "from pyspark.sql.utils import AnalysisException\n",
    "import pandas as pd\n",
    "import geopandas as gpd\n",
    "from shapely import wkb\n",
    "from datetime import datetime\n",
    "from shapely.geometry import Point\n",
    "import geopandas as gpd\n",
    "import ipywidgets as widgets\n",
    "from IPython.display import display, clear_output"
   ]
  },
  {
   "cell_type": "markdown",
   "metadata": {
    "application/vnd.databricks.v1+cell": {
     "cellMetadata": {
      "byteLimit": 2048000,
      "rowLimit": 10000
     },
     "inputWidgets": {},
     "nuid": "808675f5-910d-49ce-815c-d40939c49d2d",
     "showTitle": false,
     "tableResultSettingsMap": {},
     "title": ""
    }
   },
   "source": [
    "# Constant variable"
   ]
  },
  {
   "cell_type": "code",
   "execution_count": 0,
   "metadata": {
    "application/vnd.databricks.v1+cell": {
     "cellMetadata": {
      "byteLimit": 2048000,
      "rowLimit": 10000
     },
     "inputWidgets": {},
     "nuid": "2d0413f8-4340-4326-bd58-61982482352b",
     "showTitle": false,
     "tableResultSettingsMap": {},
     "title": ""
    }
   },
   "outputs": [],
   "source": [
    "A50_TABLE =\"land_techtroll_dev.bronze.ar50\"\n",
    "EPSG = 4326\n",
    "OPERATOR = [\"==\", \"!=\", \"<\", \"<=\", \">\", \">=\", \"LIKE\"]\n",
    "AREALTYPE = [\"10\", \"20\", \"30\", \"50\", \"60\", \"70\", \"81\", \"82\"]"
   ]
  },
  {
   "cell_type": "markdown",
   "metadata": {
    "application/vnd.databricks.v1+cell": {
     "cellMetadata": {
      "byteLimit": 2048000,
      "rowLimit": 10000
     },
     "inputWidgets": {},
     "nuid": "89a03f79-12d5-45e7-b573-f674132e9073",
     "showTitle": false,
     "tableResultSettingsMap": {},
     "title": ""
    }
   },
   "source": [
    "# Config\n",
    "Define dev_config for the development environment and prod_config for the production environment.</br></br>\n",
    "Each configuration contains:\n",
    "- catalog_name: the name of the catalog.\n",
    "- landing_zone_prefix: file path to the \"landing zone\" where new data is typically placed initially.\n",
    "- location_prefix: file path to where static data is stored in the cloud.\n",
    "- static_data_prefix: general file path to static data."
   ]
  },
  {
   "cell_type": "code",
   "execution_count": 0,
   "metadata": {
    "application/vnd.databricks.v1+cell": {
     "cellMetadata": {
      "byteLimit": 2048000,
      "rowLimit": 10000
     },
     "inputWidgets": {},
     "nuid": "bd5deafc-c848-46ff-9581-2cf5b763eec7",
     "showTitle": false,
     "tableResultSettingsMap": {},
     "title": ""
    }
   },
   "outputs": [
    {
     "output_type": "execute_result",
     "data": {
      "text/plain": [
       "{'catalog_name': 'land_techtroll_dev',\n",
       " 'landing_zone_prefix': '/Volumes/land_techtroll_dev/external_dev/landing_zone',\n",
       " 'location_prefix': '/Volumes/land_techtroll_dev/external_dev/static_data/cloudFiles',\n",
       " 'static_data_prefix': '/Volumes/land_techtroll_dev/external_dev/static_data',\n",
       " 'env': 'dev'}"
      ]
     },
     "execution_count": 3,
     "metadata": {},
     "output_type": "execute_result"
    }
   ],
   "source": [
    "%run ./config"
   ]
  },
  {
   "cell_type": "markdown",
   "metadata": {
    "application/vnd.databricks.v1+cell": {
     "cellMetadata": {
      "byteLimit": 2048000,
      "rowLimit": 10000
     },
     "inputWidgets": {},
     "nuid": "8bfdceff-4d34-4c52-a9c2-842839fba4f9",
     "showTitle": false,
     "tableResultSettingsMap": {},
     "title": ""
    }
   },
   "source": [
    "# Set catelog\n",
    "In this notebook, the catalog is set to `land_techtroll_dev`, as this is where the relevant databases are located. Setting the catalog ensures that all subsequent queries reference the correct data environment, making it easier to access and manage the necessary tables for our testing and development.\n"
   ]
  },
  {
   "cell_type": "code",
   "execution_count": 0,
   "metadata": {
    "application/vnd.databricks.v1+cell": {
     "cellMetadata": {
      "byteLimit": 2048000,
      "rowLimit": 10000
     },
     "inputWidgets": {},
     "nuid": "eff93ca5-eda4-4547-8b86-7e56fdaafa04",
     "showTitle": false,
     "tableResultSettingsMap": {},
     "title": ""
    }
   },
   "outputs": [
    {
     "output_type": "execute_result",
     "data": {
      "text/plain": [
       "DataFrame[]"
      ]
     },
     "execution_count": 4,
     "metadata": {},
     "output_type": "execute_result"
    }
   ],
   "source": [
    "spark.sql(f'USE CATALOG {spark.conf.get(\"conf.catalog_name\")}')"
   ]
  },
  {
   "cell_type": "markdown",
   "metadata": {
    "application/vnd.databricks.v1+cell": {
     "cellMetadata": {
      "byteLimit": 2048000,
      "rowLimit": 10000
     },
     "inputWidgets": {},
     "nuid": "b5142044-d62d-4427-9cd5-3e8bd5de2432",
     "showTitle": false,
     "tableResultSettingsMap": {},
     "title": ""
    }
   },
   "source": [
    "# Get tabell from database\n",
    "The database follows the Medallion Architecture, which organizes data into layers:\n",
    "- Bronze: Raw or minimally processed data (used in this case).\n",
    "- Silver: Cleaned and structured data.\n",
    "- Gold: Aggregated, business-ready data\n",
    "\n",
    "This notebook using only bronze layer to work with raw data for early-stage testing and development.\n",
    "\n",
    "Important note! <i> Spark table has geometry data as binary, hence it need to be convert</i>"
   ]
  },
  {
   "cell_type": "code",
   "execution_count": 0,
   "metadata": {
    "application/vnd.databricks.v1+cell": {
     "cellMetadata": {
      "byteLimit": 2048000,
      "rowLimit": 10000
     },
     "inputWidgets": {},
     "nuid": "d43c05ca-57d5-4897-aa0e-5bd0846d8aac",
     "showTitle": false,
     "tableResultSettingsMap": {},
     "title": ""
    }
   },
   "outputs": [],
   "source": [
    "# Read AIS data from database\n",
    "AR50_DF = spark.table(A50_TABLE)"
   ]
  },
  {
   "cell_type": "markdown",
   "metadata": {
    "application/vnd.databricks.v1+cell": {
     "cellMetadata": {
      "byteLimit": 2048000,
      "rowLimit": 10000
     },
     "inputWidgets": {},
     "nuid": "de2879ad-5899-4866-8ab8-e4342e9f9eb2",
     "showTitle": false,
     "tableResultSettingsMap": {},
     "title": ""
    }
   },
   "source": [
    "# Clean the table\n",
    "Remove unnecessary data table in following columns:\n",
    "- Arealtype\n",
    "- Jordbruk\n",
    "- Skogbonitet\n",
    "- Treslag\n",
    "- vegetasjonsdekke\n",
    "\n",
    "The following values is removed:\n",
    "- 99: \"Ikke kartlagt\"\n",
    "- 98: \"Ikke definert\""
   ]
  },
  {
   "cell_type": "code",
   "execution_count": 0,
   "metadata": {
    "application/vnd.databricks.v1+cell": {
     "cellMetadata": {
      "byteLimit": 2048000,
      "rowLimit": 10000
     },
     "inputWidgets": {},
     "nuid": "544a64ee-2d65-4494-8a1e-816ed8fdac7b",
     "showTitle": false,
     "tableResultSettingsMap": {},
     "title": ""
    }
   },
   "outputs": [],
   "source": [
    "# If there are more values that needs be remove, add them here\n",
    "null_values = [98, 99]\n",
    "\n",
    "AR50_DF = AR50_DF.withColumn(\n",
    "    \"vegetasjonsdekke\",\n",
    "    when(col(\"vegetasjonsdekke\").isin(null_values), None).otherwise(col(\"vegetasjonsdekke\"))\n",
    ")\n",
    "\n",
    "AR50_DF = AR50_DF.withColumn(\n",
    "    \"Arealtype\",\n",
    "    when(col(\"Arealtype\").isin(null_values), None).otherwise(col(\"Arealtype\"))\n",
    ")\n",
    "\n",
    "AR50_DF = AR50_DF.withColumn(\n",
    "    \"Treslag\",\n",
    "    when(col(\"Treslag\").isin(null_values), None).otherwise(col(\"Treslag\"))\n",
    ")\n",
    "\n",
    "AR50_DF = AR50_DF.withColumn(\n",
    "    \"Skogbonitet\",\n",
    "    when(col(\"Skogbonitet\").isin(null_values), None).otherwise(col(\"Skogbonitet\"))\n",
    ")\n",
    "\n",
    "AR50_DF = AR50_DF.withColumn(\n",
    "    \"Jordbruk\",\n",
    "    when(col(\"Jordbruk\").isin(null_values), None).otherwise(col(\"Jordbruk\"))\n",
    ")"
   ]
  },
  {
   "cell_type": "markdown",
   "metadata": {
    "application/vnd.databricks.v1+cell": {
     "cellMetadata": {
      "byteLimit": 2048000,
      "rowLimit": 10000
     },
     "inputWidgets": {},
     "nuid": "2782bef6-ff2e-4386-a4b8-b588e0d02129",
     "showTitle": false,
     "tableResultSettingsMap": {},
     "title": ""
    }
   },
   "source": [
    "# Gis query"
   ]
  },
  {
   "cell_type": "code",
   "execution_count": 0,
   "metadata": {
    "application/vnd.databricks.v1+cell": {
     "cellMetadata": {
      "byteLimit": 2048000,
      "rowLimit": 10000
     },
     "inputWidgets": {},
     "nuid": "132449d7-e478-40e3-a4b9-2d3f6c810aa0",
     "showTitle": false,
     "tableResultSettingsMap": {},
     "title": ""
    }
   },
   "outputs": [],
   "source": [
    "def create_buffer_radius(lon, lat, radius_m=500):\n",
    "    \"\"\"\n",
    "    Create a buffer area (radius in meters) around a given longitude and latitude.\n",
    "\n",
    "    Args:\n",
    "        lon (float): Longitude of the center point.\n",
    "        lat (float): Latitude of the center point.\n",
    "        radius_m (int, optional): Radius of the buffer in meters. Defaults to 500.\n",
    "\n",
    "    Returns:\n",
    "        DataFrame: A Spark DataFrame containing the buffer geometry as GeoJSON.\n",
    "    \"\"\"\n",
    "    # Create a DataFrame with a single point (id, longitude, latitude)\n",
    "    data = [(1, lon, lat)]\n",
    "    df_raw = spark.createDataFrame(data, [\"id\", \"lon\", \"lat\"])\n",
    "    df_raw.createOrReplaceTempView(\"geom_points\")\n",
    "\n",
    "    # Convert the longitude and latitude into a geometry point with SRID 3857\n",
    "    geom_df = spark.sql(\"\"\"\n",
    "    SELECT \n",
    "        id,\n",
    "        ST_SetSRID(ST_Point(lon, lat), 3857) AS geometry\n",
    "    FROM geom_points\n",
    "    \"\"\")\n",
    "\n",
    "    # Create a buffer around the point and transform it, returning it as GeoJSON\n",
    "    query = f\"\"\"\n",
    "        SELECT \n",
    "            id,\n",
    "            st_asgeojson(\n",
    "                ST_Transform(\n",
    "                    ST_SetSRID(\n",
    "                        ST_Buffer(\n",
    "                            ST_SetSRID(ST_Point(lon, lat), {EPSG}),\n",
    "                            {radius_m}, True\n",
    "                        ),\n",
    "                        {EPSG}\n",
    "                    ),\n",
    "                    'EPSG:{EPSG}'\n",
    "                )\n",
    "            ) AS geom\n",
    "        FROM geom_points\n",
    "    \"\"\"\n",
    "    buffer_df = spark.sql(query)\n",
    "    return buffer_df\n",
    "\n",
    "\n",
    "def get_geomtry_within(df, lon, lat, radius_m=500):\n",
    "    \"\"\"\n",
    "    Find geometries within a given radius from a specified point.\n",
    "\n",
    "    Args:\n",
    "        df (DataFrame): Spark DataFrame containing geometries to query against.\n",
    "        lon (float): Longitude of the center point.\n",
    "        lat (float): Latitude of the center point.\n",
    "        radius_m (int, optional): Search radius in meters. Defaults to 500.\n",
    "\n",
    "    Returns:\n",
    "        Tuple[DataFrame, DataFrame]: \n",
    "            - DataFrame with geometries that intersect the buffer area.\n",
    "            - DataFrame with the buffer geometry itself.\n",
    "    \"\"\"\n",
    "    # Create a buffer around the given point\n",
    "    buffer_df = create_buffer_radius(lon, lat)\n",
    "    \n",
    "    # Register the input DataFrame as a temporary view\n",
    "    df.createOrReplaceTempView(\"Within_view\")\n",
    "\n",
    "    # Query to select geometries that intersect the buffer\n",
    "    query = f\"\"\"\n",
    "        SELECT\n",
    "            gml_Id,\n",
    "            Treslag,\n",
    "            geometry\n",
    "        FROM Within_view\n",
    "        WHERE ST_Intersects(\n",
    "            ST_GeomFromText(geometry),\n",
    "            (SELECT \n",
    "                ST_Transform(\n",
    "                    ST_SetSRID(\n",
    "                        ST_Buffer(\n",
    "                            ST_SetSRID(ST_Point(lon, lat), {EPSG}),\n",
    "                            {radius_m}, True\n",
    "                        ),\n",
    "                        {EPSG}\n",
    "                    ),\n",
    "                    'EPSG:{EPSG}'\n",
    "                ) AS geom\n",
    "            FROM geom_points)\n",
    "        )\n",
    "    \"\"\"\n",
    "    within_df = spark.sql(query)\n",
    "    return within_df, buffer_df\n"
   ]
  },
  {
   "cell_type": "markdown",
   "metadata": {
    "application/vnd.databricks.v1+cell": {
     "cellMetadata": {
      "byteLimit": 2048000,
      "rowLimit": 10000
     },
     "inputWidgets": {},
     "nuid": "c71a666d-f514-4e78-a23b-72ad11ff8740",
     "showTitle": false,
     "tableResultSettingsMap": {},
     "title": ""
    }
   },
   "source": [
    "# Map visualization\n"
   ]
  },
  {
   "cell_type": "code",
   "execution_count": 0,
   "metadata": {
    "application/vnd.databricks.v1+cell": {
     "cellMetadata": {
      "byteLimit": 2048000,
      "rowLimit": 10000
     },
     "inputWidgets": {},
     "nuid": "6f1acd6f-3735-4ba2-bdda-bdd5a1863201",
     "showTitle": false,
     "tableResultSettingsMap": {},
     "title": ""
    }
   },
   "outputs": [],
   "source": [
    "def prepare_for_kepler(df: DataFrame) -> DataFrame:\n",
    "    \"\"\"\n",
    "    Cleans a DataFrame for visualization in SedonaKepler.\n",
    "    \n",
    "    - Converts DecimalType to FloatType\n",
    "    - Converts DateType to String (\"yyyy-MM-dd\")\n",
    "\n",
    "    Args:\n",
    "        df (DataFrame): The input PySpark DataFrame\n",
    "\n",
    "    Returns:\n",
    "        DataFrame: Cleaned DataFrame ready for Kepler.gl\n",
    "    \"\"\"\n",
    "    # Convert decimal columns to float\n",
    "    decimal_cols = [f.name for f in df.schema.fields if \"decimal\" in str(f.dataType).lower()]\n",
    "    for col_name in decimal_cols:\n",
    "        df = df.withColumn(col_name, col(col_name).cast(\"float\"))\n",
    "\n",
    "    # Convert date columns to string (yyyy-MM-dd)\n",
    "    if \"date\" in df.columns:\n",
    "        df = df.withColumn(\"date\", date_format(col(\"date\"), \"yyyy-MM-dd\"))\n",
    "\n",
    "    return df\n",
    "    \n",
    "def visualize_map(filter_df: DataFrame, name: str = None):\n",
    "    \"\"\"\n",
    "    Visualizes a filtered PySpark DataFrame on a Kepler-style interactive map.\n",
    "\n",
    "    Parameters:\n",
    "    filter_df (DataFrame): The filtered DataFrame containing spatial data (geometry or coordinates).\n",
    "    name (str, optional): A name or label to assign to the map layer. Defaults to None.\n",
    "\n",
    "    Returns:\n",
    "    None: Displays the interactive map in the notebook environment.\n",
    "    \"\"\"\n",
    "    # Preprocess the DataFrame to make it compatible with Kepler visualization\n",
    "    filtered_df_clean = prepare_for_kepler(filter_df)\n",
    "\n",
    "    # Create an empty interactive map using SedonaKepler\n",
    "    map = SedonaKepler.create_map()\n",
    "\n",
    "    # Add the cleaned DataFrame to the map, with an optional layer name\n",
    "    SedonaKepler.add_df(map, filtered_df_clean, name=name)\n",
    "\n",
    "    # Display the map in the notebook\n",
    "    return map"
   ]
  },
  {
   "cell_type": "markdown",
   "metadata": {
    "application/vnd.databricks.v1+cell": {
     "cellMetadata": {
      "byteLimit": 2048000,
      "rowLimit": 10000
     },
     "inputWidgets": {},
     "nuid": "b8b37415-f8a2-4b56-94c4-0d0536f40c02",
     "showTitle": false,
     "tableResultSettingsMap": {},
     "title": ""
    }
   },
   "source": [
    "# Optimization"
   ]
  },
  {
   "cell_type": "code",
   "execution_count": 0,
   "metadata": {
    "application/vnd.databricks.v1+cell": {
     "cellMetadata": {
      "byteLimit": 2048000,
      "rowLimit": 10000
     },
     "inputWidgets": {},
     "nuid": "ba9e99cd-daa2-417b-8a48-c6714fceb135",
     "showTitle": false,
     "tableResultSettingsMap": {},
     "title": ""
    }
   },
   "outputs": [],
   "source": [
    "def difference_between_rows(df: DataFrame, filter_df: DataFrame) -> int:\n",
    "    \"\"\"\n",
    "    Calculates and prints the difference in row counts between the original and filtered DataFrames.\n",
    "\n",
    "    Parameters:\n",
    "    df (DataFrame): The original (unfiltered) DataFrame.\n",
    "    filter_df (DataFrame): The filtered version of the DataFrame.\n",
    "\n",
    "    Returns:\n",
    "    int: The number of rows removed during filtering.\n",
    "    \"\"\"\n",
    "    # Count rows in both DataFrames\n",
    "    original_count = df.count()\n",
    "    filtered_count = filter_df.count()\n",
    "\n",
    "    # Print summary\n",
    "    print(f\"The original DataFrame has {original_count} rows.\")\n",
    "    print(f\"The filtered DataFrame has {filtered_count} rows.\")\n",
    "    print(f\"The difference is {original_count - filtered_count} rows.\")\n",
    "\n",
    "    # Return the difference in row count\n",
    "    return original_count - filtered_count"
   ]
  },
  {
   "cell_type": "code",
   "execution_count": 0,
   "metadata": {
    "application/vnd.databricks.v1+cell": {
     "cellMetadata": {
      "byteLimit": 2048000,
      "rowLimit": 10000
     },
     "inputWidgets": {},
     "nuid": "6b1f5360-7bfe-4a91-b289-4dbdef909302",
     "showTitle": false,
     "tableResultSettingsMap": {},
     "title": ""
    }
   },
   "outputs": [],
   "source": [
    "def difference_between_size(filter_df: DataFrame) -> float:\n",
    "    \"\"\"\n",
    "    Compares the disk size (in MB) of the original Delta table and a filtered DataFrame.\n",
    "\n",
    "    This function:\n",
    "    - Writes the filtered DataFrame to a temporary table\n",
    "    - Compares table sizes using DESCRIBE DETAIL\n",
    "    - Cleans up the temporary table afterward\n",
    "    - Returns the size difference in megabytes\n",
    "\n",
    "    Parameters:\n",
    "    original_table (str): The name of the original Delta table (e.g., 'bronze.ais').\n",
    "    filter_df (DataFrame): The filtered DataFrame to compare.\n",
    "\n",
    "    Returns:\n",
    "    float: The difference in size (original - filtered) in megabytes.\n",
    "    \"\"\"\n",
    "    tmp_table = \"bronze.ar50_tmp\"\n",
    "\n",
    "    try:\n",
    "        # Save the filtered DataFrame as a temporary table\n",
    "        filter_df.write.mode(\"overwrite\").saveAsTable(tmp_table)\n",
    "        \n",
    "        # Get size of the original table\n",
    "        original_info = spark.sql(f\"DESCRIBE DETAIL land_techtroll_dev.bronze.ar50\")\n",
    "        original_size_bytes = original_info.select(\"sizeInBytes\").collect()[0][0]\n",
    "        original_size_mb = original_size_bytes / (1024 * 1024)\n",
    "        original_size_kb = original_size_bytes / 1024 \n",
    "\n",
    "        # Get size of the temporary (filtered) table\n",
    "        tmp_info = spark.sql(f\"DESCRIBE DETAIL land_techtroll_dev.bronze.ar50_tmp\")\n",
    "        tmp_size_bytes = tmp_info.select(\"sizeInBytes\").collect()[0][0]\n",
    "        print(tmp_size_bytes)\n",
    "        tmp_size_mb = tmp_size_bytes / 1024 \n",
    "\n",
    "        # Calculate and print the size difference\n",
    "        size_diff_mb = original_size_kb - tmp_size_mb\n",
    "        print(f\"Original table size: {original_size_mb:.2f} MB\")\n",
    "        print(f\"Filtered table size: {tmp_size_mb:.2f} KB\")\n",
    "        print(f\"Difference in size: {size_diff_mb:.2f} KB\")\n",
    "\n",
    "        return size_diff_mb\n",
    "\n",
    "    except AnalysisException as e:\n",
    "        print(f\"[ERROR] Table not found or query failed: {e}\")\n",
    "        return 0.0\n",
    "    except Exception as e:\n",
    "        print(f\"[ERROR] Unexpected error: {e}\")\n",
    "        return 0.0\n",
    "    finally:\n",
    "        # Always drop the temporary table, even if something fails\n",
    "        try:\n",
    "            spark.sql(f\"DROP TABLE IF EXISTS {tmp_table}\")\n",
    "            print(f\"Temporary table '{tmp_table}' dropped.\")\n",
    "        except Exception as drop_err:\n",
    "            print(f\"[WARNING] Could not drop temporary table: {drop_err}\")\n"
   ]
  },
  {
   "cell_type": "markdown",
   "metadata": {
    "application/vnd.databricks.v1+cell": {
     "cellMetadata": {
      "byteLimit": 2048000,
      "rowLimit": 10000
     },
     "inputWidgets": {},
     "nuid": "497dd040-dd30-4693-95a6-8e1a6ab47aca",
     "showTitle": false,
     "tableResultSettingsMap": {},
     "title": ""
    }
   },
   "source": [
    "# User case examples"
   ]
  },
  {
   "cell_type": "markdown",
   "metadata": {
    "application/vnd.databricks.v1+cell": {
     "cellMetadata": {
      "byteLimit": 2048000,
      "rowLimit": 10000
     },
     "inputWidgets": {},
     "nuid": "2c72906b-44be-4c14-b562-623b3c1dd3e7",
     "showTitle": false,
     "tableResultSettingsMap": {},
     "title": ""
    }
   },
   "source": [
    "## Visning av treslag innenfor et gitt område \n",
    "\n",
    "Som arealplanlegger i Kristiansand kommune ønsker jeg å hente ut og analysere AR50-data innenfor en radius på 500-meter rundt et valgt punkt, slik at jeg kan finne hvilke treslag som finnes i området og vurdere grøntstruktur i byplanlegging. \n",
    "\n",
    "Akseptkriterier: \n",
    "- Bruker skal kunne angi koordinater og buffer-radius \n",
    "- Systemet skal returnere forekomster av treslag innenfor området \n",
    "- Treslagene skal vises både i tabell og på kart \n",
    "<br>\n",
    "\n",
    "Input:\n",
    "- Koordinater (f.eks. 8.003180405023354, 58.16368151324909)  \n",
    "- En radius i meter (f.eks. 500) \n",
    "\n",
    "Output:\n",
    "- Tabell \n",
    "- Kart \n"
   ]
  },
  {
   "cell_type": "code",
   "execution_count": 0,
   "metadata": {
    "application/vnd.databricks.v1+cell": {
     "cellMetadata": {
      "byteLimit": 2048000,
      "rowLimit": 10000
     },
     "inputWidgets": {},
     "nuid": "58557b0c-6f79-4786-adad-7f490dd26bf8",
     "showTitle": false,
     "tableResultSettingsMap": {},
     "title": ""
    }
   },
   "outputs": [],
   "source": [
    "# Clean up previous widgets\n",
    "dbutils.widgets.removeAll()\n",
    "\n",
    "# Create widgets\n",
    "dbutils.widgets.dropdown(\"column\", AR50_DF.columns[12], AR50_DF.columns, \"Kolonne\")\n",
    "dbutils.widgets.text(\"latitude\", \"58.1743128719827\", \"Latitude\")\n",
    "dbutils.widgets.text(\"longitude\", \"8.01122450699552\", \"Longitude\")\n",
    "dbutils.widgets.text(\"radius\", \"500\", \"Radius (m)\")\n"
   ]
  },
  {
   "cell_type": "code",
   "execution_count": 0,
   "metadata": {
    "application/vnd.databricks.v1+cell": {
     "cellMetadata": {
      "byteLimit": 2048000,
      "rowLimit": 10000
     },
     "inputWidgets": {},
     "nuid": "e6a77baf-fb6e-4d77-8e26-9125b400b1b2",
     "showTitle": false,
     "tableResultSettingsMap": {},
     "title": ""
    }
   },
   "outputs": [
    {
     "output_type": "stream",
     "name": "stdout",
     "output_type": "stream",
     "text": [
      "🔍 Kjører søk for kolonne: Treslag\n📍 Koordinater: lat=58.1743128719827, lon=8.01122450699552, radius=500 m\n✅ Fant 16 rader etter spatial filtrering.\n"
     ]
    },
    {
     "output_type": "display_data",
     "data": {
      "text/html": [
       "<div>\n",
       "<style scoped>\n",
       "    .dataframe tbody tr th:only-of-type {\n",
       "        vertical-align: middle;\n",
       "    }\n",
       "\n",
       "    .dataframe tbody tr th {\n",
       "        vertical-align: top;\n",
       "    }\n",
       "\n",
       "    .dataframe thead th {\n",
       "        text-align: right;\n",
       "    }\n",
       "</style>\n",
       "<table border=\"1\" class=\"dataframe\">\n",
       "  <thead>\n",
       "    <tr style=\"text-align: right;\">\n",
       "      <th></th>\n",
       "      <th>gml_Id</th>\n",
       "      <th>Treslag</th>\n",
       "      <th>geometry</th>\n",
       "    </tr>\n",
       "  </thead>\n",
       "  <tbody>\n",
       "    <tr>\n",
       "      <th>0</th>\n",
       "      <td>idabd9cde9-8983-400f-b1f0-a24e8bd1a1e9</td>\n",
       "      <td>33</td>\n",
       "      <td>POLYGON ((8.018049048850225 58.1766941662483, ...</td>\n",
       "    </tr>\n",
       "    <tr>\n",
       "      <th>1</th>\n",
       "      <td>id253f2d8b-6d3e-4ba3-8841-591680448c3c</td>\n",
       "      <td>31</td>\n",
       "      <td>POLYGON ((8.008672667297759 58.177530142458366...</td>\n",
       "    </tr>\n",
       "    <tr>\n",
       "      <th>2</th>\n",
       "      <td>id47c56cba-5ed8-4354-a602-d21dc33c8479</td>\n",
       "      <td>33</td>\n",
       "      <td>POLYGON ((8.016456205298631 58.175254837853906...</td>\n",
       "    </tr>\n",
       "    <tr>\n",
       "      <th>3</th>\n",
       "      <td>id3590952b-a51c-4ac9-86a5-220651b8a7d7</td>\n",
       "      <td>31</td>\n",
       "      <td>POLYGON ((8.009175778962911 58.16719429992018,...</td>\n",
       "    </tr>\n",
       "    <tr>\n",
       "      <th>4</th>\n",
       "      <td>idaad7410f-fb36-46cd-b532-695eb9ef7145</td>\n",
       "      <td>31</td>\n",
       "      <td>POLYGON ((8.000602836808843 58.16915524813237,...</td>\n",
       "    </tr>\n",
       "    <tr>\n",
       "      <th>5</th>\n",
       "      <td>idd64d9bb8-75d4-47f1-9ddb-46a14c1d107c</td>\n",
       "      <td>31</td>\n",
       "      <td>POLYGON ((8.017746660139368 58.176497308991216...</td>\n",
       "    </tr>\n",
       "    <tr>\n",
       "      <th>6</th>\n",
       "      <td>idd1e215e9-f900-490a-99ba-5e6194b87093</td>\n",
       "      <td>31</td>\n",
       "      <td>POLYGON ((8.016305020923003 58.17515640762687,...</td>\n",
       "    </tr>\n",
       "    <tr>\n",
       "      <th>7</th>\n",
       "      <td>id33a1874a-c9d6-46cf-a5d1-5ee5760cf9ca</td>\n",
       "      <td>31</td>\n",
       "      <td>POLYGON ((8.01676545121825 58.17455090519182, ...</td>\n",
       "    </tr>\n",
       "    <tr>\n",
       "      <th>8</th>\n",
       "      <td>id81fa1a38-56d3-4aae-b3b7-089a47741e57</td>\n",
       "      <td>31</td>\n",
       "      <td>POLYGON ((7.993487747219627 58.17840561671637,...</td>\n",
       "    </tr>\n",
       "    <tr>\n",
       "      <th>9</th>\n",
       "      <td>id3ef6a438-d33b-4e38-a29c-1e9fbe0393f9</td>\n",
       "      <td>31</td>\n",
       "      <td>POLYGON ((8.008040221825588 58.17208825841706,...</td>\n",
       "    </tr>\n",
       "  </tbody>\n",
       "</table>\n",
       "</div>"
      ],
      "text/plain": [
       "                                   gml_Id  ...                                           geometry\n",
       "0  idabd9cde9-8983-400f-b1f0-a24e8bd1a1e9  ...  POLYGON ((8.018049048850225 58.1766941662483, ...\n",
       "1  id253f2d8b-6d3e-4ba3-8841-591680448c3c  ...  POLYGON ((8.008672667297759 58.177530142458366...\n",
       "2  id47c56cba-5ed8-4354-a602-d21dc33c8479  ...  POLYGON ((8.016456205298631 58.175254837853906...\n",
       "3  id3590952b-a51c-4ac9-86a5-220651b8a7d7  ...  POLYGON ((8.009175778962911 58.16719429992018,...\n",
       "4  idaad7410f-fb36-46cd-b532-695eb9ef7145  ...  POLYGON ((8.000602836808843 58.16915524813237,...\n",
       "5  idd64d9bb8-75d4-47f1-9ddb-46a14c1d107c  ...  POLYGON ((8.017746660139368 58.176497308991216...\n",
       "6  idd1e215e9-f900-490a-99ba-5e6194b87093  ...  POLYGON ((8.016305020923003 58.17515640762687,...\n",
       "7  id33a1874a-c9d6-46cf-a5d1-5ee5760cf9ca  ...  POLYGON ((8.01676545121825 58.17455090519182, ...\n",
       "8  id81fa1a38-56d3-4aae-b3b7-089a47741e57  ...  POLYGON ((7.993487747219627 58.17840561671637,...\n",
       "9  id3ef6a438-d33b-4e38-a29c-1e9fbe0393f9  ...  POLYGON ((8.008040221825588 58.17208825841706,...\n",
       "\n",
       "[10 rows x 3 columns]"
      ]
     },
     "metadata": {},
     "output_type": "display_data"
    },
    {
     "output_type": "stream",
     "name": "stdout",
     "output_type": "stream",
     "text": [
      "🗺️ Viser kart...\nUser Guide: https://docs.kepler.gl/docs/keplergl-jupyter\n"
     ]
    },
    {
     "output_type": "display_data",
     "data": {
      "application/vnd.jupyter.widget-view+json": {
       "model_id": "9070bcfed10f44f5aa285e9a9ca5bfd9",
       "version_major": 2,
       "version_minor": 0
      },
      "text/plain": [
       "KeplerGl(data={'points': {'index': [0, 1, 2, 3, 4, 5, 6, 7, 8, 9, 10, 11, 12, 13, 14, 15], 'columns': ['gml_Id…"
      ]
     },
     "metadata": {},
     "output_type": "display_data"
    },
    {
     "output_type": "stream",
     "name": "stdout",
     "output_type": "stream",
     "text": [
      "The original DataFrame has 179790 rows.\nThe filtered DataFrame has 16 rows.\nThe difference is 179774 rows.\n34154\nOriginal table size: 326.65 MB\nFiltered table size: 33.35 KB\nDifference in size: 334454.92 KB\nTemporary table 'bronze.ar50_tmp' dropped.\n"
     ]
    }
   ],
   "source": [
    "from pyspark.sql.functions import col\n",
    "from pyspark.sql.utils import AnalysisException\n",
    "from IPython.display import display\n",
    "\n",
    "try:\n",
    "    # Read inputs\n",
    "    col_name = dbutils.widgets.get(\"column\")\n",
    "    lat = float(dbutils.widgets.get(\"latitude\"))\n",
    "    lon = float(dbutils.widgets.get(\"longitude\"))\n",
    "    radius = int(dbutils.widgets.get(\"radius\"))\n",
    "\n",
    "    print(f\"🔍 Kjører søk for kolonne: {col_name}\")\n",
    "    print(f\"📍 Koordinater: lat={lat}, lon={lon}, radius={radius} m\")\n",
    "\n",
    "    # Filter rows where selected column is not null\n",
    "    filtered_df = AR50_DF.filter(col(col_name).isNotNull())\n",
    "\n",
    "    # Spatial filter\n",
    "    df, buffer_df = get_geomtry_within(filtered_df, lon, lat, radius)\n",
    "\n",
    "    print(f\"✅ Fant {df.count()} rader etter spatial filtrering.\")\n",
    "    display(df.limit(10).toPandas())\n",
    "\n",
    "    # Show map\n",
    "    print(\"🗺️ Viser kart...\")\n",
    "    map_df = SedonaKepler.create_map()\n",
    "    map_df.add_data(df.toPandas(), \"points\")\n",
    "    map_df.add_data(buffer_df.toPandas(), \"buffer\")\n",
    "    display(map_df)\n",
    "\n",
    "    # Metrics\n",
    "    difference_between_rows(AR50_DF, df)\n",
    "    difference_between_size(df)\n",
    "\n",
    "except AnalysisException as ae:\n",
    "    print(f\"❌ Analysefeil: {ae}\")\n",
    "except Exception as e:\n",
    "    print(f\"❌ Feil: {e}\")\n"
   ]
  },
  {
   "cell_type": "markdown",
   "metadata": {
    "application/vnd.databricks.v1+cell": {
     "cellMetadata": {
      "byteLimit": 2048000,
      "rowLimit": 10000
     },
     "inputWidgets": {},
     "nuid": "4e782f34-d368-44cb-adfa-af0369cd6ad3",
     "showTitle": false,
     "tableResultSettingsMap": {},
     "title": ""
    }
   },
   "source": [
    "\n",
    "## Analyse av arealtype 10 (bebyggelse) i Kristiansand \n",
    "\n",
    "Brukerhistorie \n",
    "\n",
    "Som arealplanlegger i Kristiansand kommune ønsker jeg å hente ut og analysere AR50-data innenfor en radius på 500-meter rundt et valgt punkt, slik at jeg kan finne hvilke treslag som finnes i området og vurdere grøntstruktur i byplanlegging. \n",
    "\n",
    "Akseptkriterier: \n",
    "- Bruker skal kunne spesifisere områdekode og arealtype.  \n",
    "- Systemet skal returnere de 10 største forekomstene basert på areal.  \n",
    "\n",
    "Input \n",
    "- En områdekode (f.eks. 4204) \n",
    "- En arealtype (f.eks. 10) \n",
    "\n",
    "Output: \n",
    "\n",
    "- Tabell med topp 10 forekomster  \n",
    "- Kart med markering av disse områdene  \n",
    "\n",
    " \n",
    "\n"
   ]
  },
  {
   "cell_type": "code",
   "execution_count": 0,
   "metadata": {
    "application/vnd.databricks.v1+cell": {
     "cellMetadata": {
      "byteLimit": 2048000,
      "rowLimit": 10000
     },
     "inputWidgets": {},
     "nuid": "93661bb5-57e2-4348-833b-ff4d76a719e6",
     "showTitle": false,
     "tableResultSettingsMap": {},
     "title": ""
    }
   },
   "outputs": [],
   "source": [
    "# Remove any previous widgets\n",
    "dbutils.widgets.removeAll()\n",
    "\n",
    "# Static list of arealtyper\n",
    "dbutils.widgets.dropdown(\"arealtype\", \"10\", AREALTYPE, \"Arealtype\")\n",
    "\n",
    "# Dynamic arealkoder from DataFrame\n",
    "arealkoder_rows = AR50_DF.select(\"områdeId\").distinct().collect()\n",
    "arealkoder = sorted([str(row[\"områdeId\"]) for row in arealkoder_rows])\n",
    "default_code = \"4204\" if \"4204\" in arealkoder else arealkoder[0]\n",
    "\n",
    "dbutils.widgets.dropdown(\"arealkode\", default_code, arealkoder, \"Arealkode\")"
   ]
  },
  {
   "cell_type": "code",
   "execution_count": 0,
   "metadata": {
    "application/vnd.databricks.v1+cell": {
     "cellMetadata": {
      "byteLimit": 2048000,
      "rowLimit": 10000
     },
     "inputWidgets": {},
     "nuid": "7151400f-47cb-427b-b8f7-b6978f8f57ea",
     "showTitle": false,
     "tableResultSettingsMap": {},
     "title": ""
    }
   },
   "outputs": [
    {
     "output_type": "stream",
     "name": "stdout",
     "output_type": "stream",
     "text": [
      "🔍 Filtrerer etter arealtype = 10, områdeId = 4204\n"
     ]
    },
    {
     "output_type": "display_data",
     "data": {
      "text/html": [
       "<div>\n",
       "<style scoped>\n",
       "    .dataframe tbody tr th:only-of-type {\n",
       "        vertical-align: middle;\n",
       "    }\n",
       "\n",
       "    .dataframe tbody tr th {\n",
       "        vertical-align: top;\n",
       "    }\n",
       "\n",
       "    .dataframe thead th {\n",
       "        text-align: right;\n",
       "    }\n",
       "</style>\n",
       "<table border=\"1\" class=\"dataframe\">\n",
       "  <thead>\n",
       "    <tr style=\"text-align: right;\">\n",
       "      <th></th>\n",
       "      <th>gml_Id</th>\n",
       "      <th>Arealtype</th>\n",
       "      <th>lokalId</th>\n",
       "      <th>Navnerom</th>\n",
       "      <th>Informasjon</th>\n",
       "      <th>Jordbruk</th>\n",
       "      <th>Kartstandard</th>\n",
       "      <th>Kopiddato</th>\n",
       "      <th>områdeId</th>\n",
       "      <th>OriginalDatavert</th>\n",
       "      <th>Oppdateringsdato</th>\n",
       "      <th>Skogbonitet</th>\n",
       "      <th>Treslag</th>\n",
       "      <th>vegetasjonsdekke</th>\n",
       "      <th>geometry</th>\n",
       "    </tr>\n",
       "  </thead>\n",
       "  <tbody>\n",
       "    <tr>\n",
       "      <th>0</th>\n",
       "      <td>id8d05ad6f-5a2a-40c5-81c8-532c56668585</td>\n",
       "      <td>10</td>\n",
       "      <td>61189</td>\n",
       "      <td>NO_NIBIO_AR50_2022_01</td>\n",
       "      <td>AR50 fra AR5 årsversjon 2021. ARFJELL2 og N50 ...</td>\n",
       "      <td>NaN</td>\n",
       "      <td>AR50</td>\n",
       "      <td>2024-11-17</td>\n",
       "      <td>4204</td>\n",
       "      <td>NIBIO</td>\n",
       "      <td>2022-01-18</td>\n",
       "      <td>NaN</td>\n",
       "      <td>NaN</td>\n",
       "      <td>NaN</td>\n",
       "      <td>POLYGON ((7.763553214566632 58.06779879134709,...</td>\n",
       "    </tr>\n",
       "    <tr>\n",
       "      <th>1</th>\n",
       "      <td>id2eb1a453-9dc7-4029-b45e-8d48eb66877c</td>\n",
       "      <td>10</td>\n",
       "      <td>61132</td>\n",
       "      <td>NO_NIBIO_AR50_2022_01</td>\n",
       "      <td>AR50 fra AR5 årsversjon 2021. ARFJELL2 og N50 ...</td>\n",
       "      <td>NaN</td>\n",
       "      <td>AR50</td>\n",
       "      <td>2024-11-17</td>\n",
       "      <td>4204</td>\n",
       "      <td>NIBIO</td>\n",
       "      <td>2022-01-18</td>\n",
       "      <td>NaN</td>\n",
       "      <td>NaN</td>\n",
       "      <td>NaN</td>\n",
       "      <td>POLYGON ((7.586751265363879 58.30451304519466,...</td>\n",
       "    </tr>\n",
       "    <tr>\n",
       "      <th>2</th>\n",
       "      <td>id01c5dba5-20b2-425b-aa87-0a8238a2cfd4</td>\n",
       "      <td>10</td>\n",
       "      <td>61012</td>\n",
       "      <td>NO_NIBIO_AR50_2022_01</td>\n",
       "      <td>AR50 fra AR5 årsversjon 2021. ARFJELL2 og N50 ...</td>\n",
       "      <td>NaN</td>\n",
       "      <td>AR50</td>\n",
       "      <td>2024-11-17</td>\n",
       "      <td>4204</td>\n",
       "      <td>NIBIO</td>\n",
       "      <td>2022-01-18</td>\n",
       "      <td>NaN</td>\n",
       "      <td>NaN</td>\n",
       "      <td>NaN</td>\n",
       "      <td>POLYGON ((7.846671887376022 58.136600943781154...</td>\n",
       "    </tr>\n",
       "    <tr>\n",
       "      <th>3</th>\n",
       "      <td>id8beb8163-976f-4be0-8498-f3caf5821cc3</td>\n",
       "      <td>10</td>\n",
       "      <td>60805</td>\n",
       "      <td>NO_NIBIO_AR50_2022_01</td>\n",
       "      <td>AR50 fra AR5 årsversjon 2021. ARFJELL2 og N50 ...</td>\n",
       "      <td>NaN</td>\n",
       "      <td>AR50</td>\n",
       "      <td>2024-11-17</td>\n",
       "      <td>4204</td>\n",
       "      <td>NIBIO</td>\n",
       "      <td>2022-01-18</td>\n",
       "      <td>NaN</td>\n",
       "      <td>NaN</td>\n",
       "      <td>NaN</td>\n",
       "      <td>POLYGON ((8.096493050631215 58.14088276661436,...</td>\n",
       "    </tr>\n",
       "    <tr>\n",
       "      <th>4</th>\n",
       "      <td>iddae31640-20d1-4bb7-b63a-1ad9e5cca5db</td>\n",
       "      <td>10</td>\n",
       "      <td>60742</td>\n",
       "      <td>NO_NIBIO_AR50_2022_01</td>\n",
       "      <td>AR50 fra AR5 årsversjon 2021. ARFJELL2 og N50 ...</td>\n",
       "      <td>NaN</td>\n",
       "      <td>AR50</td>\n",
       "      <td>2024-11-17</td>\n",
       "      <td>4204</td>\n",
       "      <td>NIBIO</td>\n",
       "      <td>2022-01-18</td>\n",
       "      <td>NaN</td>\n",
       "      <td>NaN</td>\n",
       "      <td>NaN</td>\n",
       "      <td>POLYGON ((8.114464931284035 58.17384736220532,...</td>\n",
       "    </tr>\n",
       "    <tr>\n",
       "      <th>5</th>\n",
       "      <td>idd754cc6f-5091-4d6a-8fdf-4de6603d6b63</td>\n",
       "      <td>10</td>\n",
       "      <td>60731</td>\n",
       "      <td>NO_NIBIO_AR50_2022_01</td>\n",
       "      <td>AR50 fra AR5 årsversjon 2021. ARFJELL2 og N50 ...</td>\n",
       "      <td>NaN</td>\n",
       "      <td>AR50</td>\n",
       "      <td>2024-11-17</td>\n",
       "      <td>4204</td>\n",
       "      <td>NIBIO</td>\n",
       "      <td>2022-01-18</td>\n",
       "      <td>NaN</td>\n",
       "      <td>NaN</td>\n",
       "      <td>NaN</td>\n",
       "      <td>POLYGON ((8.104954686452327 58.168375447799754...</td>\n",
       "    </tr>\n",
       "    <tr>\n",
       "      <th>6</th>\n",
       "      <td>idb50f32df-8de9-49bf-a44e-df62a6ef451f</td>\n",
       "      <td>10</td>\n",
       "      <td>60679</td>\n",
       "      <td>NO_NIBIO_AR50_2022_01</td>\n",
       "      <td>AR50 fra AR5 årsversjon 2021. ARFJELL2 og N50 ...</td>\n",
       "      <td>NaN</td>\n",
       "      <td>AR50</td>\n",
       "      <td>2024-11-17</td>\n",
       "      <td>4204</td>\n",
       "      <td>NIBIO</td>\n",
       "      <td>2022-01-18</td>\n",
       "      <td>NaN</td>\n",
       "      <td>NaN</td>\n",
       "      <td>NaN</td>\n",
       "      <td>POLYGON ((8.10152469172866 58.17548807992795, ...</td>\n",
       "    </tr>\n",
       "    <tr>\n",
       "      <th>7</th>\n",
       "      <td>idac3f34a1-4fca-4be3-adb9-db173c2cf659</td>\n",
       "      <td>10</td>\n",
       "      <td>60675</td>\n",
       "      <td>NO_NIBIO_AR50_2022_01</td>\n",
       "      <td>AR50 fra AR5 årsversjon 2021. ARFJELL2 og N50 ...</td>\n",
       "      <td>NaN</td>\n",
       "      <td>AR50</td>\n",
       "      <td>2024-11-17</td>\n",
       "      <td>4204</td>\n",
       "      <td>NIBIO</td>\n",
       "      <td>2022-01-18</td>\n",
       "      <td>NaN</td>\n",
       "      <td>NaN</td>\n",
       "      <td>NaN</td>\n",
       "      <td>POLYGON ((8.155746862104245 58.186170144129306...</td>\n",
       "    </tr>\n",
       "    <tr>\n",
       "      <th>8</th>\n",
       "      <td>id30af6d18-e28c-45fd-bc75-4e1d45760709</td>\n",
       "      <td>10</td>\n",
       "      <td>60527</td>\n",
       "      <td>NO_NIBIO_AR50_2022_01</td>\n",
       "      <td>AR50 fra AR5 årsversjon 2021. ARFJELL2 og N50 ...</td>\n",
       "      <td>NaN</td>\n",
       "      <td>AR50</td>\n",
       "      <td>2024-11-17</td>\n",
       "      <td>4204</td>\n",
       "      <td>NIBIO</td>\n",
       "      <td>2022-01-18</td>\n",
       "      <td>NaN</td>\n",
       "      <td>NaN</td>\n",
       "      <td>NaN</td>\n",
       "      <td>POLYGON ((8.120850988474084 58.22267162197809,...</td>\n",
       "    </tr>\n",
       "    <tr>\n",
       "      <th>9</th>\n",
       "      <td>id6ae5fd1c-3c44-40e6-8b8b-951f9c4e63c7</td>\n",
       "      <td>10</td>\n",
       "      <td>60519</td>\n",
       "      <td>NO_NIBIO_AR50_2022_01</td>\n",
       "      <td>AR50 fra AR5 årsversjon 2021. ARFJELL2 og N50 ...</td>\n",
       "      <td>NaN</td>\n",
       "      <td>AR50</td>\n",
       "      <td>2024-11-17</td>\n",
       "      <td>4204</td>\n",
       "      <td>NIBIO</td>\n",
       "      <td>2022-01-18</td>\n",
       "      <td>NaN</td>\n",
       "      <td>NaN</td>\n",
       "      <td>NaN</td>\n",
       "      <td>POLYGON ((8.117765861097938 58.217458558665626...</td>\n",
       "    </tr>\n",
       "  </tbody>\n",
       "</table>\n",
       "</div>"
      ],
      "text/plain": [
       "                                   gml_Id  ...                                           geometry\n",
       "0  id8d05ad6f-5a2a-40c5-81c8-532c56668585  ...  POLYGON ((7.763553214566632 58.06779879134709,...\n",
       "1  id2eb1a453-9dc7-4029-b45e-8d48eb66877c  ...  POLYGON ((7.586751265363879 58.30451304519466,...\n",
       "2  id01c5dba5-20b2-425b-aa87-0a8238a2cfd4  ...  POLYGON ((7.846671887376022 58.136600943781154...\n",
       "3  id8beb8163-976f-4be0-8498-f3caf5821cc3  ...  POLYGON ((8.096493050631215 58.14088276661436,...\n",
       "4  iddae31640-20d1-4bb7-b63a-1ad9e5cca5db  ...  POLYGON ((8.114464931284035 58.17384736220532,...\n",
       "5  idd754cc6f-5091-4d6a-8fdf-4de6603d6b63  ...  POLYGON ((8.104954686452327 58.168375447799754...\n",
       "6  idb50f32df-8de9-49bf-a44e-df62a6ef451f  ...  POLYGON ((8.10152469172866 58.17548807992795, ...\n",
       "7  idac3f34a1-4fca-4be3-adb9-db173c2cf659  ...  POLYGON ((8.155746862104245 58.186170144129306...\n",
       "8  id30af6d18-e28c-45fd-bc75-4e1d45760709  ...  POLYGON ((8.120850988474084 58.22267162197809,...\n",
       "9  id6ae5fd1c-3c44-40e6-8b8b-951f9c4e63c7  ...  POLYGON ((8.117765861097938 58.217458558665626...\n",
       "\n",
       "[10 rows x 15 columns]"
      ]
     },
     "metadata": {},
     "output_type": "display_data"
    },
    {
     "output_type": "stream",
     "name": "stdout",
     "output_type": "stream",
     "text": [
      "🗺️ Viser kart…\nUser Guide: https://docs.kepler.gl/docs/keplergl-jupyter\n"
     ]
    },
    {
     "output_type": "stream",
     "name": "stderr",
     "output_type": "stream",
     "text": [
      "/databricks/python/lib/python3.11/site-packages/jupyter_client/session.py:718: UserWarning: Message serialization failed with:\nOut of range float values are not JSON compliant\nSupporting this message is deprecated in jupyter-client 7, please make sure your message is JSON-compliant\n  content = self.pack(content)\n"
     ]
    },
    {
     "output_type": "display_data",
     "data": {
      "application/vnd.jupyter.widget-view+json": {
       "model_id": "a9312c6f6868455a84cf9803e17f2a36",
       "version_major": 2,
       "version_minor": 0
      },
      "text/plain": [
       "KeplerGl(data={'filtered': {'index': [0, 1, 2, 3, 4, 5, 6, 7, 8, 9], 'columns': ['gml_Id', 'Arealtype', 'lokal…"
      ]
     },
     "metadata": {},
     "output_type": "display_data"
    },
    {
     "output_type": "stream",
     "name": "stdout",
     "output_type": "stream",
     "text": [
      "The original DataFrame has 179790 rows.\nThe filtered DataFrame has 10 rows.\nThe difference is 179780 rows.\n25388\nOriginal table size: 326.65 MB\nFiltered table size: 24.79 KB\nDifference in size: 334463.48 KB\nTemporary table 'bronze.ar50_tmp' dropped.\n"
     ]
    }
   ],
   "source": [
    "try:\n",
    "    # Read widget values\n",
    "    selected_type = int(dbutils.widgets.get(\"arealtype\"))\n",
    "    selected_kode = int(dbutils.widgets.get(\"arealkode\"))\n",
    "\n",
    "    print(f\"🔍 Filtrerer etter arealtype = {selected_type}, områdeId = {selected_kode}\")\n",
    "\n",
    "    # Filter DataFrame\n",
    "    filtered_df = AR50_DF.filter(\n",
    "        (AR50_DF[\"arealtype\"] == selected_type) &\n",
    "        (AR50_DF[\"områdeId\"] == selected_kode)\n",
    "    ).limit(10)\n",
    "\n",
    "    # Display DataFrame\n",
    "    display(filtered_df.toPandas())\n",
    "\n",
    "    # Map\n",
    "    print(\"🗺️ Viser kart…\")\n",
    "    map_user = SedonaKepler.create_map()\n",
    "    map_user.add_data(filtered_df.toPandas(), \"filtered\")\n",
    "    display(map_user)\n",
    "\n",
    "    # Show metrics\n",
    "    difference_between_rows(AR50_DF, filtered_df)\n",
    "    difference_between_size(filtered_df)\n",
    "\n",
    "except Exception as e:\n",
    "    print(f\"❌ Feil under kjøring: {e}\")\n"
   ]
  },
  {
   "cell_type": "code",
   "execution_count": 0,
   "metadata": {
    "application/vnd.databricks.v1+cell": {
     "cellMetadata": {},
     "inputWidgets": {},
     "nuid": "b5296c20-e2db-4714-9f0e-8b27f3e12e84",
     "showTitle": false,
     "tableResultSettingsMap": {},
     "title": ""
    }
   },
   "outputs": [],
   "source": []
  }
 ],
 "metadata": {
  "application/vnd.databricks.v1+notebook": {
   "computePreferences": null,
   "dashboards": [],
   "environmentMetadata": {
    "base_environment": "",
    "environment_version": "2"
   },
   "inputWidgetPreferences": null,
   "language": "python",
   "notebookMetadata": {
    "mostRecentlyExecutedCommandWithImplicitDF": {
     "commandId": -1,
     "dataframes": [
      "_sqldf"
     ]
    },
    "pythonIndentUnit": 4,
    "widgetLayout": []
   },
   "notebookName": "Brukerhistorie_2",
   "widgets": {
    "column": {
     "currentValue": "Treslag",
     "nuid": "250064fb-3044-4683-b787-9b0db6524060",
     "typedWidgetInfo": {
      "autoCreated": false,
      "defaultValue": "Treslag",
      "label": "Kolonne",
      "name": "column",
      "options": {
       "widgetDisplayType": "Dropdown",
       "choices": [
        "gml_Id",
        "Arealtype",
        "lokalId",
        "Navnerom",
        "Informasjon",
        "Jordbruk",
        "Kartstandard",
        "Kopiddato",
        "områdeId",
        "OriginalDatavert",
        "Oppdateringsdato",
        "Skogbonitet",
        "Treslag",
        "vegetasjonsdekke",
        "geometry"
       ],
       "fixedDomain": true,
       "multiselect": false
      },
      "parameterDataType": "String"
     },
     "widgetInfo": {
      "widgetType": "dropdown",
      "defaultValue": "Treslag",
      "label": "Kolonne",
      "name": "column",
      "options": {
       "widgetType": "dropdown",
       "autoCreated": false,
       "choices": [
        "gml_Id",
        "Arealtype",
        "lokalId",
        "Navnerom",
        "Informasjon",
        "Jordbruk",
        "Kartstandard",
        "Kopiddato",
        "områdeId",
        "OriginalDatavert",
        "Oppdateringsdato",
        "Skogbonitet",
        "Treslag",
        "vegetasjonsdekke",
        "geometry"
       ]
      }
     }
    },
    "latitude": {
     "currentValue": "58.1743128719827",
     "nuid": "2d073ec0-f7dd-46ef-96ed-8ed2d0b61da8",
     "typedWidgetInfo": {
      "autoCreated": false,
      "defaultValue": "58.1743128719827",
      "label": "Latitude",
      "name": "latitude",
      "options": {
       "widgetDisplayType": "Text",
       "validationRegex": null
      },
      "parameterDataType": "String"
     },
     "widgetInfo": {
      "widgetType": "text",
      "defaultValue": "58.1743128719827",
      "label": "Latitude",
      "name": "latitude",
      "options": {
       "widgetType": "text",
       "autoCreated": false,
       "validationRegex": null
      }
     }
    },
    "longitude": {
     "currentValue": "8.01122450699552",
     "nuid": "90bc0dfa-20e5-4342-99a5-bb64dd401533",
     "typedWidgetInfo": {
      "autoCreated": false,
      "defaultValue": "8.01122450699552",
      "label": "Longitude",
      "name": "longitude",
      "options": {
       "widgetDisplayType": "Text",
       "validationRegex": null
      },
      "parameterDataType": "String"
     },
     "widgetInfo": {
      "widgetType": "text",
      "defaultValue": "8.01122450699552",
      "label": "Longitude",
      "name": "longitude",
      "options": {
       "widgetType": "text",
       "autoCreated": false,
       "validationRegex": null
      }
     }
    },
    "radius": {
     "currentValue": "500",
     "nuid": "4600119b-cb7e-4ab9-b186-08ae46d1c9ee",
     "typedWidgetInfo": {
      "autoCreated": false,
      "defaultValue": "500",
      "label": "Radius (m)",
      "name": "radius",
      "options": {
       "widgetDisplayType": "Text",
       "validationRegex": null
      },
      "parameterDataType": "String"
     },
     "widgetInfo": {
      "widgetType": "text",
      "defaultValue": "500",
      "label": "Radius (m)",
      "name": "radius",
      "options": {
       "widgetType": "text",
       "autoCreated": false,
       "validationRegex": null
      }
     }
    }
   }
  },
  "language_info": {
   "name": "python"
  }
 },
 "nbformat": 4,
 "nbformat_minor": 0
}